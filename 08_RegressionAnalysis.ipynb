{
 "cells": [
  {
   "cell_type": "code",
   "execution_count": 1,
   "metadata": {
    "collapsed": false
   },
   "outputs": [],
   "source": [
    "from __future__ import division\n",
    "import time\n",
    "import pandas as pd\n",
    "import os\n",
    "import collections\n",
    "import numpy as np\n",
    "import statsmodels.api as sm\n",
    "import pylogit\n",
    "import pickle\n",
    "from statsmodels.iolib.summary2 import summary_col\n",
    "from GetProcessMNL_LR import PreProcessMNL, OLS_Model"
   ]
  },
  {
   "cell_type": "code",
   "execution_count": 2,
   "metadata": {
    "collapsed": false
   },
   "outputs": [],
   "source": [
    "# DEP = 'IAH'\n",
    "# ARR = 'BOS'\n",
    "# Year = 2013\n",
    "# PostMNL = PreProcessMNL(DEP, ARR, Year)\n",
    "# modelset= PostMNL.GetMNL_Data()"
   ]
  },
  {
   "cell_type": "markdown",
   "metadata": {},
   "source": [
    "# Logistic Regression"
   ]
  },
  {
   "cell_type": "markdown",
   "metadata": {},
   "source": [
    "#### IAH -> BOS"
   ]
  },
  {
   "cell_type": "code",
   "execution_count": 2,
   "metadata": {
    "collapsed": false
   },
   "outputs": [
    {
     "name": "stdout",
     "output_type": "stream",
     "text": [
      "Log-likelihood at zero: -2,981.4878\n",
      "Initial Log-likelihood: -2,981.4878\n"
     ]
    },
    {
     "name": "stderr",
     "output_type": "stream",
     "text": [
      "/Users/lyn/anaconda/lib/python2.7/site-packages/scipy/optimize/_minimize.py:385: RuntimeWarning: Method BFGS does not use Hessian information (hess).\n",
      "  RuntimeWarning)\n"
     ]
    },
    {
     "name": "stdout",
     "output_type": "stream",
     "text": [
      "Estimation Time: 0.25 seconds.\n",
      "Final log-likelihood: -1,989.1560\n",
      "<bound method Summary.as_csv of <class 'statsmodels.iolib.summary.Summary'>\n",
      "\"\"\"\n",
      "                     Multinomial Logit Model Regression Results                    \n",
      "===================================================================================\n",
      "Dep. Variable:                      CHOICE   No. Observations:                1,664\n",
      "Model:             Multinomial Logit Model   Df Residuals:                    1,636\n",
      "Method:                                MLE   Df Model:                           28\n",
      "Date:                     Mon, 20 Mar 2017   Pseudo R-squ.:                   0.333\n",
      "Time:                             15:03:58   Pseudo R-bar-squ.:               0.323\n",
      "converged:                            True   Log-Likelihood:             -1,989.156\n",
      "                                             LL-Null:                    -2,981.488\n",
      "====================================================================================\n",
      "                       coef    std err          z      P>|z|      [95.0% Conf. Int.]\n",
      "------------------------------------------------------------------------------------\n",
      "ASC_R0               3.5329      0.317     11.130      0.000         2.911     4.155\n",
      "ASC_R1               2.7189      0.325      8.366      0.000         2.082     3.356\n",
      "ASC_R2               3.1990      0.323      9.912      0.000         2.566     3.832\n",
      "ASC_R3              -2.2645      0.764     -2.965      0.003        -3.762    -0.767\n",
      "ASC_R4              -2.7496      1.063     -2.585      0.010        -4.834    -0.665\n",
      "MorningFlight_R0     0.4896      0.255      1.923      0.054        -0.009     0.989\n",
      "MorningFlight_R1     1.1186      0.262      4.270      0.000         0.605     1.632\n",
      "MorningFlight_R2     0.6595      0.257      2.565      0.010         0.156     1.163\n",
      "MorningFlight_R3     0.6717      0.560      1.199      0.231        -0.426     1.770\n",
      "MorningFlight_R4     1.1917      0.535      2.229      0.026         0.144     2.240\n",
      "Spring_R0           -0.6448      0.379     -1.702      0.089        -1.387     0.098\n",
      "Spring_R1           -0.1926      0.388     -0.497      0.619        -0.952     0.567\n",
      "Spring_R2           -0.7785      0.385     -2.020      0.043        -1.534    -0.023\n",
      "Spring_R3            0.6827      0.961      0.711      0.477        -1.201     2.566\n",
      "Spring_R4            0.6246      1.210      0.516      0.606        -1.746     2.995\n",
      "Summer_R0           -1.3086      0.351     -3.728      0.000        -1.997    -0.621\n",
      "Summer_R1           -0.7814      0.367     -2.127      0.033        -1.502    -0.061\n",
      "Summer_R2           -1.2144      0.358     -3.390      0.001        -1.916    -0.512\n",
      "Summer_R3            1.1565      0.815      1.419      0.156        -0.441     2.754\n",
      "Summer_R4            1.5015      1.100      1.366      0.172        -0.654     3.657\n",
      "Fall_R0             -0.1250      0.408     -0.306      0.759        -0.925     0.675\n",
      "Fall_R1              0.2744      0.422      0.650      0.516        -0.554     1.102\n",
      "Fall_R2              0.2343      0.411      0.571      0.568        -0.570     1.039\n",
      "Fall_R4              1.2575      1.220      1.031      0.302        -1.133     3.648\n",
      "Thunderstorm       -31.4343      4.642     -6.772      0.000       -40.532   -22.337\n",
      "Rain                -9.2355      1.363     -6.774      0.000       -11.908    -6.563\n",
      "Std_Wind_Dist      -16.4331      1.096    -14.996      0.000       -18.581   -14.285\n",
      "MIT_Impact          -0.5819      0.904     -0.644      0.520        -2.354     1.190\n",
      "====================================================================================\n",
      "\"\"\">\n"
     ]
    }
   ],
   "source": [
    "DEP = 'IAH'\n",
    "ARR = 'BOS'\n",
    "Year = 2013\n",
    "PostMNL = PreProcessMNL(DEP, ARR, Year)\n",
    "modelset= PostMNL.GetMNL_Data()\n",
    "\n",
    "BaseSpec = collections.OrderedDict()\n",
    "BaseName = collections.OrderedDict()\n",
    "\n",
    "BaseSpec['intercept'] = [0,1,2,3,4]\n",
    "BaseName['intercept'] = ['ASC_R0','ASC_R1','ASC_R2','ASC_R3','ASC_R4']\n",
    "\n",
    "BaseSpec['Morning'] = [0,1,2,3,4]\n",
    "BaseName['Morning'] = ['MorningFlight_R0','MorningFlight_R1','MorningFlight_R2','MorningFlight_R3','MorningFlight_R4']\n",
    "\n",
    "BaseSpec['Spring'] = [0,1,2,3,4]\n",
    "BaseName['Spring'] = ['Spring_R0','Spring_R1','Spring_R2','Spring_R3','Spring_R4']\n",
    "\n",
    "BaseSpec['Summer'] = [0,1,2,3,4]\n",
    "BaseName['Summer'] = ['Summer_R0','Summer_R1','Summer_R2','Summer_R3','Summer_R4']\n",
    "\n",
    "BaseSpec['Fall'] = [0,1,2,4]\n",
    "BaseName['Fall'] = ['Fall_R0','Fall_R1','Fall_R2','Fall_R4']\n",
    "\n",
    "# BaseSpec['CA'] = [0,1,2,3,4]\n",
    "# BaseName['CA'] = ['United_R0','United_R1','United_R2','United_R3','United_R4']\n",
    "    \n",
    "BaseSpec['TS_mean'] = [[0,1,2,3,4,5]]\n",
    "BaseName['TS_mean'] = ['Thunderstorm']\n",
    "\n",
    "# BaseSpec['Hail_mean'] = [[0,1,2,3,4]]\n",
    "# BaseName['Hail_mean'] = ['Hail']\n",
    "\n",
    "# BaseSpec['Precipitation_mean'] = [[0,1,2,3,4]]\n",
    "# BaseName['Precipitation_mean'] = ['Precipitation']\n",
    "\n",
    "BaseSpec['Rain_mean'] = [[0,1,2,3,4,5]]\n",
    "BaseName['Rain_mean'] = ['Rain']\n",
    "\n",
    "# BaseSpec['Shower_mean'] = [[0,1,2,3,4,5]]\n",
    "# BaseName['Shower_mean'] = ['Shower']\n",
    "\n",
    "# BaseSpec['Ice_sum'] = [[0,1,2,3,4,5]]\n",
    "# BaseName['Ice_sum'] = ['Ice']\n",
    "\n",
    "# BaseSpec['Squall_mean'] = [[0,1,2,3,4,5]]\n",
    "# BaseName['Squall_mean'] = ['Squall']\n",
    "\n",
    "BaseSpec['Std_Wind_Dist'] = [[0,1,2,3,4,5]]\n",
    "BaseName['Std_Wind_Dist'] = ['Std_Wind_Dist']\n",
    "\n",
    "# BaseSpec['MIT_Count'] = [[0,1,2,3,4,5]]\n",
    "# BaseName['MIT_Count'] = ['MIT_Count']\n",
    "\n",
    "# BaseSpec['MIT_VAL_mean'] = [[0,1,2,3,4,5]]\n",
    "# BaseName['MIT_VAL_mean'] = ['MIT_Value']\n",
    "\n",
    "# BaseSpec['MIT_DUR_mean'] = [[0,1,2,3,4,5]]\n",
    "# BaseName['MIT_DUR_mean'] = ['MIT_Duration']\n",
    "\n",
    "BaseSpec['MIT_Str_mean'] = [[0,1,2,3,4,5]]\n",
    "BaseName['MIT_Str_mean'] = ['MIT_Impact']\n",
    "\n",
    "N_var = 0\n",
    "for key in BaseSpec.keys():\n",
    "    N_var += len(BaseSpec[key])\n",
    "    \n",
    "MNL_Model = pylogit.create_choice_model(data = modelset, alt_id_col = 'Alt_id',obs_id_col = 'FID_Member',\n",
    "                                        choice_col = 'CHOICE',specification = BaseSpec, model_type = 'MNL', names = BaseName)\n",
    "MNL_Model.fit_mle(np.zeros(N_var))\n",
    "Result1 = MNL_Model.get_statsmodels_summary()\n",
    "print(Result1.as_csv)\n",
    "\n",
    "# pickle.dump(MNL_Model, open( os.getcwd() + '/MNL/Estimation/MNL_' + DEP + '_' + ARR+'.p', \"wb\" ) )"
   ]
  },
  {
   "cell_type": "markdown",
   "metadata": {},
   "source": [
    "# Composite Method"
   ]
  },
  {
   "cell_type": "code",
   "execution_count": 3,
   "metadata": {
    "collapsed": false
   },
   "outputs": [],
   "source": [
    "IAH_BOS = OLS_Model('IAH','BOS',2013, OneMetric = False)"
   ]
  },
  {
   "cell_type": "code",
   "execution_count": 4,
   "metadata": {
    "collapsed": false
   },
   "outputs": [
    {
     "name": "stdout",
     "output_type": "stream",
     "text": [
      "                            OLS Regression Results                            \n",
      "==============================================================================\n",
      "Dep. Variable:     np.log(Efficiency)   R-squared:                       0.707\n",
      "Model:                            OLS   Adj. R-squared:                  0.705\n",
      "Method:                 Least Squares   F-statistic:                     399.1\n",
      "Date:                Mon, 20 Mar 2017   Prob (F-statistic):               0.00\n",
      "Time:                        15:04:14   Log-Likelihood:                 104.44\n",
      "No. Observations:                1664   AIC:                            -186.9\n",
      "Df Residuals:                    1653   BIC:                            -127.3\n",
      "Df Model:                          10                                         \n",
      "Covariance Type:            nonrobust                                         \n",
      "===================================================================================\n",
      "                      coef    std err          t      P>|t|      [95.0% Conf. Int.]\n",
      "-----------------------------------------------------------------------------------\n",
      "Intercept           1.8828      0.027     69.959      0.000         1.830     1.936\n",
      "C(ClustID)[T.0]    -0.6233      0.025    -24.447      0.000        -0.673    -0.573\n",
      "C(ClustID)[T.1]    -0.1416      0.026     -5.412      0.000        -0.193    -0.090\n",
      "C(ClustID)[T.2]    -0.9110      0.026    -34.812      0.000        -0.962    -0.860\n",
      "C(ClustID)[T.3]    -1.5465      0.062    -25.112      0.000        -1.667    -1.426\n",
      "C(ClustID)[T.4]    -0.8367      0.059    -14.223      0.000        -0.952    -0.721\n",
      "C(Season)[T.1]      0.0037      0.017      0.216      0.829        -0.030     0.037\n",
      "C(Season)[T.2]      0.0340      0.018      1.934      0.053        -0.000     0.069\n",
      "C(Season)[T.3]      0.0009      0.017      0.053      0.958        -0.032     0.033\n",
      "TS_mean             4.0514      0.482      8.402      0.000         3.106     4.997\n",
      "MIT_Str_mean        1.0653      0.263      4.046      0.000         0.549     1.582\n",
      "==============================================================================\n",
      "Omnibus:                      280.232   Durbin-Watson:                   1.838\n",
      "Prob(Omnibus):                  0.000   Jarque-Bera (JB):             1725.745\n",
      "Skew:                          -0.634   Prob(JB):                         0.00\n",
      "Kurtosis:                       7.825   Cond. No.                         108.\n",
      "==============================================================================\n",
      "\n",
      "Warnings:\n",
      "[1] Standard Errors assume that the covariance matrix of the errors is correctly specified.\n"
     ]
    }
   ],
   "source": [
    "fo1 = 'np.log(Efficiency) ~ TS_mean + C(ClustID) + C(Season) + MIT_Str_mean'\n",
    "mod1 = IAH_BOS.fitModel(fo1)\n",
    "print mod1.summary()"
   ]
  }
 ],
 "metadata": {
  "anaconda-cloud": {},
  "kernelspec": {
   "display_name": "Python 2",
   "language": "python",
   "name": "python2"
  },
  "language_info": {
   "codemirror_mode": {
    "name": "ipython",
    "version": 2
   },
   "file_extension": ".py",
   "mimetype": "text/x-python",
   "name": "python",
   "nbconvert_exporter": "python",
   "pygments_lexer": "ipython2",
   "version": "2.7.13"
  }
 },
 "nbformat": 4,
 "nbformat_minor": 0
}
