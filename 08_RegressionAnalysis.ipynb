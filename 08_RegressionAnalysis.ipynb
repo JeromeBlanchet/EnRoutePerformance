{
 "cells": [
  {
   "cell_type": "code",
   "execution_count": 1,
   "metadata": {
    "collapsed": false
   },
   "outputs": [],
   "source": [
    "from __future__ import division\n",
    "import time\n",
    "import pandas as pd\n",
    "import os\n",
    "import collections\n",
    "import numpy as np\n",
    "import statsmodels.api as sm\n",
    "import pylogit\n",
    "import pickle\n",
    "from statsmodels.iolib.summary2 import summary_col\n",
    "from GetProcessMNL_LR import PreProcessMNL, OLS_Model"
   ]
  },
  {
   "cell_type": "code",
   "execution_count": 2,
   "metadata": {
    "collapsed": false
   },
   "outputs": [],
   "source": [
    "# DEP = 'IAH'\n",
    "# ARR = 'BOS'\n",
    "# Year = 2013\n",
    "# PostMNL = PreProcessMNL(DEP, ARR, Year)\n",
    "# modelset= PostMNL.GetMNL_Data()"
   ]
  },
  {
   "cell_type": "markdown",
   "metadata": {},
   "source": [
    "# Logistic Regression"
   ]
  },
  {
   "cell_type": "markdown",
   "metadata": {},
   "source": [
    "#### IAH -> BOS"
   ]
  },
  {
   "cell_type": "code",
   "execution_count": 8,
   "metadata": {
    "collapsed": false
   },
   "outputs": [
    {
     "name": "stdout",
     "output_type": "stream",
     "text": [
      "Log-likelihood at zero: -2,981.4878\n",
      "Initial Log-likelihood: -2,981.4878\n",
      "Estimation Time: 0.15 seconds.\n",
      "Final log-likelihood: -1,989.1560\n",
      "<bound method Summary.as_csv of <class 'statsmodels.iolib.summary.Summary'>\n",
      "\"\"\"\n",
      "                     Multinomial Logit Model Regression Results                    \n",
      "===================================================================================\n",
      "Dep. Variable:                      CHOICE   No. Observations:                1,664\n",
      "Model:             Multinomial Logit Model   Df Residuals:                    1,636\n",
      "Method:                                MLE   Df Model:                           28\n",
      "Date:                     Mon, 06 Mar 2017   Pseudo R-squ.:                   0.333\n",
      "Time:                             20:10:39   Pseudo R-bar-squ.:               0.323\n",
      "converged:                            True   Log-Likelihood:             -1,989.156\n",
      "                                             LL-Null:                    -2,981.488\n",
      "====================================================================================\n",
      "                       coef    std err          z      P>|z|      [95.0% Conf. Int.]\n",
      "------------------------------------------------------------------------------------\n",
      "ASC_R0               3.5329      0.317     11.130      0.000         2.911     4.155\n",
      "ASC_R1               2.7189      0.325      8.366      0.000         2.082     3.356\n",
      "ASC_R2               3.1990      0.323      9.912      0.000         2.566     3.832\n",
      "ASC_R3              -2.2645      0.764     -2.965      0.003        -3.762    -0.767\n",
      "ASC_R4              -2.7496      1.063     -2.585      0.010        -4.834    -0.665\n",
      "MorningFlight_R0     0.4896      0.255      1.923      0.054        -0.009     0.989\n",
      "MorningFlight_R1     1.1186      0.262      4.270      0.000         0.605     1.632\n",
      "MorningFlight_R2     0.6595      0.257      2.565      0.010         0.156     1.163\n",
      "MorningFlight_R3     0.6717      0.560      1.199      0.231        -0.426     1.770\n",
      "MorningFlight_R4     1.1917      0.535      2.229      0.026         0.144     2.240\n",
      "Spring_R0           -0.6448      0.379     -1.702      0.089        -1.387     0.098\n",
      "Spring_R1           -0.1926      0.388     -0.497      0.619        -0.952     0.567\n",
      "Spring_R2           -0.7785      0.385     -2.020      0.043        -1.534    -0.023\n",
      "Spring_R3            0.6827      0.961      0.711      0.477        -1.201     2.566\n",
      "Spring_R4            0.6246      1.210      0.516      0.606        -1.746     2.995\n",
      "Summer_R0           -1.3086      0.351     -3.728      0.000        -1.997    -0.621\n",
      "Summer_R1           -0.7814      0.367     -2.127      0.033        -1.502    -0.061\n",
      "Summer_R2           -1.2144      0.358     -3.390      0.001        -1.916    -0.512\n",
      "Summer_R3            1.1565      0.815      1.419      0.156        -0.441     2.754\n",
      "Summer_R4            1.5015      1.100      1.366      0.172        -0.654     3.657\n",
      "Fall_R0             -0.1250      0.408     -0.306      0.759        -0.925     0.675\n",
      "Fall_R1              0.2744      0.422      0.650      0.516        -0.554     1.102\n",
      "Fall_R2              0.2343      0.411      0.571      0.568        -0.570     1.039\n",
      "Fall_R4              1.2575      1.220      1.031      0.302        -1.133     3.648\n",
      "Thunderstorm       -31.4343      4.642     -6.772      0.000       -40.532   -22.337\n",
      "Rain                -9.2355      1.363     -6.774      0.000       -11.908    -6.563\n",
      "Std_Wind_Dist      -16.4331      1.096    -14.996      0.000       -18.581   -14.285\n",
      "MIT_Impact          -0.5819      0.904     -0.644      0.520        -2.354     1.190\n",
      "====================================================================================\n",
      "\"\"\">\n"
     ]
    }
   ],
   "source": [
    "DEP = 'IAH'\n",
    "ARR = 'BOS'\n",
    "Year = 2013\n",
    "PostMNL = PreProcessMNL(DEP, ARR, Year)\n",
    "modelset= PostMNL.GetMNL_Data()\n",
    "\n",
    "BaseSpec = collections.OrderedDict()\n",
    "BaseName = collections.OrderedDict()\n",
    "\n",
    "BaseSpec['intercept'] = [0,1,2,3,4]\n",
    "BaseName['intercept'] = ['ASC_R0','ASC_R1','ASC_R2','ASC_R3','ASC_R4']\n",
    "\n",
    "BaseSpec['Morning'] = [0,1,2,3,4]\n",
    "BaseName['Morning'] = ['MorningFlight_R0','MorningFlight_R1','MorningFlight_R2','MorningFlight_R3','MorningFlight_R4']\n",
    "\n",
    "BaseSpec['Spring'] = [0,1,2,3,4]\n",
    "BaseName['Spring'] = ['Spring_R0','Spring_R1','Spring_R2','Spring_R3','Spring_R4']\n",
    "\n",
    "BaseSpec['Summer'] = [0,1,2,3,4]\n",
    "BaseName['Summer'] = ['Summer_R0','Summer_R1','Summer_R2','Summer_R3','Summer_R4']\n",
    "\n",
    "BaseSpec['Fall'] = [0,1,2,4]\n",
    "BaseName['Fall'] = ['Fall_R0','Fall_R1','Fall_R2','Fall_R4']\n",
    "\n",
    "# BaseSpec['CA'] = [0,1,2,3,4]\n",
    "# BaseName['CA'] = ['United_R0','United_R1','United_R2','United_R3','United_R4']\n",
    "    \n",
    "BaseSpec['TS_mean'] = [[0,1,2,3,4,5]]\n",
    "BaseName['TS_mean'] = ['Thunderstorm']\n",
    "\n",
    "# BaseSpec['Hail_mean'] = [[0,1,2,3,4]]\n",
    "# BaseName['Hail_mean'] = ['Hail']\n",
    "\n",
    "# BaseSpec['Precipitation_mean'] = [[0,1,2,3,4]]\n",
    "# BaseName['Precipitation_mean'] = ['Precipitation']\n",
    "\n",
    "BaseSpec['Rain_mean'] = [[0,1,2,3,4,5]]\n",
    "BaseName['Rain_mean'] = ['Rain']\n",
    "\n",
    "# BaseSpec['Shower_mean'] = [[0,1,2,3,4,5]]\n",
    "# BaseName['Shower_mean'] = ['Shower']\n",
    "\n",
    "# BaseSpec['Ice_sum'] = [[0,1,2,3,4,5]]\n",
    "# BaseName['Ice_sum'] = ['Ice']\n",
    "\n",
    "# BaseSpec['Squall_mean'] = [[0,1,2,3,4,5]]\n",
    "# BaseName['Squall_mean'] = ['Squall']\n",
    "\n",
    "BaseSpec['Std_Wind_Dist'] = [[0,1,2,3,4,5]]\n",
    "BaseName['Std_Wind_Dist'] = ['Std_Wind_Dist']\n",
    "\n",
    "# BaseSpec['MIT_Count'] = [[0,1,2,3,4,5]]\n",
    "# BaseName['MIT_Count'] = ['MIT_Count']\n",
    "\n",
    "# BaseSpec['MIT_VAL_mean'] = [[0,1,2,3,4,5]]\n",
    "# BaseName['MIT_VAL_mean'] = ['MIT_Value']\n",
    "\n",
    "# BaseSpec['MIT_DUR_mean'] = [[0,1,2,3,4,5]]\n",
    "# BaseName['MIT_DUR_mean'] = ['MIT_Duration']\n",
    "\n",
    "BaseSpec['MIT_Str_mean'] = [[0,1,2,3,4,5]]\n",
    "BaseName['MIT_Str_mean'] = ['MIT_Impact']\n",
    "\n",
    "N_var = 0\n",
    "for key in BaseSpec.keys():\n",
    "    N_var += len(BaseSpec[key])\n",
    "    \n",
    "MNL_Model = pylogit.create_choice_model(data = modelset, alt_id_col = 'Alt_id',obs_id_col = 'FID_Member',\n",
    "                                        choice_col = 'CHOICE',specification = BaseSpec, model_type = 'MNL', names = BaseName)\n",
    "MNL_Model.fit_mle(np.zeros(N_var))\n",
    "Result1 = MNL_Model.get_statsmodels_summary()\n",
    "print(Result1.as_csv)\n",
    "\n",
    "# pickle.dump(MNL_Model, open( os.getcwd() + '/MNL/Estimation/MNL_' + DEP + '_' + ARR+'.p', \"wb\" ) )"
   ]
  },
  {
   "cell_type": "markdown",
   "metadata": {},
   "source": [
    "#### BOS_IAH"
   ]
  },
  {
   "cell_type": "code",
   "execution_count": 7,
   "metadata": {
    "collapsed": false
   },
   "outputs": [
    {
     "name": "stdout",
     "output_type": "stream",
     "text": [
      "Log-likelihood at zero: -3,103.3274\n",
      "Initial Log-likelihood: -3,103.3274\n",
      "Estimation Time: 0.15 seconds.\n",
      "Final log-likelihood: -2,001.3343\n",
      "<bound method Summary.as_csv of <class 'statsmodels.iolib.summary.Summary'>\n",
      "\"\"\"\n",
      "                     Multinomial Logit Model Regression Results                    \n",
      "===================================================================================\n",
      "Dep. Variable:                      CHOICE   No. Observations:                1,732\n",
      "Model:             Multinomial Logit Model   Df Residuals:                    1,703\n",
      "Method:                                MLE   Df Model:                           29\n",
      "Date:                     Mon, 06 Mar 2017   Pseudo R-squ.:                   0.355\n",
      "Time:                             20:10:36   Pseudo R-bar-squ.:               0.346\n",
      "converged:                            True   Log-Likelihood:             -2,001.334\n",
      "                                             LL-Null:                    -3,103.327\n",
      "====================================================================================\n",
      "                       coef    std err          z      P>|z|      [95.0% Conf. Int.]\n",
      "------------------------------------------------------------------------------------\n",
      "ASC_R0               1.2296      0.232      5.310      0.000         0.776     1.683\n",
      "ASC_R1               0.4413      0.310      1.423      0.155        -0.167     1.049\n",
      "ASC_R2               1.0511      0.244      4.308      0.000         0.573     1.529\n",
      "ASC_R3               0.4368      0.306      1.428      0.153        -0.163     1.036\n",
      "ASC_R4              -2.3770      1.050     -2.263      0.024        -4.435    -0.319\n",
      "MorningFlight_R0     0.8807      0.174      5.052      0.000         0.539     1.222\n",
      "MorningFlight_R1    -0.0869      0.276     -0.314      0.753        -0.628     0.455\n",
      "MorningFlight_R2     0.8219      0.188      4.374      0.000         0.454     1.190\n",
      "MorningFlight_R3     0.3871      0.275      1.408      0.159        -0.152     0.926\n",
      "MorningFlight_R4     0.3519      0.421      0.836      0.403        -0.473     1.176\n",
      "Spring_R0            0.0639      0.259      0.247      0.805        -0.444     0.572\n",
      "Spring_R1            0.0275      0.384      0.071      0.943        -0.726     0.781\n",
      "Spring_R2            0.5672      0.281      2.022      0.043         0.017     1.117\n",
      "Spring_R3            0.2740      0.338      0.812      0.417        -0.388     0.936\n",
      "Spring_R4            2.0360      1.081      1.883      0.060        -0.083     4.155\n",
      "Summer_R0            0.5372      0.246      2.181      0.029         0.055     1.020\n",
      "Summer_R1            0.0913      0.360      0.254      0.800        -0.613     0.796\n",
      "Summer_R2            0.3157      0.270      1.168      0.243        -0.214     0.846\n",
      "Summer_R3           -1.9201      0.503     -3.815      0.000        -2.907    -0.934\n",
      "Summer_R4            1.9388      1.079      1.797      0.072        -0.176     4.054\n",
      "Fall_R0              0.6207      0.261      2.377      0.017         0.109     1.133\n",
      "Fall_R1             -0.7285      0.478     -1.524      0.128        -1.666     0.209\n",
      "Fall_R2              0.5954      0.287      2.073      0.038         0.032     1.159\n",
      "Fall_R3             -1.8141      0.544     -3.334      0.001        -2.881    -0.748\n",
      "Fall_R4              1.9751      1.089      1.814      0.070        -0.159     4.109\n",
      "Thunderstorm       -42.8894      5.006     -8.567      0.000       -52.701   -33.077\n",
      "Rain               -11.0358      1.406     -7.851      0.000       -13.791    -8.281\n",
      "Std_Wind_Dist      -11.7757      1.379     -8.541      0.000       -14.478    -9.073\n",
      "MIT_Impact          -0.3725      0.612     -0.609      0.543        -1.572     0.827\n",
      "====================================================================================\n",
      "\"\"\">\n"
     ]
    }
   ],
   "source": [
    "DEP = 'BOS'\n",
    "ARR = 'IAH'\n",
    "Year = 2013\n",
    "PostMNL = PreProcessMNL(DEP, ARR, Year)\n",
    "modelset= PostMNL.GetMNL_Data()\n",
    "\n",
    "BaseSpec = collections.OrderedDict()\n",
    "BaseName = collections.OrderedDict()\n",
    "\n",
    "BaseSpec['intercept'] = [0,1,2,3,4]\n",
    "BaseName['intercept'] = ['ASC_R0','ASC_R1','ASC_R2','ASC_R3','ASC_R4']\n",
    "\n",
    "BaseSpec['Morning'] = [0,1,2,3,4]\n",
    "BaseName['Morning'] = ['MorningFlight_R0','MorningFlight_R1','MorningFlight_R2','MorningFlight_R3','MorningFlight_R4']\n",
    "\n",
    "BaseSpec['Spring'] = [0,1,2,3,4]\n",
    "BaseName['Spring'] = ['Spring_R0','Spring_R1','Spring_R2','Spring_R3','Spring_R4']\n",
    "\n",
    "BaseSpec['Summer'] = [0,1,2,3,4]\n",
    "BaseName['Summer'] = ['Summer_R0','Summer_R1','Summer_R2','Summer_R3','Summer_R4']\n",
    "\n",
    "BaseSpec['Fall'] = [0,1,2,3,4]\n",
    "BaseName['Fall'] = ['Fall_R0','Fall_R1','Fall_R2','Fall_R3','Fall_R4']\n",
    "    \n",
    "BaseSpec['TS_mean'] = [[0,1,2,3,4,5]]\n",
    "BaseName['TS_mean'] = ['Thunderstorm']\n",
    "\n",
    "BaseSpec['Rain_mean'] = [[0,1,2,3,4,5]]\n",
    "BaseName['Rain_mean'] = ['Rain']\n",
    "\n",
    "BaseSpec['Std_Wind_Dist'] = [[0,1,2,3,4,5]]\n",
    "BaseName['Std_Wind_Dist'] = ['Std_Wind_Dist']\n",
    "\n",
    "# BaseSpec['MIT_Count'] = [[0,1,2,3,4,5]]\n",
    "# BaseName['MIT_Count'] = ['MIT_Count']\n",
    "\n",
    "# BaseSpec['MIT_VAL_mean'] = [[0,1,2,3,4,5]]\n",
    "# BaseName['MIT_VAL_mean'] = ['MIT_Value']\n",
    "\n",
    "# BaseSpec['MIT_DUR_mean'] = [[0,1,2,3,4,5]]\n",
    "# BaseName['MIT_DUR_mean'] = ['MIT_Duration']\n",
    "\n",
    "BaseSpec['MIT_Str_mean'] = [[0,1,2,3,4,5]]\n",
    "BaseName['MIT_Str_mean'] = ['MIT_Impact']\n",
    "\n",
    "N_var = 0\n",
    "for key in BaseSpec.keys():\n",
    "    N_var += len(BaseSpec[key])\n",
    "    \n",
    "MNL_Model = pylogit.create_choice_model(data = modelset, alt_id_col = 'Alt_id',obs_id_col = 'FID_Member',\n",
    "                                        choice_col = 'CHOICE',specification = BaseSpec, model_type = 'MNL', names = BaseName)\n",
    "MNL_Model.fit_mle(np.zeros(N_var))\n",
    "Result1 = MNL_Model.get_statsmodels_summary()\n",
    "print(Result1.as_csv)\n",
    "\n",
    "# pickle.dump(MNL_Model, open( os.getcwd() + '/MNL/Estimation/MNL_' + DEP + '_' + ARR+'.p', \"wb\" ) )"
   ]
  },
  {
   "cell_type": "markdown",
   "metadata": {},
   "source": [
    "#### FLL-JFK"
   ]
  },
  {
   "cell_type": "code",
   "execution_count": 9,
   "metadata": {
    "collapsed": false
   },
   "outputs": [
    {
     "name": "stdout",
     "output_type": "stream",
     "text": [
      "Log-likelihood at zero: -5,528.5419\n",
      "Initial Log-likelihood: -5,528.5419\n",
      "Estimation Time: 0.21 seconds.\n",
      "Final log-likelihood: -1,793.1324\n",
      "<bound method Summary.as_csv of <class 'statsmodels.iolib.summary.Summary'>\n",
      "\"\"\"\n",
      "                     Multinomial Logit Model Regression Results                    \n",
      "===================================================================================\n",
      "Dep. Variable:                      CHOICE   No. Observations:                3,988\n",
      "Model:             Multinomial Logit Model   Df Residuals:                    3,969\n",
      "Method:                                MLE   Df Model:                           19\n",
      "Date:                     Mon, 06 Mar 2017   Pseudo R-squ.:                   0.676\n",
      "Time:                             20:21:24   Pseudo R-bar-squ.:               0.672\n",
      "converged:                           False   Log-Likelihood:             -1,793.132\n",
      "                                             LL-Null:                    -5,528.542\n",
      "====================================================================================\n",
      "                       coef    std err          z      P>|z|      [95.0% Conf. Int.]\n",
      "------------------------------------------------------------------------------------\n",
      "ASC_R0               4.9577      0.461     10.760      0.000         4.055     5.861\n",
      "ASC_R1               2.3742      0.443      5.356      0.000         1.505     3.243\n",
      "ASC_R2               0.8242      0.569      1.448      0.148        -0.291     1.940\n",
      "MorningFlight_R0     0.1647      0.248      0.664      0.507        -0.322     0.651\n",
      "MorningFlight_R1     0.3251      0.263      1.236      0.216        -0.190     0.841\n",
      "MorningFlight_R2    -0.9849      0.443     -2.222      0.026        -1.854    -0.116\n",
      "Spring_R0           -0.8519      0.453     -1.880      0.060        -1.740     0.036\n",
      "Spring_R1            0.3378      0.478      0.706      0.480        -0.599     1.275\n",
      "Spring_R2           -1.2570      0.772     -1.629      0.103        -2.770     0.256\n",
      "Summer_R0           -1.2084      0.452     -2.672      0.008        -2.095    -0.322\n",
      "Summer_R1            0.0387      0.477      0.081      0.935        -0.897     0.974\n",
      "Summer_R2            0.2708      0.623      0.435      0.664        -0.950     1.492\n",
      "Fall_R0              0.4238      0.603      0.703      0.482        -0.757     1.605\n",
      "Fall_R1              1.1876      0.624      1.904      0.057        -0.035     2.410\n",
      "Fall_R2              0.4811      0.839      0.573      0.566        -1.163     2.125\n",
      "Thunderstorm       -17.7410      3.441     -5.155      0.000       -24.486   -10.996\n",
      "Rain                -4.1146      1.497     -2.749      0.006        -7.048    -1.181\n",
      "Std_Wind_Dist       -8.3136      3.891     -2.136      0.033       -15.941    -0.687\n",
      "MIT_Impact          -2.2987      0.826     -2.783      0.005        -3.917    -0.680\n",
      "====================================================================================\n",
      "\"\"\">\n"
     ]
    }
   ],
   "source": [
    "DEP = 'FLL'\n",
    "ARR = 'JFK'\n",
    "Year = 2013\n",
    "PostMNL = PreProcessMNL(DEP, ARR, Year)\n",
    "modelset= PostMNL.GetMNL_Data()\n",
    "\n",
    "BaseSpec = collections.OrderedDict()\n",
    "BaseName = collections.OrderedDict()\n",
    "\n",
    "BaseSpec['intercept'] = [0,1,2]\n",
    "BaseName['intercept'] = ['ASC_R0','ASC_R1','ASC_R2']\n",
    "\n",
    "BaseSpec['Morning'] = [0,1,2]\n",
    "BaseName['Morning'] = ['MorningFlight_R0','MorningFlight_R1','MorningFlight_R2']\n",
    "\n",
    "BaseSpec['Spring'] = [0,1,2]\n",
    "BaseName['Spring'] = ['Spring_R0','Spring_R1','Spring_R2']\n",
    "\n",
    "BaseSpec['Summer'] = [0,1,2]\n",
    "BaseName['Summer'] = ['Summer_R0','Summer_R1','Summer_R2']\n",
    "\n",
    "BaseSpec['Fall'] = [0,1,2]\n",
    "BaseName['Fall'] = ['Fall_R0','Fall_R1','Fall_R2']\n",
    "\n",
    "# BaseSpec['CA'] = [0,1,2,3,4]\n",
    "# BaseName['CA'] = ['United_R0','United_R1','United_R2','United_R3','United_R4']\n",
    "    \n",
    "BaseSpec['TS_mean'] = [[0,1,2,3]]\n",
    "BaseName['TS_mean'] = ['Thunderstorm']\n",
    "\n",
    "# BaseSpec['Hail_mean'] = [[0,1,2]]\n",
    "# BaseName['Hail_mean'] = ['Hail']\n",
    "# BaseSpec['Precipitation_mean'] = [[0,1,2,3,4]]\n",
    "# BaseName['Precipitation_mean'] = ['Precipitation']\n",
    "\n",
    "BaseSpec['Rain_mean'] = [[0,1,2,3]]\n",
    "BaseName['Rain_mean'] = ['Rain']\n",
    "\n",
    "# BaseSpec['Squall_mean'] = [[0,1,2,3]]\n",
    "# BaseName['Squall_mean'] = ['Squall']\n",
    "\n",
    "BaseSpec['Std_Wind_Dist'] = [[0,1,2,3]]\n",
    "BaseName['Std_Wind_Dist'] = ['Std_Wind_Dist']\n",
    "\n",
    "# BaseSpec['MIT_Count'] = [[0,1,2,3]]\n",
    "# BaseName['MIT_Count'] = ['MIT_Count']\n",
    "\n",
    "# BaseSpec['MITVAL'] = [[0,1,2,3]]\n",
    "# BaseName['MITVAL'] = ['MIT_Value']\n",
    "\n",
    "# BaseSpec['DURATION_HRS_TOT'] = [[0,1,2,3]]\n",
    "# BaseName['DURATION_HRS_TOT'] = ['MIT_Duration']\n",
    "\n",
    "BaseSpec['MIT_Str_mean'] = [[0,1,2,3]]\n",
    "BaseName['MIT_Str_mean'] = ['MIT_Impact']\n",
    "\n",
    "N_var = 0\n",
    "for key in BaseSpec.keys():\n",
    "    N_var += len(BaseSpec[key])\n",
    "    \n",
    "MNL_Model = pylogit.create_choice_model(data = modelset, alt_id_col = 'Alt_id',obs_id_col = 'FID_Member',\n",
    "                                        choice_col = 'CHOICE',specification = BaseSpec, model_type = 'MNL', names = BaseName)\n",
    "MNL_Model.fit_mle(np.zeros(N_var))\n",
    "Result1 = MNL_Model.get_statsmodels_summary()\n",
    "print(Result1.as_csv)\n",
    "\n",
    "# pickle.dump(MNL_Model, open( os.getcwd() + '/MNL/Estimation/MNL_' + DEP + '_' + ARR+'.p', \"wb\" ) )"
   ]
  },
  {
   "cell_type": "markdown",
   "metadata": {},
   "source": [
    "#### JFK-FLL"
   ]
  },
  {
   "cell_type": "code",
   "execution_count": 10,
   "metadata": {
    "collapsed": false
   },
   "outputs": [
    {
     "name": "stdout",
     "output_type": "stream",
     "text": [
      "Log-likelihood at zero: -7,204.6648\n",
      "Initial Log-likelihood: -7,204.6648\n",
      "Estimation Time: 0.51 seconds.\n",
      "Final log-likelihood: -2,332.6524\n",
      "<bound method Summary.as_csv of <class 'statsmodels.iolib.summary.Summary'>\n",
      "\"\"\"\n",
      "                     Multinomial Logit Model Regression Results                    \n",
      "===================================================================================\n",
      "Dep. Variable:                      CHOICE   No. Observations:                4,021\n",
      "Model:             Multinomial Logit Model   Df Residuals:                    3,992\n",
      "Method:                                MLE   Df Model:                           29\n",
      "Date:                     Mon, 06 Mar 2017   Pseudo R-squ.:                   0.676\n",
      "Time:                             20:22:05   Pseudo R-bar-squ.:               0.672\n",
      "converged:                           False   Log-Likelihood:             -2,332.652\n",
      "                                             LL-Null:                    -7,204.665\n",
      "====================================================================================\n",
      "                       coef    std err          z      P>|z|      [95.0% Conf. Int.]\n",
      "------------------------------------------------------------------------------------\n",
      "ASC_R0               4.8960      0.313     15.628      0.000         4.282     5.510\n",
      "ASC_R1               0.3749      0.463      0.810      0.418        -0.533     1.282\n",
      "ASC_R2               1.6297      0.342      4.759      0.000         0.959     2.301\n",
      "ASC_R3               0.2409      0.474      0.508      0.612        -0.689     1.171\n",
      "ASC_R4              -0.6397      0.569     -1.124      0.261        -1.755     0.476\n",
      "MorningFlight_R0     0.2758      0.214      1.289      0.197        -0.144     0.695\n",
      "MorningFlight_R1    -0.7892      0.406     -1.943      0.052        -1.585     0.007\n",
      "MorningFlight_R2     0.6994      0.235      2.982      0.003         0.240     1.159\n",
      "MorningFlight_R3    -0.6495      0.326     -1.995      0.046        -1.288    -0.011\n",
      "MorningFlight_R4     0.7780      0.455      1.709      0.087        -0.114     1.670\n",
      "Spring_R0           -0.7850      0.353     -2.227      0.026        -1.476    -0.094\n",
      "Spring_R1           -0.5883      0.599     -0.983      0.326        -1.762     0.585\n",
      "Spring_R2            0.3463      0.382      0.905      0.365        -0.403     1.096\n",
      "Spring_R3            0.3662      0.545      0.672      0.501        -0.702     1.434\n",
      "Spring_R4           -0.1898      0.632     -0.300      0.764        -1.429     1.050\n",
      "Summer_R0           -0.9960      0.362     -2.751      0.006        -1.706    -0.286\n",
      "Summer_R1            0.5745      0.525      1.094      0.274        -0.455     1.604\n",
      "Summer_R2            0.3184      0.389      0.818      0.413        -0.444     1.081\n",
      "Summer_R3            1.0977      0.521      2.109      0.035         0.077     2.118\n",
      "Summer_R4           -0.1258      0.635     -0.198      0.843        -1.371     1.120\n",
      "Fall_R0             -0.5379      0.373     -1.443      0.149        -1.269     0.193\n",
      "Fall_R1             -1.6579      0.865     -1.917      0.055        -3.353     0.037\n",
      "Fall_R2             -0.3039      0.416     -0.731      0.465        -1.118     0.511\n",
      "Fall_R3              0.0449      0.592      0.076      0.940        -1.116     1.206\n",
      "Fall_R4             -1.3182      0.896     -1.472      0.141        -3.074     0.438\n",
      "Thunderstorm        -9.9700      3.072     -3.246      0.001       -15.990    -3.950\n",
      "Rain                -6.7571      1.142     -5.918      0.000        -8.995    -4.519\n",
      "Std_Wind_Dist        0.0022      0.003      0.713      0.476        -0.004     0.008\n",
      "MIT_Impact          -1.5279      0.395     -3.864      0.000        -2.303    -0.753\n",
      "====================================================================================\n",
      "\"\"\">\n"
     ]
    }
   ],
   "source": [
    "DEP = 'JFK'\n",
    "ARR = 'FLL'\n",
    "Year = 2013\n",
    "PostMNL = PreProcessMNL(DEP, ARR, Year)\n",
    "modelset= PostMNL.GetMNL_Data()\n",
    "\n",
    "BaseSpec = collections.OrderedDict()\n",
    "BaseName = collections.OrderedDict()\n",
    "\n",
    "BaseSpec['intercept'] = [0,1,2,3,4]\n",
    "BaseName['intercept'] = ['ASC_R0','ASC_R1','ASC_R2','ASC_R3','ASC_R4']\n",
    "\n",
    "BaseSpec['Morning'] = [0,1,2,3,4]\n",
    "BaseName['Morning'] = ['MorningFlight_R0','MorningFlight_R1','MorningFlight_R2','MorningFlight_R3','MorningFlight_R4']\n",
    "\n",
    "BaseSpec['Spring'] = [0,1,2,3,4]\n",
    "BaseName['Spring'] = ['Spring_R0','Spring_R1','Spring_R2','Spring_R3','Spring_R4']\n",
    "\n",
    "BaseSpec['Summer'] = [0,1,2,3,4]\n",
    "BaseName['Summer'] = ['Summer_R0','Summer_R1','Summer_R2','Summer_R3','Summer_R4']\n",
    "\n",
    "BaseSpec['Fall'] = [0,1,2,3,4]\n",
    "BaseName['Fall'] = ['Fall_R0','Fall_R1','Fall_R2','Fall_R3','Fall_R4']\n",
    "\n",
    "# BaseSpec['CA'] = [0,1,2,3,4]\n",
    "# BaseName['CA'] = ['United_R0','United_R1','United_R2','United_R3','United_R4']\n",
    "    \n",
    "BaseSpec['TS_mean'] = [[0,1,2,3,4,5]]\n",
    "BaseName['TS_mean'] = ['Thunderstorm']\n",
    "\n",
    "# BaseSpec['Hail_mean'] = [[0,1,2,3,4]]\n",
    "# BaseName['Hail_mean'] = ['Hail']\n",
    "\n",
    "# BaseSpec['Precipitation_mean'] = [[0,1,2,3,4]]\n",
    "# BaseName['Precipitation_mean'] = ['Precipitation']\n",
    "\n",
    "BaseSpec['Rain_mean'] = [[0,1,2,3,4,5]]\n",
    "BaseName['Rain_mean'] = ['Rain']\n",
    "\n",
    "# BaseSpec['Squall_mean'] = [[0,1,2,3,4,5]]\n",
    "# BaseName['Squall_mean'] = ['Squall']\n",
    "\n",
    "BaseSpec['Std_Wind_Dist'] = [[0,1,2,3,4,5]]\n",
    "BaseName['Std_Wind_Dist'] = ['Std_Wind_Dist']\n",
    "\n",
    "# BaseSpec['MIT_Count'] = [[0,1,2,3,4,5]]\n",
    "# BaseName['MIT_Count'] = ['MIT_Count']\n",
    "\n",
    "# BaseSpec['MITVAL'] = [[0,1,2,3,4,5]]\n",
    "# BaseName['MITVAL'] = ['MIT_Value']\n",
    "\n",
    "# BaseSpec['DURATION_HRS_TOT'] = [[0,1,2,3,4,5]]\n",
    "# BaseName['DURATION_HRS_TOT'] = ['MIT_Duration']\n",
    "\n",
    "BaseSpec['MIT_Str_mean'] = [[0,1,2,3,4,5]]\n",
    "BaseName['MIT_Str_mean'] = ['MIT_Impact']\n",
    "\n",
    "N_var = 0\n",
    "for key in BaseSpec.keys():\n",
    "    N_var += len(BaseSpec[key])\n",
    "    \n",
    "MNL_Model = pylogit.create_choice_model(data = modelset, alt_id_col = 'Alt_id',obs_id_col = 'FID_Member',\n",
    "                                        choice_col = 'CHOICE',specification = BaseSpec, model_type = 'MNL', names = BaseName)\n",
    "MNL_Model.fit_mle(np.zeros(N_var))\n",
    "Result1 = MNL_Model.get_statsmodels_summary()\n",
    "print(Result1.as_csv)\n",
    "\n",
    "# pickle.dump(MNL_Model, open( os.getcwd() + '/MNL/Estimation/MNL_' + DEP + '_' + ARR+'.p', \"wb\" ) )"
   ]
  },
  {
   "cell_type": "markdown",
   "metadata": {},
   "source": [
    "### ORD -> IAH"
   ]
  },
  {
   "cell_type": "code",
   "execution_count": 4,
   "metadata": {
    "collapsed": false
   },
   "outputs": [
    {
     "name": "stdout",
     "output_type": "stream",
     "text": [
      "Log-likelihood at zero: -9,695.2540\n",
      "Initial Log-likelihood: -9,695.2540\n",
      "Estimation Time: 1.04 seconds.\n",
      "Final log-likelihood: -2,967.7856\n",
      "<bound method Summary.as_csv of <class 'statsmodels.iolib.summary.Summary'>\n",
      "\"\"\"\n",
      "                     Multinomial Logit Model Regression Results                    \n",
      "===================================================================================\n",
      "Dep. Variable:                      CHOICE   No. Observations:                6,024\n",
      "Model:             Multinomial Logit Model   Df Residuals:                    6,001\n",
      "Method:                                MLE   Df Model:                           23\n",
      "Date:                     Mon, 06 Mar 2017   Pseudo R-squ.:                   0.694\n",
      "Time:                             20:10:13   Pseudo R-bar-squ.:               0.692\n",
      "converged:                           False   Log-Likelihood:             -2,967.786\n",
      "                                             LL-Null:                    -9,695.254\n",
      "====================================================================================\n",
      "                       coef    std err          z      P>|z|      [95.0% Conf. Int.]\n",
      "------------------------------------------------------------------------------------\n",
      "ASC_R0               5.3749      0.269     20.014      0.000         4.849     5.901\n",
      "ASC_R1               2.3901      0.233     10.238      0.000         1.933     2.848\n",
      "ASC_R2              -0.3810      0.508     -0.750      0.453        -1.377     0.615\n",
      "ASC_R3              -1.3194      0.451     -2.926      0.003        -2.203    -0.435\n",
      "MorningFlight_R0    -0.2282      0.121     -1.886      0.059        -0.465     0.009\n",
      "MorningFlight_R1    -0.6096      0.149     -4.093      0.000        -0.902    -0.318\n",
      "MorningFlight_R2    -0.5697      0.347     -1.643      0.100        -1.249     0.110\n",
      "MorningFlight_R3     0.7940      0.445      1.786      0.074        -0.077     1.665\n",
      "Spring_R0           -0.7537      0.212     -3.552      0.000        -1.170    -0.338\n",
      "Spring_R1           -0.8100      0.251     -3.223      0.001        -1.303    -0.318\n",
      "Spring_R2            0.5596      0.549      1.020      0.308        -0.516     1.635\n",
      "Summer_R0           -1.3935      0.217     -6.422      0.000        -1.819    -0.968\n",
      "Summer_R1           -0.4947      0.237     -2.086      0.037        -0.959    -0.030\n",
      "Summer_R2           -0.3308      0.561     -0.590      0.555        -1.430     0.768\n",
      "Summer_R3           -0.7999      0.526     -1.520      0.129        -1.831     0.232\n",
      "Fall_R0             -0.4364      0.228     -1.917      0.055        -0.883     0.010\n",
      "Fall_R1             -0.5886      0.267     -2.206      0.027        -1.112    -0.066\n",
      "Fall_R2             -0.6723      0.707     -0.951      0.341        -2.057     0.713\n",
      "Fall_R3              0.3068      0.500      0.614      0.539        -0.673     1.286\n",
      "Thunderstorm       -49.6189      3.034    -16.355      0.000       -55.565   -43.673\n",
      "Rain               -11.1451      1.192     -9.348      0.000       -13.482    -8.808\n",
      "Std_Wind_Dist        3.6055      1.921      1.877      0.061        -0.160     7.371\n",
      "MIT_Impact           1.2695      1.280      0.992      0.321        -1.240     3.779\n",
      "====================================================================================\n",
      "\"\"\">\n"
     ]
    }
   ],
   "source": [
    "DEP = 'ORD'\n",
    "ARR = 'IAH'\n",
    "Year = 2013\n",
    "\n",
    "PostMNL = PreProcessMNL(DEP, ARR, Year)\n",
    "modelset= PostMNL.GetMNL_Data()\n",
    "\n",
    "BaseSpec = collections.OrderedDict()\n",
    "BaseName = collections.OrderedDict()\n",
    "\n",
    "BaseSpec['intercept'] = [0,1,2,3]\n",
    "BaseName['intercept'] = ['ASC_R0','ASC_R1','ASC_R2','ASC_R3']\n",
    "\n",
    "BaseSpec['Morning'] = [0,1,2,3]\n",
    "BaseName['Morning'] = ['MorningFlight_R0','MorningFlight_R1','MorningFlight_R2','MorningFlight_R3']\n",
    "\n",
    "BaseSpec['Spring'] = [0,1,2]\n",
    "BaseName['Spring'] = ['Spring_R0','Spring_R1','Spring_R2']\n",
    "\n",
    "BaseSpec['Summer'] = [0,1,2,3]\n",
    "BaseName['Summer'] = ['Summer_R0','Summer_R1','Summer_R2','Summer_R3']\n",
    "\n",
    "BaseSpec['Fall'] = [0,1,2,3]\n",
    "BaseName['Fall'] = ['Fall_R0','Fall_R1','Fall_R2','Fall_R3']\n",
    "\n",
    "# BaseSpec['CA'] = [0,1,2,3,4]\n",
    "# BaseName['CA'] = ['United_R0','United_R1','United_R2','United_R3','United_R4']\n",
    "    \n",
    "BaseSpec['TS_mean'] = [[0,1,2,3,4]]\n",
    "BaseName['TS_mean'] = ['Thunderstorm']\n",
    "\n",
    "# BaseSpec['Hail_mean'] = [[0,1,2,3,4]]\n",
    "# BaseName['Hail_mean'] = ['Hail']\n",
    "# BaseSpec['Precipitation_mean'] = [[0,1,2,3,4]]\n",
    "# BaseName['Precipitation_mean'] = ['Precipitation']\n",
    "\n",
    "BaseSpec['Rain_mean'] = [[0,1,2,3,4]]\n",
    "BaseName['Rain_mean'] = ['Rain']\n",
    "\n",
    "# BaseSpec['Squall_mean'] = [[0,1,2,3,4]]\n",
    "# BaseName['Squall_mean'] = ['Squall']\n",
    "\n",
    "BaseSpec['Std_Wind_Dist'] = [[0,1,2,3,4]]\n",
    "BaseName['Std_Wind_Dist'] = ['Std_Wind_Dist']\n",
    "\n",
    "# BaseSpec['MIT_Count'] = [[0,1,2,3,4]]\n",
    "# BaseName['MIT_Count'] = ['MIT_Count']\n",
    "\n",
    "# BaseSpec['MIT_VAL_sum'] = [[0,1,2,3,4]]\n",
    "# BaseName['MIT_VAL_sum'] = ['MIT_Value']\n",
    "\n",
    "# BaseSpec['MIT_DUR_sum'] = [[0,1,2,3,4]]\n",
    "# BaseName['MIT_DUR_sum'] = ['MIT_Duration']\n",
    "\n",
    "BaseSpec['MIT_Str_mean'] = [[0,1,2,3,4]]\n",
    "BaseName['MIT_Str_mean'] = ['MIT_Impact']\n",
    "\n",
    "N_var = 0\n",
    "for key in BaseSpec.keys():\n",
    "    N_var += len(BaseSpec[key])\n",
    "    \n",
    "MNL_Model = pylogit.create_choice_model(data = modelset, alt_id_col = 'Alt_id',obs_id_col = 'FID_Member',\n",
    "                                        choice_col = 'CHOICE',specification = BaseSpec, model_type = 'MNL', names = BaseName)\n",
    "MNL_Model.fit_mle(np.zeros(N_var))\n",
    "Result1 = MNL_Model.get_statsmodels_summary()\n",
    "print(Result1.as_csv)\n",
    "\n",
    "# pickle.dump(MNL_Model, open( os.getcwd() + '/MNL/Estimation/MNL_' + DEP + '_' + ARR+'.p', \"wb\" ) )"
   ]
  },
  {
   "cell_type": "markdown",
   "metadata": {},
   "source": [
    "#### JFK-LAX"
   ]
  },
  {
   "cell_type": "code",
   "execution_count": 2,
   "metadata": {
    "collapsed": false
   },
   "outputs": [
    {
     "name": "stdout",
     "output_type": "stream",
     "text": [
      "Log-likelihood at zero: -19,058.9455\n",
      "Initial Log-likelihood: -19,058.9455\n",
      "Estimation Time: 2.07 seconds.\n",
      "Final log-likelihood: -15,249.7171\n",
      "<bound method Summary.as_csv of <class 'statsmodels.iolib.summary.Summary'>\n",
      "\"\"\"\n",
      "                     Multinomial Logit Model Regression Results                    \n",
      "===================================================================================\n",
      "Dep. Variable:                      CHOICE   No. Observations:               10,637\n",
      "Model:             Multinomial Logit Model   Df Residuals:                   10,607\n",
      "Method:                                MLE   Df Model:                           30\n",
      "Date:                     Mon, 06 Mar 2017   Pseudo R-squ.:                   0.200\n",
      "Time:                             17:45:15   Pseudo R-bar-squ.:               0.198\n",
      "converged:                           False   Log-Likelihood:            -15,249.717\n",
      "                                             LL-Null:                   -19,058.945\n",
      "====================================================================================\n",
      "                       coef    std err          z      P>|z|      [95.0% Conf. Int.]\n",
      "------------------------------------------------------------------------------------\n",
      "ASC_R0               0.0495      0.069      0.713      0.476        -0.087     0.186\n",
      "ASC_R1              -1.1557      0.111    -10.368      0.000        -1.374    -0.937\n",
      "ASC_R2              -0.0083      0.069     -0.120      0.905        -0.144     0.127\n",
      "ASC_R3              -1.2555      0.113    -11.155      0.000        -1.476    -1.035\n",
      "ASC_R4              -0.7208      0.085     -8.490      0.000        -0.887    -0.554\n",
      "MorningFlight_R0    -0.1171      0.056     -2.087      0.037        -0.227    -0.007\n",
      "MorningFlight_R1     0.1382      0.128      1.084      0.278        -0.112     0.388\n",
      "MorningFlight_R2     0.0028      0.065      0.043      0.966        -0.125     0.130\n",
      "MorningFlight_R3     0.1303      0.083      1.576      0.115        -0.032     0.292\n",
      "MorningFlight_R4    -0.1626      0.078     -2.072      0.038        -0.316    -0.009\n",
      "Spring_R0           -0.0771      0.085     -0.910      0.363        -0.243     0.089\n",
      "Spring_R1           -0.4882      0.167     -2.932      0.003        -0.815    -0.162\n",
      "Spring_R2            0.1291      0.088      1.473      0.141        -0.043     0.301\n",
      "Spring_R3           -0.0677      0.140     -0.485      0.628        -0.341     0.206\n",
      "Spring_R4            0.1418      0.106      1.332      0.183        -0.067     0.351\n",
      "Summer_R0            0.2800      0.087      3.216      0.001         0.109     0.451\n",
      "Summer_R1           -2.6570      0.421     -6.307      0.000        -3.483    -1.831\n",
      "Summer_R2           -0.3830      0.096     -3.975      0.000        -0.572    -0.194\n",
      "Summer_R3            0.7645      0.131      5.837      0.000         0.508     1.021\n",
      "Summer_R4           -0.0379      0.111     -0.342      0.733        -0.255     0.179\n",
      "Fall_R0              0.3191      0.078      4.078      0.000         0.166     0.472\n",
      "Fall_R1             -0.6857      0.162     -4.232      0.000        -1.003    -0.368\n",
      "Fall_R2             -0.3665      0.091     -4.040      0.000        -0.544    -0.189\n",
      "Fall_R3              0.2581      0.131      1.965      0.049         0.001     0.515\n",
      "Fall_R4             -0.6757      0.121     -5.596      0.000        -0.912    -0.439\n",
      "Thunderstorm       -22.4165      2.384     -9.402      0.000       -27.089   -17.744\n",
      "Rain                -5.8501      0.713     -8.202      0.000        -7.248    -4.452\n",
      "Squall            -211.3662     81.873     -2.582      0.010      -371.834   -50.898\n",
      "Std_Wind_Dist      -13.6514      0.517    -26.410      0.000       -14.665   -12.638\n",
      "MIT_Impact          -1.5029      0.918     -1.638      0.102        -3.302     0.296\n",
      "====================================================================================\n",
      "\"\"\">\n"
     ]
    },
    {
     "name": "stderr",
     "output_type": "stream",
     "text": [
      "E:\\Anaconda\\Anaconda\\lib\\site-packages\\scipy\\optimize\\_minimize.py:385: RuntimeWarning: Method BFGS does not use Hessian information (hess).\n",
      "  RuntimeWarning)\n"
     ]
    }
   ],
   "source": [
    "DEP = 'JFK'\n",
    "ARR = 'LAX'\n",
    "Year = 2013\n",
    "PostMNL = PreProcessMNL(DEP, ARR, Year)\n",
    "modelset= PostMNL.GetMNL_Data()\n",
    "\n",
    "BaseSpec = collections.OrderedDict()\n",
    "BaseName = collections.OrderedDict()\n",
    "\n",
    "BaseSpec['intercept'] = [0,1,2,3,4]\n",
    "BaseName['intercept'] = ['ASC_R0','ASC_R1','ASC_R2','ASC_R3','ASC_R4']\n",
    "\n",
    "BaseSpec['Morning'] = [0,1,2,3,4]\n",
    "BaseName['Morning'] = ['MorningFlight_R0','MorningFlight_R1','MorningFlight_R2','MorningFlight_R3','MorningFlight_R4']\n",
    "\n",
    "BaseSpec['Spring'] = [0,1,2,3,4]\n",
    "BaseName['Spring'] = ['Spring_R0','Spring_R1','Spring_R2','Spring_R3','Spring_R4']\n",
    "\n",
    "BaseSpec['Summer'] = [0,1,2,3,4]\n",
    "BaseName['Summer'] = ['Summer_R0','Summer_R1','Summer_R2','Summer_R3','Summer_R4']\n",
    "\n",
    "BaseSpec['Fall'] = [0,1,2,3,4]\n",
    "BaseName['Fall'] = ['Fall_R0','Fall_R1','Fall_R2','Fall_R3','Fall_R4']\n",
    "\n",
    "# BaseSpec['CA'] = [0,1,2,3,4]\n",
    "# BaseName['CA'] = ['United_R0','United_R1','United_R2','United_R3','United_R4']\n",
    "    \n",
    "BaseSpec['TS_mean'] = [[0,1,2,3,4,5]]\n",
    "BaseName['TS_mean'] = ['Thunderstorm']\n",
    "\n",
    "# BaseSpec['Hail_mean'] = [[0,1,2,3]]\n",
    "# BaseName['Hail_mean'] = ['Hail']\n",
    "# BaseSpec['Precipitation_mean'] = [[0,1,2,3,4]]\n",
    "# BaseName['Precipitation_mean'] = ['Precipitation']\n",
    "\n",
    "BaseSpec['Rain_mean'] = [[0,1,2,3,4,5]]\n",
    "BaseName['Rain_mean'] = ['Rain']\n",
    "\n",
    "BaseSpec['Squall_mean'] = [[0,1,2,3,4,5]]\n",
    "BaseName['Squall_mean'] = ['Squall']\n",
    "\n",
    "BaseSpec['Std_Wind_Dist'] = [[0,1,2,3,4,5]]\n",
    "BaseName['Std_Wind_Dist'] = ['Std_Wind_Dist']\n",
    "\n",
    "# BaseSpec['MIT_Count'] = [[0,1,2,3,4]]\n",
    "# BaseName['MIT_Count'] = ['MIT_Count']\n",
    "\n",
    "# BaseSpec['MITVAL'] = [[0,1,2,3,4]]\n",
    "# BaseName['MITVAL'] = ['MIT_Value']\n",
    "\n",
    "# BaseSpec['DURATION_HRS_TOT'] = [[0,1,2,3,4]]\n",
    "# BaseName['DURATION_HRS_TOT'] = ['MIT_Duration']\n",
    "\n",
    "BaseSpec['MIT_Str_mean'] = [[0,1,2,3,4,5]]\n",
    "BaseName['MIT_Str_mean'] = ['MIT_Impact']\n",
    "\n",
    "N_var = 0\n",
    "for key in BaseSpec.keys():\n",
    "    N_var += len(BaseSpec[key])\n",
    "    \n",
    "MNL_Model = pylogit.create_choice_model(data = modelset, alt_id_col = 'Alt_id',obs_id_col = 'FID_Member',\n",
    "                                        choice_col = 'CHOICE',specification = BaseSpec, model_type = 'MNL', names = BaseName)\n",
    "MNL_Model.fit_mle(np.zeros(N_var))\n",
    "Result1 = MNL_Model.get_statsmodels_summary()\n",
    "print(Result1.as_csv)\n",
    "\n",
    "# pickle.dump(MNL_Model, open( os.getcwd() + '/MNL/Estimation/MNL_' + DEP + '_' + ARR+'.p', \"wb\" ) )"
   ]
  },
  {
   "cell_type": "markdown",
   "metadata": {},
   "source": [
    "#### LAX-JFK"
   ]
  },
  {
   "cell_type": "code",
   "execution_count": 3,
   "metadata": {
    "collapsed": false
   },
   "outputs": [
    {
     "name": "stdout",
     "output_type": "stream",
     "text": [
      "Log-likelihood at zero: -16,685.0428\n",
      "Initial Log-likelihood: -16,685.0428\n",
      "Estimation Time: 0.83 seconds.\n",
      "Final log-likelihood: -13,814.9057\n",
      "<bound method Summary.as_csv of <class 'statsmodels.iolib.summary.Summary'>\n",
      "\"\"\"\n",
      "                     Multinomial Logit Model Regression Results                    \n",
      "===================================================================================\n",
      "Dep. Variable:                      CHOICE   No. Observations:               10,367\n",
      "Model:             Multinomial Logit Model   Df Residuals:                   10,342\n",
      "Method:                                MLE   Df Model:                           25\n",
      "Date:                     Mon, 06 Mar 2017   Pseudo R-squ.:                   0.172\n",
      "Time:                             17:46:27   Pseudo R-bar-squ.:               0.171\n",
      "converged:                            True   Log-Likelihood:            -13,814.906\n",
      "                                             LL-Null:                   -16,685.043\n",
      "====================================================================================\n",
      "                       coef    std err          z      P>|z|      [95.0% Conf. Int.]\n",
      "------------------------------------------------------------------------------------\n",
      "ASC_R0              -0.4398      0.074     -5.911      0.000        -0.586    -0.294\n",
      "ASC_R1              -0.1955      0.072     -2.732      0.006        -0.336    -0.055\n",
      "ASC_R2              -1.2253      0.106    -11.565      0.000        -1.433    -1.018\n",
      "ASC_R3               1.0479      0.067     15.634      0.000         0.917     1.179\n",
      "MorningFlight_R0     0.1362      0.072      1.885      0.059        -0.005     0.278\n",
      "MorningFlight_R1    -0.0856      0.063     -1.365      0.172        -0.208     0.037\n",
      "MorningFlight_R2    -0.4740      0.110     -4.306      0.000        -0.690    -0.258\n",
      "MorningFlight_R3    -0.4958      0.055     -8.962      0.000        -0.604    -0.387\n",
      "Spring_R0            0.3649      0.096      3.807      0.000         0.177     0.553\n",
      "Spring_R1            0.4684      0.092      5.115      0.000         0.289     0.648\n",
      "Spring_R2            0.3252      0.150      2.163      0.031         0.031     0.620\n",
      "Spring_R3            0.3052      0.082      3.712      0.000         0.144     0.466\n",
      "Summer_R0           -0.0986      0.118     -0.835      0.404        -0.330     0.133\n",
      "Summer_R1            0.9491      0.095     10.031      0.000         0.764     1.135\n",
      "Summer_R2            0.0161      0.179      0.090      0.928        -0.334     0.366\n",
      "Summer_R3            0.8626      0.087      9.922      0.000         0.692     1.033\n",
      "Fall_R0              0.3880      0.094      4.118      0.000         0.203     0.573\n",
      "Fall_R1              0.7405      0.089      8.340      0.000         0.566     0.915\n",
      "Fall_R2              0.6436      0.136      4.726      0.000         0.377     0.910\n",
      "Fall_R3              0.4886      0.081      6.055      0.000         0.330     0.647\n",
      "ThunderStorm       -39.9905      2.901    -13.787      0.000       -45.676   -34.305\n",
      "Rain                -5.6841      0.676     -8.404      0.000        -7.010    -4.358\n",
      "Squall            -144.1178     79.162     -1.821      0.069      -299.273    11.037\n",
      "Std_Wind_Dist      -12.7347      0.639    -19.926      0.000       -13.987   -11.482\n",
      "MIT_Impact           1.3329      0.515      2.590      0.010         0.324     2.342\n",
      "====================================================================================\n",
      "\"\"\">\n"
     ]
    }
   ],
   "source": [
    "DEP = 'LAX'\n",
    "ARR = 'JFK'\n",
    "Year = 2013\n",
    "PostMNL = PreProcessMNL(DEP, ARR, Year)\n",
    "modelset= PostMNL.GetMNL_Data()\n",
    "\n",
    "BaseSpec = collections.OrderedDict()\n",
    "BaseName = collections.OrderedDict()\n",
    "\n",
    "BaseSpec['intercept'] = [0,1,2,3]\n",
    "BaseName['intercept'] = ['ASC_R0','ASC_R1','ASC_R2','ASC_R3']\n",
    "\n",
    "BaseSpec['Morning'] = [0,1,2,3]\n",
    "BaseName['Morning'] = ['MorningFlight_R0','MorningFlight_R1','MorningFlight_R2','MorningFlight_R3']\n",
    "\n",
    "BaseSpec['Spring'] = [0,1,2,3]\n",
    "BaseName['Spring'] = ['Spring_R0','Spring_R1','Spring_R2','Spring_R3']\n",
    "\n",
    "BaseSpec['Summer'] = [0,1,2,3]\n",
    "BaseName['Summer'] = ['Summer_R0','Summer_R1','Summer_R2','Summer_R3']\n",
    "\n",
    "BaseSpec['Fall'] = [0,1,2,3]\n",
    "BaseName['Fall'] = ['Fall_R0','Fall_R1','Fall_R2','Fall_R3']\n",
    "\n",
    "# BaseSpec['CA'] = [0,1,2,3,4]\n",
    "# BaseName['CA'] = ['United_R0','United_R1','United_R2','United_R3','United_R4']\n",
    "    \n",
    "BaseSpec['TS_mean'] = [[0,1,2,3,4]]\n",
    "BaseName['TS_mean'] = ['ThunderStorm']\n",
    "\n",
    "# BaseSpec['Hail_mean'] = [[0,1,2,3,4]]\n",
    "# BaseName['Hail_mean'] = ['Hail']\n",
    "\n",
    "BaseSpec['Rain_mean'] = [[0,1,2,3,4]]\n",
    "BaseName['Rain_mean'] = ['Rain']\n",
    "\n",
    "BaseSpec['Squall_mean'] = [[0,1,2,3,4]]\n",
    "BaseName['Squall_mean'] = ['Squall']\n",
    "\n",
    "BaseSpec['Std_Wind_Dist'] = [[0,1,2,3,4]]\n",
    "BaseName['Std_Wind_Dist'] = ['Std_Wind_Dist']\n",
    "\n",
    "# BaseSpec['MIT_Count'] = [[0,1,2,3,4]]\n",
    "# BaseName['MIT_Count'] = ['MIT_Count']\n",
    "\n",
    "# BaseSpec['MITVAL'] = [[0,1,2,3,4]]\n",
    "# BaseName['MITVAL'] = ['MIT_Value']\n",
    "\n",
    "# BaseSpec['DURATION_HRS_TOT'] = [[0,1,2,3,4]]\n",
    "# BaseName['DURATION_HRS_TOT'] = ['MIT_Duration']\n",
    "\n",
    "BaseSpec['MIT_Str_mean'] = [[0,1,2,3,4]]\n",
    "BaseName['MIT_Str_mean'] = ['MIT_Impact']\n",
    "\n",
    "N_var = 0\n",
    "for key in BaseSpec.keys():\n",
    "    N_var += len(BaseSpec[key])\n",
    "    \n",
    "MNL_Model = pylogit.create_choice_model(data = modelset, alt_id_col = 'Alt_id',obs_id_col = 'FID_Member',\n",
    "                                        choice_col = 'CHOICE',specification = BaseSpec, model_type = 'MNL', names = BaseName)\n",
    "MNL_Model.fit_mle(np.zeros(N_var))\n",
    "Result1 = MNL_Model.get_statsmodels_summary()\n",
    "print(Result1.as_csv)\n",
    "\n",
    "# pickle.dump(MNL_Model, open( os.getcwd() + '/MNL/Estimation/MNL_' + DEP + '_' + ARR+'.p', \"wb\" ) )"
   ]
  },
  {
   "cell_type": "markdown",
   "metadata": {},
   "source": [
    "### DCA -> ORD"
   ]
  },
  {
   "cell_type": "code",
   "execution_count": 9,
   "metadata": {
    "collapsed": false
   },
   "outputs": [
    {
     "name": "stderr",
     "output_type": "stream",
     "text": [
      "E:\\Anaconda\\Anaconda\\lib\\site-packages\\IPython\\kernel\\__main__.py:29: SettingWithCopyWarning: \n",
      "A value is trying to be set on a copy of a slice from a DataFrame.\n",
      "Try using .loc[row_indexer,col_indexer] = value instead\n",
      "\n",
      "See the caveats in the documentation: http://pandas.pydata.org/pandas-docs/stable/indexing.html#indexing-view-versus-copy\n",
      "E:\\Anaconda\\Anaconda\\lib\\site-packages\\IPython\\kernel\\__main__.py:33: SettingWithCopyWarning: \n",
      "A value is trying to be set on a copy of a slice from a DataFrame.\n",
      "Try using .loc[row_indexer,col_indexer] = value instead\n",
      "\n",
      "See the caveats in the documentation: http://pandas.pydata.org/pandas-docs/stable/indexing.html#indexing-view-versus-copy\n"
     ]
    },
    {
     "name": "stdout",
     "output_type": "stream",
     "text": [
      "Log-likelihood at zero: -13,155.0980\n",
      "Initial Log-likelihood: -13,155.0980\n",
      "Estimation Time: 1.95 seconds.\n",
      "Final log-likelihood: -1,448.4786\n"
     ]
    },
    {
     "data": {
      "text/plain": [
       "<bound method Summary.as_csv of <class 'statsmodels.iolib.summary.Summary'>\n",
       "\"\"\"\n",
       "                     Multinomial Logit Model Regression Results                    \n",
       "===================================================================================\n",
       "Dep. Variable:                      CHOICE   No. Observations:                7,342\n",
       "Model:             Multinomial Logit Model   Df Residuals:                    7,312\n",
       "Method:                                MLE   Df Model:                           30\n",
       "Date:                     Thu, 19 Jan 2017   Pseudo R-squ.:                   0.890\n",
       "Time:                             20:41:23   Pseudo R-bar-squ.:               0.888\n",
       "converged:                            True   Log-Likelihood:             -1,448.479\n",
       "                                             LL-Null:                   -13,155.098\n",
       "====================================================================================\n",
       "                       coef    std err          z      P>|z|      [95.0% Conf. Int.]\n",
       "------------------------------------------------------------------------------------\n",
       "ASC_R0               5.5406      1.247      4.444      0.000         3.097     7.984\n",
       "ASC_R1              -0.5652      1.236     -0.457      0.647        -2.987     1.857\n",
       "ASC_R2              -2.7894      1.490     -1.872      0.061        -5.711     0.132\n",
       "ASC_R3              -2.3894      1.429     -1.672      0.094        -5.190     0.411\n",
       "ASC_R4              -5.3361      2.309     -2.311      0.021        -9.862    -0.810\n",
       "MorningFlight_R0     0.3619      0.171      2.118      0.034         0.027     0.697\n",
       "MorningFlight_R1    -0.7690      0.265     -2.905      0.004        -1.288    -0.250\n",
       "MorningFlight_R2    -0.7381      0.512     -1.441      0.150        -1.742     0.266\n",
       "MorningFlight_R3    -1.5294      0.646     -2.369      0.018        -2.795    -0.264\n",
       "MorningFlight_R4     1.2869      0.834      1.543      0.123        -0.348     2.922\n",
       "Spring_R0           -2.2178      0.428     -5.183      0.000        -3.056    -1.379\n",
       "Summer_R0           -2.3466      0.451     -5.204      0.000        -3.230    -1.463\n",
       "Summer_R1            0.6468      0.285      2.271      0.023         0.089     1.205\n",
       "Summer_R2            1.3397      0.682      1.965      0.049         0.003     2.676\n",
       "Summer_R3            1.0055      0.600      1.676      0.094        -0.171     2.182\n",
       "Summer_R4            1.7451      1.099      1.588      0.112        -0.409     3.899\n",
       "Fall_R0             -2.2646      0.463     -4.887      0.000        -3.173    -1.356\n",
       "Fall_R1             -1.2446      0.441     -2.820      0.005        -2.110    -0.380\n",
       "Fall_R2              0.8779      0.729      1.205      0.228        -0.550     2.306\n",
       "Fall_R3             -0.2592      0.798     -0.325      0.745        -1.824     1.306\n",
       "Fall_R4              0.0274      1.434      0.019      0.985        -2.782     2.837\n",
       "United_R0           -0.0339      0.165     -0.205      0.837        -0.358     0.290\n",
       "United_R1            0.0651      0.242      0.269      0.788        -0.409     0.540\n",
       "United_R2           -0.1222      0.467     -0.262      0.793        -1.037     0.792\n",
       "United_R3           -0.3600      0.469     -0.767      0.443        -1.280     0.560\n",
       "United_R4            0.0220      0.727      0.030      0.976        -1.402     1.446\n",
       "Thunderstorm       -47.2804      2.803    -16.868      0.000       -52.774   -41.787\n",
       "Rain                 2.3066      1.374      1.679      0.093        -0.386     4.999\n",
       "Std_Wind_Dist        1.4782      2.257      0.655      0.513        -2.946     5.903\n",
       "MIT_Impact          -1.1736   1.21e+04   -9.7e-05      1.000     -2.37e+04  2.37e+04\n",
       "====================================================================================\n",
       "\"\"\">"
      ]
     },
     "execution_count": 9,
     "metadata": {},
     "output_type": "execute_result"
    }
   ],
   "source": [
    "DEP = 'DCA'\n",
    "ARR = 'ORD'\n",
    "Year = 2013\n",
    "PostMNL = PreProcessMNL(DEP, ARR, Year)\n",
    "modelset= PostMNL.GetMNL_Data()\n",
    "\n",
    "BaseSpec = collections.OrderedDict()\n",
    "BaseName = collections.OrderedDict()\n",
    "\n",
    "BaseSpec['intercept'] = [0,1,2,3,4]\n",
    "BaseName['intercept'] = ['ASC_R0','ASC_R1','ASC_R2','ASC_R3','ASC_R4']\n",
    "\n",
    "BaseSpec['Morning'] = [0,1,2,3,4]\n",
    "BaseName['Morning'] = ['MorningFlight_R0','MorningFlight_R1','MorningFlight_R2','MorningFlight_R3','MorningFlight_R4']\n",
    "\n",
    "BaseSpec['Spring'] = [0]\n",
    "BaseName['Spring'] = ['Spring_R0']\n",
    "\n",
    "BaseSpec['Summer'] = [0,1,2,3,4]\n",
    "BaseName['Summer'] = ['Summer_R0','Summer_R1','Summer_R2','Summer_R3','Summer_R4']\n",
    "\n",
    "BaseSpec['Fall'] = [0,1,2,3,4]\n",
    "BaseName['Fall'] = ['Fall_R0','Fall_R1','Fall_R2','Fall_R3','Fall_R4']\n",
    "\n",
    "BaseSpec['CA'] = [0,1,2,3,4]\n",
    "BaseName['CA'] = ['United_R0','United_R1','United_R2','United_R3','United_R4']\n",
    "    \n",
    "BaseSpec['TS_mean'] = [[0,1,2,3,4]]\n",
    "BaseName['TS_mean'] = ['Thunderstorm']\n",
    "\n",
    "BaseSpec['Rain_mean'] = [[0,1,2,3,4]]\n",
    "BaseName['Rain_mean'] = ['Rain']\n",
    "\n",
    "BaseSpec['Std_Wind_Dist'] = [[0,1,2,3,4]]\n",
    "BaseName['Std_Wind_Dist'] = ['Std_Wind_Dist']\n",
    "\n",
    "# BaseSpec['MIT_Count'] = [[0,1,2,3,4]]\n",
    "# BaseName['MIT_Count'] = ['MIT_Count']\n",
    "\n",
    "# BaseSpec['MITVAL'] = [[4]]\n",
    "# BaseName['MITVAL'] = ['MIT_Value']\n",
    "\n",
    "# BaseSpec['DURATION_HRS_TOT'] = [[0,1,2,3,4]]\n",
    "# BaseName['DURATION_HRS_TOT'] = ['MIT_Duration']\n",
    "\n",
    "# BaseSpec['MIT_Impact'] = [[4]]\n",
    "# BaseName['MIT_Impact'] = ['MIT_Impact']\n",
    "\n",
    "N_var = 0\n",
    "for key in BaseSpec.keys():\n",
    "    N_var += len(BaseSpec[key])\n",
    "    \n",
    "MNL_Model = pylogit.create_choice_model(data = modelset, alt_id_col = 'Alt_id',obs_id_col = 'FID_Member',\n",
    "                                        choice_col = 'CHOICE',specification = BaseSpec, model_type = 'MNL', names = BaseName)\n",
    "MNL_Model.fit_mle(np.zeros(N_var))\n",
    "Result1 = MNL_Model.get_statsmodels_summary()\n",
    "print(Result1.as_csv)\n",
    "\n",
    "pickle.dump(MNL_Model, open( os.getcwd() + '/MNL/Estimation/MNL_' + DEP + '_' + ARR+'.p', \"wb\" ) )"
   ]
  },
  {
   "cell_type": "markdown",
   "metadata": {},
   "source": [
    "### ORD -> DCA"
   ]
  },
  {
   "cell_type": "code",
   "execution_count": 10,
   "metadata": {
    "collapsed": false
   },
   "outputs": [
    {
     "name": "stderr",
     "output_type": "stream",
     "text": [
      "E:\\Anaconda\\Anaconda\\lib\\site-packages\\IPython\\kernel\\__main__.py:29: SettingWithCopyWarning: \n",
      "A value is trying to be set on a copy of a slice from a DataFrame.\n",
      "Try using .loc[row_indexer,col_indexer] = value instead\n",
      "\n",
      "See the caveats in the documentation: http://pandas.pydata.org/pandas-docs/stable/indexing.html#indexing-view-versus-copy\n",
      "E:\\Anaconda\\Anaconda\\lib\\site-packages\\IPython\\kernel\\__main__.py:33: SettingWithCopyWarning: \n",
      "A value is trying to be set on a copy of a slice from a DataFrame.\n",
      "Try using .loc[row_indexer,col_indexer] = value instead\n",
      "\n",
      "See the caveats in the documentation: http://pandas.pydata.org/pandas-docs/stable/indexing.html#indexing-view-versus-copy\n"
     ]
    },
    {
     "name": "stdout",
     "output_type": "stream",
     "text": [
      "Log-likelihood at zero: -11,756.9440\n",
      "Initial Log-likelihood: -11,756.9440\n",
      "Estimation Time: 1.34 seconds.\n",
      "Final log-likelihood: -1,164.1833\n"
     ]
    },
    {
     "data": {
      "text/plain": [
       "<bound method Summary.as_csv of <class 'statsmodels.iolib.summary.Summary'>\n",
       "\"\"\"\n",
       "                     Multinomial Logit Model Regression Results                    \n",
       "===================================================================================\n",
       "Dep. Variable:                      CHOICE   No. Observations:                7,305\n",
       "Model:             Multinomial Logit Model   Df Residuals:                    7,283\n",
       "Method:                                MLE   Df Model:                           22\n",
       "Date:                     Thu, 19 Jan 2017   Pseudo R-squ.:                   0.901\n",
       "Time:                             20:42:02   Pseudo R-bar-squ.:               0.899\n",
       "converged:                           False   Log-Likelihood:             -1,164.183\n",
       "                                             LL-Null:                   -11,756.944\n",
       "====================================================================================\n",
       "                       coef    std err          z      P>|z|      [95.0% Conf. Int.]\n",
       "------------------------------------------------------------------------------------\n",
       "ASC_R0              -0.6137      2.601     -0.236      0.813        -5.712     4.484\n",
       "ASC_R1              -7.7096      2.991     -2.578      0.010       -13.571    -1.848\n",
       "ASC_R2              -8.6487      2.944     -2.938      0.003       -14.418    -2.879\n",
       "ASC_R3              -8.9428      2.920     -3.062      0.002       -14.667    -3.219\n",
       "MorningFlight_R0     0.8082      0.293      2.755      0.006         0.233     1.383\n",
       "MorningFlight_R1     0.1624      0.365      0.444      0.657        -0.554     0.879\n",
       "MorningFlight_R2     1.0198      0.377      2.704      0.007         0.281     1.759\n",
       "MorningFlight_R3    -1.1117      1.094     -1.017      0.309        -3.255     1.032\n",
       "Spring_R0           -0.9458      0.565     -1.673      0.094        -2.054     0.162\n",
       "Spring_R1           -0.4156      0.891     -0.466      0.641        -2.162     1.331\n",
       "Spring_R2            1.4523      1.182      1.229      0.219        -0.864     3.768\n",
       "Summer_R0           -1.8932      0.560     -3.378      0.001        -2.992    -0.795\n",
       "Summer_R1            1.0139      0.811      1.250      0.211        -0.576     2.604\n",
       "Summer_R2            1.6941      1.156      1.466      0.143        -0.572     3.960\n",
       "Summer_R3            0.4563      0.744      0.613      0.540        -1.002     1.915\n",
       "Fall_R0             -0.1518      0.653     -0.232      0.816        -1.432     1.129\n",
       "Fall_R1              1.2473      0.905      1.379      0.168        -0.526     3.021\n",
       "Fall_R2              2.0478      1.232      1.662      0.097        -0.367     4.463\n",
       "Thunderstorm       -36.6053      3.731     -9.812      0.000       -43.917   -29.293\n",
       "Rain                -8.9886      1.308     -6.870      0.000       -11.553    -6.424\n",
       "Std_Wind_Dist       13.2193      4.527      2.920      0.004         4.346    22.093\n",
       "MIT_Impact          -0.0070      0.021     -0.325      0.746        -0.049     0.035\n",
       "====================================================================================\n",
       "\"\"\">"
      ]
     },
     "execution_count": 10,
     "metadata": {},
     "output_type": "execute_result"
    }
   ],
   "source": [
    "DEP = 'ORD'\n",
    "ARR = 'DCA'\n",
    "Year = 2013\n",
    "PostMNL = PreProcessMNL(DEP, ARR, Year)\n",
    "modelset= PostMNL.GetMNL_Data()\n",
    "\n",
    "BaseSpec = collections.OrderedDict()\n",
    "BaseName = collections.OrderedDict()\n",
    "\n",
    "BaseSpec['intercept'] = [0,1,2,3]\n",
    "BaseName['intercept'] = ['ASC_R0','ASC_R1','ASC_R2','ASC_R3']\n",
    "\n",
    "BaseSpec['Morning'] = [0,1,2,3]\n",
    "BaseName['Morning'] = ['MorningFlight_R0','MorningFlight_R1','MorningFlight_R2','MorningFlight_R3']\n",
    "\n",
    "BaseSpec['Spring'] = [0,1,2]\n",
    "BaseName['Spring'] = ['Spring_R0','Spring_R1','Spring_R2']\n",
    "\n",
    "BaseSpec['Summer'] = [0,1,2,3]\n",
    "BaseName['Summer'] = ['Summer_R0','Summer_R1','Summer_R2','Summer_R3']\n",
    "\n",
    "BaseSpec['Fall'] = [0,1,2]\n",
    "BaseName['Fall'] = ['Fall_R0','Fall_R1','Fall_R2']\n",
    "\n",
    "# BaseSpec['CA'] = [0,1,2,3,4]\n",
    "# BaseName['CA'] = ['United_R0','United_R1','United_R2','United_R3','United_R4']\n",
    "    \n",
    "BaseSpec['TS_mean'] = [[0,1,2,3]]\n",
    "BaseName['TS_mean'] = ['Thunderstorm']\n",
    "\n",
    "# BaseSpec['Hail_mean'] = [[0,1,2,3]]\n",
    "# BaseName['Hail_mean'] = ['Hail']\n",
    "# BaseSpec['Precipitation_mean'] = [[0,1,2,3,4]]\n",
    "# BaseName['Precipitation_mean'] = ['Precipitation']\n",
    "\n",
    "BaseSpec['Rain_mean'] = [[0,1,2,3]]\n",
    "BaseName['Rain_mean'] = ['Rain']\n",
    "\n",
    "BaseSpec['Std_Wind_Dist'] = [[0,1,2,3]]\n",
    "BaseName['Std_Wind_Dist'] = ['Std_Wind_Dist']\n",
    "\n",
    "# BaseSpec['MIT_Count'] = [[0,1,2,3,4]]\n",
    "# BaseName['MIT_Count'] = ['MIT_Count']\n",
    "\n",
    "# BaseSpec['MITVAL'] = [[0,1,2,3]]\n",
    "# BaseName['MITVAL'] = ['MIT_Value']\n",
    "\n",
    "# BaseSpec['DURATION_HRS_TOT'] = [[0,1,2,3]]\n",
    "# BaseName['DURATION_HRS_TOT'] = ['MIT_Duration']\n",
    "\n",
    "# BaseSpec['MIT_Impact'] = [[0,1,2,3]]\n",
    "# BaseName['MIT_Impact'] = ['MIT_Impact']\n",
    "\n",
    "N_var = 0\n",
    "for key in BaseSpec.keys():\n",
    "    N_var += len(BaseSpec[key])\n",
    "    \n",
    "MNL_Model = pylogit.create_choice_model(data = modelset, alt_id_col = 'Alt_id',obs_id_col = 'FID_Member',\n",
    "                                        choice_col = 'CHOICE',specification = BaseSpec, model_type = 'MNL', names = BaseName)\n",
    "MNL_Model.fit_mle(np.zeros(N_var))\n",
    "Result1 = MNL_Model.get_statsmodels_summary()\n",
    "print Result1.as_csv\n",
    "\n",
    "pickle.dump(MNL_Model, open( os.getcwd() + '/MNL/Estimation/MNL_' + DEP + '_' + ARR+'.p', \"wb\" ) )"
   ]
  },
  {
   "cell_type": "markdown",
   "metadata": {},
   "source": [
    "# Composite Method"
   ]
  },
  {
   "cell_type": "code",
   "execution_count": 11,
   "metadata": {
    "collapsed": false
   },
   "outputs": [],
   "source": [
    "IAH_BOS = OLS_Model('IAH','BOS',2013, OneMetric = False)"
   ]
  },
  {
   "cell_type": "code",
   "execution_count": 66,
   "metadata": {
    "collapsed": false
   },
   "outputs": [
    {
     "name": "stdout",
     "output_type": "stream",
     "text": [
      "                            OLS Regression Results                            \n",
      "==============================================================================\n",
      "Dep. Variable:     np.log(Efficiency)   R-squared:                       0.707\n",
      "Model:                            OLS   Adj. R-squared:                  0.705\n",
      "Method:                 Least Squares   F-statistic:                     399.1\n",
      "Date:                Mon, 06 Mar 2017   Prob (F-statistic):               0.00\n",
      "Time:                        20:46:06   Log-Likelihood:                 104.44\n",
      "No. Observations:                1664   AIC:                            -186.9\n",
      "Df Residuals:                    1653   BIC:                            -127.3\n",
      "Df Model:                          10                                         \n",
      "Covariance Type:            nonrobust                                         \n",
      "===================================================================================\n",
      "                      coef    std err          t      P>|t|      [95.0% Conf. Int.]\n",
      "-----------------------------------------------------------------------------------\n",
      "Intercept           1.8828      0.027     69.959      0.000         1.830     1.936\n",
      "C(ClustID)[T.0]    -0.6233      0.025    -24.447      0.000        -0.673    -0.573\n",
      "C(ClustID)[T.1]    -0.1416      0.026     -5.412      0.000        -0.193    -0.090\n",
      "C(ClustID)[T.2]    -0.9110      0.026    -34.812      0.000        -0.962    -0.860\n",
      "C(ClustID)[T.3]    -1.5465      0.062    -25.112      0.000        -1.667    -1.426\n",
      "C(ClustID)[T.4]    -0.8367      0.059    -14.223      0.000        -0.952    -0.721\n",
      "C(Season)[T.1]      0.0037      0.017      0.216      0.829        -0.030     0.037\n",
      "C(Season)[T.2]      0.0340      0.018      1.934      0.053        -0.000     0.069\n",
      "C(Season)[T.3]      0.0009      0.017      0.053      0.958        -0.032     0.033\n",
      "TS_mean             4.0514      0.482      8.402      0.000         3.106     4.997\n",
      "MIT_Str_mean        1.0653      0.263      4.046      0.000         0.549     1.582\n",
      "==============================================================================\n",
      "Omnibus:                      280.232   Durbin-Watson:                   1.838\n",
      "Prob(Omnibus):                  0.000   Jarque-Bera (JB):             1725.745\n",
      "Skew:                          -0.634   Prob(JB):                         0.00\n",
      "Kurtosis:                       7.825   Cond. No.                         108.\n",
      "==============================================================================\n",
      "\n",
      "Warnings:\n",
      "[1] Standard Errors assume that the covariance matrix of the errors is correctly specified.\n"
     ]
    }
   ],
   "source": [
    "fo1 = 'np.log(Efficiency) ~ TS_mean + C(ClustID) + C(Season) + MIT_Str_mean'\n",
    "mod1 = IAH_BOS.fitModel(fo1)\n",
    "print mod1.summary()"
   ]
  },
  {
   "cell_type": "code",
   "execution_count": 78,
   "metadata": {
    "collapsed": false
   },
   "outputs": [
    {
     "name": "stdout",
     "output_type": "stream",
     "text": [
      "                            OLS Regression Results                            \n",
      "==============================================================================\n",
      "Dep. Variable:     np.log(Efficiency)   R-squared:                       0.707\n",
      "Model:                            OLS   Adj. R-squared:                  0.705\n",
      "Method:                 Least Squares   F-statistic:                     399.1\n",
      "Date:                Mon, 06 Mar 2017   Prob (F-statistic):               0.00\n",
      "Time:                        21:06:52   Log-Likelihood:                 104.44\n",
      "No. Observations:                1664   AIC:                            -186.9\n",
      "Df Residuals:                    1653   BIC:                            -127.3\n",
      "Df Model:                          10                                         \n",
      "Covariance Type:            nonrobust                                         \n",
      "===================================================================================\n",
      "                      coef    std err          t      P>|t|      [95.0% Conf. Int.]\n",
      "-----------------------------------------------------------------------------------\n",
      "Intercept           1.8828      0.027     69.959      0.000         1.830     1.936\n",
      "C(ClustID)[T.0]    -0.6233      0.025    -24.447      0.000        -0.673    -0.573\n",
      "C(ClustID)[T.1]    -0.1416      0.026     -5.412      0.000        -0.193    -0.090\n",
      "C(ClustID)[T.2]    -0.9110      0.026    -34.812      0.000        -0.962    -0.860\n",
      "C(ClustID)[T.3]    -1.5465      0.062    -25.112      0.000        -1.667    -1.426\n",
      "C(ClustID)[T.4]    -0.8367      0.059    -14.223      0.000        -0.952    -0.721\n",
      "C(Season)[T.1]      0.0037      0.017      0.216      0.829        -0.030     0.037\n",
      "C(Season)[T.2]      0.0340      0.018      1.934      0.053        -0.000     0.069\n",
      "C(Season)[T.3]      0.0009      0.017      0.053      0.958        -0.032     0.033\n",
      "TS_mean             4.0514      0.482      8.402      0.000         3.106     4.997\n",
      "MIT_Str_mean        1.0653      0.263      4.046      0.000         0.549     1.582\n",
      "==============================================================================\n",
      "Omnibus:                      280.232   Durbin-Watson:                   1.838\n",
      "Prob(Omnibus):                  0.000   Jarque-Bera (JB):             1725.745\n",
      "Skew:                          -0.634   Prob(JB):                         0.00\n",
      "Kurtosis:                       7.825   Cond. No.                         108.\n",
      "==============================================================================\n",
      "\n",
      "Warnings:\n",
      "[1] Standard Errors assume that the covariance matrix of the errors is correctly specified.\n"
     ]
    }
   ],
   "source": [
    "fo1 = 'np.log(Efficiency) ~ TS_mean + C(ClustID) + C(Season) + MIT_Str_sum'\n",
    "mod1_2 = IAH_BOS.fitModel(fo1)\n",
    "print mod1.summary()"
   ]
  },
  {
   "cell_type": "code",
   "execution_count": 19,
   "metadata": {
    "collapsed": false
   },
   "outputs": [],
   "source": [
    "BOS_IAH = OLS_Model('BOS','IAH',2013)"
   ]
  },
  {
   "cell_type": "code",
   "execution_count": 79,
   "metadata": {
    "collapsed": false
   },
   "outputs": [
    {
     "name": "stdout",
     "output_type": "stream",
     "text": [
      "                            OLS Regression Results                            \n",
      "==============================================================================\n",
      "Dep. Variable:     np.log(Efficiency)   R-squared:                       0.656\n",
      "Model:                            OLS   Adj. R-squared:                  0.654\n",
      "Method:                 Least Squares   F-statistic:                     298.1\n",
      "Date:                Mon, 06 Mar 2017   Prob (F-statistic):               0.00\n",
      "Time:                        21:07:02   Log-Likelihood:                -575.02\n",
      "No. Observations:                1732   AIC:                             1174.\n",
      "Df Residuals:                    1720   BIC:                             1240.\n",
      "Df Model:                          11                                         \n",
      "Covariance Type:            nonrobust                                         \n",
      "===================================================================================\n",
      "                      coef    std err          t      P>|t|      [95.0% Conf. Int.]\n",
      "-----------------------------------------------------------------------------------\n",
      "Intercept           1.5326      0.032     47.568      0.000         1.469     1.596\n",
      "C(ClustID)[T.0]    -1.1468      0.029    -40.078      0.000        -1.203    -1.091\n",
      "C(ClustID)[T.1]     0.2218      0.046      4.865      0.000         0.132     0.311\n",
      "C(ClustID)[T.2]    -0.8263      0.031    -26.623      0.000        -0.887    -0.765\n",
      "C(ClustID)[T.3]    -1.1728      0.046    -25.646      0.000        -1.262    -1.083\n",
      "C(ClustID)[T.4]     0.0484      0.070      0.694      0.488        -0.088     0.185\n",
      "C(Season)[T.1]      0.0310      0.025      1.250      0.212        -0.018     0.080\n",
      "C(Season)[T.2]     -0.0345      0.025     -1.361      0.174        -0.084     0.015\n",
      "C(Season)[T.3]      0.0198      0.024      0.817      0.414        -0.028     0.067\n",
      "TS_mean             3.9713      0.752      5.284      0.000         2.497     5.445\n",
      "BusyHour            0.0644      0.017      3.818      0.000         0.031     0.097\n",
      "MIT_Str_mean        0.1527      0.165      0.925      0.355        -0.171     0.476\n",
      "==============================================================================\n",
      "Omnibus:                      211.027   Durbin-Watson:                   1.962\n",
      "Prob(Omnibus):                  0.000   Jarque-Bera (JB):             1021.836\n",
      "Skew:                          -0.473   Prob(JB):                    1.29e-222\n",
      "Kurtosis:                       6.642   Cond. No.                         128.\n",
      "==============================================================================\n",
      "\n",
      "Warnings:\n",
      "[1] Standard Errors assume that the covariance matrix of the errors is correctly specified.\n"
     ]
    }
   ],
   "source": [
    "fo1 = 'np.log(Efficiency) ~ TS_mean + C(ClustID) + C(Season) + BusyHour + MIT_Str_mean'\n",
    "mod2 = BOS_IAH.fitModel(fo1)\n",
    "print mod2.summary()"
   ]
  },
  {
   "cell_type": "code",
   "execution_count": 80,
   "metadata": {
    "collapsed": false
   },
   "outputs": [
    {
     "name": "stdout",
     "output_type": "stream",
     "text": [
      "                            OLS Regression Results                            \n",
      "==============================================================================\n",
      "Dep. Variable:     np.log(Efficiency)   R-squared:                       0.656\n",
      "Model:                            OLS   Adj. R-squared:                  0.654\n",
      "Method:                 Least Squares   F-statistic:                     298.1\n",
      "Date:                Mon, 06 Mar 2017   Prob (F-statistic):               0.00\n",
      "Time:                        21:07:03   Log-Likelihood:                -575.02\n",
      "No. Observations:                1732   AIC:                             1174.\n",
      "Df Residuals:                    1720   BIC:                             1240.\n",
      "Df Model:                          11                                         \n",
      "Covariance Type:            nonrobust                                         \n",
      "===================================================================================\n",
      "                      coef    std err          t      P>|t|      [95.0% Conf. Int.]\n",
      "-----------------------------------------------------------------------------------\n",
      "Intercept           1.5326      0.032     47.568      0.000         1.469     1.596\n",
      "C(ClustID)[T.0]    -1.1468      0.029    -40.078      0.000        -1.203    -1.091\n",
      "C(ClustID)[T.1]     0.2218      0.046      4.865      0.000         0.132     0.311\n",
      "C(ClustID)[T.2]    -0.8263      0.031    -26.623      0.000        -0.887    -0.765\n",
      "C(ClustID)[T.3]    -1.1728      0.046    -25.646      0.000        -1.262    -1.083\n",
      "C(ClustID)[T.4]     0.0484      0.070      0.694      0.488        -0.088     0.185\n",
      "C(Season)[T.1]      0.0310      0.025      1.250      0.212        -0.018     0.080\n",
      "C(Season)[T.2]     -0.0345      0.025     -1.361      0.174        -0.084     0.015\n",
      "C(Season)[T.3]      0.0198      0.024      0.817      0.414        -0.028     0.067\n",
      "TS_mean             3.9713      0.752      5.284      0.000         2.497     5.445\n",
      "BusyHour            0.0644      0.017      3.818      0.000         0.031     0.097\n",
      "MIT_Str_mean        0.1527      0.165      0.925      0.355        -0.171     0.476\n",
      "==============================================================================\n",
      "Omnibus:                      211.027   Durbin-Watson:                   1.962\n",
      "Prob(Omnibus):                  0.000   Jarque-Bera (JB):             1021.836\n",
      "Skew:                          -0.473   Prob(JB):                    1.29e-222\n",
      "Kurtosis:                       6.642   Cond. No.                         128.\n",
      "==============================================================================\n",
      "\n",
      "Warnings:\n",
      "[1] Standard Errors assume that the covariance matrix of the errors is correctly specified.\n"
     ]
    }
   ],
   "source": [
    "fo1 = 'np.log(Efficiency) ~ TS_mean + C(ClustID) + C(Season) + BusyHour + MIT_Str_sum'\n",
    "mod2_2 = BOS_IAH.fitModel(fo1)\n",
    "print mod2.summary()"
   ]
  },
  {
   "cell_type": "code",
   "execution_count": 31,
   "metadata": {
    "collapsed": false
   },
   "outputs": [],
   "source": [
    "FLL_JFK = OLS_Model('FLL','JFK',2013)"
   ]
  },
  {
   "cell_type": "code",
   "execution_count": 62,
   "metadata": {
    "collapsed": false
   },
   "outputs": [
    {
     "name": "stdout",
     "output_type": "stream",
     "text": [
      "                            OLS Regression Results                            \n",
      "==============================================================================\n",
      "Dep. Variable:     np.log(Efficiency)   R-squared:                       0.575\n",
      "Model:                            OLS   Adj. R-squared:                  0.575\n",
      "Method:                 Least Squares   F-statistic:                     599.2\n",
      "Date:                Mon, 06 Mar 2017   Prob (F-statistic):               0.00\n",
      "Time:                        20:45:39   Log-Likelihood:                -2456.0\n",
      "No. Observations:                3988   AIC:                             4932.\n",
      "Df Residuals:                    3978   BIC:                             4995.\n",
      "Df Model:                           9                                         \n",
      "Covariance Type:            nonrobust                                         \n",
      "===================================================================================\n",
      "                      coef    std err          t      P>|t|      [95.0% Conf. Int.]\n",
      "-----------------------------------------------------------------------------------\n",
      "Intercept           2.3038      0.056     40.869      0.000         2.193     2.414\n",
      "C(ClustID)[T.0]    -1.7589      0.054    -32.674      0.000        -1.864    -1.653\n",
      "C(ClustID)[T.1]    -0.4621      0.057     -8.112      0.000        -0.574    -0.350\n",
      "C(ClustID)[T.2]    -0.6329      0.090     -6.996      0.000        -0.810    -0.456\n",
      "C(Season)[T.1]      0.0513      0.019      2.653      0.008         0.013     0.089\n",
      "C(Season)[T.2]      0.0553      0.023      2.369      0.018         0.010     0.101\n",
      "C(Season)[T.3]      0.0052      0.021      0.250      0.802        -0.035     0.046\n",
      "TS_mean             1.1476      0.350      3.281      0.001         0.462     1.833\n",
      "BusyHour            0.2583      0.016     15.939      0.000         0.227     0.290\n",
      "MIT_Str_mean        0.8016      0.098      8.178      0.000         0.609     0.994\n",
      "==============================================================================\n",
      "Omnibus:                      855.012   Durbin-Watson:                   1.906\n",
      "Prob(Omnibus):                  0.000   Jarque-Bera (JB):             2854.333\n",
      "Skew:                           1.065   Prob(JB):                         0.00\n",
      "Kurtosis:                       6.556   Cond. No.                         75.4\n",
      "==============================================================================\n",
      "\n",
      "Warnings:\n",
      "[1] Standard Errors assume that the covariance matrix of the errors is correctly specified.\n"
     ]
    }
   ],
   "source": [
    "fo1 = 'np.log(Efficiency) ~ TS_mean + C(ClustID) + C(Season) + BusyHour + MIT_Str_mean'\n",
    "mod3 = FLL_JFK.fitModel(fo1)\n",
    "print mod3.summary()"
   ]
  },
  {
   "cell_type": "code",
   "execution_count": 81,
   "metadata": {
    "collapsed": false
   },
   "outputs": [
    {
     "name": "stdout",
     "output_type": "stream",
     "text": [
      "                            OLS Regression Results                            \n",
      "==============================================================================\n",
      "Dep. Variable:     np.log(Efficiency)   R-squared:                       0.575\n",
      "Model:                            OLS   Adj. R-squared:                  0.575\n",
      "Method:                 Least Squares   F-statistic:                     599.2\n",
      "Date:                Mon, 06 Mar 2017   Prob (F-statistic):               0.00\n",
      "Time:                        21:07:08   Log-Likelihood:                -2456.0\n",
      "No. Observations:                3988   AIC:                             4932.\n",
      "Df Residuals:                    3978   BIC:                             4995.\n",
      "Df Model:                           9                                         \n",
      "Covariance Type:            nonrobust                                         \n",
      "===================================================================================\n",
      "                      coef    std err          t      P>|t|      [95.0% Conf. Int.]\n",
      "-----------------------------------------------------------------------------------\n",
      "Intercept           2.3038      0.056     40.869      0.000         2.193     2.414\n",
      "C(ClustID)[T.0]    -1.7589      0.054    -32.674      0.000        -1.864    -1.653\n",
      "C(ClustID)[T.1]    -0.4621      0.057     -8.112      0.000        -0.574    -0.350\n",
      "C(ClustID)[T.2]    -0.6329      0.090     -6.996      0.000        -0.810    -0.456\n",
      "C(Season)[T.1]      0.0513      0.019      2.653      0.008         0.013     0.089\n",
      "C(Season)[T.2]      0.0553      0.023      2.369      0.018         0.010     0.101\n",
      "C(Season)[T.3]      0.0052      0.021      0.250      0.802        -0.035     0.046\n",
      "TS_mean             1.1476      0.350      3.281      0.001         0.462     1.833\n",
      "BusyHour            0.2583      0.016     15.939      0.000         0.227     0.290\n",
      "MIT_Str_mean        0.8016      0.098      8.178      0.000         0.609     0.994\n",
      "==============================================================================\n",
      "Omnibus:                      855.012   Durbin-Watson:                   1.906\n",
      "Prob(Omnibus):                  0.000   Jarque-Bera (JB):             2854.333\n",
      "Skew:                           1.065   Prob(JB):                         0.00\n",
      "Kurtosis:                       6.556   Cond. No.                         75.4\n",
      "==============================================================================\n",
      "\n",
      "Warnings:\n",
      "[1] Standard Errors assume that the covariance matrix of the errors is correctly specified.\n"
     ]
    }
   ],
   "source": [
    "fo1 = 'np.log(Efficiency) ~ TS_mean + C(ClustID) + C(Season) + BusyHour + MIT_Str_sum'\n",
    "mod3_2 = FLL_JFK.fitModel(fo1)\n",
    "print mod3.summary()"
   ]
  },
  {
   "cell_type": "code",
   "execution_count": 32,
   "metadata": {
    "collapsed": false
   },
   "outputs": [],
   "source": [
    "JFK_FLL = OLS_Model('JFK','FLL',2013)"
   ]
  },
  {
   "cell_type": "code",
   "execution_count": 60,
   "metadata": {
    "collapsed": false
   },
   "outputs": [
    {
     "name": "stdout",
     "output_type": "stream",
     "text": [
      "                            OLS Regression Results                            \n",
      "==============================================================================\n",
      "Dep. Variable:     np.log(Efficiency)   R-squared:                       0.686\n",
      "Model:                            OLS   Adj. R-squared:                  0.685\n",
      "Method:                 Least Squares   F-statistic:                     797.2\n",
      "Date:                Mon, 06 Mar 2017   Prob (F-statistic):               0.00\n",
      "Time:                        20:45:21   Log-Likelihood:                -2140.9\n",
      "No. Observations:                4021   AIC:                             4306.\n",
      "Df Residuals:                    4009   BIC:                             4381.\n",
      "Df Model:                          11                                         \n",
      "Covariance Type:            nonrobust                                         \n",
      "===================================================================================\n",
      "                      coef    std err          t      P>|t|      [95.0% Conf. Int.]\n",
      "-----------------------------------------------------------------------------------\n",
      "Intercept           1.8102      0.044     40.781      0.000         1.723     1.897\n",
      "C(ClustID)[T.0]    -1.3975      0.043    -32.822      0.000        -1.481    -1.314\n",
      "C(ClustID)[T.1]     0.3794      0.075      5.092      0.000         0.233     0.526\n",
      "C(ClustID)[T.2]     0.0944      0.047      2.023      0.043         0.003     0.186\n",
      "C(ClustID)[T.3]     0.5057      0.062      8.208      0.000         0.385     0.626\n",
      "C(ClustID)[T.4]     0.7473      0.091      8.209      0.000         0.569     0.926\n",
      "C(Season)[T.1]      0.0689      0.018      3.897      0.000         0.034     0.104\n",
      "C(Season)[T.2]      0.0197      0.022      0.898      0.369        -0.023     0.063\n",
      "C(Season)[T.3]      0.0092      0.019      0.486      0.627        -0.028     0.046\n",
      "TS_mean             2.0475      0.317      6.453      0.000         1.425     2.670\n",
      "BusyHour            0.0602      0.014      4.447      0.000         0.034     0.087\n",
      "MIT_Str_mean        0.6606      0.075      8.833      0.000         0.514     0.807\n",
      "==============================================================================\n",
      "Omnibus:                      112.440   Durbin-Watson:                   1.886\n",
      "Prob(Omnibus):                  0.000   Jarque-Bera (JB):              257.043\n",
      "Skew:                           0.116   Prob(JB):                     1.53e-56\n",
      "Kurtosis:                       4.217   Cond. No.                         73.9\n",
      "==============================================================================\n",
      "\n",
      "Warnings:\n",
      "[1] Standard Errors assume that the covariance matrix of the errors is correctly specified.\n"
     ]
    }
   ],
   "source": [
    "fo1 = 'np.log(Efficiency) ~ TS_mean + C(ClustID) + C(Season) + BusyHour + MIT_Str_mean'\n",
    "mod4 = JFK_FLL.fitModel(fo1)\n",
    "print mod4.summary()"
   ]
  },
  {
   "cell_type": "code",
   "execution_count": 82,
   "metadata": {
    "collapsed": false
   },
   "outputs": [
    {
     "name": "stdout",
     "output_type": "stream",
     "text": [
      "                            OLS Regression Results                            \n",
      "==============================================================================\n",
      "Dep. Variable:     np.log(Efficiency)   R-squared:                       0.686\n",
      "Model:                            OLS   Adj. R-squared:                  0.685\n",
      "Method:                 Least Squares   F-statistic:                     797.2\n",
      "Date:                Mon, 06 Mar 2017   Prob (F-statistic):               0.00\n",
      "Time:                        21:07:13   Log-Likelihood:                -2140.9\n",
      "No. Observations:                4021   AIC:                             4306.\n",
      "Df Residuals:                    4009   BIC:                             4381.\n",
      "Df Model:                          11                                         \n",
      "Covariance Type:            nonrobust                                         \n",
      "===================================================================================\n",
      "                      coef    std err          t      P>|t|      [95.0% Conf. Int.]\n",
      "-----------------------------------------------------------------------------------\n",
      "Intercept           1.8102      0.044     40.781      0.000         1.723     1.897\n",
      "C(ClustID)[T.0]    -1.3975      0.043    -32.822      0.000        -1.481    -1.314\n",
      "C(ClustID)[T.1]     0.3794      0.075      5.092      0.000         0.233     0.526\n",
      "C(ClustID)[T.2]     0.0944      0.047      2.023      0.043         0.003     0.186\n",
      "C(ClustID)[T.3]     0.5057      0.062      8.208      0.000         0.385     0.626\n",
      "C(ClustID)[T.4]     0.7473      0.091      8.209      0.000         0.569     0.926\n",
      "C(Season)[T.1]      0.0689      0.018      3.897      0.000         0.034     0.104\n",
      "C(Season)[T.2]      0.0197      0.022      0.898      0.369        -0.023     0.063\n",
      "C(Season)[T.3]      0.0092      0.019      0.486      0.627        -0.028     0.046\n",
      "TS_mean             2.0475      0.317      6.453      0.000         1.425     2.670\n",
      "BusyHour            0.0602      0.014      4.447      0.000         0.034     0.087\n",
      "MIT_Str_mean        0.6606      0.075      8.833      0.000         0.514     0.807\n",
      "==============================================================================\n",
      "Omnibus:                      112.440   Durbin-Watson:                   1.886\n",
      "Prob(Omnibus):                  0.000   Jarque-Bera (JB):              257.043\n",
      "Skew:                           0.116   Prob(JB):                     1.53e-56\n",
      "Kurtosis:                       4.217   Cond. No.                         73.9\n",
      "==============================================================================\n",
      "\n",
      "Warnings:\n",
      "[1] Standard Errors assume that the covariance matrix of the errors is correctly specified.\n"
     ]
    }
   ],
   "source": [
    "fo1 = 'np.log(Efficiency) ~ TS_mean + C(ClustID) + C(Season) + BusyHour + MIT_Str_sum'\n",
    "mod4_2 = JFK_FLL.fitModel(fo1)\n",
    "print mod4.summary()"
   ]
  },
  {
   "cell_type": "code",
   "execution_count": 33,
   "metadata": {
    "collapsed": false
   },
   "outputs": [],
   "source": [
    "JFK_LAX = OLS_Model('JFK','LAX',2013)"
   ]
  },
  {
   "cell_type": "code",
   "execution_count": 72,
   "metadata": {
    "collapsed": false
   },
   "outputs": [
    {
     "name": "stdout",
     "output_type": "stream",
     "text": [
      "                            OLS Regression Results                            \n",
      "==============================================================================\n",
      "Dep. Variable:     np.log(Efficiency)   R-squared:                       0.434\n",
      "Model:                            OLS   Adj. R-squared:                  0.433\n",
      "Method:                 Least Squares   F-statistic:                     720.5\n",
      "Date:                Mon, 06 Mar 2017   Prob (F-statistic):               0.00\n",
      "Time:                        21:04:36   Log-Likelihood:                -4968.3\n",
      "No. Observations:               10367   AIC:                             9961.\n",
      "Df Residuals:                   10355   BIC:                         1.005e+04\n",
      "Df Model:                          11                                         \n",
      "Covariance Type:            nonrobust                                         \n",
      "===================================================================================\n",
      "                      coef    std err          t      P>|t|      [95.0% Conf. Int.]\n",
      "-----------------------------------------------------------------------------------\n",
      "Intercept           0.9492      0.012     79.721      0.000         0.926     0.973\n",
      "C(ClustID)[T.0]    -0.4151      0.014    -29.645      0.000        -0.443    -0.388\n",
      "C(ClustID)[T.1]    -0.7712      0.012    -62.827      0.000        -0.795    -0.747\n",
      "C(ClustID)[T.2]    -0.3162      0.021    -14.842      0.000        -0.358    -0.274\n",
      "C(ClustID)[T.3]    -0.6101      0.011    -56.673      0.000        -0.631    -0.589\n",
      "C(Season)[T.1]      0.0297      0.011      2.597      0.009         0.007     0.052\n",
      "C(Season)[T.2]     -0.0422      0.013     -3.370      0.001        -0.067    -0.018\n",
      "C(Season)[T.3]     -0.0261      0.011     -2.341      0.019        -0.048    -0.004\n",
      "TS_mean             9.0637      0.545     16.640      0.000         7.996    10.131\n",
      "Rain_mean           0.3727      0.126      2.949      0.003         0.125     0.620\n",
      "BusyHour            0.2509      0.008     30.059      0.000         0.235     0.267\n",
      "MIT_Str_mean        3.1103      0.135     22.981      0.000         2.845     3.376\n",
      "==============================================================================\n",
      "Omnibus:                      633.096   Durbin-Watson:                   1.686\n",
      "Prob(Omnibus):                  0.000   Jarque-Bera (JB):             1741.154\n",
      "Skew:                           0.330   Prob(JB):                         0.00\n",
      "Kurtosis:                       4.896   Cond. No.                         196.\n",
      "==============================================================================\n",
      "\n",
      "Warnings:\n",
      "[1] Standard Errors assume that the covariance matrix of the errors is correctly specified.\n"
     ]
    }
   ],
   "source": [
    "fo1 = 'np.log(Efficiency) ~ TS_mean + Rain_mean + C(ClustID) + C(Season) + BusyHour + MIT_Str_mean'\n",
    "mod5 = JFK_LAX.fitModel(fo1)\n",
    "print mod6.summary()"
   ]
  },
  {
   "cell_type": "code",
   "execution_count": 83,
   "metadata": {
    "collapsed": false
   },
   "outputs": [
    {
     "name": "stdout",
     "output_type": "stream",
     "text": [
      "                            OLS Regression Results                            \n",
      "==============================================================================\n",
      "Dep. Variable:     np.log(Efficiency)   R-squared:                       0.434\n",
      "Model:                            OLS   Adj. R-squared:                  0.433\n",
      "Method:                 Least Squares   F-statistic:                     720.5\n",
      "Date:                Mon, 06 Mar 2017   Prob (F-statistic):               0.00\n",
      "Time:                        21:07:18   Log-Likelihood:                -4968.3\n",
      "No. Observations:               10367   AIC:                             9961.\n",
      "Df Residuals:                   10355   BIC:                         1.005e+04\n",
      "Df Model:                          11                                         \n",
      "Covariance Type:            nonrobust                                         \n",
      "===================================================================================\n",
      "                      coef    std err          t      P>|t|      [95.0% Conf. Int.]\n",
      "-----------------------------------------------------------------------------------\n",
      "Intercept           0.9492      0.012     79.721      0.000         0.926     0.973\n",
      "C(ClustID)[T.0]    -0.4151      0.014    -29.645      0.000        -0.443    -0.388\n",
      "C(ClustID)[T.1]    -0.7712      0.012    -62.827      0.000        -0.795    -0.747\n",
      "C(ClustID)[T.2]    -0.3162      0.021    -14.842      0.000        -0.358    -0.274\n",
      "C(ClustID)[T.3]    -0.6101      0.011    -56.673      0.000        -0.631    -0.589\n",
      "C(Season)[T.1]      0.0297      0.011      2.597      0.009         0.007     0.052\n",
      "C(Season)[T.2]     -0.0422      0.013     -3.370      0.001        -0.067    -0.018\n",
      "C(Season)[T.3]     -0.0261      0.011     -2.341      0.019        -0.048    -0.004\n",
      "TS_mean             9.0637      0.545     16.640      0.000         7.996    10.131\n",
      "Rain_mean           0.3727      0.126      2.949      0.003         0.125     0.620\n",
      "BusyHour            0.2509      0.008     30.059      0.000         0.235     0.267\n",
      "MIT_Str_mean        3.1103      0.135     22.981      0.000         2.845     3.376\n",
      "==============================================================================\n",
      "Omnibus:                      633.096   Durbin-Watson:                   1.686\n",
      "Prob(Omnibus):                  0.000   Jarque-Bera (JB):             1741.154\n",
      "Skew:                           0.330   Prob(JB):                         0.00\n",
      "Kurtosis:                       4.896   Cond. No.                         196.\n",
      "==============================================================================\n",
      "\n",
      "Warnings:\n",
      "[1] Standard Errors assume that the covariance matrix of the errors is correctly specified.\n"
     ]
    }
   ],
   "source": [
    "fo1 = 'np.log(Efficiency) ~ TS_mean + Rain_mean + C(ClustID) + C(Season) + BusyHour + MIT_Str_sum'\n",
    "mod5_2 = JFK_LAX.fitModel(fo1)\n",
    "print mod6.summary()"
   ]
  },
  {
   "cell_type": "code",
   "execution_count": 34,
   "metadata": {
    "collapsed": false
   },
   "outputs": [],
   "source": [
    "LAX_JFK = OLS_Model('LAX','JFK',2013)"
   ]
  },
  {
   "cell_type": "code",
   "execution_count": 73,
   "metadata": {
    "collapsed": false
   },
   "outputs": [
    {
     "name": "stdout",
     "output_type": "stream",
     "text": [
      "                            OLS Regression Results                            \n",
      "==============================================================================\n",
      "Dep. Variable:     np.log(Efficiency)   R-squared:                       0.434\n",
      "Model:                            OLS   Adj. R-squared:                  0.433\n",
      "Method:                 Least Squares   F-statistic:                     720.5\n",
      "Date:                Mon, 06 Mar 2017   Prob (F-statistic):               0.00\n",
      "Time:                        21:04:40   Log-Likelihood:                -4968.3\n",
      "No. Observations:               10367   AIC:                             9961.\n",
      "Df Residuals:                   10355   BIC:                         1.005e+04\n",
      "Df Model:                          11                                         \n",
      "Covariance Type:            nonrobust                                         \n",
      "===================================================================================\n",
      "                      coef    std err          t      P>|t|      [95.0% Conf. Int.]\n",
      "-----------------------------------------------------------------------------------\n",
      "Intercept           0.9492      0.012     79.721      0.000         0.926     0.973\n",
      "C(ClustID)[T.0]    -0.4151      0.014    -29.645      0.000        -0.443    -0.388\n",
      "C(ClustID)[T.1]    -0.7712      0.012    -62.827      0.000        -0.795    -0.747\n",
      "C(ClustID)[T.2]    -0.3162      0.021    -14.842      0.000        -0.358    -0.274\n",
      "C(ClustID)[T.3]    -0.6101      0.011    -56.673      0.000        -0.631    -0.589\n",
      "C(Season)[T.1]      0.0297      0.011      2.597      0.009         0.007     0.052\n",
      "C(Season)[T.2]     -0.0422      0.013     -3.370      0.001        -0.067    -0.018\n",
      "C(Season)[T.3]     -0.0261      0.011     -2.341      0.019        -0.048    -0.004\n",
      "TS_mean             9.0637      0.545     16.640      0.000         7.996    10.131\n",
      "Rain_mean           0.3727      0.126      2.949      0.003         0.125     0.620\n",
      "BusyHour            0.2509      0.008     30.059      0.000         0.235     0.267\n",
      "MIT_Str_mean        3.1103      0.135     22.981      0.000         2.845     3.376\n",
      "==============================================================================\n",
      "Omnibus:                      633.096   Durbin-Watson:                   1.686\n",
      "Prob(Omnibus):                  0.000   Jarque-Bera (JB):             1741.154\n",
      "Skew:                           0.330   Prob(JB):                         0.00\n",
      "Kurtosis:                       4.896   Cond. No.                         196.\n",
      "==============================================================================\n",
      "\n",
      "Warnings:\n",
      "[1] Standard Errors assume that the covariance matrix of the errors is correctly specified.\n"
     ]
    }
   ],
   "source": [
    "fo1 = 'np.log(Efficiency) ~ TS_mean + Rain_mean + C(ClustID) + C(Season) + BusyHour + MIT_Str_mean'\n",
    "mod6 = LAX_JFK.fitModel(fo1)\n",
    "print mod6.summary()"
   ]
  },
  {
   "cell_type": "code",
   "execution_count": 84,
   "metadata": {
    "collapsed": false
   },
   "outputs": [
    {
     "name": "stdout",
     "output_type": "stream",
     "text": [
      "                            OLS Regression Results                            \n",
      "==============================================================================\n",
      "Dep. Variable:     np.log(Efficiency)   R-squared:                       0.434\n",
      "Model:                            OLS   Adj. R-squared:                  0.433\n",
      "Method:                 Least Squares   F-statistic:                     720.5\n",
      "Date:                Mon, 06 Mar 2017   Prob (F-statistic):               0.00\n",
      "Time:                        21:07:24   Log-Likelihood:                -4968.3\n",
      "No. Observations:               10367   AIC:                             9961.\n",
      "Df Residuals:                   10355   BIC:                         1.005e+04\n",
      "Df Model:                          11                                         \n",
      "Covariance Type:            nonrobust                                         \n",
      "===================================================================================\n",
      "                      coef    std err          t      P>|t|      [95.0% Conf. Int.]\n",
      "-----------------------------------------------------------------------------------\n",
      "Intercept           0.9492      0.012     79.721      0.000         0.926     0.973\n",
      "C(ClustID)[T.0]    -0.4151      0.014    -29.645      0.000        -0.443    -0.388\n",
      "C(ClustID)[T.1]    -0.7712      0.012    -62.827      0.000        -0.795    -0.747\n",
      "C(ClustID)[T.2]    -0.3162      0.021    -14.842      0.000        -0.358    -0.274\n",
      "C(ClustID)[T.3]    -0.6101      0.011    -56.673      0.000        -0.631    -0.589\n",
      "C(Season)[T.1]      0.0297      0.011      2.597      0.009         0.007     0.052\n",
      "C(Season)[T.2]     -0.0422      0.013     -3.370      0.001        -0.067    -0.018\n",
      "C(Season)[T.3]     -0.0261      0.011     -2.341      0.019        -0.048    -0.004\n",
      "TS_mean             9.0637      0.545     16.640      0.000         7.996    10.131\n",
      "Rain_mean           0.3727      0.126      2.949      0.003         0.125     0.620\n",
      "BusyHour            0.2509      0.008     30.059      0.000         0.235     0.267\n",
      "MIT_Str_mean        3.1103      0.135     22.981      0.000         2.845     3.376\n",
      "==============================================================================\n",
      "Omnibus:                      633.096   Durbin-Watson:                   1.686\n",
      "Prob(Omnibus):                  0.000   Jarque-Bera (JB):             1741.154\n",
      "Skew:                           0.330   Prob(JB):                         0.00\n",
      "Kurtosis:                       4.896   Cond. No.                         196.\n",
      "==============================================================================\n",
      "\n",
      "Warnings:\n",
      "[1] Standard Errors assume that the covariance matrix of the errors is correctly specified.\n"
     ]
    }
   ],
   "source": [
    "fo1 = 'np.log(Efficiency) ~ TS_mean + Rain_mean + C(ClustID) + C(Season) + BusyHour + MIT_Str_sum'\n",
    "mod6_2 = LAX_JFK.fitModel(fo1)\n",
    "print mod6.summary()"
   ]
  },
  {
   "cell_type": "code",
   "execution_count": 49,
   "metadata": {
    "collapsed": true
   },
   "outputs": [],
   "source": [
    "ORD_IAH = OLS_Model('ORD','IAH',2013)"
   ]
  },
  {
   "cell_type": "code",
   "execution_count": 74,
   "metadata": {
    "collapsed": false
   },
   "outputs": [
    {
     "name": "stdout",
     "output_type": "stream",
     "text": [
      "                            OLS Regression Results                            \n",
      "==============================================================================\n",
      "Dep. Variable:     np.log(Efficiency)   R-squared:                       0.434\n",
      "Model:                            OLS   Adj. R-squared:                  0.433\n",
      "Method:                 Least Squares   F-statistic:                     720.5\n",
      "Date:                Mon, 06 Mar 2017   Prob (F-statistic):               0.00\n",
      "Time:                        21:04:46   Log-Likelihood:                -4968.3\n",
      "No. Observations:               10367   AIC:                             9961.\n",
      "Df Residuals:                   10355   BIC:                         1.005e+04\n",
      "Df Model:                          11                                         \n",
      "Covariance Type:            nonrobust                                         \n",
      "===================================================================================\n",
      "                      coef    std err          t      P>|t|      [95.0% Conf. Int.]\n",
      "-----------------------------------------------------------------------------------\n",
      "Intercept           0.9492      0.012     79.721      0.000         0.926     0.973\n",
      "C(ClustID)[T.0]    -0.4151      0.014    -29.645      0.000        -0.443    -0.388\n",
      "C(ClustID)[T.1]    -0.7712      0.012    -62.827      0.000        -0.795    -0.747\n",
      "C(ClustID)[T.2]    -0.3162      0.021    -14.842      0.000        -0.358    -0.274\n",
      "C(ClustID)[T.3]    -0.6101      0.011    -56.673      0.000        -0.631    -0.589\n",
      "C(Season)[T.1]      0.0297      0.011      2.597      0.009         0.007     0.052\n",
      "C(Season)[T.2]     -0.0422      0.013     -3.370      0.001        -0.067    -0.018\n",
      "C(Season)[T.3]     -0.0261      0.011     -2.341      0.019        -0.048    -0.004\n",
      "TS_mean             9.0637      0.545     16.640      0.000         7.996    10.131\n",
      "Rain_mean           0.3727      0.126      2.949      0.003         0.125     0.620\n",
      "BusyHour            0.2509      0.008     30.059      0.000         0.235     0.267\n",
      "MIT_Str_mean        3.1103      0.135     22.981      0.000         2.845     3.376\n",
      "==============================================================================\n",
      "Omnibus:                      633.096   Durbin-Watson:                   1.686\n",
      "Prob(Omnibus):                  0.000   Jarque-Bera (JB):             1741.154\n",
      "Skew:                           0.330   Prob(JB):                         0.00\n",
      "Kurtosis:                       4.896   Cond. No.                         196.\n",
      "==============================================================================\n",
      "\n",
      "Warnings:\n",
      "[1] Standard Errors assume that the covariance matrix of the errors is correctly specified.\n"
     ]
    }
   ],
   "source": [
    "fo1 = 'np.log(Efficiency) ~ TS_mean + Rain_mean + C(ClustID) + C(Season) + BusyHour + MIT_Str_mean'\n",
    "mod7 = ORD_IAH.fitModel(fo1)\n",
    "print mod6.summary()"
   ]
  },
  {
   "cell_type": "code",
   "execution_count": 85,
   "metadata": {
    "collapsed": false
   },
   "outputs": [
    {
     "name": "stdout",
     "output_type": "stream",
     "text": [
      "                            OLS Regression Results                            \n",
      "==============================================================================\n",
      "Dep. Variable:     np.log(Efficiency)   R-squared:                       0.434\n",
      "Model:                            OLS   Adj. R-squared:                  0.433\n",
      "Method:                 Least Squares   F-statistic:                     720.5\n",
      "Date:                Mon, 06 Mar 2017   Prob (F-statistic):               0.00\n",
      "Time:                        21:07:29   Log-Likelihood:                -4968.3\n",
      "No. Observations:               10367   AIC:                             9961.\n",
      "Df Residuals:                   10355   BIC:                         1.005e+04\n",
      "Df Model:                          11                                         \n",
      "Covariance Type:            nonrobust                                         \n",
      "===================================================================================\n",
      "                      coef    std err          t      P>|t|      [95.0% Conf. Int.]\n",
      "-----------------------------------------------------------------------------------\n",
      "Intercept           0.9492      0.012     79.721      0.000         0.926     0.973\n",
      "C(ClustID)[T.0]    -0.4151      0.014    -29.645      0.000        -0.443    -0.388\n",
      "C(ClustID)[T.1]    -0.7712      0.012    -62.827      0.000        -0.795    -0.747\n",
      "C(ClustID)[T.2]    -0.3162      0.021    -14.842      0.000        -0.358    -0.274\n",
      "C(ClustID)[T.3]    -0.6101      0.011    -56.673      0.000        -0.631    -0.589\n",
      "C(Season)[T.1]      0.0297      0.011      2.597      0.009         0.007     0.052\n",
      "C(Season)[T.2]     -0.0422      0.013     -3.370      0.001        -0.067    -0.018\n",
      "C(Season)[T.3]     -0.0261      0.011     -2.341      0.019        -0.048    -0.004\n",
      "TS_mean             9.0637      0.545     16.640      0.000         7.996    10.131\n",
      "Rain_mean           0.3727      0.126      2.949      0.003         0.125     0.620\n",
      "BusyHour            0.2509      0.008     30.059      0.000         0.235     0.267\n",
      "MIT_Str_mean        3.1103      0.135     22.981      0.000         2.845     3.376\n",
      "==============================================================================\n",
      "Omnibus:                      633.096   Durbin-Watson:                   1.686\n",
      "Prob(Omnibus):                  0.000   Jarque-Bera (JB):             1741.154\n",
      "Skew:                           0.330   Prob(JB):                         0.00\n",
      "Kurtosis:                       4.896   Cond. No.                         196.\n",
      "==============================================================================\n",
      "\n",
      "Warnings:\n",
      "[1] Standard Errors assume that the covariance matrix of the errors is correctly specified.\n"
     ]
    }
   ],
   "source": [
    "fo1 = 'np.log(Efficiency) ~ TS_mean + Rain_mean + C(ClustID) + C(Season) + BusyHour + MIT_Str_sum'\n",
    "mod7_2 = ORD_IAH.fitModel(fo1)\n",
    "print mod6.summary()"
   ]
  },
  {
   "cell_type": "code",
   "execution_count": 87,
   "metadata": {
    "collapsed": false
   },
   "outputs": [],
   "source": [
    "Combined_Results = summary_col([mod1,mod2,mod3,mod4,mod5,mod6,mod7,\\\n",
    "                                mod1_2,mod2_2,mod3_2,mod4_2,mod5_2,mod6_2,mod7_2],stars=True,float_format='%0.2f',\n",
    "                  model_names=['IAH BOS_avg','BOS IAH_avg','FLL JFK_avg', 'JFK FLL_avg',\\\n",
    "                               'JFK LAX_avg', 'LAX FLL_avg', 'ORD IAH_avg',\\\n",
    "                               'IAH BOS_sum','BOS IAH_sum','FLL JFK_sum', 'JFK FLL_sum',\\\n",
    "                               'JFK LAX_sum', 'LAX FLL_sum', 'ORD IAH_sum'],\n",
    "                  info_dict={'N':lambda x: \"{0:d}\".format(int(x.nobs)),\n",
    "                             'R2':lambda x: \"{:.2f}\".format(x.rsquared)})\n",
    "# .as_latex()"
   ]
  },
  {
   "cell_type": "code",
   "execution_count": 91,
   "metadata": {
    "collapsed": false
   },
   "outputs": [
    {
     "name": "stdout",
     "output_type": "stream",
     "text": [
      "<table class=\"simpletable\">\n",
      "<tr>\n",
      "         <td></td>         <th>IAH BOS_avg</th> <th>BOS IAH_avg</th> <th>FLL JFK_avg</th> <th>JFK FLL_avg</th> <th>JFK LAX_avg</th> <th>LAX FLL_avg</th> <th>ORD IAH_avg</th> <th>IAH BOS_sum</th> <th>BOS IAH_sum</th> <th>FLL JFK_sum</th> <th>JFK FLL_sum</th> <th>JFK LAX_sum</th> <th>LAX FLL_sum</th> <th>ORD IAH_sum</th>\n",
      "</tr>\n",
      "<tr>\n",
      "  <th>BusyHour</th>             <td></td>         <td>0.06***</td>     <td>0.26***</td>     <td>0.06***</td>     <td>0.04***</td>     <td>0.25***</td>     <td>0.16***</td>        <td></td>         <td>0.06***</td>     <td>0.27***</td>     <td>0.06***</td>     <td>0.04***</td>     <td>0.26***</td>     <td>0.16***</td>  \n",
      "</tr>\n",
      "<tr>\n",
      "  <th></th>                     <td></td>         <td>(0.02)</td>      <td>(0.02)</td>      <td>(0.01)</td>      <td>(0.01)</td>      <td>(0.01)</td>      <td>(0.01)</td>         <td></td>         <td>(0.02)</td>      <td>(0.02)</td>      <td>(0.01)</td>      <td>(0.01)</td>      <td>(0.01)</td>      <td>(0.01)</td>   \n",
      "</tr>\n",
      "<tr>\n",
      "  <th>C(ClustID)[T.0]</th>  <td>-0.62***</td>    <td>-1.15***</td>    <td>-1.76***</td>    <td>-1.40***</td>    <td>-1.27***</td>    <td>-0.42***</td>    <td>-1.32***</td>    <td>-0.62***</td>    <td>-1.14***</td>    <td>-1.75***</td>    <td>-1.39***</td>    <td>-1.27***</td>    <td>-0.42***</td>    <td>-1.32***</td>  \n",
      "</tr>\n",
      "<tr>\n",
      "  <th></th>                  <td>(0.03)</td>      <td>(0.03)</td>      <td>(0.05)</td>      <td>(0.04)</td>      <td>(0.01)</td>      <td>(0.01)</td>      <td>(0.02)</td>      <td>(0.03)</td>      <td>(0.03)</td>      <td>(0.05)</td>      <td>(0.04)</td>      <td>(0.01)</td>      <td>(0.01)</td>      <td>(0.02)</td>   \n",
      "</tr>\n",
      "<tr>\n",
      "  <th>C(ClustID)[T.1]</th>  <td>-0.14***</td>     <td>0.22***</td>    <td>-0.46***</td>     <td>0.38***</td>     <td>0.46***</td>    <td>-0.77***</td>     <td>0.07***</td>    <td>-0.14***</td>     <td>0.23***</td>    <td>-0.45***</td>     <td>0.40***</td>     <td>0.46***</td>    <td>-0.77***</td>     <td>0.08***</td>  \n",
      "</tr>\n",
      "<tr>\n",
      "  <th></th>                  <td>(0.03)</td>      <td>(0.05)</td>      <td>(0.06)</td>      <td>(0.07)</td>      <td>(0.03)</td>      <td>(0.01)</td>      <td>(0.02)</td>      <td>(0.03)</td>      <td>(0.05)</td>      <td>(0.06)</td>      <td>(0.07)</td>      <td>(0.03)</td>      <td>(0.01)</td>      <td>(0.02)</td>   \n",
      "</tr>\n",
      "<tr>\n",
      "  <th>C(ClustID)[T.2]</th>  <td>-0.91***</td>    <td>-0.83***</td>    <td>-0.63***</td>     <td>0.09**</td>     <td>-0.23***</td>    <td>-0.32***</td>     <td>-0.11*</td>     <td>-0.91***</td>    <td>-0.82***</td>    <td>-0.64***</td>     <td>0.10**</td>     <td>-0.23***</td>    <td>-0.32***</td>     <td>-0.11*</td>   \n",
      "</tr>\n",
      "<tr>\n",
      "  <th></th>                  <td>(0.03)</td>      <td>(0.03)</td>      <td>(0.09)</td>      <td>(0.05)</td>      <td>(0.01)</td>      <td>(0.02)</td>      <td>(0.06)</td>      <td>(0.03)</td>      <td>(0.03)</td>      <td>(0.09)</td>      <td>(0.05)</td>      <td>(0.01)</td>      <td>(0.02)</td>      <td>(0.06)</td>   \n",
      "</tr>\n",
      "<tr>\n",
      "  <th>C(ClustID)[T.3]</th>  <td>-1.55***</td>    <td>-1.17***</td>        <td></td>         <td>0.51***</td>    <td>-0.19***</td>    <td>-0.61***</td>    <td>-0.47***</td>    <td>-1.55***</td>    <td>-1.17***</td>        <td></td>         <td>0.51***</td>    <td>-0.19***</td>    <td>-0.61***</td>    <td>-0.47***</td>  \n",
      "</tr>\n",
      "<tr>\n",
      "  <th></th>                  <td>(0.06)</td>      <td>(0.05)</td>         <td></td>         <td>(0.06)</td>      <td>(0.02)</td>      <td>(0.01)</td>      <td>(0.07)</td>      <td>(0.06)</td>      <td>(0.05)</td>         <td></td>         <td>(0.06)</td>      <td>(0.02)</td>      <td>(0.01)</td>      <td>(0.07)</td>   \n",
      "</tr>\n",
      "<tr>\n",
      "  <th>C(ClustID)[T.4]</th>  <td>-0.84***</td>      <td>0.05</td>          <td></td>         <td>0.75***</td>    <td>-0.83***</td>        <td></td>            <td></td>        <td>-0.84***</td>      <td>0.05</td>          <td></td>         <td>0.76***</td>    <td>-0.83***</td>        <td></td>            <td></td>      \n",
      "</tr>\n",
      "<tr>\n",
      "  <th></th>                  <td>(0.06)</td>      <td>(0.07)</td>         <td></td>         <td>(0.09)</td>      <td>(0.02)</td>         <td></td>            <td></td>         <td>(0.06)</td>      <td>(0.07)</td>         <td></td>         <td>(0.09)</td>      <td>(0.02)</td>         <td></td>            <td></td>      \n",
      "</tr>\n",
      "<tr>\n",
      "  <th>C(Season)[T.1]</th>     <td>0.00</td>        <td>0.03</td>       <td>0.05***</td>     <td>0.07***</td>      <td>0.00</td>       <td>0.03***</td>     <td>0.03**</td>       <td>0.01</td>        <td>0.03</td>       <td>0.06***</td>     <td>0.07***</td>      <td>0.00</td>       <td>0.03***</td>     <td>0.03**</td>   \n",
      "</tr>\n",
      "<tr>\n",
      "  <th></th>                  <td>(0.02)</td>      <td>(0.02)</td>      <td>(0.02)</td>      <td>(0.02)</td>      <td>(0.01)</td>      <td>(0.01)</td>      <td>(0.01)</td>      <td>(0.02)</td>      <td>(0.02)</td>      <td>(0.02)</td>      <td>(0.02)</td>      <td>(0.01)</td>      <td>(0.01)</td>      <td>(0.01)</td>   \n",
      "</tr>\n",
      "<tr>\n",
      "  <th>C(Season)[T.2]</th>     <td>0.03*</td>       <td>-0.03</td>      <td>0.06**</td>       <td>0.02</td>       <td>-0.03**</td>    <td>-0.04***</td>      <td>-0.01</td>       <td>0.03*</td>       <td>-0.04</td>      <td>0.06**</td>       <td>0.02</td>       <td>-0.03**</td>    <td>-0.04***</td>      <td>-0.01</td>   \n",
      "</tr>\n",
      "<tr>\n",
      "  <th></th>                  <td>(0.02)</td>      <td>(0.03)</td>      <td>(0.02)</td>      <td>(0.02)</td>      <td>(0.01)</td>      <td>(0.01)</td>      <td>(0.01)</td>      <td>(0.02)</td>      <td>(0.03)</td>      <td>(0.02)</td>      <td>(0.02)</td>      <td>(0.01)</td>      <td>(0.01)</td>      <td>(0.01)</td>   \n",
      "</tr>\n",
      "<tr>\n",
      "  <th>C(Season)[T.3]</th>     <td>0.00</td>        <td>0.02</td>        <td>0.01</td>        <td>0.01</td>        <td>0.02</td>       <td>-0.03**</td>      <td>0.01</td>        <td>0.00</td>        <td>0.02</td>        <td>0.01</td>        <td>0.01</td>        <td>0.02</td>       <td>-0.03**</td>      <td>0.01</td>    \n",
      "</tr>\n",
      "<tr>\n",
      "  <th></th>                  <td>(0.02)</td>      <td>(0.02)</td>      <td>(0.02)</td>      <td>(0.02)</td>      <td>(0.01)</td>      <td>(0.01)</td>      <td>(0.01)</td>      <td>(0.02)</td>      <td>(0.02)</td>      <td>(0.02)</td>      <td>(0.02)</td>      <td>(0.01)</td>      <td>(0.01)</td>      <td>(0.01)</td>   \n",
      "</tr>\n",
      "<tr>\n",
      "  <th>Intercept</th>         <td>1.88***</td>     <td>1.53***</td>     <td>2.30***</td>     <td>1.81***</td>     <td>1.03***</td>     <td>0.95***</td>     <td>2.16***</td>     <td>1.89***</td>     <td>1.53***</td>     <td>2.30***</td>     <td>1.80***</td>     <td>1.03***</td>     <td>0.95***</td>     <td>2.15***</td>  \n",
      "</tr>\n",
      "<tr>\n",
      "  <th></th>                  <td>(0.03)</td>      <td>(0.03)</td>      <td>(0.06)</td>      <td>(0.04)</td>      <td>(0.01)</td>      <td>(0.01)</td>      <td>(0.02)</td>      <td>(0.03)</td>      <td>(0.03)</td>      <td>(0.06)</td>      <td>(0.04)</td>      <td>(0.01)</td>      <td>(0.01)</td>      <td>(0.02)</td>   \n",
      "</tr>\n",
      "<tr>\n",
      "  <th>MIT_Str_mean</th>      <td>1.07***</td>      <td>0.15</td>       <td>0.80***</td>     <td>0.66***</td>     <td>0.87***</td>     <td>3.11***</td>     <td>1.03***</td>        <td></td>            <td></td>            <td></td>            <td></td>            <td></td>            <td></td>            <td></td>      \n",
      "</tr>\n",
      "<tr>\n",
      "  <th></th>                  <td>(0.26)</td>      <td>(0.17)</td>      <td>(0.10)</td>      <td>(0.07)</td>      <td>(0.30)</td>      <td>(0.14)</td>      <td>(0.26)</td>         <td></td>            <td></td>            <td></td>            <td></td>            <td></td>            <td></td>            <td></td>      \n",
      "</tr>\n",
      "<tr>\n",
      "  <th>MIT_Str_sum</th>          <td></td>            <td></td>            <td></td>            <td></td>            <td></td>            <td></td>            <td></td>         <td>0.29**</td>      <td>0.24***</td>     <td>0.37***</td>     <td>0.56***</td>     <td>0.52**</td>      <td>1.60***</td>     <td>0.61***</td>  \n",
      "</tr>\n",
      "<tr>\n",
      "  <th></th>                     <td></td>            <td></td>            <td></td>            <td></td>            <td></td>            <td></td>            <td></td>         <td>(0.14)</td>      <td>(0.09)</td>      <td>(0.05)</td>      <td>(0.06)</td>      <td>(0.25)</td>      <td>(0.07)</td>      <td>(0.14)</td>   \n",
      "</tr>\n",
      "<tr>\n",
      "  <th>Rain_mean</th>            <td></td>            <td></td>            <td></td>            <td></td>         <td>0.54***</td>     <td>0.37***</td>     <td>0.49***</td>        <td></td>            <td></td>            <td></td>            <td></td>         <td>0.54***</td>     <td>0.43***</td>     <td>0.47***</td>  \n",
      "</tr>\n",
      "<tr>\n",
      "  <th></th>                     <td></td>            <td></td>            <td></td>            <td></td>         <td>(0.16)</td>      <td>(0.13)</td>      <td>(0.13)</td>         <td></td>            <td></td>            <td></td>            <td></td>         <td>(0.16)</td>      <td>(0.13)</td>      <td>(0.13)</td>   \n",
      "</tr>\n",
      "<tr>\n",
      "  <th>TS_mean</th>           <td>4.05***</td>     <td>3.97***</td>     <td>1.15***</td>     <td>2.05***</td>     <td>9.67***</td>     <td>9.06***</td>     <td>1.67***</td>     <td>4.36***</td>     <td>3.72***</td>     <td>1.19***</td>     <td>2.04***</td>     <td>9.71***</td>     <td>9.03***</td>     <td>1.70***</td>  \n",
      "</tr>\n",
      "<tr>\n",
      "  <th></th>                  <td>(0.48)</td>      <td>(0.75)</td>      <td>(0.35)</td>      <td>(0.32)</td>      <td>(0.54)</td>      <td>(0.54)</td>      <td>(0.38)</td>      <td>(0.48)</td>      <td>(0.75)</td>      <td>(0.35)</td>      <td>(0.32)</td>      <td>(0.54)</td>      <td>(0.55)</td>      <td>(0.38)</td>   \n",
      "</tr>\n",
      "<tr>\n",
      "  <th>R2</th>                 <td>0.71</td>        <td>0.66</td>        <td>0.58</td>        <td>0.69</td>        <td>0.68</td>        <td>0.43</td>        <td>0.69</td>        <td>0.70</td>        <td>0.66</td>        <td>0.57</td>        <td>0.69</td>        <td>0.68</td>        <td>0.43</td>        <td>0.69</td>    \n",
      "</tr>\n",
      "<tr>\n",
      "  <th>N</th>                  <td>1664</td>        <td>1732</td>        <td>3988</td>        <td>4021</td>        <td>10637</td>       <td>10367</td>       <td>6024</td>        <td>1664</td>        <td>1732</td>        <td>3988</td>        <td>4021</td>        <td>10637</td>       <td>10367</td>       <td>6024</td>    \n",
      "</tr>\n",
      "</table>\n"
     ]
    }
   ],
   "source": [
    "print Combined_Results.as_html()"
   ]
  },
  {
   "cell_type": "code",
   "execution_count": 90,
   "metadata": {
    "collapsed": false
   },
   "outputs": [
    {
     "name": "stdout",
     "output_type": "stream",
     "text": [
      "\\begin{table}\n",
      "\\caption{}\n",
      "\\begin{center}\n",
      "\\begin{tabular}{lcccccccccccccc}\n",
      "\\hline\n",
      "                & IAH BOS_avg & BOS IAH_avg & FLL JFK_avg & JFK FLL_avg & JFK LAX_avg & LAX FLL_avg & ORD IAH_avg & IAH BOS_sum & BOS IAH_sum & FLL JFK_sum & JFK FLL_sum & JFK LAX_sum & LAX FLL_sum & ORD IAH_sum  \\\\\n",
      "\\hline\n",
      "\\hline\n",
      "\\end{tabular}\n",
      "\\begin{tabular}{lllllllllllllll}\n",
      "BusyHour        &             & 0.06***     & 0.26***     & 0.06***     & 0.04***     & 0.25***     & 0.16***     &             & 0.06***     & 0.27***     & 0.06***     & 0.04***     & 0.26***     & 0.16***      \\\\\n",
      "                &             & (0.02)      & (0.02)      & (0.01)      & (0.01)      & (0.01)      & (0.01)      &             & (0.02)      & (0.02)      & (0.01)      & (0.01)      & (0.01)      & (0.01)       \\\\\n",
      "C(ClustID)[T.0] & -0.62***    & -1.15***    & -1.76***    & -1.40***    & -1.27***    & -0.42***    & -1.32***    & -0.62***    & -1.14***    & -1.75***    & -1.39***    & -1.27***    & -0.42***    & -1.32***     \\\\\n",
      "                & (0.03)      & (0.03)      & (0.05)      & (0.04)      & (0.01)      & (0.01)      & (0.02)      & (0.03)      & (0.03)      & (0.05)      & (0.04)      & (0.01)      & (0.01)      & (0.02)       \\\\\n",
      "C(ClustID)[T.1] & -0.14***    & 0.22***     & -0.46***    & 0.38***     & 0.46***     & -0.77***    & 0.07***     & -0.14***    & 0.23***     & -0.45***    & 0.40***     & 0.46***     & -0.77***    & 0.08***      \\\\\n",
      "                & (0.03)      & (0.05)      & (0.06)      & (0.07)      & (0.03)      & (0.01)      & (0.02)      & (0.03)      & (0.05)      & (0.06)      & (0.07)      & (0.03)      & (0.01)      & (0.02)       \\\\\n",
      "C(ClustID)[T.2] & -0.91***    & -0.83***    & -0.63***    & 0.09**      & -0.23***    & -0.32***    & -0.11*      & -0.91***    & -0.82***    & -0.64***    & 0.10**      & -0.23***    & -0.32***    & -0.11*       \\\\\n",
      "                & (0.03)      & (0.03)      & (0.09)      & (0.05)      & (0.01)      & (0.02)      & (0.06)      & (0.03)      & (0.03)      & (0.09)      & (0.05)      & (0.01)      & (0.02)      & (0.06)       \\\\\n",
      "C(ClustID)[T.3] & -1.55***    & -1.17***    &             & 0.51***     & -0.19***    & -0.61***    & -0.47***    & -1.55***    & -1.17***    &             & 0.51***     & -0.19***    & -0.61***    & -0.47***     \\\\\n",
      "                & (0.06)      & (0.05)      &             & (0.06)      & (0.02)      & (0.01)      & (0.07)      & (0.06)      & (0.05)      &             & (0.06)      & (0.02)      & (0.01)      & (0.07)       \\\\\n",
      "C(ClustID)[T.4] & -0.84***    & 0.05        &             & 0.75***     & -0.83***    &             &             & -0.84***    & 0.05        &             & 0.76***     & -0.83***    &             &              \\\\\n",
      "                & (0.06)      & (0.07)      &             & (0.09)      & (0.02)      &             &             & (0.06)      & (0.07)      &             & (0.09)      & (0.02)      &             &              \\\\\n",
      "C(Season)[T.1]  & 0.00        & 0.03        & 0.05***     & 0.07***     & 0.00        & 0.03***     & 0.03**      & 0.01        & 0.03        & 0.06***     & 0.07***     & 0.00        & 0.03***     & 0.03**       \\\\\n",
      "                & (0.02)      & (0.02)      & (0.02)      & (0.02)      & (0.01)      & (0.01)      & (0.01)      & (0.02)      & (0.02)      & (0.02)      & (0.02)      & (0.01)      & (0.01)      & (0.01)       \\\\\n",
      "C(Season)[T.2]  & 0.03*       & -0.03       & 0.06**      & 0.02        & -0.03**     & -0.04***    & -0.01       & 0.03*       & -0.04       & 0.06**      & 0.02        & -0.03**     & -0.04***    & -0.01        \\\\\n",
      "                & (0.02)      & (0.03)      & (0.02)      & (0.02)      & (0.01)      & (0.01)      & (0.01)      & (0.02)      & (0.03)      & (0.02)      & (0.02)      & (0.01)      & (0.01)      & (0.01)       \\\\\n",
      "C(Season)[T.3]  & 0.00        & 0.02        & 0.01        & 0.01        & 0.02        & -0.03**     & 0.01        & 0.00        & 0.02        & 0.01        & 0.01        & 0.02        & -0.03**     & 0.01         \\\\\n",
      "                & (0.02)      & (0.02)      & (0.02)      & (0.02)      & (0.01)      & (0.01)      & (0.01)      & (0.02)      & (0.02)      & (0.02)      & (0.02)      & (0.01)      & (0.01)      & (0.01)       \\\\\n",
      "Intercept       & 1.88***     & 1.53***     & 2.30***     & 1.81***     & 1.03***     & 0.95***     & 2.16***     & 1.89***     & 1.53***     & 2.30***     & 1.80***     & 1.03***     & 0.95***     & 2.15***      \\\\\n",
      "                & (0.03)      & (0.03)      & (0.06)      & (0.04)      & (0.01)      & (0.01)      & (0.02)      & (0.03)      & (0.03)      & (0.06)      & (0.04)      & (0.01)      & (0.01)      & (0.02)       \\\\\n",
      "MIT_Str_mean    & 1.07***     & 0.15        & 0.80***     & 0.66***     & 0.87***     & 3.11***     & 1.03***     &             &             &             &             &             &             &              \\\\\n",
      "                & (0.26)      & (0.17)      & (0.10)      & (0.07)      & (0.30)      & (0.14)      & (0.26)      &             &             &             &             &             &             &              \\\\\n",
      "MIT_Str_sum     &             &             &             &             &             &             &             & 0.29**      & 0.24***     & 0.37***     & 0.56***     & 0.52**      & 1.60***     & 0.61***      \\\\\n",
      "                &             &             &             &             &             &             &             & (0.14)      & (0.09)      & (0.05)      & (0.06)      & (0.25)      & (0.07)      & (0.14)       \\\\\n",
      "Rain_mean       &             &             &             &             & 0.54***     & 0.37***     & 0.49***     &             &             &             &             & 0.54***     & 0.43***     & 0.47***      \\\\\n",
      "                &             &             &             &             & (0.16)      & (0.13)      & (0.13)      &             &             &             &             & (0.16)      & (0.13)      & (0.13)       \\\\\n",
      "TS_mean         & 4.05***     & 3.97***     & 1.15***     & 2.05***     & 9.67***     & 9.06***     & 1.67***     & 4.36***     & 3.72***     & 1.19***     & 2.04***     & 9.71***     & 9.03***     & 1.70***      \\\\\n",
      "                & (0.48)      & (0.75)      & (0.35)      & (0.32)      & (0.54)      & (0.54)      & (0.38)      & (0.48)      & (0.75)      & (0.35)      & (0.32)      & (0.54)      & (0.55)      & (0.38)       \\\\\n",
      "R2              & 0.71        & 0.66        & 0.58        & 0.69        & 0.68        & 0.43        & 0.69        & 0.70        & 0.66        & 0.57        & 0.69        & 0.68        & 0.43        & 0.69         \\\\\n",
      "N               & 1664        & 1732        & 3988        & 4021        & 10637       & 10367       & 6024        & 1664        & 1732        & 3988        & 4021        & 10637       & 10367       & 6024         \\\\\n",
      "\\hline\n",
      "\\end{tabular}\n",
      "\\end{center}\n",
      "\\end{table}\n"
     ]
    }
   ],
   "source": [
    "print Combined_Results.as_latex()"
   ]
  },
  {
   "cell_type": "code",
   "execution_count": 54,
   "metadata": {
    "collapsed": false
   },
   "outputs": [],
   "source": [
    "(Combined_Results.tables[0]).to_csv(os.getcwd() + '/MNL/Estimation/All_OLS.csv')"
   ]
  },
  {
   "cell_type": "code",
   "execution_count": 294,
   "metadata": {
    "collapsed": false
   },
   "outputs": [],
   "source": [
    "for Ori in ['IAH','BOS','FLL','JFK','LAX']:\n",
    "    for Des in ['IAH','BOS','FLL','JFK','LAX']:\n",
    "        try:\n",
    "            exec \"\"\"pickle.dump(%s_%s, open(os.getcwd() + '/MNL/Estimation/OLS_' + '%s' + '_' + '%s', 'w'))\"\"\"%(Ori, Des, Ori, Des)\n",
    "        except:\n",
    "            pass"
   ]
  },
  {
   "cell_type": "markdown",
   "metadata": {},
   "source": [
    "## Prediction Based on MNL and OLS"
   ]
  },
  {
   "cell_type": "code",
   "execution_count": 7,
   "metadata": {
    "collapsed": true
   },
   "outputs": [],
   "source": [
    "for Ori in ['IAH','BOS','FLL','JFK','LAX']:\n",
    "    for Des in ['IAH','BOS','FLL','JFK','LAX']:\n",
    "        try:\n",
    "            exec \"\"\"%s_%s = pickle.load(open(os.getcwd() + '/MNL/Estimation/OLS_' + '%s' + '_' + '%s.p', 'r'))\"\"\"%(Ori, Des, Ori, Des)\n",
    "        except:\n",
    "            pass"
   ]
  },
  {
   "cell_type": "code",
   "execution_count": 65,
   "metadata": {
    "collapsed": true
   },
   "outputs": [],
   "source": [
    "def Factor_Contribution_Predictor(Ori, Des, Factor):\n",
    "    exec \"\"\"MNL_DATA = %s_%s.MNL_Data\"\"\"%(Ori, Des)\n",
    "    \n",
    "    Fname_p = 'MNL_' + Ori + '_' + Des + '.p'\n",
    "    MNL_Model = pickle.load(open(os.getcwd() + '/MNL/Estimation/' + Fname_p))\n",
    "    \n",
    "    # Construct a counter factual on MNL data\n",
    "    MNL_DATA_No_Wx = MNL_DATA.copy()\n",
    "    if Factor == 'convection':\n",
    "        MNL_DATA_No_Wx.ix[:,2:18] = 0\n",
    "    elif Factor == 'wind':\n",
    "        MNL_DATA_No_Wx['Std_Wind_Dist'] = MNL_DATA_No_Wx['GC_Dist'] / 1000\n",
    "        # 0\n",
    "    elif Factor == 'MIT':\n",
    "        MNL_DATA_No_Wx['MIT_Str'] = 0\n",
    "#     elif Factor == 'all':\n",
    "#         MNL_DATA_No_Wx.ix[:,2:18] = 0\n",
    "#         MNL_DATA_No_Wx['MIT_Str'] = 0\n",
    "#         MNL_DATA_No_Wx.ix[:,'Std_Wind_Dist'] = MNL_DATA_No_Wx.ix[:,'GC_Dist'] / 1000\n",
    "        \n",
    "    else:\n",
    "        raise ValueError('Factor can only be convection, wind, MIT')\n",
    "    \n",
    "    # Prediction using MNL logit model\n",
    "    MNL_DATA['Prob_With_Factor'] = MNL_Model.predict(MNL_DATA)\n",
    "    MNL_DATA['Prob_No_Factor'] = MNL_Model.predict(MNL_DATA_No_Wx)\n",
    "    \n",
    "    MNL_Pred = MNL_DATA.groupby(['FID_x','Alt_id'])[['Prob_With_Factor','Prob_No_Factor']].mean().reset_index()\n",
    "    MNL_Pred.ix[MNL_Pred.FID_x == 99999999,'Alt_id'] = -1\n",
    "    MNL_Pred['OD_ClustID'] = Ori + '_' + Des + '_' + MNL_Pred.Alt_id.map(str)\n",
    "\n",
    "    # Prediction using OLS\n",
    "    exec \"\"\"Mod2rslt = %s_%s.LR_Data1.ix[:,['FID_Member','Efficiency','OD_Clust','ClustID']]\"\"\"%(Ori, Des)\n",
    "    exec \"\"\"LR_No_Factor = %s_%s.LR_Data1.copy()\"\"\"%(Ori, Des)\n",
    "    if Factor == 'convection':\n",
    "        LR_No_Factor.ix[:,5:21] = 0\n",
    "    elif Factor == 'MIT':\n",
    "        LR_No_Factor['MIT_Str'] = 0\n",
    "    else:\n",
    "        pass\n",
    "    exec \"\"\"Mod2rslt['Pred_With_Factor'] = %s_%s.mod.predict(exog=%s_%s.LR_Data1)\"\"\"%(Ori, Des, Ori, Des)\n",
    "    exec \"\"\"Mod2rslt['Pred_No_Factor'] = %s_%s.mod.predict(exog=LR_No_Factor)\"\"\"%(Ori, Des)\n",
    "    \n",
    "    Mod2rslt = Mod2rslt.merge(MNL_Pred, left_on='OD_Clust', right_on='OD_ClustID', how='left')\n",
    "    Mod2rslt['Pred_Factor_weight'] = Mod2rslt.Pred_With_Factor * Mod2rslt.Prob_With_Factor\n",
    "    Mod2rslt['Pred_No_Factor_weight'] = Mod2rslt.Pred_No_Factor * Mod2rslt.Prob_No_Factor\n",
    "\n",
    "    FactorContribution = Mod2rslt.groupby(['OD_Clust'])[['Pred_Factor_weight','Pred_No_Factor_weight']].mean().reset_index()\n",
    "    Avg_Ineff = np.array(FactorContribution[['Pred_Factor_weight','Pred_No_Factor_weight']].sum())\n",
    "#     Avg_Ineff = {}\n",
    "#     Avg_Ineff[Ori + '_' + Des] = np.array(FactorContribution[['Pred_Factor_weight','Pred_No_Factor_weight']].sum().reset_index())\n",
    "    \n",
    "    return MNL_Pred[['OD_ClustID','Prob_With_Factor','Prob_No_Factor']], Mod2rslt, FactorContribution, Avg_Ineff"
   ]
  },
  {
   "cell_type": "code",
   "execution_count": 66,
   "metadata": {
    "collapsed": false
   },
   "outputs": [],
   "source": [
    "b = {}\n",
    "bb = {}\n",
    "bbb = {}\n",
    "for Ori in ['IAH','BOS','FLL','JFK','LAX']:\n",
    "    for Des in ['IAH','BOS','FLL','JFK','LAX']:\n",
    "        try:\n",
    "            _,_,_,a = Factor_Contribution_Predictor(Ori,Des, 'convection')\n",
    "            _,_,_,aa = Factor_Contribution_Predictor(Ori,Des, 'wind')\n",
    "            _,_,_,aaa = Factor_Contribution_Predictor(Ori,Des, 'MIT')\n",
    "            b[Ori + '_' + Des] = a\n",
    "            bb[Ori + '_' + Des] = aa\n",
    "            bbb[Ori + '_' + Des] = aaa\n",
    "        except:\n",
    "            pass\n",
    "Convection_Mat = pd.DataFrame(b).T\n",
    "Convection_Mat.columns = ['With_Wx','No_Wx']\n",
    "\n",
    "Wind_Mat = pd.DataFrame(bb).T\n",
    "Wind_Mat.columns = ['With_Wind','No_Wind']\n",
    "\n",
    "MIT_Mat = pd.DataFrame(bbb).T\n",
    "MIT_Mat.columns = ['With_MIT','No_MIT']"
   ]
  },
  {
   "cell_type": "code",
   "execution_count": 67,
   "metadata": {
    "collapsed": true
   },
   "outputs": [],
   "source": [
    "Convection_Mat['Percentage_Change'] = (Convection_Mat.With_Wx - Convection_Mat.No_Wx)/Convection_Mat.With_Wx\n",
    "Wind_Mat['Percentage_Change'] = (Wind_Mat.With_Wind - Wind_Mat.No_Wind)/Wind_Mat.With_Wind\n",
    "MIT_Mat['Percentage_Change'] = (MIT_Mat.With_MIT - MIT_Mat.No_MIT)/MIT_Mat.With_MIT"
   ]
  },
  {
   "cell_type": "code",
   "execution_count": 72,
   "metadata": {
    "collapsed": false
   },
   "outputs": [],
   "source": [
    "Convection_Mat.to_csv(os.getcwd() + '/MNL/Estimation/Wx_Contributions.csv', index = True)\n",
    "Wind_Mat.to_csv(os.getcwd() + '/MNL/Estimation/Wind_Contributions.csv', index = True)\n",
    "MIT_Mat.to_csv(os.getcwd() + '/MNL/Estimation/MIT_Contributions.csv', index = True)"
   ]
  },
  {
   "cell_type": "code",
   "execution_count": null,
   "metadata": {
    "collapsed": true
   },
   "outputs": [],
   "source": []
  },
  {
   "cell_type": "code",
   "execution_count": null,
   "metadata": {
    "collapsed": true
   },
   "outputs": [],
   "source": []
  },
  {
   "cell_type": "code",
   "execution_count": null,
   "metadata": {
    "collapsed": true
   },
   "outputs": [],
   "source": []
  },
  {
   "cell_type": "code",
   "execution_count": null,
   "metadata": {
    "collapsed": true
   },
   "outputs": [],
   "source": []
  },
  {
   "cell_type": "code",
   "execution_count": null,
   "metadata": {
    "collapsed": true
   },
   "outputs": [],
   "source": []
  },
  {
   "cell_type": "code",
   "execution_count": null,
   "metadata": {
    "collapsed": true
   },
   "outputs": [],
   "source": []
  },
  {
   "cell_type": "code",
   "execution_count": null,
   "metadata": {
    "collapsed": true
   },
   "outputs": [],
   "source": []
  },
  {
   "cell_type": "code",
   "execution_count": null,
   "metadata": {
    "collapsed": true
   },
   "outputs": [],
   "source": []
  },
  {
   "cell_type": "code",
   "execution_count": null,
   "metadata": {
    "collapsed": true
   },
   "outputs": [],
   "source": []
  },
  {
   "cell_type": "markdown",
   "metadata": {},
   "source": [
    "# Debug"
   ]
  },
  {
   "cell_type": "code",
   "execution_count": 101,
   "metadata": {
    "collapsed": false
   },
   "outputs": [
    {
     "name": "stdout",
     "output_type": "stream",
     "text": [
      "8\n"
     ]
    },
    {
     "name": "stderr",
     "output_type": "stream",
     "text": [
      "E:\\Anaconda\\Anaconda\\lib\\site-packages\\IPython\\kernel\\__main__.py:28: SettingWithCopyWarning: \n",
      "A value is trying to be set on a copy of a slice from a DataFrame.\n",
      "Try using .loc[row_indexer,col_indexer] = value instead\n",
      "\n",
      "See the caveats in the documentation: http://pandas.pydata.org/pandas-docs/stable/indexing.html#indexing-view-versus-copy\n"
     ]
    }
   ],
   "source": [
    "i = 0\n",
    "Airport = [['JFK','FLL'],['JFK','LAX'],['ORD','DCA'],['IAH','BOS'],\n",
    "           ['FLL','JFK'],['LAX','JFK'],['DCA','ORD'],['BOS','IAH']]\n",
    "for pair in Airport:\n",
    "    i += 1\n",
    "    if i == 1:\n",
    "        PostMNL = PreProcessMNL(pair[0], pair[1], 2013)\n",
    "        LR_Data = PostMNL.GetLR_Data()\n",
    "    else:\n",
    "        PostMNL = PreProcessMNL(pair[0], pair[1], 2013)\n",
    "        LR_Data = LR_Data.append(PostMNL.GetLR_Data())\n",
    "print(i)"
   ]
  },
  {
   "cell_type": "code",
   "execution_count": 102,
   "metadata": {
    "collapsed": false
   },
   "outputs": [],
   "source": [
    "LR_Data.to_csv('LR_EightPairs_New.csv',index = False)"
   ]
  },
  {
   "cell_type": "markdown",
   "metadata": {
    "collapsed": true
   },
   "source": [
    "### Regression Model I -- OD Fixed Effects"
   ]
  },
  {
   "cell_type": "code",
   "execution_count": 103,
   "metadata": {
    "collapsed": false
   },
   "outputs": [],
   "source": [
    "LR_Data = pd.read_csv(os.getcwd() + '/LR/LR_EightPairs_New.csv')\n",
    "def GetSeason(x):\n",
    "    if x >=12 or x<= 2:\n",
    "        return 0 # Winter\n",
    "    elif x <= 5:\n",
    "        return 1 # Spring\n",
    "    elif x <= 8:\n",
    "        return 2 # Summer\n",
    "    else:\n",
    "        return 3 # Fall\n",
    "LR_Data['season'] = LR_Data.LocalMonth.apply(lambda x: GetSeason(x))\n",
    "LR_Data['BusyHour'] = LR_Data.LocalHour.apply(lambda x: (x>=8) & (x<=20)).astype(int)\n",
    "LR_Data.Efficiency = LR_Data.Efficiency * 100"
   ]
  },
  {
   "cell_type": "code",
   "execution_count": 118,
   "metadata": {
    "collapsed": false
   },
   "outputs": [
    {
     "name": "stdout",
     "output_type": "stream",
     "text": [
      "                            OLS Regression Results                            \n",
      "==============================================================================\n",
      "Dep. Variable:             Efficiency   R-squared:                       0.628\n",
      "Model:                            OLS   Adj. R-squared:                  0.625\n",
      "Method:                 Least Squares   F-statistic:                     214.5\n",
      "Date:                Fri, 13 Jan 2017   Prob (F-statistic):               0.00\n",
      "Time:                        16:44:31   Log-Likelihood:                -2841.5\n",
      "No. Observations:                1664   AIC:                             5711.\n",
      "Df Residuals:                    1650   BIC:                             5787.\n",
      "Df Model:                          13                                         \n",
      "Covariance Type:            nonrobust                                         \n",
      "=========================================================================================\n",
      "                            coef    std err          t      P>|t|      [95.0% Conf. Int.]\n",
      "-----------------------------------------------------------------------------------------\n",
      "Intercept                 7.9672      0.200     39.828      0.000         7.575     8.360\n",
      "OD_Clust[T.IAH_BOS_0]    -4.5717      0.151    -30.355      0.000        -4.867    -4.276\n",
      "OD_Clust[T.IAH_BOS_1]    -2.2118      0.156    -14.173      0.000        -2.518    -1.906\n",
      "OD_Clust[T.IAH_BOS_2]    -5.4250      0.156    -34.756      0.000        -5.731    -5.119\n",
      "OD_Clust[T.IAH_BOS_3]    -7.0379      0.362    -19.424      0.000        -7.749    -6.327\n",
      "OD_Clust[T.IAH_BOS_4]    -5.1262      0.347    -14.756      0.000        -5.808    -4.445\n",
      "C(season)[T.1]           -0.0356      0.100     -0.355      0.722        -0.232     0.161\n",
      "C(season)[T.2]            0.1789      0.105      1.707      0.088        -0.027     0.384\n",
      "C(season)[T.3]            0.0378      0.098      0.387      0.699        -0.154     0.230\n",
      "TS_mean                  25.4884      3.062      8.325      0.000        19.483    31.494\n",
      "Rain_mean                 1.2583      0.816      1.543      0.123        -0.341     2.858\n",
      "Squall_mean              26.0622    194.280      0.134      0.893      -355.000   407.124\n",
      "BusyHour                 -0.0364      0.092     -0.395      0.693        -0.217     0.144\n",
      "Std_Wind_Dist             0.1158      0.120      0.966      0.334        -0.119     0.351\n",
      "==============================================================================\n",
      "Omnibus:                     1262.853   Durbin-Watson:                   1.639\n",
      "Prob(Omnibus):                  0.000   Jarque-Bera (JB):            91358.488\n",
      "Skew:                           2.922   Prob(JB):                         0.00\n",
      "Kurtosis:                      38.826   Cond. No.                     9.83e+03\n",
      "==============================================================================\n",
      "\n",
      "Warnings:\n",
      "[1] Standard Errors assume that the covariance matrix of the errors is correctly specified.\n",
      "[2] The condition number is large, 9.83e+03. This might indicate that there are\n",
      "strong multicollinearity or other numerical problems.\n"
     ]
    }
   ],
   "source": [
    "mod = sm.OLS.from_formula('Efficiency ~ TS_mean + Rain_mean + Squall_mean + OD_Clust + C(season) + BusyHour + Std_Wind_Dist', \n",
    "                          data=LR_Data[LR_Data.OD == 'IAH_BOS']).fit()\n",
    "print mod.summary()"
   ]
  },
  {
   "cell_type": "code",
   "execution_count": 269,
   "metadata": {
    "collapsed": true
   },
   "outputs": [],
   "source": [
    "Mod1rslt = LR_Data.ix[:,['OD','OD_Clust','ClustID','Efficiency']]\n",
    "Pred_No_Wx = LR_Data.copy()\n",
    "Pred_No_Wx.ix[:,4:20] = 0\n",
    "Mod1rslt['Pred_Wx'] = mod.predict(exog=LR_Data)\n",
    "Mod1rslt['Pred_No_Wx'] = mod.predict(exog=Pred_No_Wx)"
   ]
  },
  {
   "cell_type": "code",
   "execution_count": 212,
   "metadata": {
    "collapsed": false
   },
   "outputs": [
    {
     "data": {
      "text/html": [
       "<div>\n",
       "<table border=\"1\" class=\"dataframe\">\n",
       "  <thead>\n",
       "    <tr style=\"text-align: right;\">\n",
       "      <th></th>\n",
       "      <th>Pred_Wx</th>\n",
       "      <th>Pred_No_Wx</th>\n",
       "    </tr>\n",
       "    <tr>\n",
       "      <th>OD</th>\n",
       "      <th></th>\n",
       "      <th></th>\n",
       "    </tr>\n",
       "  </thead>\n",
       "  <tbody>\n",
       "    <tr>\n",
       "      <th>BOS_IAH</th>\n",
       "      <td>2.580272</td>\n",
       "      <td>2.032670</td>\n",
       "    </tr>\n",
       "    <tr>\n",
       "      <th>DCA_ORD</th>\n",
       "      <td>4.195134</td>\n",
       "      <td>3.663963</td>\n",
       "    </tr>\n",
       "    <tr>\n",
       "      <th>FLL_JFK</th>\n",
       "      <td>3.585357</td>\n",
       "      <td>2.706356</td>\n",
       "    </tr>\n",
       "    <tr>\n",
       "      <th>IAH_BOS</th>\n",
       "      <td>4.365819</td>\n",
       "      <td>3.752653</td>\n",
       "    </tr>\n",
       "    <tr>\n",
       "      <th>JFK_FLL</th>\n",
       "      <td>3.051842</td>\n",
       "      <td>2.153418</td>\n",
       "    </tr>\n",
       "    <tr>\n",
       "      <th>JFK_LAX</th>\n",
       "      <td>2.046591</td>\n",
       "      <td>1.702839</td>\n",
       "    </tr>\n",
       "    <tr>\n",
       "      <th>LAX_JFK</th>\n",
       "      <td>2.425427</td>\n",
       "      <td>2.067796</td>\n",
       "    </tr>\n",
       "    <tr>\n",
       "      <th>ORD_DCA</th>\n",
       "      <td>4.105880</td>\n",
       "      <td>3.567358</td>\n",
       "    </tr>\n",
       "  </tbody>\n",
       "</table>\n",
       "</div>"
      ],
      "text/plain": [
       "          Pred_Wx  Pred_No_Wx\n",
       "OD                           \n",
       "BOS_IAH  2.580272    2.032670\n",
       "DCA_ORD  4.195134    3.663963\n",
       "FLL_JFK  3.585357    2.706356\n",
       "IAH_BOS  4.365819    3.752653\n",
       "JFK_FLL  3.051842    2.153418\n",
       "JFK_LAX  2.046591    1.702839\n",
       "LAX_JFK  2.425427    2.067796\n",
       "ORD_DCA  4.105880    3.567358"
      ]
     },
     "execution_count": 212,
     "metadata": {},
     "output_type": "execute_result"
    }
   ],
   "source": [
    "Mod1rslt.groupby('OD')[['Pred_Wx','Pred_No_Wx']].mean()"
   ]
  },
  {
   "cell_type": "code",
   "execution_count": 253,
   "metadata": {
    "collapsed": false
   },
   "outputs": [
    {
     "data": {
      "text/plain": [
       "ClustID       0.211723\n",
       "Efficiency    3.102596\n",
       "Pred_Wx       3.102596\n",
       "Pred_No_Wx    2.586609\n",
       "dtype: float64"
      ]
     },
     "execution_count": 253,
     "metadata": {},
     "output_type": "execute_result"
    }
   ],
   "source": [
    "Mod1rslt.mean()"
   ]
  },
  {
   "cell_type": "markdown",
   "metadata": {},
   "source": [
    "### Regression Model II -- OD Cluster Fixed Effects"
   ]
  },
  {
   "cell_type": "code",
   "execution_count": 254,
   "metadata": {
    "collapsed": false
   },
   "outputs": [
    {
     "name": "stdout",
     "output_type": "stream",
     "text": [
      "                            OLS Regression Results                            \n",
      "==============================================================================\n",
      "Dep. Variable:             Efficiency   R-squared:                       0.589\n",
      "Model:                            OLS   Adj. R-squared:                  0.588\n",
      "Method:                 Least Squares   F-statistic:                     1328.\n",
      "Date:                Thu, 22 Sep 2016   Prob (F-statistic):               0.00\n",
      "Time:                        22:47:23   Log-Likelihood:            -1.0600e+05\n",
      "No. Observations:               47359   AIC:                         2.121e+05\n",
      "Df Residuals:                   47307   BIC:                         2.126e+05\n",
      "Df Model:                          51                                         \n",
      "Covariance Type:            nonrobust                                         \n",
      "==========================================================================================\n",
      "                             coef    std err          t      P>|t|      [95.0% Conf. Int.]\n",
      "------------------------------------------------------------------------------------------\n",
      "Intercept                  5.3946      0.167     32.216      0.000         5.066     5.723\n",
      "OD_Clust[T.BOS_IAH_0]     -4.1242      0.182    -22.708      0.000        -4.480    -3.768\n",
      "OD_Clust[T.BOS_IAH_1]      0.5378      0.300      1.793      0.073        -0.050     1.126\n",
      "OD_Clust[T.BOS_IAH_2]     -3.4791      0.196    -17.739      0.000        -3.863    -3.095\n",
      "OD_Clust[T.BOS_IAH_3]     -4.1505      0.295    -14.054      0.000        -4.729    -3.572\n",
      "OD_Clust[T.BOS_IAH_4]     -0.3806      0.467     -0.815      0.415        -1.296     0.535\n",
      "OD_Clust[T.DCA_ORD_-1]    19.4020      0.237     81.695      0.000        18.936    19.867\n",
      "OD_Clust[T.DCA_ORD_0]     -2.2727      0.167    -13.593      0.000        -2.600    -1.945\n",
      "OD_Clust[T.DCA_ORD_1]     -2.3778      0.265     -8.982      0.000        -2.897    -1.859\n",
      "OD_Clust[T.DCA_ORD_2]      7.9139      0.522     15.155      0.000         6.890     8.937\n",
      "OD_Clust[T.DCA_ORD_3]      6.0509      0.522     11.587      0.000         5.027     7.074\n",
      "OD_Clust[T.DCA_ORD_4]     45.7364      0.819     55.811      0.000        44.130    47.343\n",
      "OD_Clust[T.FLL_JFK_-1]    14.7342      0.310     47.504      0.000        14.126    15.342\n",
      "OD_Clust[T.FLL_JFK_0]     -3.3016      0.169    -19.506      0.000        -3.633    -2.970\n",
      "OD_Clust[T.FLL_JFK_1]      2.5844      0.198     13.062      0.000         2.197     2.972\n",
      "OD_Clust[T.FLL_JFK_2]      1.8978      0.408      4.650      0.000         1.098     2.698\n",
      "OD_Clust[T.IAH_BOS_-1]     2.6457      0.281      9.401      0.000         2.094     3.197\n",
      "OD_Clust[T.IAH_BOS_0]     -2.1042      0.189    -11.142      0.000        -2.474    -1.734\n",
      "OD_Clust[T.IAH_BOS_1]      0.2607      0.198      1.315      0.189        -0.128     0.649\n",
      "OD_Clust[T.IAH_BOS_2]     -3.0135      0.193    -15.601      0.000        -3.392    -2.635\n",
      "OD_Clust[T.IAH_BOS_3]     -4.3161      0.591     -7.303      0.000        -5.475    -3.158\n",
      "OD_Clust[T.IAH_BOS_4]     -2.6109      0.546     -4.779      0.000        -3.682    -1.540\n",
      "OD_Clust[T.JFK_FLL_-1]     3.8656      0.281     13.764      0.000         3.315     4.416\n",
      "OD_Clust[T.JFK_FLL_0]     -3.9963      0.169    -23.598      0.000        -4.328    -3.664\n",
      "OD_Clust[T.JFK_FLL_1]      5.3677      0.377     14.254      0.000         4.630     6.106\n",
      "OD_Clust[T.JFK_FLL_2]      2.0907      0.201     10.390      0.000         1.696     2.485\n",
      "OD_Clust[T.JFK_FLL_3]      6.0493      0.299     20.239      0.000         5.463     6.635\n",
      "OD_Clust[T.JFK_FLL_4]      9.0701      0.475     19.105      0.000         8.140    10.001\n",
      "OD_Clust[T.JFK_LAX_-1]    -1.8368      0.174    -10.529      0.000        -2.179    -1.495\n",
      "OD_Clust[T.JFK_LAX_0]     -4.5674      0.168    -27.184      0.000        -4.897    -4.238\n",
      "OD_Clust[T.JFK_LAX_1]     -1.0045      0.207     -4.846      0.000        -1.411    -0.598\n",
      "OD_Clust[T.JFK_LAX_2]     -3.6697      0.170    -21.562      0.000        -4.003    -3.336\n",
      "OD_Clust[T.JFK_LAX_3]     -3.6706      0.235    -15.652      0.000        -4.130    -3.211\n",
      "OD_Clust[T.LAX_JFK_-1]     2.2793      0.209     10.915      0.000         1.870     2.689\n",
      "OD_Clust[T.LAX_JFK_0]     -3.6790      0.167    -22.066      0.000        -4.006    -3.352\n",
      "OD_Clust[T.LAX_JFK_1]     -1.1898      0.292     -4.077      0.000        -1.762    -0.618\n",
      "OD_Clust[T.LAX_JFK_2]     -3.4944      0.460     -7.595      0.000        -4.396    -2.593\n",
      "OD_Clust[T.LAX_JFK_3]      6.9460      0.418     16.629      0.000         6.127     7.765\n",
      "OD_Clust[T.LAX_JFK_4]     17.3201      0.592     29.278      0.000        16.161    18.480\n",
      "OD_Clust[T.LAX_JFK_5]      0.6329      0.373      1.696      0.090        -0.099     1.364\n",
      "OD_Clust[T.ORD_DCA_-1]    21.8124      0.301     72.460      0.000        21.222    22.402\n",
      "OD_Clust[T.ORD_DCA_0]     -2.3414      0.167    -14.005      0.000        -2.669    -2.014\n",
      "OD_Clust[T.ORD_DCA_1]     14.3804      0.281     51.150      0.000        13.829    14.931\n",
      "OD_Clust[T.ORD_DCA_2]      6.5708      0.318     20.688      0.000         5.948     7.193\n",
      "OD_Clust[T.ORD_DCA_3]      1.9352      0.737      2.626      0.009         0.491     3.380\n",
      "C(season)[T.1]             0.0490      0.030      1.627      0.104        -0.010     0.108\n",
      "C(season)[T.2]             0.1077      0.032      3.326      0.001         0.044     0.171\n",
      "C(season)[T.3]            -0.0695      0.030     -2.316      0.021        -0.128    -0.011\n",
      "TS_mean                   10.5601      0.898     11.759      0.000         8.800    12.320\n",
      "Rain_mean                  0.4943      0.228      2.165      0.030         0.047     0.942\n",
      "Squall_mean              241.4072     39.769      6.070      0.000       163.460   319.354\n",
      "BusyHour                   0.4187      0.025     16.910      0.000         0.370     0.467\n",
      "==============================================================================\n",
      "Omnibus:                    66715.628   Durbin-Watson:                   1.808\n",
      "Prob(Omnibus):                  0.000   Jarque-Bera (JB):         97576387.818\n",
      "Skew:                           7.704   Prob(JB):                         0.00\n",
      "Kurtosis:                     224.836   Cond. No.                     5.32e+03\n",
      "==============================================================================\n",
      "\n",
      "Warnings:\n",
      "[1] Standard Errors assume that the covariance matrix of the errors is correctly specified.\n",
      "[2] The condition number is large, 5.32e+03. This might indicate that there are\n",
      "strong multicollinearity or other numerical problems.\n"
     ]
    }
   ],
   "source": [
    "mod2 = sm.OLS.from_formula('Efficiency ~ TS_mean + Rain_mean + Squall_mean + OD_Clust + C(season) + BusyHour', data=LR_Data).fit()\n",
    "print mod2.summary()"
   ]
  },
  {
   "cell_type": "code",
   "execution_count": 175,
   "metadata": {
    "collapsed": false
   },
   "outputs": [],
   "source": [
    "i = 0\n",
    "N_clust = {}\n",
    "temp = LR_Data.copy()\n",
    "for gpidx, gp in temp.groupby('OD'):\n",
    "    N_clust[gpidx] = gp.ClustID.max() + 2\n",
    "    for clust in range(-1, N_clust[gpidx] - 1):\n",
    "        i += 1\n",
    "        gp.ix[:,'OD_Clust'] = gpidx + '_' + str(clust) \n",
    "        if i == 1:\n",
    "            NewSet = gp.copy()\n",
    "        else:\n",
    "            NewSet = NewSet.append(gp)\n",
    "NewSet = NewSet.reset_index(drop = 0)\n",
    "\n",
    "Mod2rslt = NewSet.ix[:,['index','OD','OD_Clust','ClustID','Efficiency']]\n",
    "Pred_No_Wx = NewSet.copy()\n",
    "Pred_No_Wx.ix[:,5:21] = 0\n",
    "Mod2rslt['Pred_Wx'] = mod2.predict(exog=NewSet)\n",
    "Mod2rslt['Pred_No_Wx'] = mod2.predict(exog=Pred_No_Wx)"
   ]
  },
  {
   "cell_type": "code",
   "execution_count": 63,
   "metadata": {
    "collapsed": false
   },
   "outputs": [],
   "source": [
    "def PredictMNL(Ori, Des):\n",
    "    Fname = 'MNL_' + Ori + '_' + Des + '_2013_Mean.csv'\n",
    "    Fname_p = Ori + '_' + Des + '.p'\n",
    "    MNL_DATA = pd.read_csv(os.getcwd() + '/MNL/' + Fname, header = 0)\n",
    "    MNL_Model = pickle.load(open(os.getcwd() + '/MNL/' + Fname_p))\n",
    "    \n",
    "    MNL_DATA_No_Wx = MNL_DATA.copy()\n",
    "    MNL_DATA_No_Wx.ix[:,2:18] = 0\n",
    "    MNL_DATA['Prob_Wx'] = MNL_Model.predict(MNL_DATA)\n",
    "    MNL_DATA['Prob_No_Wx'] = MNL_Model.predict(MNL_DATA_No_Wx)\n",
    "    MNL_Pred = MNL_DATA.groupby(['FID_x','Alt_id'])[['Prob_Wx','Prob_No_Wx']].mean().reset_index()\n",
    "    \n",
    "    MNL_Pred.ix[MNL_Pred.FID_x == 99999999,'Alt_id'] = -1\n",
    "    MNL_Pred['OD_ClustID'] = Ori + '_' + Des + '_' + MNL_Pred.Alt_id.map(str)\n",
    "    return MNL_Pred[['OD_ClustID','Prob_Wx','Prob_No_Wx']]"
   ]
  },
  {
   "cell_type": "code",
   "execution_count": 74,
   "metadata": {
    "collapsed": false
   },
   "outputs": [],
   "source": [
    "i = 0\n",
    "for pair in Mod2rslt.OD.unique():\n",
    "    i += 1\n",
    "    if i == 1:\n",
    "        MNL_Pred = PredictMNL(pair[:3],pair[4:7])\n",
    "    else:\n",
    "        MNL_Pred = MNL_Pred.append(PredictMNL(pair[:3],pair[4:7]))\n",
    "MNL_Pred = MNL_Pred.reset_index(drop = True)"
   ]
  },
  {
   "cell_type": "code",
   "execution_count": 262,
   "metadata": {
    "collapsed": false
   },
   "outputs": [
    {
     "data": {
      "text/html": [
       "<div>\n",
       "<table border=\"1\" class=\"dataframe\">\n",
       "  <thead>\n",
       "    <tr style=\"text-align: right;\">\n",
       "      <th></th>\n",
       "      <th>Pred_Wx_weight</th>\n",
       "      <th>Pred_No_Wx_weight</th>\n",
       "    </tr>\n",
       "    <tr>\n",
       "      <th>OD</th>\n",
       "      <th></th>\n",
       "      <th></th>\n",
       "    </tr>\n",
       "  </thead>\n",
       "  <tbody>\n",
       "    <tr>\n",
       "      <th>BOS_IAH</th>\n",
       "      <td>2.580272</td>\n",
       "      <td>2.218133</td>\n",
       "    </tr>\n",
       "    <tr>\n",
       "      <th>DCA_ORD</th>\n",
       "      <td>4.195134</td>\n",
       "      <td>3.812454</td>\n",
       "    </tr>\n",
       "    <tr>\n",
       "      <th>FLL_JFK</th>\n",
       "      <td>3.585357</td>\n",
       "      <td>3.195368</td>\n",
       "    </tr>\n",
       "    <tr>\n",
       "      <th>IAH_BOS</th>\n",
       "      <td>4.365819</td>\n",
       "      <td>4.124445</td>\n",
       "    </tr>\n",
       "    <tr>\n",
       "      <th>JFK_FLL</th>\n",
       "      <td>3.051842</td>\n",
       "      <td>2.742559</td>\n",
       "    </tr>\n",
       "    <tr>\n",
       "      <th>JFK_LAX</th>\n",
       "      <td>2.046591</td>\n",
       "      <td>1.899419</td>\n",
       "    </tr>\n",
       "    <tr>\n",
       "      <th>LAX_JFK</th>\n",
       "      <td>2.425427</td>\n",
       "      <td>2.260838</td>\n",
       "    </tr>\n",
       "    <tr>\n",
       "      <th>ORD_DCA</th>\n",
       "      <td>4.105880</td>\n",
       "      <td>3.725363</td>\n",
       "    </tr>\n",
       "  </tbody>\n",
       "</table>\n",
       "</div>"
      ],
      "text/plain": [
       "         Pred_Wx_weight  Pred_No_Wx_weight\n",
       "OD                                        \n",
       "BOS_IAH        2.580272           2.218133\n",
       "DCA_ORD        4.195134           3.812454\n",
       "FLL_JFK        3.585357           3.195368\n",
       "IAH_BOS        4.365819           4.124445\n",
       "JFK_FLL        3.051842           2.742559\n",
       "JFK_LAX        2.046591           1.899419\n",
       "LAX_JFK        2.425427           2.260838\n",
       "ORD_DCA        4.105880           3.725363"
      ]
     },
     "execution_count": 262,
     "metadata": {},
     "output_type": "execute_result"
    }
   ],
   "source": [
    "Mod2rslt = Mod2rslt.merge(MNL_Pred, left_on='OD_Clust', right_on='OD_ClustID', how='left')\n",
    "Mod2rslt['Pred_Wx_weight'] = Mod2rslt.Pred_Wx * Mod2rslt.Prob_Wx\n",
    "Mod2rslt['Pred_No_Wx_weight'] = Mod2rslt.Pred_No_Wx * Mod2rslt.Prob_No_Wx\n",
    "\n",
    "aa = Mod2rslt.groupby(['OD','index'])[['Pred_Wx_weight','Pred_No_Wx_weight']].sum().reset_index()\n",
    "aa.groupby('OD')[['Pred_Wx_weight','Pred_No_Wx_weight']].mean()"
   ]
  },
  {
   "cell_type": "code",
   "execution_count": 263,
   "metadata": {
    "collapsed": false
   },
   "outputs": [
    {
     "data": {
      "text/plain": [
       "Pred_Wx_weight       3.102596\n",
       "Pred_No_Wx_weight    2.833009\n",
       "dtype: float64"
      ]
     },
     "execution_count": 263,
     "metadata": {},
     "output_type": "execute_result"
    }
   ],
   "source": [
    "aa[['Pred_Wx_weight','Pred_No_Wx_weight']].mean()"
   ]
  },
  {
   "cell_type": "code",
   "execution_count": 270,
   "metadata": {
    "collapsed": false
   },
   "outputs": [],
   "source": [
    "aa['Wx_Compare'] = mod2.predict(exog = LR_Data)\n",
    "aa['No_Wx_Compare'] = mod2.predict(exog = Pred_No_Wx)\n",
    "# Pred_No_Wx"
   ]
  },
  {
   "cell_type": "code",
   "execution_count": 272,
   "metadata": {
    "collapsed": false
   },
   "outputs": [
    {
     "data": {
      "text/plain": [
       "2.995568076241766"
      ]
     },
     "execution_count": 272,
     "metadata": {},
     "output_type": "execute_result"
    }
   ],
   "source": [
    "aa.No_Wx_Compare.mean()"
   ]
  },
  {
   "cell_type": "markdown",
   "metadata": {},
   "source": [
    "## Another approach: Drop all outlier groups"
   ]
  },
  {
   "cell_type": "code",
   "execution_count": null,
   "metadata": {
    "collapsed": true
   },
   "outputs": [],
   "source": [
    "modelset = MNL_DATA[~((MNL_DATA.FID_x == 99999999)&(MNL_DATA.CHOICE == 1))]\n",
    "modelset = modelset.dropna(subset=['MeanWindSpeed', 'Wind_Dist'], how='all').reset_index(drop = 1)\n",
    "print(modelset.FID_Member.unique().shape[0])\n",
    "modelset['Wind_Dist'] = modelset['Wind_Dist'] / 1000\n",
    "\n",
    "BaseSpec = collections.OrderedDict()\n",
    "BaseName = collections.OrderedDict()\n",
    "\n",
    "BaseSpec['intercept'] = [0,1,2,3]\n",
    "BaseName['intercept'] = ['ASC_R0','ASC_R1','ASC_R2','ASC_R3']\n",
    "\n",
    "BaseSpec['Morning'] = [0,1,2,3]\n",
    "BaseName['Morning'] = ['MorningFlight_R0','MorningFlight_R1','MorningFlight_R2','MorningFlight_R3']\n",
    "\n",
    "BaseSpec['Spring'] = [0,1,2,3]\n",
    "BaseName['Spring'] = ['Spring_R0','Spring_R1','Spring_R2','Spring_R3']\n",
    "\n",
    "BaseSpec['Summer'] = [0,1,2,3]\n",
    "BaseName['Summer'] = ['Summer_R0','Summer_R1','Summer_R2','Summer_R3']\n",
    "\n",
    "BaseSpec['Fall'] = [0,1,2]\n",
    "BaseName['Fall'] = ['Fall_R0','Fall_R1','Fall_R2']\n",
    "    \n",
    "BaseSpec['TS_mean'] = [[0,1,2,3]]\n",
    "BaseName['TS_mean'] = ['Thunderstorm']\n",
    "\n",
    "BaseSpec['Rain_mean'] = [[0,1,2,3]]\n",
    "BaseName['Rain_mean'] = ['Rain']\n",
    "\n",
    "# BaseSpec['MeanWindSpeed'] = [[0,1,2,3]]\n",
    "# BaseName['MeanWindSpeed'] = ['MeanWindSpeed']\n",
    "\n",
    "BaseSpec['Wind_Dist'] = [[0,1,2,3]]\n",
    "BaseName['Wind_Dist'] = ['Wind_Dist']\n",
    "\n",
    "N_var = 0\n",
    "for key in BaseSpec.keys():\n",
    "    N_var += len(BaseSpec[key])\n",
    "    \n",
    "MNL_Model = pylogit.create_choice_model(data = modelset, alt_id_col = 'Alt_id',obs_id_col = 'FID_Member',\n",
    "                                        choice_col = 'CHOICE',specification = BaseSpec, model_type = 'MNL', names = BaseName)\n",
    "MNL_Model.fit_mle(np.zeros(N_var))\n",
    "Result1 = MNL_Model.get_statsmodels_summary()\n",
    "Result1.as_csv"
   ]
  }
 ],
 "metadata": {
  "anaconda-cloud": {},
  "kernelspec": {
   "display_name": "Python 2",
   "language": "python",
   "name": "python2"
  },
  "language_info": {
   "codemirror_mode": {
    "name": "ipython",
    "version": 2
   },
   "file_extension": ".py",
   "mimetype": "text/x-python",
   "name": "python",
   "nbconvert_exporter": "python",
   "pygments_lexer": "ipython2",
   "version": "2.7.11"
  }
 },
 "nbformat": 4,
 "nbformat_minor": 0
}
