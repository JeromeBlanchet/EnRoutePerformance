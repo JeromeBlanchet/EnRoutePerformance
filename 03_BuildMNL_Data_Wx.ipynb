{
 "cells": [
  {
   "cell_type": "code",
   "execution_count": 1,
   "metadata": {
    "collapsed": false
   },
   "outputs": [],
   "source": [
    "import time\n",
    "import pandas as pd\n",
    "from GetRouteSelectionModel import RouteSelectionModel\n",
    "import pylogit\n",
    "import os\n",
    "import collections\n",
    "import numpy as np\n",
    "import pickle"
   ]
  },
  {
   "cell_type": "markdown",
   "metadata": {},
   "source": [
    "# Constructing MNL dataset"
   ]
  },
  {
   "cell_type": "code",
   "execution_count": 5,
   "metadata": {
    "collapsed": false
   },
   "outputs": [
    {
     "name": "stdout",
     "output_type": "stream",
     "text": [
      "Loading Data...\n",
      "Use Existing Nomianl Path Set\n",
      "Start Extracting Convective Weather ...\n",
      "44.114000082\n",
      "95.2910001278\n"
     ]
    }
   ],
   "source": [
    "RSModel = RouteSelectionModel('IAH','BOS',DataDir = ['/ARTCC/artcc_cont.shp','/NOAA/ARTCC_Based_Weather_Sum_UTC.csv'])\n",
    "MNL_IAH_BOS = RSModel.ConstructMNL_Data()"
   ]
  },
  {
   "cell_type": "code",
   "execution_count": 2,
   "metadata": {
    "collapsed": false
   },
   "outputs": [
    {
     "name": "stdout",
     "output_type": "stream",
     "text": [
      "Loading Data...\n",
      "Use Existing Nomianl Path Set\n",
      "Start Extracting Convective Weather ...\n",
      "43.5619997978\n",
      "94.4539999962\n"
     ]
    }
   ],
   "source": [
    "RSModel2 = RouteSelectionModel('BOS','IAH',DataDir = ['/ARTCC/artcc_cont.shp','/NOAA/ARTCC_Based_Weather_Sum_UTC.csv'])\n",
    "MNL_BOS_IAH = RSModel2.ConstructMNL_Data()"
   ]
  },
  {
   "cell_type": "code",
   "execution_count": 3,
   "metadata": {
    "collapsed": false
   },
   "outputs": [
    {
     "name": "stdout",
     "output_type": "stream",
     "text": [
      "Loading Data...\n",
      "Use Existing Nomianl Path Set\n",
      "Start Extracting Convective Weather ...\n",
      "42.9190001488\n",
      "94.7539999485\n"
     ]
    }
   ],
   "source": [
    "RSModel3 = RouteSelectionModel('ORD','DCA',DataDir = ['/ARTCC/artcc_cont.shp','/NOAA/ARTCC_Based_Weather_Sum_UTC.csv'])\n",
    "MNL_ORD_DCA = RSModel3.ConstructMNL_Data()"
   ]
  },
  {
   "cell_type": "code",
   "execution_count": 4,
   "metadata": {
    "collapsed": false
   },
   "outputs": [
    {
     "name": "stdout",
     "output_type": "stream",
     "text": [
      "Loading Data...\n",
      "Use Existing Nomianl Path Set\n",
      "Start Extracting Convective Weather ...\n",
      "45.2709999084\n",
      "98.6119999886\n"
     ]
    }
   ],
   "source": [
    "RSModel4 = RouteSelectionModel('DCA','ORD',DataDir = ['/ARTCC/artcc_cont.shp','/NOAA/ARTCC_Based_Weather_Sum_UTC.csv'])\n",
    "MNL_DCA_ORD = RSModel4.ConstructMNL_Data()"
   ]
  },
  {
   "cell_type": "code",
   "execution_count": 5,
   "metadata": {
    "collapsed": false
   },
   "outputs": [
    {
     "name": "stdout",
     "output_type": "stream",
     "text": [
      "Loading Data...\n",
      "Use Existing Nomianl Path Set\n",
      "Start Extracting Convective Weather ...\n",
      "44.6130001545\n",
      "97.4230000973\n"
     ]
    }
   ],
   "source": [
    "RSModel5 = RouteSelectionModel('FLL','JFK',DataDir = ['/ARTCC/artcc_cont.shp','/NOAA/ARTCC_Based_Weather_Sum_UTC.csv'])\n",
    "MNL_FLL_JFK = RSModel5.ConstructMNL_Data()"
   ]
  },
  {
   "cell_type": "code",
   "execution_count": 6,
   "metadata": {
    "collapsed": false
   },
   "outputs": [
    {
     "name": "stdout",
     "output_type": "stream",
     "text": [
      "Loading Data...\n",
      "Use Existing Nomianl Path Set\n",
      "Start Extracting Convective Weather ...\n",
      "43.9420001507\n",
      "95.5580000877\n"
     ]
    }
   ],
   "source": [
    "RSModel6 = RouteSelectionModel('JFK','FLL',DataDir = ['/ARTCC/artcc_cont.shp','/NOAA/ARTCC_Based_Weather_Sum_UTC.csv'])\n",
    "MNL_JFK_FLL = RSModel6.ConstructMNL_Data()"
   ]
  },
  {
   "cell_type": "code",
   "execution_count": 2,
   "metadata": {
    "collapsed": false
   },
   "outputs": [
    {
     "name": "stdout",
     "output_type": "stream",
     "text": [
      "Loading Data...\n",
      "Start Constructing Nominal Path data...\n",
      "(1500, 157.9579999446869)\n",
      "(3000, 458.9190001487732)\n",
      "(4500, 894.5569999217987)\n",
      "(6000, 1514.0490000247955)\n",
      "(7500, 2259.805999994278)\n",
      "(9000, 3135.0190000534058)\n",
      "(10500, 4163.521000146866)\n",
      "Start Extracting Convective Weather ...\n",
      "48.4289999008\n",
      "103.785000086\n",
      "167.593999863\n",
      "238.395999908\n",
      "316.70600009\n",
      "402.964999914\n",
      "497.930999994\n"
     ]
    },
    {
     "name": "stderr",
     "output_type": "stream",
     "text": [
      "E:\\Anaconda\\Anaconda\\lib\\site-packages\\pandas\\core\\generic.py:2773: SettingWithCopyWarning: \n",
      "A value is trying to be set on a copy of a slice from a DataFrame.\n",
      "Try using .loc[row_indexer,col_indexer] = value instead\n",
      "\n",
      "See the caveats in the documentation: http://pandas.pydata.org/pandas-docs/stable/indexing.html#indexing-view-versus-copy\n",
      "  self[name] = value\n",
      "GetRouteSelectionModel.py:85: SettingWithCopyWarning: \n",
      "A value is trying to be set on a copy of a slice from a DataFrame.\n",
      "Try using .loc[row_indexer,col_indexer] = value instead\n",
      "\n",
      "See the caveats in the documentation: http://pandas.pydata.org/pandas-docs/stable/indexing.html#indexing-view-versus-copy\n",
      "  Nominal_copy['FID_Member'] = row.values[0]\n"
     ]
    }
   ],
   "source": [
    "RSModel7 = RouteSelectionModel('JFK','LAX',DataDir = ['/ARTCC/artcc_cont.shp','/NOAA/ARTCC_Based_Weather_Sum_UTC.csv'])\n",
    "MNL_JFK_LAX = RSModel7.ConstructMNL_Data()"
   ]
  },
  {
   "cell_type": "code",
   "execution_count": 12,
   "metadata": {
    "collapsed": false
   },
   "outputs": [
    {
     "name": "stdout",
     "output_type": "stream",
     "text": [
      "Loading Data...\n",
      "Start Constructing Nominal Path data...\n",
      "(1500, 153.9119999408722)\n",
      "(3000, 390.1029999256134)\n",
      "(4500, 716.6270000934601)\n",
      "(6000, 1140.8180000782013)\n",
      "(7500, 1658.2829999923706)\n",
      "(9000, 2272.1059999465942)\n",
      "Start Extracting Convective Weather ...\n",
      "51.2309999466\n",
      "106.146999836\n",
      "169.653999805\n",
      "241.309999943\n",
      "321.095999956\n",
      "406.730999947\n"
     ]
    }
   ],
   "source": [
    "RSModel8 = RouteSelectionModel('LAX','JFK',DataDir = ['/ARTCC/artcc_cont.shp','/NOAA/ARTCC_Based_Weather_Sum_UTC.csv'])\n",
    "MNL_LAX_JFK = RSModel8.ConstructMNL_Data()"
   ]
  },
  {
   "cell_type": "code",
   "execution_count": 2,
   "metadata": {
    "collapsed": false
   },
   "outputs": [
    {
     "name": "stdout",
     "output_type": "stream",
     "text": [
      "Loading Data...\n",
      "Start Constructing Nominal Path data...\n",
      "(1500, 106.99499988555908)\n",
      "(3000, 255.5129997730255)\n",
      "(4500, 463.8829998970032)\n",
      "(6000, 700.7459998130798)\n",
      "Start Extracting Convective Weather ...\n",
      "44.8200001717\n",
      "97.4820001125\n",
      "158.24000001\n"
     ]
    },
    {
     "name": "stderr",
     "output_type": "stream",
     "text": [
      "E:\\Anaconda\\Anaconda\\lib\\site-packages\\pandas\\core\\generic.py:2773: SettingWithCopyWarning: \n",
      "A value is trying to be set on a copy of a slice from a DataFrame.\n",
      "Try using .loc[row_indexer,col_indexer] = value instead\n",
      "\n",
      "See the caveats in the documentation: http://pandas.pydata.org/pandas-docs/stable/indexing.html#indexing-view-versus-copy\n",
      "  self[name] = value\n",
      "GetRouteSelectionModel.py:85: SettingWithCopyWarning: \n",
      "A value is trying to be set on a copy of a slice from a DataFrame.\n",
      "Try using .loc[row_indexer,col_indexer] = value instead\n",
      "\n",
      "See the caveats in the documentation: http://pandas.pydata.org/pandas-docs/stable/indexing.html#indexing-view-versus-copy\n",
      "  Nominal_copy['FID_Member'] = row.values[0]\n"
     ]
    }
   ],
   "source": [
    "RSModel9 = RouteSelectionModel('ORD','IAH',DataDir = ['/ARTCC/artcc_cont.shp','/NOAA/ARTCC_Based_Weather_Sum_UTC.csv'])\n",
    "MNL_ORD_IAH = RSModel9.ConstructMNL_Data()"
   ]
  },
  {
   "cell_type": "code",
   "execution_count": null,
   "metadata": {
    "collapsed": true
   },
   "outputs": [],
   "source": []
  },
  {
   "cell_type": "code",
   "execution_count": null,
   "metadata": {
    "collapsed": true
   },
   "outputs": [],
   "source": []
  },
  {
   "cell_type": "code",
   "execution_count": null,
   "metadata": {
    "collapsed": true
   },
   "outputs": [],
   "source": []
  },
  {
   "cell_type": "code",
   "execution_count": null,
   "metadata": {
    "collapsed": true
   },
   "outputs": [],
   "source": []
  },
  {
   "cell_type": "code",
   "execution_count": null,
   "metadata": {
    "collapsed": true
   },
   "outputs": [],
   "source": []
  },
  {
   "cell_type": "markdown",
   "metadata": {},
   "source": [
    "### Predictions"
   ]
  },
  {
   "cell_type": "code",
   "execution_count": 43,
   "metadata": {
    "collapsed": false
   },
   "outputs": [],
   "source": [
    "MNL_DATA = pd.read_csv(os.getcwd() + '/MNL/MNL_BOS_IAH_2013_Mean.csv', header = 0)\n",
    "MNL_Model1 = pickle.load(open(os.getcwd() + '/MNL/BOS_IAH.p'))"
   ]
  },
  {
   "cell_type": "code",
   "execution_count": 44,
   "metadata": {
    "collapsed": true
   },
   "outputs": [],
   "source": [
    "MNL_DATA_NO_Wx = MNL_DATA.copy()\n",
    "MNL_DATA_NO_Wx.ix[:,2:18] = 0\n",
    "MNL_DATA['Pred_Wx'] = MNL_Model1.predict(MNL_DATA)\n",
    "MNL_DATA['Pred_No_Wx'] = MNL_Model1.predict(MNL_DATA_NO_Wx)"
   ]
  },
  {
   "cell_type": "code",
   "execution_count": 45,
   "metadata": {
    "collapsed": false
   },
   "outputs": [
    {
     "data": {
      "text/html": [
       "<div>\n",
       "<table border=\"1\" class=\"dataframe\">\n",
       "  <thead>\n",
       "    <tr style=\"text-align: right;\">\n",
       "      <th></th>\n",
       "      <th></th>\n",
       "      <th>Pred_Wx</th>\n",
       "      <th>Pred_No_Wx</th>\n",
       "    </tr>\n",
       "    <tr>\n",
       "      <th>FID_x</th>\n",
       "      <th>Alt_id</th>\n",
       "      <th></th>\n",
       "      <th></th>\n",
       "    </tr>\n",
       "  </thead>\n",
       "  <tbody>\n",
       "    <tr>\n",
       "      <th>99999999</th>\n",
       "      <th>5</th>\n",
       "      <td>0.109070</td>\n",
       "      <td>0.042707</td>\n",
       "    </tr>\n",
       "    <tr>\n",
       "      <th>20130331309832</th>\n",
       "      <th>4</th>\n",
       "      <td>0.015499</td>\n",
       "      <td>0.016624</td>\n",
       "    </tr>\n",
       "    <tr>\n",
       "      <th>20130401361972</th>\n",
       "      <th>3</th>\n",
       "      <td>0.049369</td>\n",
       "      <td>0.054538</td>\n",
       "    </tr>\n",
       "    <tr>\n",
       "      <th>20130512663675</th>\n",
       "      <th>2</th>\n",
       "      <td>0.264064</td>\n",
       "      <td>0.281081</td>\n",
       "    </tr>\n",
       "    <tr>\n",
       "      <th>20130715967621</th>\n",
       "      <th>0</th>\n",
       "      <td>0.514925</td>\n",
       "      <td>0.556228</td>\n",
       "    </tr>\n",
       "    <tr>\n",
       "      <th>20131024456871</th>\n",
       "      <th>1</th>\n",
       "      <td>0.047072</td>\n",
       "      <td>0.048822</td>\n",
       "    </tr>\n",
       "  </tbody>\n",
       "</table>\n",
       "</div>"
      ],
      "text/plain": [
       "                        Pred_Wx  Pred_No_Wx\n",
       "FID_x          Alt_id                      \n",
       "99999999       5       0.109070    0.042707\n",
       "20130331309832 4       0.015499    0.016624\n",
       "20130401361972 3       0.049369    0.054538\n",
       "20130512663675 2       0.264064    0.281081\n",
       "20130715967621 0       0.514925    0.556228\n",
       "20131024456871 1       0.047072    0.048822"
      ]
     },
     "execution_count": 45,
     "metadata": {},
     "output_type": "execute_result"
    }
   ],
   "source": [
    "MNL_DATA.groupby(['FID_x','Alt_id'])[['Pred_Wx','Pred_No_Wx']].mean()"
   ]
  },
  {
   "cell_type": "markdown",
   "metadata": {
    "collapsed": true
   },
   "source": [
    "## An Universal Model"
   ]
  },
  {
   "cell_type": "code",
   "execution_count": 43,
   "metadata": {
    "collapsed": false
   },
   "outputs": [],
   "source": [
    "i = 0\n",
    "for fname in os.listdir(os.getcwd() + '/MNL'):\n",
    "    if '2013_Mean.csv' in fname:\n",
    "        i += 1\n",
    "        if i == 1:\n",
    "            MNL_DATA = pd.read_csv(os.getcwd() + '/MNL/' + fname, header = 0)\n",
    "            MNL_DATA['obs_id'] = MNL_DATA.FID_Member.map(str) + '_' + fname[4:11]\n",
    "            Max_Alt = MNL_DATA.Alt_id.max()\n",
    "        else:\n",
    "            temp = pd.read_csv(os.getcwd() + '/MNL/' + fname, header = 0)\n",
    "            temp['Alt_id'] = temp['Alt_id'] + Max_Alt \n",
    "            Max_Alt = temp.Alt_id.max()\n",
    "            \n",
    "            temp['obs_id'] = temp.FID_Member.map(str) + '_' + fname[4:11]\n",
    "            MNL_DATA = MNL_DATA.append(temp)\n",
    "MNL_DATA = MNL_DATA.reset_index(drop = True)\n",
    "MNL_DATA.loc[MNL_DATA.FID_x == 99999999,'Alt_id'] = Max_Alt"
   ]
  },
  {
   "cell_type": "code",
   "execution_count": 45,
   "metadata": {
    "collapsed": false
   },
   "outputs": [
    {
     "data": {
      "text/plain": [
       "0         37\n",
       "1          4\n",
       "2          3\n",
       "3          2\n",
       "4          0\n",
       "5          1\n",
       "6         37\n",
       "7          4\n",
       "8          3\n",
       "9          2\n",
       "10         0\n",
       "11         1\n",
       "12        37\n",
       "13         4\n",
       "14         3\n",
       "15         2\n",
       "16         0\n",
       "17         1\n",
       "18        37\n",
       "19         4\n",
       "20         3\n",
       "21         2\n",
       "22         0\n",
       "23         1\n",
       "24        37\n",
       "25         4\n",
       "26         3\n",
       "27         2\n",
       "28         0\n",
       "29         1\n",
       "          ..\n",
       "268481    37\n",
       "268482    36\n",
       "268483    34\n",
       "268484    33\n",
       "268485    35\n",
       "268486    37\n",
       "268487    36\n",
       "268488    34\n",
       "268489    33\n",
       "268490    35\n",
       "268491    37\n",
       "268492    36\n",
       "268493    34\n",
       "268494    33\n",
       "268495    35\n",
       "268496    37\n",
       "268497    36\n",
       "268498    34\n",
       "268499    33\n",
       "268500    35\n",
       "268501    37\n",
       "268502    36\n",
       "268503    34\n",
       "268504    33\n",
       "268505    35\n",
       "268506    37\n",
       "268507    36\n",
       "268508    34\n",
       "268509    33\n",
       "268510    35\n",
       "Name: Alt_id, dtype: int64"
      ]
     },
     "execution_count": 45,
     "metadata": {},
     "output_type": "execute_result"
    }
   ],
   "source": [
    "BaseSpec = collections.OrderedDict()\n",
    "BaseName = collections.OrderedDict()\n",
    "\n",
    "BaseSpec['intercept'] = range(Max_Alt)\n",
    "BaseName['intercept'] = ['ASC_R0','ASC_R1','ASC_R2','ASC_R3','ASC_R4']\n",
    "\n",
    "BaseSpec['Morning'] = [0,1,2,3,4]\n",
    "BaseName['Morning'] = ['MorningFlight_R0','MorningFlight_R1','MorningFlight_R2','MorningFlight_R3','MorningFlight_R4']\n",
    "\n",
    "BaseSpec['Spring'] = [0,1,2,3,4]\n",
    "BaseName['Spring'] = ['Spring_R0','Spring_R1','Spring_R2','Spring_R3','Spring_R4']\n",
    "\n",
    "BaseSpec['Summer'] = [0,1,2,3,4]\n",
    "BaseName['Summer'] = ['Summer_R0','Summer_R1','Summer_R2','Summer_R3','Summer_R4']\n",
    "\n",
    "BaseSpec['Fall'] = [0,1,2,4]\n",
    "BaseName['Fall'] = ['Fall_R0','Fall_R1','Fall_R2','Fall_R4']\n",
    "\n",
    "# BaseSpec['CA'] = [0,1,2,3,4]\n",
    "# BaseName['CA'] = ['United_R0','United_R1','United_R2','United_R3','United_R4']\n",
    "    \n",
    "BaseSpec['TS_mean'] = [[0,1,2,3,4]]\n",
    "BaseName['TS_mean'] = ['Thunderstorm']\n",
    "\n",
    "# BaseSpec['Hail_mean'] = [[0,1,2,3,4]]\n",
    "# BaseName['Hail_mean'] = ['Hail']\n",
    "\n",
    "# BaseSpec['Precipitation_mean'] = [[0,1,2,3,4]]\n",
    "# BaseName['Precipitation_mean'] = ['Precipitation']\n",
    "\n",
    "BaseSpec['Rain_mean'] = [[0,1,2,3,4]]\n",
    "BaseName['Rain_mean'] = ['Rain']\n",
    "\n",
    "# BaseSpec['Shower_mean'] = [[0,1,2,3,4]]\n",
    "# BaseName['Shower_mean'] = ['Shower']\n",
    "\n",
    "# BaseSpec['Ice_sum'] = [[0,1,2,3,4]]\n",
    "# BaseName['Ice_sum'] = ['Ice']\n",
    "\n",
    "# BaseSpec['Squall_mean'] = [[0,1,2,3,4]]\n",
    "# BaseName['Squall_mean'] = ['Squall']\n",
    "\n",
    "N_var = 0\n",
    "for key in BaseSpec.keys():\n",
    "    N_var += len(BaseSpec[key])\n",
    "    \n",
    "MNL_Model = pylogit.create_choice_model(data = MNL_DATA, alt_id_col = 'Alt_id',obs_id_col = 'FID_Member',\n",
    "                                        choice_col = 'CHOICE',specification = BaseSpec, model_type = 'MNL', names = BaseName)\n",
    "MNL_Model.fit_mle(np.zeros(N_var), method='Newton-CG')\n",
    "Result = MNL_Model.get_statsmodels_summary()\n",
    "Result.as_csv"
   ]
  }
 ],
 "metadata": {
  "kernelspec": {
   "display_name": "Python 2",
   "language": "python",
   "name": "python2"
  },
  "language_info": {
   "codemirror_mode": {
    "name": "ipython",
    "version": 2
   },
   "file_extension": ".py",
   "mimetype": "text/x-python",
   "name": "python",
   "nbconvert_exporter": "python",
   "pygments_lexer": "ipython2",
   "version": "2.7.11"
  }
 },
 "nbformat": 4,
 "nbformat_minor": 0
}
