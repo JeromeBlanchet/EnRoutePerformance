{
 "cells": [
  {
   "cell_type": "code",
   "execution_count": 170,
   "metadata": {
    "collapsed": false
   },
   "outputs": [],
   "source": [
    "import time\n",
    "import pandas as pd\n",
    "import os\n",
    "import collections\n",
    "import numpy as np\n",
    "import statsmodels.api as sm\n",
    "import pylogit\n",
    "import pickle\n",
    "from statsmodels.iolib.summary2 import summary_col\n",
    "from GetProcessMNL_LR import PreProcessMNL, OLS_Model\n",
    "import matplotlib.pyplot as plt\n",
    "%matplotlib inline"
   ]
  },
  {
   "cell_type": "markdown",
   "metadata": {},
   "source": [
    "# Combined Linear Regression"
   ]
  },
  {
   "cell_type": "code",
   "execution_count": 2,
   "metadata": {
    "collapsed": false
   },
   "outputs": [
    {
     "name": "stdout",
     "output_type": "stream",
     "text": [
      "6\n"
     ]
    }
   ],
   "source": [
    "i = 0\n",
    "Airport = [['JFK','FLL'],['JFK','LAX'],['IAH','BOS'],\n",
    "           ['FLL','JFK'],['LAX','JFK'],['BOS','IAH']]\n",
    "for pair in Airport:\n",
    "    i += 1\n",
    "    if i == 1:\n",
    "        PostMNL = PreProcessMNL(pair[0], pair[1], 2013)\n",
    "        LR_Data, MNL_Data = PostMNL.GetLR_Data(OneMetric = True)\n",
    "    else:\n",
    "        PostMNL = PreProcessMNL(pair[0], pair[1], 2013)\n",
    "        LR_temp, MNL_temp = PostMNL.GetLR_Data(OneMetric = True)\n",
    "        LR_Data = LR_Data.append(LR_temp)\n",
    "        MNL_Data = MNL_Data.append(MNL_temp)\n",
    "LR_Data = LR_Data.reset_index(drop = 1)\n",
    "MNL_Data = MNL_Data.reset_index(drop = 1)\n",
    "print(i)"
   ]
  },
  {
   "cell_type": "code",
   "execution_count": 3,
   "metadata": {
    "collapsed": true
   },
   "outputs": [],
   "source": [
    "LR_Data.to_csv(os.getcwd() + '/LR/LR_SixPairs_OneMetric.csv', index = False)\n",
    "MNL_Data.to_csv(os.getcwd() + '/LR/MNL_SixPairs_Combined.csv', index = False)"
   ]
  },
  {
   "cell_type": "code",
   "execution_count": 3,
   "metadata": {
    "collapsed": true
   },
   "outputs": [],
   "source": [
    "LR_Data.Efficiency = LR_Data.Efficiency * 100"
   ]
  },
  {
   "cell_type": "code",
   "execution_count": 4,
   "metadata": {
    "collapsed": false
   },
   "outputs": [],
   "source": [
    "from patsy.contrasts import Treatment"
   ]
  },
  {
   "cell_type": "code",
   "execution_count": 147,
   "metadata": {
    "collapsed": false
   },
   "outputs": [
    {
     "data": {
      "text/plain": [
       "0.46781513541807196"
      ]
     },
     "execution_count": 147,
     "metadata": {},
     "output_type": "execute_result"
    }
   ],
   "source": [
    "MNL_Data.Pred_Eff."
   ]
  },
  {
   "cell_type": "code",
   "execution_count": 175,
   "metadata": {
    "collapsed": false
   },
   "outputs": [
    {
     "name": "stdout",
     "output_type": "stream",
     "text": [
      "                            OLS Regression Results                            \n",
      "==============================================================================\n",
      "Dep. Variable:     np.log(Efficiency)   R-squared:                       0.640\n",
      "Model:                            OLS   Adj. R-squared:                  0.640\n",
      "Method:                 Least Squares   F-statistic:                     1476.\n",
      "Date:                Mon, 27 Feb 2017   Prob (F-statistic):               0.00\n",
      "Time:                        22:03:29   Log-Likelihood:                -16780.\n",
      "No. Observations:               32409   AIC:                         3.364e+04\n",
      "Df Residuals:                   32369   BIC:                         3.397e+04\n",
      "Df Model:                          39                                         \n",
      "Covariance Type:            nonrobust                                         \n",
      "=============================================================================================\n",
      "                                coef    std err          t      P>|t|      [95.0% Conf. Int.]\n",
      "---------------------------------------------------------------------------------------------\n",
      "Intercept                     1.5232      0.030     50.810      0.000         1.464     1.582\n",
      "C(OD_Clust)[T.BOS_IAH_0]     -1.2319      0.033    -37.794      0.000        -1.296    -1.168\n",
      "C(OD_Clust)[T.BOS_IAH_1]      0.1529      0.054      2.820      0.005         0.047     0.259\n",
      "C(OD_Clust)[T.BOS_IAH_2]     -0.8925      0.035    -25.390      0.000        -0.961    -0.824\n",
      "C(OD_Clust)[T.BOS_IAH_3]     -1.2738      0.053    -23.972      0.000        -1.378    -1.170\n",
      "C(OD_Clust)[T.BOS_IAH_4]     -0.0476      0.084     -0.568      0.570        -0.212     0.117\n",
      "C(OD_Clust)[T.FLL_JFK_-1]     1.0190      0.056     18.288      0.000         0.910     1.128\n",
      "C(OD_Clust)[T.FLL_JFK_0]     -0.9485      0.031    -31.023      0.000        -1.008    -0.889\n",
      "C(OD_Clust)[T.FLL_JFK_1]      0.3320      0.036      9.252      0.000         0.262     0.402\n",
      "C(OD_Clust)[T.FLL_JFK_2]      0.1520      0.073      2.070      0.038         0.008     0.296\n",
      "C(OD_Clust)[T.IAH_BOS_-1]     0.3140      0.051      6.212      0.000         0.215     0.413\n",
      "C(OD_Clust)[T.IAH_BOS_0]     -0.3854      0.034    -11.355      0.000        -0.452    -0.319\n",
      "C(OD_Clust)[T.IAH_BOS_1]      0.0963      0.036      2.701      0.007         0.026     0.166\n",
      "C(OD_Clust)[T.IAH_BOS_2]     -0.6869      0.035    -19.859      0.000        -0.755    -0.619\n",
      "C(OD_Clust)[T.IAH_BOS_3]     -1.2739      0.106    -12.034      0.000        -1.481    -1.066\n",
      "C(OD_Clust)[T.IAH_BOS_4]     -0.5825      0.100     -5.811      0.000        -0.779    -0.386\n",
      "C(OD_Clust)[T.JFK_FLL_-1]     0.3427      0.050      6.803      0.000         0.244     0.441\n",
      "C(OD_Clust)[T.JFK_FLL_0]     -1.1834      0.031    -38.762      0.000        -1.243    -1.124\n",
      "C(OD_Clust)[T.JFK_FLL_1]      0.6666      0.068      9.852      0.000         0.534     0.799\n",
      "C(OD_Clust)[T.JFK_FLL_2]      0.3487      0.036      9.606      0.000         0.278     0.420\n",
      "C(OD_Clust)[T.JFK_FLL_3]      0.7293      0.054     13.563      0.000         0.624     0.835\n",
      "C(OD_Clust)[T.JFK_FLL_4]      0.9121      0.085     10.704      0.000         0.745     1.079\n",
      "C(OD_Clust)[T.JFK_LAX_-1]    -0.5160      0.031    -16.713      0.000        -0.577    -0.456\n",
      "C(OD_Clust)[T.JFK_LAX_0]     -1.8293      0.030    -60.714      0.000        -1.888    -1.770\n",
      "C(OD_Clust)[T.JFK_LAX_1]     -0.1043      0.038     -2.741      0.006        -0.179    -0.030\n",
      "C(OD_Clust)[T.JFK_LAX_2]     -0.7825      0.031    -25.291      0.000        -0.843    -0.722\n",
      "C(OD_Clust)[T.JFK_LAX_3]     -0.7132      0.033    -21.930      0.000        -0.777    -0.649\n",
      "C(OD_Clust)[T.JFK_LAX_4]     -1.3831      0.032    -43.015      0.000        -1.446    -1.320\n",
      "C(OD_Clust)[T.LAX_JFK_-1]    -0.4223      0.031    -13.728      0.000        -0.483    -0.362\n",
      "C(OD_Clust)[T.LAX_JFK_0]     -0.8997      0.032    -28.394      0.000        -0.962    -0.838\n",
      "C(OD_Clust)[T.LAX_JFK_1]     -1.3011      0.031    -42.195      0.000        -1.362    -1.241\n",
      "C(OD_Clust)[T.LAX_JFK_2]     -0.7809      0.036    -21.858      0.000        -0.851    -0.711\n",
      "C(OD_Clust)[T.LAX_JFK_3]     -1.0649      0.030    -35.302      0.000        -1.124    -1.006\n",
      "C(Season)[T.1]                0.0585      0.006      9.040      0.000         0.046     0.071\n",
      "C(Season)[T.2]                0.0555      0.007      7.964      0.000         0.042     0.069\n",
      "C(Season)[T.3]                0.0212      0.007      3.255      0.001         0.008     0.034\n",
      "TS_mean                       1.9414      0.193     10.074      0.000         1.564     2.319\n",
      "Rain_mean                     0.1841      0.061      3.006      0.003         0.064     0.304\n",
      "BusyHour                      0.1509      0.005     31.338      0.000         0.142     0.160\n",
      "MIT_Str                       0.6135      0.031     20.047      0.000         0.553     0.673\n",
      "==============================================================================\n",
      "Omnibus:                     2540.427   Durbin-Watson:                   1.758\n",
      "Prob(Omnibus):                  0.000   Jarque-Bera (JB):             7344.680\n",
      "Skew:                           0.425   Prob(JB):                         0.00\n",
      "Kurtosis:                       5.172   Cond. No.                         113.\n",
      "==============================================================================\n",
      "\n",
      "Warnings:\n",
      "[1] Standard Errors assume that the covariance matrix of the errors is correctly specified.\n"
     ]
    }
   ],
   "source": [
    "LR_model = sm.OLS.from_formula('np.log(Efficiency) ~ TS_mean + Rain_mean + C(OD_Clust) + C(Season) + BusyHour + MIT_Str', data=LR_Data).fit()\n",
    "print LR_model.summary()"
   ]
  },
  {
   "cell_type": "code",
   "execution_count": 174,
   "metadata": {
    "collapsed": true
   },
   "outputs": [],
   "source": [
    "# from statsmodels.stats.outliers_influence import summary_table\n",
    "# from statsmodels.sandbox.regression.predstd import wls_prediction_std"
   ]
  },
  {
   "cell_type": "code",
   "execution_count": 250,
   "metadata": {
    "collapsed": true
   },
   "outputs": [],
   "source": [
    "from scipy import stats\n",
    "def transform_exog_to_model(fit, exog):\n",
    "    transform=True\n",
    "    self=fit\n",
    "    \n",
    "    # The following is lifted straight from statsmodels.base.model.Results.predict()\n",
    "    if transform and hasattr(self.model, 'formula') and exog is not None:\n",
    "        from patsy import dmatrix\n",
    "        exog = dmatrix(self.model.data.orig_exog.design_info.builder,\n",
    "                       exog)\n",
    "\n",
    "    if exog is not None:\n",
    "        exog = np.asarray(exog)\n",
    "        if exog.ndim == 1 and (self.model.exog.ndim == 1 or\n",
    "                               self.model.exog.shape[1] == 1):\n",
    "            exog = exog[:, None]\n",
    "        exog = np.atleast_2d(exog)  # needed in count model shape[1]\n",
    "    \n",
    "    # end lifted code\n",
    "    return exog\n",
    "\n",
    "def wls_prediction_std(res, exog=None, weights=None, alpha=0.05):\n",
    "    covb = res.cov_params()\n",
    "    if exog is None:\n",
    "        exog = res.model.exog\n",
    "        predicted = res.fittedvalues\n",
    "        if weights is None:\n",
    "            weights = res.model.weights\n",
    "    else:\n",
    "        # Using res.predict() is less hacky than using res.model.predict()\n",
    "        predicted = res.predict(exog)\n",
    "\n",
    "        if covb.shape[1] != exog.shape[1]:\n",
    "            # raise ValueError('wrong shape of exog') # Nope\n",
    "            # Instead of panicking/raising ValueError in this case, transform \n",
    "            # the exog appropriately so that the interval calculations below can\n",
    "            # function\n",
    "            exog = transform_exog_to_model(res, exog)\n",
    "\n",
    "        if weights is None:\n",
    "            weights = 1.\n",
    "        else:\n",
    "            weights = np.asarray(weights)\n",
    "            if len(weights) > 1 and len(weights) != exog.shape[0]:\n",
    "                raise ValueError('weights and exog do not have matching shape')\n",
    "\n",
    "    # The rest of this is unaltered\n",
    "\n",
    "    if weights is None:\n",
    "        weights = res.model.weights\n",
    "\n",
    "\n",
    "    # full covariance:\n",
    "    #predvar = res3.mse_resid + np.diag(np.dot(X2,np.dot(covb,X2.T)))\n",
    "    # predication variance only\n",
    "    predvar = res.mse_resid/weights + (exog * np.dot(covb, exog.T).T).sum(1)\n",
    "    predstd = np.sqrt(predvar)\n",
    "    tppf = stats.t.isf(alpha/2., res.df_resid)\n",
    "    interval_u = predicted + tppf * predstd\n",
    "    interval_l = predicted - tppf * predstd\n",
    "    return predstd, interval_l, interval_u"
   ]
  },
  {
   "cell_type": "code",
   "execution_count": 251,
   "metadata": {
    "collapsed": false
   },
   "outputs": [],
   "source": [
    "PredStd, iv_l, iv_u = wls_prediction_std(LR_model, exog = MNL_Data)"
   ]
  },
  {
   "cell_type": "code",
   "execution_count": 252,
   "metadata": {
    "collapsed": false
   },
   "outputs": [],
   "source": [
    "MNL_Pred = LR_model.predict(exog=MNL_Data)\n",
    "MNL_Data['Pred_Eff'] = np.exp(MNL_Pred)\n",
    "MNL_Data['Pred_Eff_Std'] = PredStd\n",
    "MNL_Data['Pred_Eff_CI_up'] = np.exp(iv_u)\n",
    "MNL_Data['Pred_Eff_CI_low'] = np.exp(iv_l)"
   ]
  },
  {
   "cell_type": "code",
   "execution_count": 237,
   "metadata": {
    "collapsed": false
   },
   "outputs": [
    {
     "name": "stdout",
     "output_type": "stream",
     "text": [
      "3.94057886006\n",
      "26.5146853141\n",
      "0.736305518061\n"
     ]
    }
   ],
   "source": [
    "print MNL_Data['Pred_Eff'].mean()\n",
    "print MNL_Data['Pred_Eff'].max()\n",
    "print MNL_Data['Pred_Eff'].min()"
   ]
  },
  {
   "cell_type": "code",
   "execution_count": 255,
   "metadata": {
    "collapsed": false
   },
   "outputs": [
    {
     "name": "stdout",
     "output_type": "stream",
     "text": [
      "0.407501768397\n",
      "0.41974182067\n",
      "0.406399463871\n"
     ]
    }
   ],
   "source": [
    "print MNL_Data['Pred_Eff_Std'].mean()\n",
    "print MNL_Data['Pred_Eff_Std'].max()\n",
    "print MNL_Data['Pred_Eff_Std'].min()"
   ]
  },
  {
   "cell_type": "code",
   "execution_count": 238,
   "metadata": {
    "collapsed": false
   },
   "outputs": [
    {
     "name": "stdout",
     "output_type": "stream",
     "text": [
      "8.77516495621\n",
      "59.8338690179\n",
      "1.63310392006\n"
     ]
    }
   ],
   "source": [
    "print MNL_Data['Pred_Eff_CI_up'].mean()\n",
    "print MNL_Data['Pred_Eff_CI_up'].max()\n",
    "print MNL_Data['Pred_Eff_CI_up'].min()"
   ]
  },
  {
   "cell_type": "code",
   "execution_count": 239,
   "metadata": {
    "collapsed": false
   },
   "outputs": [
    {
     "name": "stdout",
     "output_type": "stream",
     "text": [
      "1.76960310617\n",
      "11.7496753735\n",
      "0.331972637668\n"
     ]
    }
   ],
   "source": [
    "print MNL_Data['Pred_Eff_CI_low'].mean()\n",
    "print MNL_Data['Pred_Eff_CI_low'].max()\n",
    "print MNL_Data['Pred_Eff_CI_low'].min()"
   ]
  },
  {
   "cell_type": "markdown",
   "metadata": {
    "collapsed": false
   },
   "source": [
    "### RFR"
   ]
  },
  {
   "cell_type": "code",
   "execution_count": 140,
   "metadata": {
    "collapsed": false
   },
   "outputs": [],
   "source": [
    "from sklearn.ensemble import RandomForestRegressor\n",
    "from sklearn.svm import SVR\n",
    "from sklearn.preprocessing import LabelEncoder, OneHotEncoder\n",
    "le = LabelEncoder()\n",
    "le.fit(LR_Data['OD_Clust'])\n",
    "# enc = OneHotEncoder()\n",
    "# enc.fit(le.transform(LR_Data['OD_Clust']).reshape(-1,1))  \n",
    "LR_Data['OD_Clust_numerical'] = le.transform(LR_Data['OD_Clust']) \n",
    "MNL_Data['OD_Clust_numerical'] = le.transform(MNL_Data['OD_Clust']) \n",
    "# np.hstack((LR_Data[['TS_mean', 'Rain_mean', 'Hail_mean', \n",
    "#                                  'Precipitation_mean', 'Shower_mean', \n",
    "#                                  'Ice_mean', 'Squall_mean','Season','MIT_Str',\n",
    "#                                  'BusyHour','OD_Clust_numerical']].values,pd.get_dummies(LR_Data['OD_Clust']).values)).shape\n",
    "\n",
    "rf_class = RandomForestRegressor(max_depth = 25, random_state=101, n_estimators=200, max_features=None)\n",
    "rf_model = rf_class.fit(LR_Data[['TS_mean', 'Rain_mean', 'Hail_mean', \n",
    "                                 'Precipitation_mean', 'Shower_mean', \n",
    "                                 'Ice_mean', 'Squall_mean','Season','MIT_Str',\n",
    "                                 'BusyHour','OD_Clust_numerical']], LR_Data['Efficiency'])\n",
    "rf_model.feature_importances_\n",
    "MNL_Pred = rf_model.predict(MNL_Data[['TS_mean', 'Rain_mean', 'Hail_mean', \n",
    "                                 'Precipitation_mean', 'Shower_mean', \n",
    "                                 'Ice_mean', 'Squall_mean','Season','MIT_Str',\n",
    "                                 'BusyHour','OD_Clust_numerical']])\n",
    "MNL_Data['Pred_Eff'] = MNL_Pred"
   ]
  },
  {
   "cell_type": "markdown",
   "metadata": {},
   "source": [
    "# MNL"
   ]
  },
  {
   "cell_type": "code",
   "execution_count": 246,
   "metadata": {
    "collapsed": false
   },
   "outputs": [
    {
     "name": "stdout",
     "output_type": "stream",
     "text": [
      "Log-likelihood at zero: -2,981.4878\n",
      "Initial Log-likelihood: -2,981.4878\n",
      "Estimation Time: 0.15 seconds.\n",
      "Final log-likelihood: -2,173.5367\n",
      "<bound method Summary.as_csv of <class 'statsmodels.iolib.summary.Summary'>\n",
      "\"\"\"\n",
      "                     Multinomial Logit Model Regression Results                    \n",
      "===================================================================================\n",
      "Dep. Variable:                      CHOICE   No. Observations:                1,664\n",
      "Model:             Multinomial Logit Model   Df Residuals:                    1,643\n",
      "Method:                                MLE   Df Model:                           21\n",
      "Date:                     Mon, 27 Feb 2017   Pseudo R-squ.:                   0.271\n",
      "Time:                             22:20:09   Pseudo R-bar-squ.:               0.264\n",
      "converged:                            True   Log-Likelihood:             -2,173.537\n",
      "                                             LL-Null:                    -2,981.488\n",
      "====================================================================================\n",
      "                       coef    std err          z      P>|z|      [95.0% Conf. Int.]\n",
      "------------------------------------------------------------------------------------\n",
      "MorningFlight_R0     0.7369      0.242      3.051      0.002         0.264     1.210\n",
      "MorningFlight_R1     1.2348      0.245      5.031      0.000         0.754     1.716\n",
      "MorningFlight_R2     0.7445      0.244      3.054      0.002         0.267     1.222\n",
      "MorningFlight_R3     0.9652      0.566      1.704      0.088        -0.145     2.075\n",
      "MorningFlight_R4     1.3610      0.527      2.581      0.010         0.328     2.394\n",
      "Spring_R0           -0.0276      0.285     -0.097      0.923        -0.587     0.531\n",
      "Spring_R1            0.4210      0.262      1.610      0.107        -0.092     0.934\n",
      "Spring_R2           -0.4104      0.302     -1.359      0.174        -1.002     0.182\n",
      "Spring_R3            1.8046      1.019      1.771      0.077        -0.193     3.802\n",
      "Spring_R4            1.2576      0.934      1.346      0.178        -0.573     3.089\n",
      "Summer_R0           -0.5395      0.234     -2.308      0.021        -0.998    -0.081\n",
      "Summer_R1           -0.8326      0.222     -3.754      0.000        -1.267    -0.398\n",
      "Summer_R2           -0.9389      0.252     -3.725      0.000        -1.433    -0.445\n",
      "Summer_R3            2.2062      0.888      2.485      0.013         0.466     3.947\n",
      "Summer_R4            1.6332      0.792      2.063      0.039         0.082     3.185\n",
      "Fall_R0              0.6856      0.326      2.101      0.036         0.046     1.325\n",
      "Fall_R1              0.5256      0.317      1.659      0.097        -0.095     1.146\n",
      "Fall_R2              0.6294      0.335      1.877      0.061        -0.028     1.287\n",
      "Fall_R4              1.7785      0.934      1.904      0.057        -0.053     3.609\n",
      "PredIneff           -0.1912      0.038     -5.093      0.000        -0.265    -0.118\n",
      "PredIneff_Std     -499.7729     69.208     -7.221      0.000      -635.418  -364.128\n",
      "====================================================================================\n",
      "\"\"\">\n"
     ]
    }
   ],
   "source": [
    "BaseSpec = collections.OrderedDict()\n",
    "BaseName = collections.OrderedDict()\n",
    "\n",
    "# BaseSpec['intercept'] = [0,1,2,3,4]\n",
    "# BaseName['intercept'] = ['ASC_R0','ASC_R1','ASC_R2','ASC_R3','ASC_R4']\n",
    "# BaseSpec['Efficiency'] = [0,1,2,3,4]\n",
    "# BaseName['Efficiency'] = ['Inefficiency_R0','Inefficiency_R1','Inefficiency_R2','Inefficiency_R3','Inefficiency_R4']\n",
    "\n",
    "BaseSpec['Morning'] = [0,1,2,3,4]\n",
    "BaseName['Morning'] = ['MorningFlight_R0','MorningFlight_R1','MorningFlight_R2','MorningFlight_R3','MorningFlight_R4']\n",
    "\n",
    "BaseSpec['Spring'] = [0,1,2,3,4]\n",
    "BaseName['Spring'] = ['Spring_R0','Spring_R1','Spring_R2','Spring_R3','Spring_R4']\n",
    "\n",
    "BaseSpec['Summer'] = [0,1,2,3,4]\n",
    "BaseName['Summer'] = ['Summer_R0','Summer_R1','Summer_R2','Summer_R3','Summer_R4']\n",
    "\n",
    "BaseSpec['Fall'] = [0,1,2,4]\n",
    "BaseName['Fall'] = ['Fall_R0','Fall_R1','Fall_R2','Fall_R4']\n",
    "\n",
    "# BaseSpec['CA'] = [0,1,2,3,4]\n",
    "# BaseName['CA'] = ['United_R0','United_R1','United_R2','United_R3','United_R4']\n",
    "    \n",
    "# BaseSpec['TS_mean'] = [[0,1,2,3,4,5]]\n",
    "# BaseName['TS_mean'] = ['Thunderstorm']\n",
    "\n",
    "# # BaseSpec['Hail_mean'] = [[0,1,2,3,4]]\n",
    "# # BaseName['Hail_mean'] = ['Hail']\n",
    "\n",
    "# # BaseSpec['Precipitation_mean'] = [[0,1,2,3,4]]\n",
    "# # BaseName['Precipitation_mean'] = ['Precipitation']\n",
    "\n",
    "# BaseSpec['Rain_mean'] = [[0,1,2,3,4,5]]\n",
    "# BaseName['Rain_mean'] = ['Rain']\n",
    "\n",
    "# # BaseSpec['Shower_mean'] = [[0,1,2,3,4,5]]\n",
    "# # BaseName['Shower_mean'] = ['Shower']\n",
    "\n",
    "# # BaseSpec['Ice_sum'] = [[0,1,2,3,4,5]]\n",
    "# # BaseName['Ice_sum'] = ['Ice']\n",
    "\n",
    "# # BaseSpec['Squall_mean'] = [[0,1,2,3,4,5]]\n",
    "# # BaseName['Squall_mean'] = ['Squall']\n",
    "\n",
    "# BaseSpec['Std_Wind_Dist'] = [[0,1,2,3,4,5]]\n",
    "# BaseName['Std_Wind_Dist'] = ['Std_Wind_Dist']\n",
    "\n",
    "# # BaseSpec['MIT_Count'] = [[0,1,2,3,4,5]]\n",
    "# # BaseName['MIT_Count'] = ['MIT_Count']\n",
    "\n",
    "# # BaseSpec['MITVAL'] = [[0,1,2,3,4,5]]\n",
    "# # BaseName['MITVAL'] = ['MIT_Value']\n",
    "\n",
    "# # BaseSpec['DURATION_HRS_TOT'] = [[0,1,2,3,4,5]]\n",
    "# # BaseName['DURATION_HRS_TOT'] = ['MIT_Duration']\n",
    "\n",
    "# BaseSpec['MIT_Str'] = [[0,1,2,3,4,5]]\n",
    "# BaseName['MIT_Str'] = ['MIT_Impact']\n",
    "\n",
    "BaseSpec['Pred_Eff'] = [[0,1,2,3,4,5]]\n",
    "BaseName['Pred_Eff'] = ['PredIneff']\n",
    "\n",
    "BaseSpec['Pred_Eff_Std'] = [[0,1,2,3,4,5]]\n",
    "BaseName['Pred_Eff_Std'] = ['PredIneff_Std']\n",
    "\n",
    "# BaseSpec['Pred_Eff_CI_low'] = [[0,1,2,3,4,5]]\n",
    "# BaseName['Pred_Eff_CI_low'] = ['Pred_Eff_CI_low']\n",
    "\n",
    "# BaseSpec['Pred_Eff_CI_up'] = [[0,1,2,3,4,5]]\n",
    "# BaseName['Pred_Eff_CI_up'] = ['Pred_Eff_CI_up']\n",
    "\n",
    "\n",
    "N_var = 0\n",
    "for key in BaseSpec.keys():\n",
    "    N_var += len(BaseSpec[key])\n",
    "    \n",
    "MNL_Model = pylogit.create_choice_model(data = MNL_Data[MNL_Data.OD == 'IAH_BOS'], alt_id_col = 'Alt_id',obs_id_col = 'FID_Member',\n",
    "                                        choice_col = 'CHOICE',specification = BaseSpec, model_type = 'MNL', names = BaseName)\n",
    "MNL_Model.fit_mle(np.zeros(N_var))\n",
    "Result1 = MNL_Model.get_statsmodels_summary()\n",
    "print(Result1.as_csv)"
   ]
  },
  {
   "cell_type": "code",
   "execution_count": 256,
   "metadata": {
    "collapsed": false
   },
   "outputs": [
    {
     "name": "stdout",
     "output_type": "stream",
     "text": [
      "Log-likelihood at zero: -3,103.3274\n",
      "Initial Log-likelihood: -3,103.3274\n",
      "Estimation Time: 0.15 seconds.\n",
      "Final log-likelihood: -2,154.4719\n",
      "<bound method Summary.as_csv of <class 'statsmodels.iolib.summary.Summary'>\n",
      "\"\"\"\n",
      "                     Multinomial Logit Model Regression Results                    \n",
      "===================================================================================\n",
      "Dep. Variable:                      CHOICE   No. Observations:                1,732\n",
      "Model:             Multinomial Logit Model   Df Residuals:                    1,710\n",
      "Method:                                MLE   Df Model:                           22\n",
      "Date:                     Mon, 27 Feb 2017   Pseudo R-squ.:                   0.306\n",
      "Time:                             22:41:54   Pseudo R-bar-squ.:               0.299\n",
      "converged:                            True   Log-Likelihood:             -2,154.472\n",
      "                                             LL-Null:                    -3,103.327\n",
      "====================================================================================\n",
      "                       coef    std err          z      P>|z|      [95.0% Conf. Int.]\n",
      "------------------------------------------------------------------------------------\n",
      "MorningFlight_R0     0.9724      0.152      6.418      0.000         0.675     1.269\n",
      "MorningFlight_R1    -0.0512      0.249     -0.206      0.837        -0.539     0.436\n",
      "MorningFlight_R2     0.5336      0.157      3.404      0.001         0.226     0.841\n",
      "MorningFlight_R3     0.3253      0.251      1.298      0.194        -0.166     0.816\n",
      "MorningFlight_R4     0.2499      0.405      0.617      0.537        -0.544     1.044\n",
      "Spring_R0            0.0896      0.224      0.400      0.689        -0.350     0.529\n",
      "Spring_R1            0.1932      0.298      0.648      0.517        -0.391     0.778\n",
      "Spring_R2            0.2744      0.218      1.260      0.208        -0.153     0.701\n",
      "Spring_R3            0.4136      0.310      1.334      0.182        -0.194     1.021\n",
      "Spring_R4            2.0728      0.663      3.125      0.002         0.773     3.373\n",
      "Summer_R0            0.1385      0.200      0.693      0.488        -0.253     0.530\n",
      "Summer_R1            0.1208      0.272      0.444      0.657        -0.412     0.654\n",
      "Summer_R2           -0.1261      0.201     -0.626      0.532        -0.521     0.269\n",
      "Summer_R3           -1.9290      0.482     -4.001      0.000        -2.874    -0.984\n",
      "Summer_R4            1.7148      0.662      2.591      0.010         0.417     3.012\n",
      "Fall_R0              0.7794      0.230      3.389      0.001         0.329     1.230\n",
      "Fall_R1             -0.5130      0.421     -1.219      0.223        -1.338     0.312\n",
      "Fall_R2              0.4262      0.233      1.830      0.067        -0.030     0.883\n",
      "Fall_R3             -1.4918      0.527     -2.829      0.005        -2.525    -0.458\n",
      "Fall_R4              2.1820      0.685      3.185      0.001         0.839     3.525\n",
      "PredIneff           -0.0525      0.047     -1.125      0.260        -0.144     0.039\n",
      "PredIneff_Std     -592.0858     85.486     -6.926      0.000      -759.635  -424.537\n",
      "====================================================================================\n",
      "\"\"\">\n"
     ]
    }
   ],
   "source": [
    "# BOS - IAH\n",
    "BaseSpec = collections.OrderedDict()\n",
    "BaseName = collections.OrderedDict()\n",
    "\n",
    "# BaseSpec['intercept'] = [0,1,2,3,4]\n",
    "# BaseName['intercept'] = ['ASC_R0','ASC_R1','ASC_R2','ASC_R3','ASC_R4']\n",
    "\n",
    "BaseSpec['Morning'] = [0,1,2,3,4]\n",
    "BaseName['Morning'] = ['MorningFlight_R0','MorningFlight_R1','MorningFlight_R2','MorningFlight_R3','MorningFlight_R4']\n",
    "\n",
    "BaseSpec['Spring'] = [0,1,2,3,4]\n",
    "BaseName['Spring'] = ['Spring_R0','Spring_R1','Spring_R2','Spring_R3','Spring_R4']\n",
    "\n",
    "BaseSpec['Summer'] = [0,1,2,3,4]\n",
    "BaseName['Summer'] = ['Summer_R0','Summer_R1','Summer_R2','Summer_R3','Summer_R4']\n",
    "\n",
    "BaseSpec['Fall'] = [0,1,2,3,4]\n",
    "BaseName['Fall'] = ['Fall_R0','Fall_R1','Fall_R2','Fall_R3','Fall_R4']\n",
    "    \n",
    "# BaseSpec['TS_mean'] = [[0,1,2,3,4,5]]\n",
    "# BaseName['TS_mean'] = ['Thunderstorm']\n",
    "\n",
    "# BaseSpec['Rain_mean'] = [[0,1,2,3,4,5]]\n",
    "# BaseName['Rain_mean'] = ['Rain']\n",
    "\n",
    "# BaseSpec['Std_Wind_Dist'] = [[0,1,2,3,4,5]]\n",
    "# BaseName['Std_Wind_Dist'] = ['Std_Wind_Dist']\n",
    "\n",
    "# BaseSpec['MIT_Count'] = [[0,1,2,3,4,5]]\n",
    "# BaseName['MIT_Count'] = ['MIT_Count']\n",
    "\n",
    "# BaseSpec['MITVAL'] = [[0,1,2,3,4,5]]\n",
    "# BaseName['MITVAL'] = ['MIT_Value']\n",
    "\n",
    "# BaseSpec['DURATION_HRS_TOT'] = [[0,1,2,3,4,5]]\n",
    "# BaseName['DURATION_HRS_TOT'] = ['MIT_Duration']\n",
    "\n",
    "# BaseSpec['MIT_Str'] = [[1,2,3,4,5]]\n",
    "# BaseName['MIT_Str'] = ['MIT_Impact']\n",
    "\n",
    "BaseSpec['Pred_Eff'] = [[0,1,2,3,4,5]]\n",
    "BaseName['Pred_Eff'] = ['PredIneff']\n",
    "\n",
    "BaseSpec['Pred_Eff_Std'] = [[0,1,2,3,4,5]]\n",
    "BaseName['Pred_Eff_Std'] = ['PredIneff_Std']\n",
    "\n",
    "# BaseSpec['Pred_Eff_CI_low'] = [[0,1,2,3,4,5]]\n",
    "# BaseName['Pred_Eff_CI_low'] = ['Pred_Eff_CI_low']\n",
    "\n",
    "# BaseSpec['Pred_Eff_CI_up'] = [[0,1,2,3,4,5]]\n",
    "# BaseName['Pred_Eff_CI_up'] = ['Pred_Eff_CI_up']\n",
    "\n",
    "\n",
    "N_var = 0\n",
    "for key in BaseSpec.keys():\n",
    "    N_var += len(BaseSpec[key])\n",
    "    \n",
    "MNL_Model = pylogit.create_choice_model(data = MNL_Data[MNL_Data.OD == 'BOS_IAH'], alt_id_col = 'Alt_id',obs_id_col = 'FID_Member',\n",
    "                                        choice_col = 'CHOICE',specification = BaseSpec, model_type = 'MNL', names = BaseName)\n",
    "MNL_Model.fit_mle(np.zeros(N_var))\n",
    "Result1 = MNL_Model.get_statsmodels_summary()\n",
    "print(Result1.as_csv)"
   ]
  },
  {
   "cell_type": "code",
   "execution_count": null,
   "metadata": {
    "collapsed": true
   },
   "outputs": [],
   "source": []
  },
  {
   "cell_type": "code",
   "execution_count": null,
   "metadata": {
    "collapsed": true
   },
   "outputs": [],
   "source": []
  },
  {
   "cell_type": "code",
   "execution_count": null,
   "metadata": {
    "collapsed": true
   },
   "outputs": [],
   "source": []
  },
  {
   "cell_type": "code",
   "execution_count": null,
   "metadata": {
    "collapsed": true
   },
   "outputs": [],
   "source": []
  },
  {
   "cell_type": "code",
   "execution_count": null,
   "metadata": {
    "collapsed": true
   },
   "outputs": [],
   "source": []
  },
  {
   "cell_type": "code",
   "execution_count": null,
   "metadata": {
    "collapsed": true
   },
   "outputs": [],
   "source": []
  },
  {
   "cell_type": "code",
   "execution_count": null,
   "metadata": {
    "collapsed": true
   },
   "outputs": [],
   "source": []
  },
  {
   "cell_type": "markdown",
   "metadata": {},
   "source": [
    "# Logistic Regression"
   ]
  },
  {
   "cell_type": "markdown",
   "metadata": {},
   "source": [
    "#### IAH -> BOS"
   ]
  },
  {
   "cell_type": "code",
   "execution_count": 2,
   "metadata": {
    "collapsed": false
   },
   "outputs": [
    {
     "name": "stdout",
     "output_type": "stream",
     "text": [
      "Log-likelihood at zero: -2,981.4878\n",
      "Initial Log-likelihood: -2,981.4878\n",
      "Estimation Time: 0.15 seconds.\n",
      "Final log-likelihood: -1,989.3664\n",
      "<bound method Summary.as_csv of <class 'statsmodels.iolib.summary.Summary'>\n",
      "\"\"\"\n",
      "                     Multinomial Logit Model Regression Results                    \n",
      "===================================================================================\n",
      "Dep. Variable:                      CHOICE   No. Observations:                1,664\n",
      "Model:             Multinomial Logit Model   Df Residuals:                    1,637\n",
      "Method:                                MLE   Df Model:                           27\n",
      "Date:                     Fri, 10 Feb 2017   Pseudo R-squ.:                   0.333\n",
      "Time:                             16:15:54   Pseudo R-bar-squ.:               0.324\n",
      "converged:                            True   Log-Likelihood:             -1,989.366\n",
      "                                             LL-Null:                    -2,981.488\n",
      "====================================================================================\n",
      "                       coef    std err          z      P>|z|      [95.0% Conf. Int.]\n",
      "------------------------------------------------------------------------------------\n",
      "ASC_R0               3.5323      0.317     11.127      0.000         2.910     4.155\n",
      "ASC_R1               2.7143      0.325      8.353      0.000         2.077     3.351\n",
      "ASC_R2               3.1919      0.323      9.895      0.000         2.560     3.824\n",
      "ASC_R3              -2.2657      0.764     -2.966      0.003        -3.763    -0.769\n",
      "ASC_R4              -2.7555      1.063     -2.591      0.010        -4.840    -0.671\n",
      "MorningFlight_R0     0.4919      0.255      1.933      0.053        -0.007     0.991\n",
      "MorningFlight_R1     1.1232      0.262      4.290      0.000         0.610     1.636\n",
      "MorningFlight_R2     0.6645      0.257      2.586      0.010         0.161     1.168\n",
      "MorningFlight_R3     0.6722      0.560      1.200      0.230        -0.426     1.770\n",
      "MorningFlight_R4     1.1889      0.535      2.223      0.026         0.141     2.237\n",
      "Spring_R0           -0.6455      0.379     -1.704      0.088        -1.388     0.097\n",
      "Spring_R1           -0.2013      0.387     -0.520      0.603        -0.960     0.558\n",
      "Spring_R2           -0.7836      0.385     -2.034      0.042        -1.539    -0.029\n",
      "Spring_R3            0.6820      0.961      0.710      0.478        -1.201     2.565\n",
      "Spring_R4            0.6192      1.210      0.512      0.609        -1.751     2.990\n",
      "Summer_R0           -1.3136      0.351     -3.743      0.000        -2.001    -0.626\n",
      "Summer_R1           -0.7870      0.367     -2.142      0.032        -1.507    -0.067\n",
      "Summer_R2           -1.2213      0.358     -3.411      0.001        -1.923    -0.520\n",
      "Summer_R3            1.1536      0.815      1.415      0.157        -0.444     2.751\n",
      "Summer_R4            1.4895      1.099      1.355      0.175        -0.665     3.644\n",
      "Fall_R0             -0.1285      0.408     -0.315      0.753        -0.928     0.671\n",
      "Fall_R1              0.2667      0.422      0.632      0.528        -0.561     1.094\n",
      "Fall_R2              0.2262      0.410      0.551      0.581        -0.578     1.030\n",
      "Fall_R4              1.2528      1.219      1.027      0.304        -1.137     3.643\n",
      "Thunderstorm       -31.5247      4.645     -6.787      0.000       -40.628   -22.421\n",
      "Rain                -9.2474      1.363     -6.785      0.000       -11.919    -6.576\n",
      "Std_Wind_Dist      -16.4327      1.096    -14.996      0.000       -18.580   -14.285\n",
      "====================================================================================\n",
      "\"\"\">\n"
     ]
    },
    {
     "name": "stderr",
     "output_type": "stream",
     "text": [
      "E:\\Anaconda\\Anaconda\\lib\\site-packages\\scipy\\optimize\\_minimize.py:385: RuntimeWarning: Method BFGS does not use Hessian information (hess).\n",
      "  RuntimeWarning)\n"
     ]
    }
   ],
   "source": [
    "DEP = 'IAH'\n",
    "ARR = 'BOS'\n",
    "Year = 2013\n",
    "PostMNL = PreProcessMNL(DEP, ARR, Year)\n",
    "modelset= PostMNL.GetMNL_Data()\n",
    "\n",
    "BaseSpec = collections.OrderedDict()\n",
    "BaseName = collections.OrderedDict()\n",
    "\n",
    "BaseSpec['intercept'] = [0,1,2,3,4]\n",
    "BaseName['intercept'] = ['ASC_R0','ASC_R1','ASC_R2','ASC_R3','ASC_R4']\n",
    "\n",
    "BaseSpec['Morning'] = [0,1,2,3,4]\n",
    "BaseName['Morning'] = ['MorningFlight_R0','MorningFlight_R1','MorningFlight_R2','MorningFlight_R3','MorningFlight_R4']\n",
    "\n",
    "BaseSpec['Spring'] = [0,1,2,3,4]\n",
    "BaseName['Spring'] = ['Spring_R0','Spring_R1','Spring_R2','Spring_R3','Spring_R4']\n",
    "\n",
    "BaseSpec['Summer'] = [0,1,2,3,4]\n",
    "BaseName['Summer'] = ['Summer_R0','Summer_R1','Summer_R2','Summer_R3','Summer_R4']\n",
    "\n",
    "BaseSpec['Fall'] = [0,1,2,4]\n",
    "BaseName['Fall'] = ['Fall_R0','Fall_R1','Fall_R2','Fall_R4']\n",
    "\n",
    "# BaseSpec['CA'] = [0,1,2,3,4]\n",
    "# BaseName['CA'] = ['United_R0','United_R1','United_R2','United_R3','United_R4']\n",
    "    \n",
    "BaseSpec['TS_mean'] = [[0,1,2,3,4,5]]\n",
    "BaseName['TS_mean'] = ['Thunderstorm']\n",
    "\n",
    "# BaseSpec['Hail_mean'] = [[0,1,2,3,4]]\n",
    "# BaseName['Hail_mean'] = ['Hail']\n",
    "\n",
    "# BaseSpec['Precipitation_mean'] = [[0,1,2,3,4]]\n",
    "# BaseName['Precipitation_mean'] = ['Precipitation']\n",
    "\n",
    "BaseSpec['Rain_mean'] = [[0,1,2,3,4,5]]\n",
    "BaseName['Rain_mean'] = ['Rain']\n",
    "\n",
    "# BaseSpec['Shower_mean'] = [[0,1,2,3,4,5]]\n",
    "# BaseName['Shower_mean'] = ['Shower']\n",
    "\n",
    "# BaseSpec['Ice_sum'] = [[0,1,2,3,4,5]]\n",
    "# BaseName['Ice_sum'] = ['Ice']\n",
    "\n",
    "# BaseSpec['Squall_mean'] = [[0,1,2,3,4,5]]\n",
    "# BaseName['Squall_mean'] = ['Squall']\n",
    "\n",
    "BaseSpec['Std_Wind_Dist'] = [[0,1,2,3,4,5]]\n",
    "BaseName['Std_Wind_Dist'] = ['Std_Wind_Dist']\n",
    "\n",
    "# BaseSpec['MIT_Count'] = [[0,1,2,3,4,5]]\n",
    "# BaseName['MIT_Count'] = ['MIT_Count']\n",
    "\n",
    "# BaseSpec['MITVAL'] = [[0,1,2,3,4,5]]\n",
    "# BaseName['MITVAL'] = ['MIT_Value']\n",
    "\n",
    "# BaseSpec['DURATION_HRS_TOT'] = [[0,1,2,3,4,5]]\n",
    "# BaseName['DURATION_HRS_TOT'] = ['MIT_Duration']\n",
    "\n",
    "# BaseSpec['MIT_Str'] = [[0,1,2,3,4,5]]\n",
    "# BaseName['MIT_Str'] = ['MIT_Impact']\n",
    "\n",
    "N_var = 0\n",
    "for key in BaseSpec.keys():\n",
    "    N_var += len(BaseSpec[key])\n",
    "    \n",
    "MNL_Model = pylogit.create_choice_model(data = modelset, alt_id_col = 'Alt_id',obs_id_col = 'FID_Member',\n",
    "                                        choice_col = 'CHOICE',specification = BaseSpec, model_type = 'MNL', names = BaseName)\n",
    "MNL_Model.fit_mle(np.zeros(N_var))\n",
    "Result1 = MNL_Model.get_statsmodels_summary()\n",
    "print(Result1.as_csv)\n",
    "\n",
    "# pickle.dump(MNL_Model, open( os.getcwd() + '/MNL/Estimation/MNL_' + DEP + '_' + ARR+'.p', \"wb\" ) )"
   ]
  },
  {
   "cell_type": "markdown",
   "metadata": {},
   "source": [
    "#### BOS_IAH"
   ]
  },
  {
   "cell_type": "code",
   "execution_count": 34,
   "metadata": {
    "collapsed": false
   },
   "outputs": [
    {
     "name": "stderr",
     "output_type": "stream",
     "text": [
      "E:\\Anaconda\\Anaconda\\lib\\site-packages\\IPython\\kernel\\__main__.py:30: SettingWithCopyWarning: \n",
      "A value is trying to be set on a copy of a slice from a DataFrame.\n",
      "Try using .loc[row_indexer,col_indexer] = value instead\n",
      "\n",
      "See the caveats in the documentation: http://pandas.pydata.org/pandas-docs/stable/indexing.html#indexing-view-versus-copy\n",
      "E:\\Anaconda\\Anaconda\\lib\\site-packages\\IPython\\kernel\\__main__.py:34: SettingWithCopyWarning: \n",
      "A value is trying to be set on a copy of a slice from a DataFrame.\n",
      "Try using .loc[row_indexer,col_indexer] = value instead\n",
      "\n",
      "See the caveats in the documentation: http://pandas.pydata.org/pandas-docs/stable/indexing.html#indexing-view-versus-copy\n"
     ]
    },
    {
     "name": "stdout",
     "output_type": "stream",
     "text": [
      "Log-likelihood at zero: -3,103.3274\n",
      "Initial Log-likelihood: -3,103.3274\n",
      "Estimation Time: 0.14 seconds.\n",
      "Final log-likelihood: -2,001.5202\n",
      "<bound method Summary.as_csv of <class 'statsmodels.iolib.summary.Summary'>\n",
      "\"\"\"\n",
      "                     Multinomial Logit Model Regression Results                    \n",
      "===================================================================================\n",
      "Dep. Variable:                      CHOICE   No. Observations:                1,732\n",
      "Model:             Multinomial Logit Model   Df Residuals:                    1,704\n",
      "Method:                                MLE   Df Model:                           28\n",
      "Date:                     Tue, 07 Feb 2017   Pseudo R-squ.:                   0.355\n",
      "Time:                             10:13:41   Pseudo R-bar-squ.:               0.346\n",
      "converged:                            True   Log-Likelihood:             -2,001.520\n",
      "                                             LL-Null:                    -3,103.327\n",
      "====================================================================================\n",
      "                       coef    std err          z      P>|z|      [95.0% Conf. Int.]\n",
      "------------------------------------------------------------------------------------\n",
      "ASC_R0               1.2221      0.231      5.285      0.000         0.769     1.675\n",
      "ASC_R1               0.4413      0.310      1.424      0.155        -0.166     1.049\n",
      "ASC_R2               1.0491      0.244      4.301      0.000         0.571     1.527\n",
      "ASC_R3               0.4296      0.306      1.406      0.160        -0.169     1.028\n",
      "ASC_R4              -2.3834      1.050     -2.270      0.023        -4.442    -0.325\n",
      "MorningFlight_R0     0.8835      0.174      5.072      0.000         0.542     1.225\n",
      "MorningFlight_R1    -0.0862      0.276     -0.312      0.755        -0.628     0.455\n",
      "MorningFlight_R2     0.8234      0.188      4.383      0.000         0.455     1.192\n",
      "MorningFlight_R3     0.3885      0.275      1.413      0.158        -0.150     0.927\n",
      "MorningFlight_R4     0.3547      0.421      0.843      0.399        -0.470     1.179\n",
      "Spring_R0            0.0600      0.259      0.232      0.817        -0.447     0.567\n",
      "Spring_R1            0.0255      0.384      0.066      0.947        -0.727     0.779\n",
      "Spring_R2            0.5645      0.280      2.013      0.044         0.015     1.114\n",
      "Spring_R3            0.2710      0.337      0.803      0.422        -0.390     0.932\n",
      "Spring_R4            2.0319      1.081      1.879      0.060        -0.087     4.151\n",
      "Summer_R0            0.5269      0.246      2.145      0.032         0.045     1.008\n",
      "Summer_R1            0.0888      0.359      0.247      0.805        -0.616     0.793\n",
      "Summer_R2            0.3058      0.270      1.134      0.257        -0.223     0.835\n",
      "Summer_R3           -1.9335      0.503     -3.846      0.000        -2.919    -0.948\n",
      "Summer_R4            1.9269      1.079      1.786      0.074        -0.188     4.041\n",
      "Fall_R0              0.6180      0.261      2.367      0.018         0.106     1.130\n",
      "Fall_R1             -0.7314      0.478     -1.530      0.126        -1.668     0.206\n",
      "Fall_R2              0.5891      0.287      2.052      0.040         0.027     1.152\n",
      "Fall_R3             -1.8429      0.542     -3.398      0.001        -2.906    -0.780\n",
      "Fall_R4              1.9718      1.089      1.811      0.070        -0.162     4.106\n",
      "Thunderstorm       -43.0987      5.002     -8.617      0.000       -52.902   -33.296\n",
      "Rain               -11.0424      1.405     -7.859      0.000       -13.796    -8.288\n",
      "Std_Wind_Dist      -11.7614      1.379     -8.531      0.000       -14.463    -9.059\n",
      "====================================================================================\n",
      "\"\"\">\n"
     ]
    },
    {
     "name": "stderr",
     "output_type": "stream",
     "text": [
      "E:\\Anaconda\\Anaconda\\lib\\site-packages\\IPython\\kernel\\__main__.py:35: SettingWithCopyWarning: \n",
      "A value is trying to be set on a copy of a slice from a DataFrame.\n",
      "Try using .loc[row_indexer,col_indexer] = value instead\n",
      "\n",
      "See the caveats in the documentation: http://pandas.pydata.org/pandas-docs/stable/indexing.html#indexing-view-versus-copy\n"
     ]
    }
   ],
   "source": [
    "DEP = 'BOS'\n",
    "ARR = 'IAH'\n",
    "Year = 2013\n",
    "PostMNL = PreProcessMNL(DEP, ARR, Year)\n",
    "modelset= PostMNL.GetMNL_Data()\n",
    "\n",
    "BaseSpec = collections.OrderedDict()\n",
    "BaseName = collections.OrderedDict()\n",
    "\n",
    "BaseSpec['intercept'] = [0,1,2,3,4]\n",
    "BaseName['intercept'] = ['ASC_R0','ASC_R1','ASC_R2','ASC_R3','ASC_R4']\n",
    "\n",
    "BaseSpec['Morning'] = [0,1,2,3,4]\n",
    "BaseName['Morning'] = ['MorningFlight_R0','MorningFlight_R1','MorningFlight_R2','MorningFlight_R3','MorningFlight_R4']\n",
    "\n",
    "BaseSpec['Spring'] = [0,1,2,3,4]\n",
    "BaseName['Spring'] = ['Spring_R0','Spring_R1','Spring_R2','Spring_R3','Spring_R4']\n",
    "\n",
    "BaseSpec['Summer'] = [0,1,2,3,4]\n",
    "BaseName['Summer'] = ['Summer_R0','Summer_R1','Summer_R2','Summer_R3','Summer_R4']\n",
    "\n",
    "BaseSpec['Fall'] = [0,1,2,3,4]\n",
    "BaseName['Fall'] = ['Fall_R0','Fall_R1','Fall_R2','Fall_R3','Fall_R4']\n",
    "    \n",
    "BaseSpec['TS_mean'] = [[0,1,2,3,4,5]]\n",
    "BaseName['TS_mean'] = ['Thunderstorm']\n",
    "\n",
    "BaseSpec['Rain_mean'] = [[0,1,2,3,4,5]]\n",
    "BaseName['Rain_mean'] = ['Rain']\n",
    "\n",
    "BaseSpec['Std_Wind_Dist'] = [[0,1,2,3,4,5]]\n",
    "BaseName['Std_Wind_Dist'] = ['Std_Wind_Dist']\n",
    "\n",
    "# BaseSpec['MIT_Count'] = [[0,1,2,3,4,5]]\n",
    "# BaseName['MIT_Count'] = ['MIT_Count']\n",
    "\n",
    "# BaseSpec['MITVAL'] = [[0,1,2,3,4,5]]\n",
    "# BaseName['MITVAL'] = ['MIT_Value']\n",
    "\n",
    "# BaseSpec['DURATION_HRS_TOT'] = [[0,1,2,3,4,5]]\n",
    "# BaseName['DURATION_HRS_TOT'] = ['MIT_Duration']\n",
    "\n",
    "# BaseSpec['MIT_Str'] = [[1,2,3,4,5]]\n",
    "# BaseName['MIT_Str'] = ['MIT_Impact']\n",
    "\n",
    "N_var = 0\n",
    "for key in BaseSpec.keys():\n",
    "    N_var += len(BaseSpec[key])\n",
    "    \n",
    "MNL_Model = pylogit.create_choice_model(data = modelset, alt_id_col = 'Alt_id',obs_id_col = 'FID_Member',\n",
    "                                        choice_col = 'CHOICE',specification = BaseSpec, model_type = 'MNL', names = BaseName)\n",
    "MNL_Model.fit_mle(np.zeros(N_var))\n",
    "Result1 = MNL_Model.get_statsmodels_summary()\n",
    "print(Result1.as_csv)\n",
    "\n",
    "# pickle.dump(MNL_Model, open( os.getcwd() + '/MNL/Estimation/MNL_' + DEP + '_' + ARR+'.p', \"wb\" ) )"
   ]
  },
  {
   "cell_type": "markdown",
   "metadata": {},
   "source": [
    "#### FLL-JFK"
   ]
  },
  {
   "cell_type": "code",
   "execution_count": 36,
   "metadata": {
    "collapsed": false
   },
   "outputs": [
    {
     "name": "stderr",
     "output_type": "stream",
     "text": [
      "E:\\Anaconda\\Anaconda\\lib\\site-packages\\IPython\\kernel\\__main__.py:30: SettingWithCopyWarning: \n",
      "A value is trying to be set on a copy of a slice from a DataFrame.\n",
      "Try using .loc[row_indexer,col_indexer] = value instead\n",
      "\n",
      "See the caveats in the documentation: http://pandas.pydata.org/pandas-docs/stable/indexing.html#indexing-view-versus-copy\n",
      "E:\\Anaconda\\Anaconda\\lib\\site-packages\\IPython\\kernel\\__main__.py:34: SettingWithCopyWarning: \n",
      "A value is trying to be set on a copy of a slice from a DataFrame.\n",
      "Try using .loc[row_indexer,col_indexer] = value instead\n",
      "\n",
      "See the caveats in the documentation: http://pandas.pydata.org/pandas-docs/stable/indexing.html#indexing-view-versus-copy\n"
     ]
    },
    {
     "name": "stdout",
     "output_type": "stream",
     "text": [
      "Log-likelihood at zero: -5,528.5419\n",
      "Initial Log-likelihood: -5,528.5419\n",
      "Estimation Time: 0.18 seconds.\n",
      "Final log-likelihood: -1,795.0199\n",
      "<bound method Summary.as_csv of <class 'statsmodels.iolib.summary.Summary'>\n",
      "\"\"\"\n",
      "                     Multinomial Logit Model Regression Results                    \n",
      "===================================================================================\n",
      "Dep. Variable:                      CHOICE   No. Observations:                3,988\n",
      "Model:             Multinomial Logit Model   Df Residuals:                    3,970\n",
      "Method:                                MLE   Df Model:                           18\n",
      "Date:                     Tue, 07 Feb 2017   Pseudo R-squ.:                   0.675\n",
      "Time:                             10:14:25   Pseudo R-bar-squ.:               0.672\n",
      "converged:                           False   Log-Likelihood:             -1,795.020\n",
      "                                             LL-Null:                    -5,528.542\n",
      "====================================================================================\n",
      "                       coef    std err          z      P>|z|      [95.0% Conf. Int.]\n",
      "------------------------------------------------------------------------------------\n",
      "ASC_R0               5.3936      0.417     12.936      0.000         4.576     6.211\n",
      "ASC_R1               2.2738      0.441      5.158      0.000         1.410     3.138\n",
      "ASC_R2               0.7426      0.568      1.307      0.191        -0.371     1.856\n",
      "MorningFlight_R0     0.1372      0.250      0.550      0.582        -0.352     0.626\n",
      "MorningFlight_R1     0.2811      0.265      1.059      0.289        -0.239     0.801\n",
      "MorningFlight_R2    -1.0040      0.444     -2.263      0.024        -1.874    -0.134\n",
      "Spring_R0           -0.8638      0.453     -1.907      0.057        -1.752     0.024\n",
      "Spring_R1            0.3353      0.478      0.701      0.483        -0.602     1.273\n",
      "Spring_R2           -1.2376      0.772     -1.604      0.109        -2.750     0.275\n",
      "Summer_R0           -1.2462      0.452     -2.757      0.006        -2.132    -0.360\n",
      "Summer_R1            0.1593      0.474      0.336      0.737        -0.770     1.088\n",
      "Summer_R2            0.2495      0.623      0.401      0.689        -0.971     1.470\n",
      "Fall_R0              0.3894      0.602      0.647      0.518        -0.791     1.570\n",
      "Fall_R1              1.2161      0.623      1.951      0.051        -0.006     2.438\n",
      "Fall_R2              0.4862      0.839      0.580      0.562        -1.158     2.130\n",
      "Thunderstorm       -17.9246      3.442     -5.207      0.000       -24.671   -11.178\n",
      "Rain                -3.9225      1.506     -2.605      0.009        -6.874    -0.971\n",
      "MIT_Impact          -1.3788      0.473     -2.915      0.004        -2.306    -0.452\n",
      "====================================================================================\n",
      "\"\"\">\n"
     ]
    },
    {
     "name": "stderr",
     "output_type": "stream",
     "text": [
      "E:\\Anaconda\\Anaconda\\lib\\site-packages\\IPython\\kernel\\__main__.py:35: SettingWithCopyWarning: \n",
      "A value is trying to be set on a copy of a slice from a DataFrame.\n",
      "Try using .loc[row_indexer,col_indexer] = value instead\n",
      "\n",
      "See the caveats in the documentation: http://pandas.pydata.org/pandas-docs/stable/indexing.html#indexing-view-versus-copy\n"
     ]
    }
   ],
   "source": [
    "DEP = 'FLL'\n",
    "ARR = 'JFK'\n",
    "Year = 2013\n",
    "PostMNL = PreProcessMNL(DEP, ARR, Year)\n",
    "modelset= PostMNL.GetMNL_Data()\n",
    "\n",
    "BaseSpec = collections.OrderedDict()\n",
    "BaseName = collections.OrderedDict()\n",
    "\n",
    "BaseSpec['intercept'] = [0,1,2]\n",
    "BaseName['intercept'] = ['ASC_R0','ASC_R1','ASC_R2']\n",
    "\n",
    "BaseSpec['Morning'] = [0,1,2]\n",
    "BaseName['Morning'] = ['MorningFlight_R0','MorningFlight_R1','MorningFlight_R2']\n",
    "\n",
    "BaseSpec['Spring'] = [0,1,2]\n",
    "BaseName['Spring'] = ['Spring_R0','Spring_R1','Spring_R2']\n",
    "\n",
    "BaseSpec['Summer'] = [0,1,2]\n",
    "BaseName['Summer'] = ['Summer_R0','Summer_R1','Summer_R2']\n",
    "\n",
    "BaseSpec['Fall'] = [0,1,2]\n",
    "BaseName['Fall'] = ['Fall_R0','Fall_R1','Fall_R2']\n",
    "\n",
    "# BaseSpec['CA'] = [0,1,2,3,4]\n",
    "# BaseName['CA'] = ['United_R0','United_R1','United_R2','United_R3','United_R4']\n",
    "    \n",
    "BaseSpec['TS_mean'] = [[0,1,2,3]]\n",
    "BaseName['TS_mean'] = ['Thunderstorm']\n",
    "\n",
    "# BaseSpec['Hail_mean'] = [[0,1,2]]\n",
    "# BaseName['Hail_mean'] = ['Hail']\n",
    "# BaseSpec['Precipitation_mean'] = [[0,1,2,3,4]]\n",
    "# BaseName['Precipitation_mean'] = ['Precipitation']\n",
    "\n",
    "BaseSpec['Rain_mean'] = [[0,1,2,3]]\n",
    "BaseName['Rain_mean'] = ['Rain']\n",
    "\n",
    "# BaseSpec['Squall_mean'] = [[0,1,2,3]]\n",
    "# BaseName['Squall_mean'] = ['Squall']\n",
    "\n",
    "# BaseSpec['Std_Wind_Dist'] = [[0,1,2,3]]\n",
    "# BaseName['Std_Wind_Dist'] = ['Std_Wind_Dist']\n",
    "\n",
    "# BaseSpec['MIT_Count'] = [[0,1,2,3]]\n",
    "# BaseName['MIT_Count'] = ['MIT_Count']\n",
    "\n",
    "# BaseSpec['MITVAL'] = [[0,1,2,3]]\n",
    "# BaseName['MITVAL'] = ['MIT_Value']\n",
    "\n",
    "# BaseSpec['DURATION_HRS_TOT'] = [[0,1,2,3]]\n",
    "# BaseName['DURATION_HRS_TOT'] = ['MIT_Duration']\n",
    "\n",
    "BaseSpec['MIT_Str'] = [[0,1,2,3]]\n",
    "BaseName['MIT_Str'] = ['MIT_Impact']\n",
    "\n",
    "N_var = 0\n",
    "for key in BaseSpec.keys():\n",
    "    N_var += len(BaseSpec[key])\n",
    "    \n",
    "MNL_Model = pylogit.create_choice_model(data = modelset, alt_id_col = 'Alt_id',obs_id_col = 'FID_Member',\n",
    "                                        choice_col = 'CHOICE',specification = BaseSpec, model_type = 'MNL', names = BaseName)\n",
    "MNL_Model.fit_mle(np.zeros(N_var))\n",
    "Result1 = MNL_Model.get_statsmodels_summary()\n",
    "print(Result1.as_csv)\n",
    "\n",
    "pickle.dump(MNL_Model, open( os.getcwd() + '/MNL/Estimation/MNL_' + DEP + '_' + ARR+'.p', \"wb\" ) )"
   ]
  },
  {
   "cell_type": "markdown",
   "metadata": {},
   "source": [
    "#### JFK-FLL"
   ]
  },
  {
   "cell_type": "code",
   "execution_count": 37,
   "metadata": {
    "collapsed": false
   },
   "outputs": [
    {
     "name": "stderr",
     "output_type": "stream",
     "text": [
      "E:\\Anaconda\\Anaconda\\lib\\site-packages\\IPython\\kernel\\__main__.py:30: SettingWithCopyWarning: \n",
      "A value is trying to be set on a copy of a slice from a DataFrame.\n",
      "Try using .loc[row_indexer,col_indexer] = value instead\n",
      "\n",
      "See the caveats in the documentation: http://pandas.pydata.org/pandas-docs/stable/indexing.html#indexing-view-versus-copy\n",
      "E:\\Anaconda\\Anaconda\\lib\\site-packages\\IPython\\kernel\\__main__.py:34: SettingWithCopyWarning: \n",
      "A value is trying to be set on a copy of a slice from a DataFrame.\n",
      "Try using .loc[row_indexer,col_indexer] = value instead\n",
      "\n",
      "See the caveats in the documentation: http://pandas.pydata.org/pandas-docs/stable/indexing.html#indexing-view-versus-copy\n"
     ]
    },
    {
     "name": "stdout",
     "output_type": "stream",
     "text": [
      "Log-likelihood at zero: -7,204.6648\n",
      "Initial Log-likelihood: -7,204.6648\n",
      "Estimation Time: 0.44 seconds.\n",
      "Final log-likelihood: -2,332.4358\n",
      "<bound method Summary.as_csv of <class 'statsmodels.iolib.summary.Summary'>\n",
      "\"\"\"\n",
      "                     Multinomial Logit Model Regression Results                    \n",
      "===================================================================================\n",
      "Dep. Variable:                      CHOICE   No. Observations:                4,021\n",
      "Model:             Multinomial Logit Model   Df Residuals:                    3,993\n",
      "Method:                                MLE   Df Model:                           28\n",
      "Date:                     Tue, 07 Feb 2017   Pseudo R-squ.:                   0.676\n",
      "Time:                             10:14:47   Pseudo R-bar-squ.:               0.672\n",
      "converged:                            True   Log-Likelihood:             -2,332.436\n",
      "                                             LL-Null:                    -7,204.665\n",
      "====================================================================================\n",
      "                       coef    std err          z      P>|z|      [95.0% Conf. Int.]\n",
      "------------------------------------------------------------------------------------\n",
      "ASC_R0               4.8979      0.313     15.641      0.000         4.284     5.512\n",
      "ASC_R1               0.3712      0.463      0.802      0.423        -0.536     1.278\n",
      "ASC_R2               1.6235      0.342      4.744      0.000         0.953     2.294\n",
      "ASC_R3               0.2365      0.474      0.499      0.618        -0.693     1.166\n",
      "ASC_R4              -0.6398      0.569     -1.124      0.261        -1.755     0.476\n",
      "MorningFlight_R0     0.2814      0.214      1.315      0.189        -0.138     0.701\n",
      "MorningFlight_R1    -0.7851      0.406     -1.933      0.053        -1.581     0.011\n",
      "MorningFlight_R2     0.7029      0.234      2.998      0.003         0.243     1.162\n",
      "MorningFlight_R3    -0.6416      0.325     -1.971      0.049        -1.280    -0.004\n",
      "MorningFlight_R4     0.7896      0.455      1.734      0.083        -0.103     1.682\n",
      "Spring_R0           -0.7815      0.353     -2.216      0.027        -1.473    -0.090\n",
      "Spring_R1           -0.5826      0.599     -0.973      0.331        -1.756     0.591\n",
      "Spring_R2            0.3529      0.383      0.922      0.356        -0.397     1.103\n",
      "Spring_R3            0.3789      0.545      0.695      0.487        -0.689     1.447\n",
      "Spring_R4           -0.1822      0.632     -0.288      0.773        -1.422     1.057\n",
      "Summer_R0           -1.0043      0.362     -2.772      0.006        -1.714    -0.294\n",
      "Summer_R1            0.5706      0.525      1.086      0.277        -0.459     1.600\n",
      "Summer_R2            0.3162      0.389      0.812      0.417        -0.447     1.079\n",
      "Summer_R3            1.1013      0.520      2.116      0.034         0.081     2.121\n",
      "Summer_R4           -0.1293      0.635     -0.204      0.839        -1.375     1.116\n",
      "Fall_R0             -0.5529      0.373     -1.483      0.138        -1.283     0.178\n",
      "Fall_R1             -1.6684      0.865     -1.929      0.054        -3.363     0.026\n",
      "Fall_R2             -0.3099      0.415     -0.746      0.456        -1.124     0.504\n",
      "Fall_R3              0.0397      0.592      0.067      0.947        -1.121     1.200\n",
      "Fall_R4             -1.3309      0.896     -1.486      0.137        -3.086     0.425\n",
      "Thunderstorm        -9.9196      3.078     -3.223      0.001       -15.951    -3.888\n",
      "Rain                -6.6725      1.146     -5.824      0.000        -8.918    -4.427\n",
      "MIT_Impact          -1.3927      0.351     -3.966      0.000        -2.081    -0.704\n",
      "====================================================================================\n",
      "\"\"\">\n"
     ]
    },
    {
     "name": "stderr",
     "output_type": "stream",
     "text": [
      "E:\\Anaconda\\Anaconda\\lib\\site-packages\\IPython\\kernel\\__main__.py:35: SettingWithCopyWarning: \n",
      "A value is trying to be set on a copy of a slice from a DataFrame.\n",
      "Try using .loc[row_indexer,col_indexer] = value instead\n",
      "\n",
      "See the caveats in the documentation: http://pandas.pydata.org/pandas-docs/stable/indexing.html#indexing-view-versus-copy\n"
     ]
    }
   ],
   "source": [
    "DEP = 'JFK'\n",
    "ARR = 'FLL'\n",
    "Year = 2013\n",
    "PostMNL = PreProcessMNL(DEP, ARR, Year)\n",
    "modelset= PostMNL.GetMNL_Data()\n",
    "\n",
    "BaseSpec = collections.OrderedDict()\n",
    "BaseName = collections.OrderedDict()\n",
    "\n",
    "BaseSpec['intercept'] = [0,1,2,3,4]\n",
    "BaseName['intercept'] = ['ASC_R0','ASC_R1','ASC_R2','ASC_R3','ASC_R4']\n",
    "\n",
    "BaseSpec['Morning'] = [0,1,2,3,4]\n",
    "BaseName['Morning'] = ['MorningFlight_R0','MorningFlight_R1','MorningFlight_R2','MorningFlight_R3','MorningFlight_R4']\n",
    "\n",
    "BaseSpec['Spring'] = [0,1,2,3,4]\n",
    "BaseName['Spring'] = ['Spring_R0','Spring_R1','Spring_R2','Spring_R3','Spring_R4']\n",
    "\n",
    "BaseSpec['Summer'] = [0,1,2,3,4]\n",
    "BaseName['Summer'] = ['Summer_R0','Summer_R1','Summer_R2','Summer_R3','Summer_R4']\n",
    "\n",
    "BaseSpec['Fall'] = [0,1,2,3,4]\n",
    "BaseName['Fall'] = ['Fall_R0','Fall_R1','Fall_R2','Fall_R3','Fall_R4']\n",
    "\n",
    "# BaseSpec['CA'] = [0,1,2,3,4]\n",
    "# BaseName['CA'] = ['United_R0','United_R1','United_R2','United_R3','United_R4']\n",
    "    \n",
    "BaseSpec['TS_mean'] = [[0,1,2,3,4,5]]\n",
    "BaseName['TS_mean'] = ['Thunderstorm']\n",
    "\n",
    "# BaseSpec['Hail_mean'] = [[0,1,2,3,4]]\n",
    "# BaseName['Hail_mean'] = ['Hail']\n",
    "\n",
    "# BaseSpec['Precipitation_mean'] = [[0,1,2,3,4]]\n",
    "# BaseName['Precipitation_mean'] = ['Precipitation']\n",
    "\n",
    "BaseSpec['Rain_mean'] = [[0,1,2,3,4,5]]\n",
    "BaseName['Rain_mean'] = ['Rain']\n",
    "\n",
    "# BaseSpec['Squall_mean'] = [[0,1,2,3,4,5]]\n",
    "# BaseName['Squall_mean'] = ['Squall']\n",
    "\n",
    "# BaseSpec['Std_Wind_Dist'] = [[0,1,2,3,4,5]]\n",
    "# BaseName['Std_Wind_Dist'] = ['Std_Wind_Dist']\n",
    "\n",
    "# BaseSpec['MIT_Count'] = [[0,1,2,3,4,5]]\n",
    "# BaseName['MIT_Count'] = ['MIT_Count']\n",
    "\n",
    "# BaseSpec['MITVAL'] = [[0,1,2,3,4,5]]\n",
    "# BaseName['MITVAL'] = ['MIT_Value']\n",
    "\n",
    "# BaseSpec['DURATION_HRS_TOT'] = [[0,1,2,3,4,5]]\n",
    "# BaseName['DURATION_HRS_TOT'] = ['MIT_Duration']\n",
    "\n",
    "BaseSpec['MIT_Str'] = [[0,1,2,3,4,5]]\n",
    "BaseName['MIT_Str'] = ['MIT_Impact']\n",
    "\n",
    "N_var = 0\n",
    "for key in BaseSpec.keys():\n",
    "    N_var += len(BaseSpec[key])\n",
    "    \n",
    "MNL_Model = pylogit.create_choice_model(data = modelset, alt_id_col = 'Alt_id',obs_id_col = 'FID_Member',\n",
    "                                        choice_col = 'CHOICE',specification = BaseSpec, model_type = 'MNL', names = BaseName)\n",
    "MNL_Model.fit_mle(np.zeros(N_var))\n",
    "Result1 = MNL_Model.get_statsmodels_summary()\n",
    "print(Result1.as_csv)\n",
    "\n",
    "pickle.dump(MNL_Model, open( os.getcwd() + '/MNL/Estimation/MNL_' + DEP + '_' + ARR+'.p', \"wb\" ) )"
   ]
  },
  {
   "cell_type": "markdown",
   "metadata": {},
   "source": [
    "#### JFK-LAX"
   ]
  },
  {
   "cell_type": "code",
   "execution_count": 50,
   "metadata": {
    "collapsed": false
   },
   "outputs": [
    {
     "name": "stderr",
     "output_type": "stream",
     "text": [
      "E:\\Anaconda\\Anaconda\\lib\\site-packages\\IPython\\kernel\\__main__.py:30: SettingWithCopyWarning: \n",
      "A value is trying to be set on a copy of a slice from a DataFrame.\n",
      "Try using .loc[row_indexer,col_indexer] = value instead\n",
      "\n",
      "See the caveats in the documentation: http://pandas.pydata.org/pandas-docs/stable/indexing.html#indexing-view-versus-copy\n",
      "E:\\Anaconda\\Anaconda\\lib\\site-packages\\IPython\\kernel\\__main__.py:34: SettingWithCopyWarning: \n",
      "A value is trying to be set on a copy of a slice from a DataFrame.\n",
      "Try using .loc[row_indexer,col_indexer] = value instead\n",
      "\n",
      "See the caveats in the documentation: http://pandas.pydata.org/pandas-docs/stable/indexing.html#indexing-view-versus-copy\n"
     ]
    },
    {
     "name": "stdout",
     "output_type": "stream",
     "text": [
      "Log-likelihood at zero: -19,058.9455\n",
      "Initial Log-likelihood: -19,058.9455\n",
      "Estimation Time: 2.53 seconds.\n",
      "Final log-likelihood: -15,250.6962\n",
      "<bound method Summary.as_csv of <class 'statsmodels.iolib.summary.Summary'>\n",
      "\"\"\"\n",
      "                     Multinomial Logit Model Regression Results                    \n",
      "===================================================================================\n",
      "Dep. Variable:                      CHOICE   No. Observations:               10,637\n",
      "Model:             Multinomial Logit Model   Df Residuals:                   10,607\n",
      "Method:                                MLE   Df Model:                           30\n",
      "Date:                     Mon, 06 Feb 2017   Pseudo R-squ.:                   0.200\n",
      "Time:                             21:51:16   Pseudo R-bar-squ.:               0.198\n",
      "converged:                           False   Log-Likelihood:            -15,250.696\n",
      "                                             LL-Null:                   -19,058.945\n",
      "====================================================================================\n",
      "                       coef    std err          z      P>|z|      [95.0% Conf. Int.]\n",
      "------------------------------------------------------------------------------------\n",
      "ASC_R0               0.0479      0.069      0.691      0.490        -0.088     0.184\n",
      "ASC_R1              -1.1573      0.111    -10.383      0.000        -1.376    -0.939\n",
      "ASC_R2              -0.0096      0.069     -0.138      0.890        -0.145     0.126\n",
      "ASC_R3              -1.2575      0.113    -11.173      0.000        -1.478    -1.037\n",
      "ASC_R4              -0.7222      0.085     -8.506      0.000        -0.889    -0.556\n",
      "MorningFlight_R0    -0.1163      0.056     -2.073      0.038        -0.226    -0.006\n",
      "MorningFlight_R1     0.1385      0.128      1.086      0.278        -0.112     0.388\n",
      "MorningFlight_R2     0.0028      0.065      0.043      0.966        -0.125     0.130\n",
      "MorningFlight_R3     0.1311      0.083      1.586      0.113        -0.031     0.293\n",
      "MorningFlight_R4    -0.1619      0.078     -2.063      0.039        -0.316    -0.008\n",
      "Spring_R0           -0.0795      0.085     -0.938      0.348        -0.246     0.087\n",
      "Spring_R1           -0.4890      0.167     -2.937      0.003        -0.815    -0.163\n",
      "Spring_R2            0.1272      0.088      1.452      0.147        -0.045     0.299\n",
      "Spring_R3           -0.0686      0.140     -0.492      0.623        -0.342     0.205\n",
      "Spring_R4            0.1402      0.106      1.317      0.188        -0.069     0.349\n",
      "Summer_R0            0.2776      0.087      3.189      0.001         0.107     0.448\n",
      "Summer_R1           -2.6569      0.421     -6.307      0.000        -3.483    -1.831\n",
      "Summer_R2           -0.3838      0.096     -3.983      0.000        -0.573    -0.195\n",
      "Summer_R3            0.7644      0.131      5.837      0.000         0.508     1.021\n",
      "Summer_R4           -0.0387      0.111     -0.349      0.727        -0.256     0.179\n",
      "Fall_R0              0.3186      0.078      4.072      0.000         0.165     0.472\n",
      "Fall_R1             -0.6860      0.162     -4.234      0.000        -1.004    -0.368\n",
      "Fall_R2             -0.3668      0.091     -4.042      0.000        -0.545    -0.189\n",
      "Fall_R3              0.2574      0.131      1.960      0.050      3.58e-05     0.515\n",
      "Fall_R4             -0.6763      0.121     -5.601      0.000        -0.913    -0.440\n",
      "Thunderstorm       -22.5427      2.385     -9.450      0.000       -27.218   -17.867\n",
      "Rain                -5.8548      0.713     -8.208      0.000        -7.253    -4.457\n",
      "Squall            -211.4902     81.913     -2.582      0.010      -372.036   -50.944\n",
      "Std_Wind_Dist      -13.6462      0.517    -26.401      0.000       -14.659   -12.633\n",
      "MIT_Impact          -0.0007      0.001     -0.886      0.376        -0.002     0.001\n",
      "====================================================================================\n",
      "\"\"\">\n"
     ]
    }
   ],
   "source": [
    "DEP = 'JFK'\n",
    "ARR = 'LAX'\n",
    "Year = 2013\n",
    "PostMNL = PreProcessMNL(DEP, ARR, Year)\n",
    "modelset= PostMNL.GetMNL_Data()\n",
    "\n",
    "BaseSpec = collections.OrderedDict()\n",
    "BaseName = collections.OrderedDict()\n",
    "\n",
    "BaseSpec['intercept'] = [0,1,2,3,4]\n",
    "BaseName['intercept'] = ['ASC_R0','ASC_R1','ASC_R2','ASC_R3','ASC_R4']\n",
    "\n",
    "BaseSpec['Morning'] = [0,1,2,3,4]\n",
    "BaseName['Morning'] = ['MorningFlight_R0','MorningFlight_R1','MorningFlight_R2','MorningFlight_R3','MorningFlight_R4']\n",
    "\n",
    "BaseSpec['Spring'] = [0,1,2,3,4]\n",
    "BaseName['Spring'] = ['Spring_R0','Spring_R1','Spring_R2','Spring_R3','Spring_R4']\n",
    "\n",
    "BaseSpec['Summer'] = [0,1,2,3,4]\n",
    "BaseName['Summer'] = ['Summer_R0','Summer_R1','Summer_R2','Summer_R3','Summer_R4']\n",
    "\n",
    "BaseSpec['Fall'] = [0,1,2,3,4]\n",
    "BaseName['Fall'] = ['Fall_R0','Fall_R1','Fall_R2','Fall_R3','Fall_R4']\n",
    "\n",
    "# BaseSpec['CA'] = [0,1,2,3,4]\n",
    "# BaseName['CA'] = ['United_R0','United_R1','United_R2','United_R3','United_R4']\n",
    "    \n",
    "BaseSpec['TS_mean'] = [[0,1,2,3,4,5]]\n",
    "BaseName['TS_mean'] = ['Thunderstorm']\n",
    "\n",
    "# BaseSpec['Hail_mean'] = [[0,1,2,3]]\n",
    "# BaseName['Hail_mean'] = ['Hail']\n",
    "# BaseSpec['Precipitation_mean'] = [[0,1,2,3,4]]\n",
    "# BaseName['Precipitation_mean'] = ['Precipitation']\n",
    "\n",
    "BaseSpec['Rain_mean'] = [[0,1,2,3,4,5]]\n",
    "BaseName['Rain_mean'] = ['Rain']\n",
    "\n",
    "BaseSpec['Squall_mean'] = [[0,1,2,3,4,5]]\n",
    "BaseName['Squall_mean'] = ['Squall']\n",
    "\n",
    "BaseSpec['Std_Wind_Dist'] = [[0,1,2,3,4,5]]\n",
    "BaseName['Std_Wind_Dist'] = ['Std_Wind_Dist']\n",
    "\n",
    "# BaseSpec['MIT_Count'] = [[0,1,2,3,4]]\n",
    "# BaseName['MIT_Count'] = ['MIT_Count']\n",
    "\n",
    "# BaseSpec['MITVAL'] = [[0,1,2,3,4]]\n",
    "# BaseName['MITVAL'] = ['MIT_Value']\n",
    "\n",
    "# BaseSpec['DURATION_HRS_TOT'] = [[0,1,2,3,4]]\n",
    "# BaseName['DURATION_HRS_TOT'] = ['MIT_Duration']\n",
    "\n",
    "BaseSpec['MIT_Str'] = [[0,1,2,3,4,5]]\n",
    "BaseName['MIT_Str'] = ['MIT_Impact']\n",
    "\n",
    "N_var = 0\n",
    "for key in BaseSpec.keys():\n",
    "    N_var += len(BaseSpec[key])\n",
    "    \n",
    "MNL_Model = pylogit.create_choice_model(data = modelset, alt_id_col = 'Alt_id',obs_id_col = 'FID_Member',\n",
    "                                        choice_col = 'CHOICE',specification = BaseSpec, model_type = 'MNL', names = BaseName)\n",
    "MNL_Model.fit_mle(np.zeros(N_var))\n",
    "Result1 = MNL_Model.get_statsmodels_summary()\n",
    "print(Result1.as_csv)\n",
    "\n",
    "# pickle.dump(MNL_Model, open( os.getcwd() + '/MNL/Estimation/MNL_' + DEP + '_' + ARR+'.p', \"wb\" ) )"
   ]
  },
  {
   "cell_type": "markdown",
   "metadata": {},
   "source": [
    "#### LAX-JFK"
   ]
  },
  {
   "cell_type": "code",
   "execution_count": 49,
   "metadata": {
    "collapsed": false
   },
   "outputs": [
    {
     "name": "stderr",
     "output_type": "stream",
     "text": [
      "E:\\Anaconda\\Anaconda\\lib\\site-packages\\IPython\\kernel\\__main__.py:30: SettingWithCopyWarning: \n",
      "A value is trying to be set on a copy of a slice from a DataFrame.\n",
      "Try using .loc[row_indexer,col_indexer] = value instead\n",
      "\n",
      "See the caveats in the documentation: http://pandas.pydata.org/pandas-docs/stable/indexing.html#indexing-view-versus-copy\n",
      "E:\\Anaconda\\Anaconda\\lib\\site-packages\\IPython\\kernel\\__main__.py:34: SettingWithCopyWarning: \n",
      "A value is trying to be set on a copy of a slice from a DataFrame.\n",
      "Try using .loc[row_indexer,col_indexer] = value instead\n",
      "\n",
      "See the caveats in the documentation: http://pandas.pydata.org/pandas-docs/stable/indexing.html#indexing-view-versus-copy\n"
     ]
    },
    {
     "name": "stdout",
     "output_type": "stream",
     "text": [
      "Log-likelihood at zero: -16,685.0428\n",
      "Initial Log-likelihood: -16,685.0428\n",
      "Estimation Time: 2.41 seconds.\n",
      "Final log-likelihood: -13,813.6127\n",
      "<bound method Summary.as_csv of <class 'statsmodels.iolib.summary.Summary'>\n",
      "\"\"\"\n",
      "                     Multinomial Logit Model Regression Results                    \n",
      "===================================================================================\n",
      "Dep. Variable:                      CHOICE   No. Observations:               10,367\n",
      "Model:             Multinomial Logit Model   Df Residuals:                   10,342\n",
      "Method:                                MLE   Df Model:                           25\n",
      "Date:                     Mon, 06 Feb 2017   Pseudo R-squ.:                   0.172\n",
      "Time:                             21:23:02   Pseudo R-bar-squ.:               0.171\n",
      "converged:                           False   Log-Likelihood:            -13,813.613\n",
      "                                             LL-Null:                   -16,685.043\n",
      "====================================================================================\n",
      "                       coef    std err          z      P>|z|      [95.0% Conf. Int.]\n",
      "------------------------------------------------------------------------------------\n",
      "ASC_R0              -0.4399      0.074     -5.916      0.000        -0.586    -0.294\n",
      "ASC_R1              -0.1983      0.072     -2.771      0.006        -0.339    -0.058\n",
      "ASC_R2              -1.2232      0.106    -11.555      0.000        -1.431    -1.016\n",
      "ASC_R3               1.0478      0.067     15.643      0.000         0.917     1.179\n",
      "MorningFlight_R0     0.1345      0.072      1.863      0.063        -0.007     0.276\n",
      "MorningFlight_R1    -0.0902      0.063     -1.437      0.151        -0.213     0.033\n",
      "MorningFlight_R2    -0.4752      0.110     -4.318      0.000        -0.691    -0.259\n",
      "MorningFlight_R3    -0.5007      0.055     -9.038      0.000        -0.609    -0.392\n",
      "Spring_R0            0.3680      0.096      3.838      0.000         0.180     0.556\n",
      "Spring_R1            0.4730      0.092      5.164      0.000         0.294     0.653\n",
      "Spring_R2            0.3266      0.150      2.172      0.030         0.032     0.621\n",
      "Spring_R3            0.3071      0.082      3.735      0.000         0.146     0.468\n",
      "Summer_R0           -0.0942      0.118     -0.798      0.425        -0.326     0.137\n",
      "Summer_R1            0.9514      0.095     10.064      0.000         0.766     1.137\n",
      "Summer_R2            0.0133      0.179      0.075      0.941        -0.337     0.363\n",
      "Summer_R3            0.8598      0.087      9.889      0.000         0.689     1.030\n",
      "Fall_R0              0.3899      0.094      4.137      0.000         0.205     0.575\n",
      "Fall_R1              0.7425      0.089      8.361      0.000         0.568     0.917\n",
      "Fall_R2              0.6428      0.136      4.721      0.000         0.376     0.910\n",
      "Fall_R3              0.4887      0.081      6.057      0.000         0.331     0.647\n",
      "ThunderStorm       -40.0845      2.903    -13.810      0.000       -45.773   -34.396\n",
      "Rain                -5.6771      0.676     -8.396      0.000        -7.002    -4.352\n",
      "Squall            -141.8960     79.197     -1.792      0.073      -297.118    13.327\n",
      "Std_Wind_Dist      -12.7053      0.639    -19.875      0.000       -13.958   -11.452\n",
      "MIT_Impact           0.0009      0.000      3.040      0.002         0.000     0.001\n",
      "====================================================================================\n",
      "\"\"\">\n"
     ]
    }
   ],
   "source": [
    "DEP = 'LAX'\n",
    "ARR = 'JFK'\n",
    "Year = 2013\n",
    "PostMNL = PreProcessMNL(DEP, ARR, Year)\n",
    "modelset= PostMNL.GetMNL_Data()\n",
    "\n",
    "BaseSpec = collections.OrderedDict()\n",
    "BaseName = collections.OrderedDict()\n",
    "\n",
    "BaseSpec['intercept'] = [0,1,2,3]\n",
    "BaseName['intercept'] = ['ASC_R0','ASC_R1','ASC_R2','ASC_R3']\n",
    "\n",
    "BaseSpec['Morning'] = [0,1,2,3]\n",
    "BaseName['Morning'] = ['MorningFlight_R0','MorningFlight_R1','MorningFlight_R2','MorningFlight_R3']\n",
    "\n",
    "BaseSpec['Spring'] = [0,1,2,3]\n",
    "BaseName['Spring'] = ['Spring_R0','Spring_R1','Spring_R2','Spring_R3']\n",
    "\n",
    "BaseSpec['Summer'] = [0,1,2,3]\n",
    "BaseName['Summer'] = ['Summer_R0','Summer_R1','Summer_R2','Summer_R3']\n",
    "\n",
    "BaseSpec['Fall'] = [0,1,2,3]\n",
    "BaseName['Fall'] = ['Fall_R0','Fall_R1','Fall_R2','Fall_R3']\n",
    "\n",
    "# BaseSpec['CA'] = [0,1,2,3,4]\n",
    "# BaseName['CA'] = ['United_R0','United_R1','United_R2','United_R3','United_R4']\n",
    "    \n",
    "BaseSpec['TS_mean'] = [[0,1,2,3,4]]\n",
    "BaseName['TS_mean'] = ['ThunderStorm']\n",
    "\n",
    "# BaseSpec['Hail_mean'] = [[0,1,2,3,4]]\n",
    "# BaseName['Hail_mean'] = ['Hail']\n",
    "\n",
    "BaseSpec['Rain_mean'] = [[0,1,2,3,4]]\n",
    "BaseName['Rain_mean'] = ['Rain']\n",
    "\n",
    "BaseSpec['Squall_mean'] = [[0,1,2,3,4]]\n",
    "BaseName['Squall_mean'] = ['Squall']\n",
    "\n",
    "BaseSpec['Std_Wind_Dist'] = [[0,1,2,3,4]]\n",
    "BaseName['Std_Wind_Dist'] = ['Std_Wind_Dist']\n",
    "\n",
    "# BaseSpec['MIT_Count'] = [[0,1,2,3,4]]\n",
    "# BaseName['MIT_Count'] = ['MIT_Count']\n",
    "\n",
    "# BaseSpec['MITVAL'] = [[0,1,2,3,4]]\n",
    "# BaseName['MITVAL'] = ['MIT_Value']\n",
    "\n",
    "# BaseSpec['DURATION_HRS_TOT'] = [[0,1,2,3,4]]\n",
    "# BaseName['DURATION_HRS_TOT'] = ['MIT_Duration']\n",
    "\n",
    "BaseSpec['MIT_Str'] = [[0,1,2,3,4]]\n",
    "BaseName['MIT_Str'] = ['MIT_Impact']\n",
    "\n",
    "N_var = 0\n",
    "for key in BaseSpec.keys():\n",
    "    N_var += len(BaseSpec[key])\n",
    "    \n",
    "MNL_Model = pylogit.create_choice_model(data = modelset, alt_id_col = 'Alt_id',obs_id_col = 'FID_Member',\n",
    "                                        choice_col = 'CHOICE',specification = BaseSpec, model_type = 'MNL', names = BaseName)\n",
    "MNL_Model.fit_mle(np.zeros(N_var))\n",
    "Result1 = MNL_Model.get_statsmodels_summary()\n",
    "print(Result1.as_csv)\n",
    "\n",
    "# pickle.dump(MNL_Model, open( os.getcwd() + '/MNL/Estimation/MNL_' + DEP + '_' + ARR+'.p', \"wb\" ) )"
   ]
  },
  {
   "cell_type": "markdown",
   "metadata": {},
   "source": [
    "### DCA -> ORD"
   ]
  },
  {
   "cell_type": "code",
   "execution_count": 9,
   "metadata": {
    "collapsed": false
   },
   "outputs": [
    {
     "name": "stderr",
     "output_type": "stream",
     "text": [
      "E:\\Anaconda\\Anaconda\\lib\\site-packages\\IPython\\kernel\\__main__.py:29: SettingWithCopyWarning: \n",
      "A value is trying to be set on a copy of a slice from a DataFrame.\n",
      "Try using .loc[row_indexer,col_indexer] = value instead\n",
      "\n",
      "See the caveats in the documentation: http://pandas.pydata.org/pandas-docs/stable/indexing.html#indexing-view-versus-copy\n",
      "E:\\Anaconda\\Anaconda\\lib\\site-packages\\IPython\\kernel\\__main__.py:33: SettingWithCopyWarning: \n",
      "A value is trying to be set on a copy of a slice from a DataFrame.\n",
      "Try using .loc[row_indexer,col_indexer] = value instead\n",
      "\n",
      "See the caveats in the documentation: http://pandas.pydata.org/pandas-docs/stable/indexing.html#indexing-view-versus-copy\n"
     ]
    },
    {
     "name": "stdout",
     "output_type": "stream",
     "text": [
      "Log-likelihood at zero: -13,155.0980\n",
      "Initial Log-likelihood: -13,155.0980\n",
      "Estimation Time: 1.95 seconds.\n",
      "Final log-likelihood: -1,448.4786\n"
     ]
    },
    {
     "data": {
      "text/plain": [
       "<bound method Summary.as_csv of <class 'statsmodels.iolib.summary.Summary'>\n",
       "\"\"\"\n",
       "                     Multinomial Logit Model Regression Results                    \n",
       "===================================================================================\n",
       "Dep. Variable:                      CHOICE   No. Observations:                7,342\n",
       "Model:             Multinomial Logit Model   Df Residuals:                    7,312\n",
       "Method:                                MLE   Df Model:                           30\n",
       "Date:                     Thu, 19 Jan 2017   Pseudo R-squ.:                   0.890\n",
       "Time:                             20:41:23   Pseudo R-bar-squ.:               0.888\n",
       "converged:                            True   Log-Likelihood:             -1,448.479\n",
       "                                             LL-Null:                   -13,155.098\n",
       "====================================================================================\n",
       "                       coef    std err          z      P>|z|      [95.0% Conf. Int.]\n",
       "------------------------------------------------------------------------------------\n",
       "ASC_R0               5.5406      1.247      4.444      0.000         3.097     7.984\n",
       "ASC_R1              -0.5652      1.236     -0.457      0.647        -2.987     1.857\n",
       "ASC_R2              -2.7894      1.490     -1.872      0.061        -5.711     0.132\n",
       "ASC_R3              -2.3894      1.429     -1.672      0.094        -5.190     0.411\n",
       "ASC_R4              -5.3361      2.309     -2.311      0.021        -9.862    -0.810\n",
       "MorningFlight_R0     0.3619      0.171      2.118      0.034         0.027     0.697\n",
       "MorningFlight_R1    -0.7690      0.265     -2.905      0.004        -1.288    -0.250\n",
       "MorningFlight_R2    -0.7381      0.512     -1.441      0.150        -1.742     0.266\n",
       "MorningFlight_R3    -1.5294      0.646     -2.369      0.018        -2.795    -0.264\n",
       "MorningFlight_R4     1.2869      0.834      1.543      0.123        -0.348     2.922\n",
       "Spring_R0           -2.2178      0.428     -5.183      0.000        -3.056    -1.379\n",
       "Summer_R0           -2.3466      0.451     -5.204      0.000        -3.230    -1.463\n",
       "Summer_R1            0.6468      0.285      2.271      0.023         0.089     1.205\n",
       "Summer_R2            1.3397      0.682      1.965      0.049         0.003     2.676\n",
       "Summer_R3            1.0055      0.600      1.676      0.094        -0.171     2.182\n",
       "Summer_R4            1.7451      1.099      1.588      0.112        -0.409     3.899\n",
       "Fall_R0             -2.2646      0.463     -4.887      0.000        -3.173    -1.356\n",
       "Fall_R1             -1.2446      0.441     -2.820      0.005        -2.110    -0.380\n",
       "Fall_R2              0.8779      0.729      1.205      0.228        -0.550     2.306\n",
       "Fall_R3             -0.2592      0.798     -0.325      0.745        -1.824     1.306\n",
       "Fall_R4              0.0274      1.434      0.019      0.985        -2.782     2.837\n",
       "United_R0           -0.0339      0.165     -0.205      0.837        -0.358     0.290\n",
       "United_R1            0.0651      0.242      0.269      0.788        -0.409     0.540\n",
       "United_R2           -0.1222      0.467     -0.262      0.793        -1.037     0.792\n",
       "United_R3           -0.3600      0.469     -0.767      0.443        -1.280     0.560\n",
       "United_R4            0.0220      0.727      0.030      0.976        -1.402     1.446\n",
       "Thunderstorm       -47.2804      2.803    -16.868      0.000       -52.774   -41.787\n",
       "Rain                 2.3066      1.374      1.679      0.093        -0.386     4.999\n",
       "Std_Wind_Dist        1.4782      2.257      0.655      0.513        -2.946     5.903\n",
       "MIT_Impact          -1.1736   1.21e+04   -9.7e-05      1.000     -2.37e+04  2.37e+04\n",
       "====================================================================================\n",
       "\"\"\">"
      ]
     },
     "execution_count": 9,
     "metadata": {},
     "output_type": "execute_result"
    }
   ],
   "source": [
    "DEP = 'DCA'\n",
    "ARR = 'ORD'\n",
    "Year = 2013\n",
    "PostMNL = PreProcessMNL(DEP, ARR, Year)\n",
    "modelset= PostMNL.GetMNL_Data()\n",
    "\n",
    "BaseSpec = collections.OrderedDict()\n",
    "BaseName = collections.OrderedDict()\n",
    "\n",
    "BaseSpec['intercept'] = [0,1,2,3,4]\n",
    "BaseName['intercept'] = ['ASC_R0','ASC_R1','ASC_R2','ASC_R3','ASC_R4']\n",
    "\n",
    "BaseSpec['Morning'] = [0,1,2,3,4]\n",
    "BaseName['Morning'] = ['MorningFlight_R0','MorningFlight_R1','MorningFlight_R2','MorningFlight_R3','MorningFlight_R4']\n",
    "\n",
    "BaseSpec['Spring'] = [0]\n",
    "BaseName['Spring'] = ['Spring_R0']\n",
    "\n",
    "BaseSpec['Summer'] = [0,1,2,3,4]\n",
    "BaseName['Summer'] = ['Summer_R0','Summer_R1','Summer_R2','Summer_R3','Summer_R4']\n",
    "\n",
    "BaseSpec['Fall'] = [0,1,2,3,4]\n",
    "BaseName['Fall'] = ['Fall_R0','Fall_R1','Fall_R2','Fall_R3','Fall_R4']\n",
    "\n",
    "BaseSpec['CA'] = [0,1,2,3,4]\n",
    "BaseName['CA'] = ['United_R0','United_R1','United_R2','United_R3','United_R4']\n",
    "    \n",
    "BaseSpec['TS_mean'] = [[0,1,2,3,4]]\n",
    "BaseName['TS_mean'] = ['Thunderstorm']\n",
    "\n",
    "BaseSpec['Rain_mean'] = [[0,1,2,3,4]]\n",
    "BaseName['Rain_mean'] = ['Rain']\n",
    "\n",
    "BaseSpec['Std_Wind_Dist'] = [[0,1,2,3,4]]\n",
    "BaseName['Std_Wind_Dist'] = ['Std_Wind_Dist']\n",
    "\n",
    "# BaseSpec['MIT_Count'] = [[0,1,2,3,4]]\n",
    "# BaseName['MIT_Count'] = ['MIT_Count']\n",
    "\n",
    "# BaseSpec['MITVAL'] = [[4]]\n",
    "# BaseName['MITVAL'] = ['MIT_Value']\n",
    "\n",
    "# BaseSpec['DURATION_HRS_TOT'] = [[0,1,2,3,4]]\n",
    "# BaseName['DURATION_HRS_TOT'] = ['MIT_Duration']\n",
    "\n",
    "# BaseSpec['MIT_Impact'] = [[4]]\n",
    "# BaseName['MIT_Impact'] = ['MIT_Impact']\n",
    "\n",
    "N_var = 0\n",
    "for key in BaseSpec.keys():\n",
    "    N_var += len(BaseSpec[key])\n",
    "    \n",
    "MNL_Model = pylogit.create_choice_model(data = modelset, alt_id_col = 'Alt_id',obs_id_col = 'FID_Member',\n",
    "                                        choice_col = 'CHOICE',specification = BaseSpec, model_type = 'MNL', names = BaseName)\n",
    "MNL_Model.fit_mle(np.zeros(N_var))\n",
    "Result1 = MNL_Model.get_statsmodels_summary()\n",
    "print(Result1.as_csv)\n",
    "\n",
    "pickle.dump(MNL_Model, open( os.getcwd() + '/MNL/Estimation/MNL_' + DEP + '_' + ARR+'.p', \"wb\" ) )"
   ]
  },
  {
   "cell_type": "markdown",
   "metadata": {},
   "source": [
    "### ORD -> DCA"
   ]
  },
  {
   "cell_type": "code",
   "execution_count": 10,
   "metadata": {
    "collapsed": false
   },
   "outputs": [
    {
     "name": "stderr",
     "output_type": "stream",
     "text": [
      "E:\\Anaconda\\Anaconda\\lib\\site-packages\\IPython\\kernel\\__main__.py:29: SettingWithCopyWarning: \n",
      "A value is trying to be set on a copy of a slice from a DataFrame.\n",
      "Try using .loc[row_indexer,col_indexer] = value instead\n",
      "\n",
      "See the caveats in the documentation: http://pandas.pydata.org/pandas-docs/stable/indexing.html#indexing-view-versus-copy\n",
      "E:\\Anaconda\\Anaconda\\lib\\site-packages\\IPython\\kernel\\__main__.py:33: SettingWithCopyWarning: \n",
      "A value is trying to be set on a copy of a slice from a DataFrame.\n",
      "Try using .loc[row_indexer,col_indexer] = value instead\n",
      "\n",
      "See the caveats in the documentation: http://pandas.pydata.org/pandas-docs/stable/indexing.html#indexing-view-versus-copy\n"
     ]
    },
    {
     "name": "stdout",
     "output_type": "stream",
     "text": [
      "Log-likelihood at zero: -11,756.9440\n",
      "Initial Log-likelihood: -11,756.9440\n",
      "Estimation Time: 1.34 seconds.\n",
      "Final log-likelihood: -1,164.1833\n"
     ]
    },
    {
     "data": {
      "text/plain": [
       "<bound method Summary.as_csv of <class 'statsmodels.iolib.summary.Summary'>\n",
       "\"\"\"\n",
       "                     Multinomial Logit Model Regression Results                    \n",
       "===================================================================================\n",
       "Dep. Variable:                      CHOICE   No. Observations:                7,305\n",
       "Model:             Multinomial Logit Model   Df Residuals:                    7,283\n",
       "Method:                                MLE   Df Model:                           22\n",
       "Date:                     Thu, 19 Jan 2017   Pseudo R-squ.:                   0.901\n",
       "Time:                             20:42:02   Pseudo R-bar-squ.:               0.899\n",
       "converged:                           False   Log-Likelihood:             -1,164.183\n",
       "                                             LL-Null:                   -11,756.944\n",
       "====================================================================================\n",
       "                       coef    std err          z      P>|z|      [95.0% Conf. Int.]\n",
       "------------------------------------------------------------------------------------\n",
       "ASC_R0              -0.6137      2.601     -0.236      0.813        -5.712     4.484\n",
       "ASC_R1              -7.7096      2.991     -2.578      0.010       -13.571    -1.848\n",
       "ASC_R2              -8.6487      2.944     -2.938      0.003       -14.418    -2.879\n",
       "ASC_R3              -8.9428      2.920     -3.062      0.002       -14.667    -3.219\n",
       "MorningFlight_R0     0.8082      0.293      2.755      0.006         0.233     1.383\n",
       "MorningFlight_R1     0.1624      0.365      0.444      0.657        -0.554     0.879\n",
       "MorningFlight_R2     1.0198      0.377      2.704      0.007         0.281     1.759\n",
       "MorningFlight_R3    -1.1117      1.094     -1.017      0.309        -3.255     1.032\n",
       "Spring_R0           -0.9458      0.565     -1.673      0.094        -2.054     0.162\n",
       "Spring_R1           -0.4156      0.891     -0.466      0.641        -2.162     1.331\n",
       "Spring_R2            1.4523      1.182      1.229      0.219        -0.864     3.768\n",
       "Summer_R0           -1.8932      0.560     -3.378      0.001        -2.992    -0.795\n",
       "Summer_R1            1.0139      0.811      1.250      0.211        -0.576     2.604\n",
       "Summer_R2            1.6941      1.156      1.466      0.143        -0.572     3.960\n",
       "Summer_R3            0.4563      0.744      0.613      0.540        -1.002     1.915\n",
       "Fall_R0             -0.1518      0.653     -0.232      0.816        -1.432     1.129\n",
       "Fall_R1              1.2473      0.905      1.379      0.168        -0.526     3.021\n",
       "Fall_R2              2.0478      1.232      1.662      0.097        -0.367     4.463\n",
       "Thunderstorm       -36.6053      3.731     -9.812      0.000       -43.917   -29.293\n",
       "Rain                -8.9886      1.308     -6.870      0.000       -11.553    -6.424\n",
       "Std_Wind_Dist       13.2193      4.527      2.920      0.004         4.346    22.093\n",
       "MIT_Impact          -0.0070      0.021     -0.325      0.746        -0.049     0.035\n",
       "====================================================================================\n",
       "\"\"\">"
      ]
     },
     "execution_count": 10,
     "metadata": {},
     "output_type": "execute_result"
    }
   ],
   "source": [
    "DEP = 'ORD'\n",
    "ARR = 'DCA'\n",
    "Year = 2013\n",
    "PostMNL = PreProcessMNL(DEP, ARR, Year)\n",
    "modelset= PostMNL.GetMNL_Data()\n",
    "\n",
    "BaseSpec = collections.OrderedDict()\n",
    "BaseName = collections.OrderedDict()\n",
    "\n",
    "BaseSpec['intercept'] = [0,1,2,3]\n",
    "BaseName['intercept'] = ['ASC_R0','ASC_R1','ASC_R2','ASC_R3']\n",
    "\n",
    "BaseSpec['Morning'] = [0,1,2,3]\n",
    "BaseName['Morning'] = ['MorningFlight_R0','MorningFlight_R1','MorningFlight_R2','MorningFlight_R3']\n",
    "\n",
    "BaseSpec['Spring'] = [0,1,2]\n",
    "BaseName['Spring'] = ['Spring_R0','Spring_R1','Spring_R2']\n",
    "\n",
    "BaseSpec['Summer'] = [0,1,2,3]\n",
    "BaseName['Summer'] = ['Summer_R0','Summer_R1','Summer_R2','Summer_R3']\n",
    "\n",
    "BaseSpec['Fall'] = [0,1,2]\n",
    "BaseName['Fall'] = ['Fall_R0','Fall_R1','Fall_R2']\n",
    "\n",
    "# BaseSpec['CA'] = [0,1,2,3,4]\n",
    "# BaseName['CA'] = ['United_R0','United_R1','United_R2','United_R3','United_R4']\n",
    "    \n",
    "BaseSpec['TS_mean'] = [[0,1,2,3]]\n",
    "BaseName['TS_mean'] = ['Thunderstorm']\n",
    "\n",
    "# BaseSpec['Hail_mean'] = [[0,1,2,3]]\n",
    "# BaseName['Hail_mean'] = ['Hail']\n",
    "# BaseSpec['Precipitation_mean'] = [[0,1,2,3,4]]\n",
    "# BaseName['Precipitation_mean'] = ['Precipitation']\n",
    "\n",
    "BaseSpec['Rain_mean'] = [[0,1,2,3]]\n",
    "BaseName['Rain_mean'] = ['Rain']\n",
    "\n",
    "BaseSpec['Std_Wind_Dist'] = [[0,1,2,3]]\n",
    "BaseName['Std_Wind_Dist'] = ['Std_Wind_Dist']\n",
    "\n",
    "# BaseSpec['MIT_Count'] = [[0,1,2,3,4]]\n",
    "# BaseName['MIT_Count'] = ['MIT_Count']\n",
    "\n",
    "# BaseSpec['MITVAL'] = [[0,1,2,3]]\n",
    "# BaseName['MITVAL'] = ['MIT_Value']\n",
    "\n",
    "# BaseSpec['DURATION_HRS_TOT'] = [[0,1,2,3]]\n",
    "# BaseName['DURATION_HRS_TOT'] = ['MIT_Duration']\n",
    "\n",
    "# BaseSpec['MIT_Impact'] = [[0,1,2,3]]\n",
    "# BaseName['MIT_Impact'] = ['MIT_Impact']\n",
    "\n",
    "N_var = 0\n",
    "for key in BaseSpec.keys():\n",
    "    N_var += len(BaseSpec[key])\n",
    "    \n",
    "MNL_Model = pylogit.create_choice_model(data = modelset, alt_id_col = 'Alt_id',obs_id_col = 'FID_Member',\n",
    "                                        choice_col = 'CHOICE',specification = BaseSpec, model_type = 'MNL', names = BaseName)\n",
    "MNL_Model.fit_mle(np.zeros(N_var))\n",
    "Result1 = MNL_Model.get_statsmodels_summary()\n",
    "print Result1.as_csv\n",
    "\n",
    "pickle.dump(MNL_Model, open( os.getcwd() + '/MNL/Estimation/MNL_' + DEP + '_' + ARR+'.p', \"wb\" ) )"
   ]
  },
  {
   "cell_type": "markdown",
   "metadata": {},
   "source": [
    "# Composite Method"
   ]
  },
  {
   "cell_type": "code",
   "execution_count": 2,
   "metadata": {
    "collapsed": false
   },
   "outputs": [],
   "source": [
    "IAH_BOS = OLS_Model('IAH','BOS',2013, OneMetric = True)"
   ]
  },
  {
   "cell_type": "code",
   "execution_count": 3,
   "metadata": {
    "collapsed": false
   },
   "outputs": [
    {
     "name": "stdout",
     "output_type": "stream",
     "text": [
      "                            OLS Regression Results                            \n",
      "==============================================================================\n",
      "Dep. Variable:             Efficiency   R-squared:                       0.610\n",
      "Model:                            OLS   Adj. R-squared:                  0.607\n",
      "Method:                 Least Squares   F-statistic:                     258.1\n",
      "Date:                Fri, 10 Feb 2017   Prob (F-statistic):               0.00\n",
      "Time:                        16:19:36   Log-Likelihood:                -2882.4\n",
      "No. Observations:                1664   AIC:                             5787.\n",
      "Df Residuals:                    1653   BIC:                             5846.\n",
      "Df Model:                          10                                         \n",
      "Covariance Type:            nonrobust                                         \n",
      "===================================================================================\n",
      "                      coef    std err          t      P>|t|      [95.0% Conf. Int.]\n",
      "-----------------------------------------------------------------------------------\n",
      "Intercept           8.5453      0.159     53.891      0.000         8.234     8.856\n",
      "C(ClustID)[T.0]    -4.9703      0.153    -32.390      0.000        -5.271    -4.669\n",
      "C(ClustID)[T.1]    -2.6565      0.160    -16.590      0.000        -2.971    -2.342\n",
      "C(ClustID)[T.2]    -5.9366      0.155    -38.286      0.000        -6.241    -5.632\n",
      "C(ClustID)[T.3]    -7.3112      0.375    -19.479      0.000        -8.047    -6.575\n",
      "C(ClustID)[T.4]    -5.6032      0.353    -15.876      0.000        -6.295    -4.911\n",
      "C(season)[T.1]      0.0016      0.102      0.015      0.988        -0.199     0.202\n",
      "C(season)[T.2]      0.4326      0.105      4.123      0.000         0.227     0.638\n",
      "C(season)[T.3]      0.0729      0.100      0.730      0.465        -0.123     0.269\n",
      "TS_mean             9.1319      2.950      3.095      0.002         3.345    14.918\n",
      "MIT_Str             1.6957      0.626      2.708      0.007         0.468     2.924\n",
      "==============================================================================\n",
      "Omnibus:                     1255.626   Durbin-Watson:                   1.646\n",
      "Prob(Omnibus):                  0.000   Jarque-Bera (JB):            91455.074\n",
      "Skew:                           2.892   Prob(JB):                         0.00\n",
      "Kurtosis:                      38.855   Cond. No.                         108.\n",
      "==============================================================================\n",
      "\n",
      "Warnings:\n",
      "[1] Standard Errors assume that the covariance matrix of the errors is correctly specified.\n"
     ]
    }
   ],
   "source": [
    "fo1 = 'Efficiency ~ TS_mean + C(ClustID) + C(season) + MIT_Str'\n",
    "mod1 = IAH_BOS.fitModel(fo1)\n",
    "print mod1.summary()"
   ]
  },
  {
   "cell_type": "code",
   "execution_count": 42,
   "metadata": {
    "collapsed": false
   },
   "outputs": [
    {
     "name": "stdout",
     "output_type": "stream",
     "text": [
      "                            OLS Regression Results                            \n",
      "==============================================================================\n",
      "Dep. Variable:             Efficiency   R-squared:                       0.628\n",
      "Model:                            OLS   Adj. R-squared:                  0.626\n",
      "Method:                 Least Squares   F-statistic:                     279.1\n",
      "Date:                Tue, 07 Feb 2017   Prob (F-statistic):               0.00\n",
      "Time:                        10:19:13   Log-Likelihood:                -2842.1\n",
      "No. Observations:                1664   AIC:                             5706.\n",
      "Df Residuals:                    1653   BIC:                             5766.\n",
      "Df Model:                          10                                         \n",
      "Covariance Type:            nonrobust                                         \n",
      "===================================================================================\n",
      "                      coef    std err          t      P>|t|      [95.0% Conf. Int.]\n",
      "-----------------------------------------------------------------------------------\n",
      "Intercept           8.0049      0.166     48.235      0.000         7.679     8.330\n",
      "C(ClustID)[T.0]    -4.5619      0.150    -30.380      0.000        -4.856    -4.267\n",
      "C(ClustID)[T.1]    -2.2236      0.155    -14.383      0.000        -2.527    -1.920\n",
      "C(ClustID)[T.2]    -5.4162      0.156    -34.782      0.000        -5.722    -5.111\n",
      "C(ClustID)[T.3]    -7.0325      0.362    -19.443      0.000        -7.742    -6.323\n",
      "C(ClustID)[T.4]    -5.1364      0.346    -14.834      0.000        -5.816    -4.457\n",
      "C(season)[T.1]     -0.0364      0.100     -0.364      0.716        -0.233     0.160\n",
      "C(season)[T.2]      0.1872      0.104      1.795      0.073        -0.017     0.392\n",
      "C(season)[T.3]      0.0451      0.097      0.463      0.643        -0.146     0.236\n",
      "TS_mean            25.7648      2.870      8.978      0.000        20.136    31.393\n",
      "Rain_mean           1.3505      0.808      1.672      0.095        -0.234     2.935\n",
      "==============================================================================\n",
      "Omnibus:                     1262.033   Durbin-Watson:                   1.638\n",
      "Prob(Omnibus):                  0.000   Jarque-Bera (JB):            91140.474\n",
      "Skew:                           2.920   Prob(JB):                         0.00\n",
      "Kurtosis:                      38.783   Cond. No.                         108.\n",
      "==============================================================================\n",
      "\n",
      "Warnings:\n",
      "[1] Standard Errors assume that the covariance matrix of the errors is correctly specified.\n"
     ]
    }
   ],
   "source": [
    "fo1 = 'Efficiency ~ TS_mean + Rain_mean + C(ClustID) + C(season)'\n",
    "mod1 = IAH_BOS.fitModel(fo1)\n",
    "print mod1.summary()"
   ]
  },
  {
   "cell_type": "code",
   "execution_count": 4,
   "metadata": {
    "collapsed": false
   },
   "outputs": [],
   "source": [
    "BOS_IAH = OLS_Model('BOS','IAH',2013)"
   ]
  },
  {
   "cell_type": "code",
   "execution_count": 11,
   "metadata": {
    "collapsed": false
   },
   "outputs": [
    {
     "name": "stdout",
     "output_type": "stream",
     "text": [
      "                            OLS Regression Results                            \n",
      "==============================================================================\n",
      "Dep. Variable:             Efficiency   R-squared:                       0.645\n",
      "Model:                            OLS   Adj. R-squared:                  0.643\n",
      "Method:                 Least Squares   F-statistic:                     313.0\n",
      "Date:                Fri, 10 Feb 2017   Prob (F-statistic):               0.00\n",
      "Time:                        16:21:13   Log-Likelihood:                -2789.6\n",
      "No. Observations:                1732   AIC:                             5601.\n",
      "Df Residuals:                    1721   BIC:                             5661.\n",
      "Df Model:                          10                                         \n",
      "Covariance Type:            nonrobust                                         \n",
      "===================================================================================\n",
      "                      coef    std err          t      P>|t|      [95.0% Conf. Int.]\n",
      "-----------------------------------------------------------------------------------\n",
      "Intercept           5.8102      0.113     51.522      0.000         5.589     6.031\n",
      "C(ClustID)[T.0]    -4.3980      0.101    -43.722      0.000        -4.595    -4.201\n",
      "C(ClustID)[T.1]     0.3654      0.164      2.227      0.026         0.044     0.687\n",
      "C(ClustID)[T.2]    -3.7572      0.107    -35.034      0.000        -3.968    -3.547\n",
      "C(ClustID)[T.3]    -4.4169      0.162    -27.252      0.000        -4.735    -4.099\n",
      "C(ClustID)[T.4]    -0.6124      0.259     -2.368      0.018        -1.120    -0.105\n",
      "C(season)[T.1]      0.1293      0.089      1.461      0.144        -0.044     0.303\n",
      "C(season)[T.2]      0.0573      0.089      0.642      0.521        -0.118     0.233\n",
      "C(season)[T.3]      0.1225      0.087      1.411      0.159        -0.048     0.293\n",
      "TS_mean            10.0019      2.964      3.374      0.001         4.188    15.816\n",
      "BusyHour            0.1833      0.060      3.043      0.002         0.065     0.301\n",
      "==============================================================================\n",
      "Omnibus:                     1146.580   Durbin-Watson:                   1.932\n",
      "Prob(Omnibus):                  0.000   Jarque-Bera (JB):            34130.895\n",
      "Skew:                           2.644   Prob(JB):                         0.00\n",
      "Kurtosis:                      24.095   Cond. No.                         140.\n",
      "==============================================================================\n",
      "\n",
      "Warnings:\n",
      "[1] Standard Errors assume that the covariance matrix of the errors is correctly specified.\n"
     ]
    }
   ],
   "source": [
    "fo1 = 'Efficiency ~ TS_mean + C(ClustID) + C(season) + BusyHour'\n",
    "mod2 = BOS_IAH.fitModel(fo1)\n",
    "print mod2.summary()"
   ]
  },
  {
   "cell_type": "code",
   "execution_count": 44,
   "metadata": {
    "collapsed": false
   },
   "outputs": [
    {
     "name": "stdout",
     "output_type": "stream",
     "text": [
      "                            OLS Regression Results                            \n",
      "==============================================================================\n",
      "Dep. Variable:             Efficiency   R-squared:                       0.650\n",
      "Model:                            OLS   Adj. R-squared:                  0.648\n",
      "Method:                 Least Squares   F-statistic:                     290.9\n",
      "Date:                Tue, 07 Feb 2017   Prob (F-statistic):               0.00\n",
      "Time:                        10:19:18   Log-Likelihood:                -2777.0\n",
      "No. Observations:                1732   AIC:                             5578.\n",
      "Df Residuals:                    1720   BIC:                             5643.\n",
      "Df Model:                          11                                         \n",
      "Covariance Type:            nonrobust                                         \n",
      "===================================================================================\n",
      "                      coef    std err          t      P>|t|      [95.0% Conf. Int.]\n",
      "-----------------------------------------------------------------------------------\n",
      "Intercept           5.5624      0.115     48.346      0.000         5.337     5.788\n",
      "C(ClustID)[T.0]    -4.1450      0.102    -40.558      0.000        -4.345    -3.945\n",
      "C(ClustID)[T.1]     0.5753      0.163      3.539      0.000         0.256     0.894\n",
      "C(ClustID)[T.2]    -3.4889      0.111    -31.448      0.000        -3.706    -3.271\n",
      "C(ClustID)[T.3]    -4.1797      0.163    -25.661      0.000        -4.499    -3.860\n",
      "C(ClustID)[T.4]    -0.4040      0.249     -1.624      0.105        -0.892     0.084\n",
      "C(season)[T.1]      0.0864      0.088      0.977      0.329        -0.087     0.260\n",
      "C(season)[T.2]     -0.0383      0.090     -0.423      0.672        -0.216     0.139\n",
      "C(season)[T.3]      0.0788      0.087      0.910      0.363        -0.091     0.249\n",
      "TS_mean            11.6096      2.677      4.336      0.000         6.359    16.861\n",
      "BusyHour            0.1510      0.060      2.510      0.012         0.033     0.269\n",
      "MIT_Str             1.0581      0.321      3.300      0.001         0.429     1.687\n",
      "==============================================================================\n",
      "Omnibus:                     1122.691   Durbin-Watson:                   1.938\n",
      "Prob(Omnibus):                  0.000   Jarque-Bera (JB):            32439.058\n",
      "Skew:                           2.572   Prob(JB):                         0.00\n",
      "Kurtosis:                      23.568   Cond. No.                         127.\n",
      "==============================================================================\n",
      "\n",
      "Warnings:\n",
      "[1] Standard Errors assume that the covariance matrix of the errors is correctly specified.\n"
     ]
    }
   ],
   "source": [
    "fo1 = 'Efficiency ~ TS_mean + C(ClustID) + C(season) + BusyHour + MIT_Str'\n",
    "mod2 = BOS_IAH.fitModel(fo1)\n",
    "print mod2.summary()"
   ]
  },
  {
   "cell_type": "code",
   "execution_count": 12,
   "metadata": {
    "collapsed": false
   },
   "outputs": [],
   "source": [
    "FLL_JFK = OLS_Model('FLL','JFK',2013)"
   ]
  },
  {
   "cell_type": "code",
   "execution_count": 16,
   "metadata": {
    "collapsed": false
   },
   "outputs": [
    {
     "name": "stdout",
     "output_type": "stream",
     "text": [
      "                            OLS Regression Results                            \n",
      "==============================================================================\n",
      "Dep. Variable:             Efficiency   R-squared:                       0.539\n",
      "Model:                            OLS   Adj. R-squared:                  0.538\n",
      "Method:                 Least Squares   F-statistic:                     580.6\n",
      "Date:                Fri, 10 Feb 2017   Prob (F-statistic):               0.00\n",
      "Time:                        16:22:13   Log-Likelihood:                -9960.5\n",
      "No. Observations:                3988   AIC:                         1.994e+04\n",
      "Df Residuals:                    3979   BIC:                         2.000e+04\n",
      "Df Model:                           8                                         \n",
      "Covariance Type:            nonrobust                                         \n",
      "===================================================================================\n",
      "                      coef    std err          t      P>|t|      [95.0% Conf. Int.]\n",
      "-----------------------------------------------------------------------------------\n",
      "Intercept          20.0589      0.370     54.258      0.000        19.334    20.784\n",
      "C(ClustID)[T.0]   -18.3988      0.353    -52.086      0.000       -19.091   -17.706\n",
      "C(ClustID)[T.1]   -12.4832      0.377    -33.081      0.000       -13.223   -11.743\n",
      "C(ClustID)[T.2]   -13.1512      0.596    -22.049      0.000       -14.321   -11.982\n",
      "C(season)[T.1]      0.2789      0.126      2.213      0.027         0.032     0.526\n",
      "C(season)[T.2]      0.3941      0.133      2.960      0.003         0.133     0.655\n",
      "C(season)[T.3]      0.0130      0.133      0.098      0.922        -0.248     0.274\n",
      "BusyHour            1.0421      0.103     10.138      0.000         0.841     1.244\n",
      "MIT_Str             1.4595      0.362      4.036      0.000         0.751     2.168\n",
      "==============================================================================\n",
      "Omnibus:                     3460.260   Durbin-Watson:                   1.996\n",
      "Prob(Omnibus):                  0.000   Jarque-Bera (JB):           288736.063\n",
      "Skew:                           3.700   Prob(JB):                         0.00\n",
      "Kurtosis:                      44.023   Cond. No.                         25.1\n",
      "==============================================================================\n",
      "\n",
      "Warnings:\n",
      "[1] Standard Errors assume that the covariance matrix of the errors is correctly specified.\n"
     ]
    }
   ],
   "source": [
    "fo1 = 'Efficiency ~ C(ClustID) + C(season) + BusyHour + MIT_Str'\n",
    "mod3 = FLL_JFK.fitModel(fo1)\n",
    "print mod3.summary()"
   ]
  },
  {
   "cell_type": "code",
   "execution_count": 46,
   "metadata": {
    "collapsed": false
   },
   "outputs": [
    {
     "name": "stdout",
     "output_type": "stream",
     "text": [
      "                            OLS Regression Results                            \n",
      "==============================================================================\n",
      "Dep. Variable:             Efficiency   R-squared:                       0.538\n",
      "Model:                            OLS   Adj. R-squared:                  0.537\n",
      "Method:                 Least Squares   F-statistic:                     514.9\n",
      "Date:                Tue, 07 Feb 2017   Prob (F-statistic):               0.00\n",
      "Time:                        10:19:27   Log-Likelihood:                -9962.6\n",
      "No. Observations:                3988   AIC:                         1.995e+04\n",
      "Df Residuals:                    3978   BIC:                         2.001e+04\n",
      "Df Model:                           9                                         \n",
      "Covariance Type:            nonrobust                                         \n",
      "===================================================================================\n",
      "                      coef    std err          t      P>|t|      [95.0% Conf. Int.]\n",
      "-----------------------------------------------------------------------------------\n",
      "Intercept          19.7424      0.371     53.196      0.000        19.015    20.470\n",
      "C(ClustID)[T.0]   -18.0436      0.354    -50.918      0.000       -18.738   -17.349\n",
      "C(ClustID)[T.1]   -12.1355      0.375    -32.380      0.000       -12.870   -11.401\n",
      "C(ClustID)[T.2]   -12.8233      0.594    -21.582      0.000       -13.988   -11.658\n",
      "C(season)[T.1]      0.2612      0.127      2.060      0.040         0.013     0.510\n",
      "C(season)[T.2]      0.2095      0.153      1.366      0.172        -0.091     0.510\n",
      "C(season)[T.3]     -0.0432      0.135     -0.319      0.749        -0.308     0.222\n",
      "TS_mean             5.4852      2.297      2.388      0.017         0.983     9.988\n",
      "BusyHour            1.0512      0.105     10.028      0.000         0.846     1.257\n",
      "MIT_Str             0.8645      0.356      2.427      0.015         0.166     1.563\n",
      "==============================================================================\n",
      "Omnibus:                     3460.072   Durbin-Watson:                   1.997\n",
      "Prob(Omnibus):                  0.000   Jarque-Bera (JB):           286119.570\n",
      "Skew:                           3.703   Prob(JB):                         0.00\n",
      "Kurtosis:                      43.829   Cond. No.                         75.5\n",
      "==============================================================================\n",
      "\n",
      "Warnings:\n",
      "[1] Standard Errors assume that the covariance matrix of the errors is correctly specified.\n"
     ]
    }
   ],
   "source": [
    "fo1 = 'Efficiency ~ TS_mean + C(ClustID) + C(season) + BusyHour + MIT_Str'\n",
    "mod3 = FLL_JFK.fitModel(fo1)\n",
    "print mod3.summary()"
   ]
  },
  {
   "cell_type": "code",
   "execution_count": 17,
   "metadata": {
    "collapsed": false
   },
   "outputs": [],
   "source": [
    "JFK_FLL = OLS_Model('JFK','FLL',2013)"
   ]
  },
  {
   "cell_type": "code",
   "execution_count": 19,
   "metadata": {
    "collapsed": false
   },
   "outputs": [
    {
     "name": "stdout",
     "output_type": "stream",
     "text": [
      "                            OLS Regression Results                            \n",
      "==============================================================================\n",
      "Dep. Variable:             Efficiency   R-squared:                       0.756\n",
      "Model:                            OLS   Adj. R-squared:                  0.756\n",
      "Method:                 Least Squares   F-statistic:                     1037.\n",
      "Date:                Fri, 10 Feb 2017   Prob (F-statistic):               0.00\n",
      "Time:                        16:22:45   Log-Likelihood:                -7707.8\n",
      "No. Observations:                4021   AIC:                         1.544e+04\n",
      "Df Residuals:                    4008   BIC:                         1.552e+04\n",
      "Df Model:                          12                                         \n",
      "Covariance Type:            nonrobust                                         \n",
      "===================================================================================\n",
      "                      coef    std err          t      P>|t|      [95.0% Conf. Int.]\n",
      "-----------------------------------------------------------------------------------\n",
      "Intercept           9.9627      0.178     56.019      0.000         9.614    10.311\n",
      "C(ClustID)[T.0]    -8.4165      0.172    -49.036      0.000        -8.753    -8.080\n",
      "C(ClustID)[T.1]     1.2469      0.300      4.156      0.000         0.659     1.835\n",
      "C(ClustID)[T.2]    -2.2115      0.189    -11.680      0.000        -2.583    -1.840\n",
      "C(ClustID)[T.3]     1.9202      0.249      7.709      0.000         1.432     2.409\n",
      "C(ClustID)[T.4]     4.6248      0.367     12.616      0.000         3.906     5.343\n",
      "C(season)[T.1]      0.1679      0.071      2.370      0.018         0.029     0.307\n",
      "C(season)[T.2]     -0.0034      0.087     -0.039      0.969        -0.175     0.168\n",
      "C(season)[T.3]     -0.0027      0.076     -0.035      0.972        -0.151     0.145\n",
      "TS_mean             4.2679      1.415      3.016      0.003         1.494     7.042\n",
      "BusyHour            0.1635      0.054      3.029      0.002         0.058     0.269\n",
      "MIT_Str             1.2821      0.248      5.174      0.000         0.796     1.768\n",
      "Rain_mean           0.9838      0.476      2.065      0.039         0.050     1.918\n",
      "==============================================================================\n",
      "Omnibus:                     4014.589   Durbin-Watson:                   1.939\n",
      "Prob(Omnibus):                  0.000   Jarque-Bera (JB):           834761.851\n",
      "Skew:                           4.356   Prob(JB):                         0.00\n",
      "Kurtosis:                      73.047   Cond. No.                         83.4\n",
      "==============================================================================\n",
      "\n",
      "Warnings:\n",
      "[1] Standard Errors assume that the covariance matrix of the errors is correctly specified.\n"
     ]
    }
   ],
   "source": [
    "fo1 = 'Efficiency ~ TS_mean + C(ClustID) + C(season) + BusyHour + MIT_Str + Rain_mean'\n",
    "mod4 = JFK_FLL.fitModel(fo1)\n",
    "print mod4.summary()"
   ]
  },
  {
   "cell_type": "code",
   "execution_count": 48,
   "metadata": {
    "collapsed": false
   },
   "outputs": [
    {
     "name": "stdout",
     "output_type": "stream",
     "text": [
      "                            OLS Regression Results                            \n",
      "==============================================================================\n",
      "Dep. Variable:             Efficiency   R-squared:                       0.757\n",
      "Model:                            OLS   Adj. R-squared:                  0.757\n",
      "Method:                 Least Squares   F-statistic:                     1136.\n",
      "Date:                Tue, 07 Feb 2017   Prob (F-statistic):               0.00\n",
      "Time:                        10:19:32   Log-Likelihood:                -7701.7\n",
      "No. Observations:                4021   AIC:                         1.543e+04\n",
      "Df Residuals:                    4009   BIC:                         1.550e+04\n",
      "Df Model:                          11                                         \n",
      "Covariance Type:            nonrobust                                         \n",
      "===================================================================================\n",
      "                      coef    std err          t      P>|t|      [95.0% Conf. Int.]\n",
      "-----------------------------------------------------------------------------------\n",
      "Intercept           9.6467      0.178     54.337      0.000         9.299     9.995\n",
      "C(ClustID)[T.0]    -8.0298      0.170    -47.231      0.000        -8.363    -7.697\n",
      "C(ClustID)[T.1]     1.4154      0.297      4.771      0.000         0.834     1.997\n",
      "C(ClustID)[T.2]    -1.9164      0.186    -10.292      0.000        -2.281    -1.551\n",
      "C(ClustID)[T.3]     2.2101      0.246      8.996      0.000         1.728     2.692\n",
      "C(ClustID)[T.4]     5.1075      0.363     14.067      0.000         4.396     5.819\n",
      "C(season)[T.1]      0.1429      0.070      2.027      0.043         0.005     0.281\n",
      "C(season)[T.2]     -0.0839      0.087     -0.960      0.337        -0.255     0.087\n",
      "C(season)[T.3]     -0.0252      0.075     -0.335      0.738        -0.173     0.123\n",
      "TS_mean             7.2737      1.266      5.748      0.000         4.793     9.755\n",
      "BusyHour            0.1320      0.054      2.448      0.014         0.026     0.238\n",
      "MIT_Str             1.2913      0.252      5.132      0.000         0.798     1.785\n",
      "==============================================================================\n",
      "Omnibus:                     4075.452   Durbin-Watson:                   1.933\n",
      "Prob(Omnibus):                  0.000   Jarque-Bera (JB):           893887.465\n",
      "Skew:                           4.457   Prob(JB):                         0.00\n",
      "Kurtosis:                      75.497   Cond. No.                         74.0\n",
      "==============================================================================\n",
      "\n",
      "Warnings:\n",
      "[1] Standard Errors assume that the covariance matrix of the errors is correctly specified.\n"
     ]
    }
   ],
   "source": [
    "fo1 = 'Efficiency ~ TS_mean + C(ClustID) + C(season) + BusyHour + MIT_Str'\n",
    "mod4 = JFK_FLL.fitModel(fo1)\n",
    "print mod4.summary()"
   ]
  },
  {
   "cell_type": "code",
   "execution_count": 20,
   "metadata": {
    "collapsed": false
   },
   "outputs": [],
   "source": [
    "JFK_LAX = OLS_Model('JFK','LAX',2013)"
   ]
  },
  {
   "cell_type": "code",
   "execution_count": 24,
   "metadata": {
    "collapsed": false
   },
   "outputs": [
    {
     "name": "stdout",
     "output_type": "stream",
     "text": [
      "                            OLS Regression Results                            \n",
      "==============================================================================\n",
      "Dep. Variable:             Efficiency   R-squared:                       0.499\n",
      "Model:                            OLS   Adj. R-squared:                  0.498\n",
      "Method:                 Least Squares   F-statistic:                     1057.\n",
      "Date:                Fri, 10 Feb 2017   Prob (F-statistic):               0.00\n",
      "Time:                        16:23:28   Log-Likelihood:                -16790.\n",
      "No. Observations:               10637   AIC:                         3.360e+04\n",
      "Df Residuals:                   10626   BIC:                         3.368e+04\n",
      "Df Model:                          10                                         \n",
      "Covariance Type:            nonrobust                                         \n",
      "===================================================================================\n",
      "                      coef    std err          t      P>|t|      [95.0% Conf. Int.]\n",
      "-----------------------------------------------------------------------------------\n",
      "Intercept           3.5707      0.037     95.930      0.000         3.498     3.644\n",
      "C(ClustID)[T.0]    -2.8468      0.033    -87.529      0.000        -2.911    -2.783\n",
      "C(ClustID)[T.1]     1.0023      0.075     13.440      0.000         0.856     1.149\n",
      "C(ClustID)[T.2]    -1.2589      0.038    -33.156      0.000        -1.333    -1.184\n",
      "C(ClustID)[T.3]    -1.1155      0.050    -22.287      0.000        -1.214    -1.017\n",
      "C(ClustID)[T.4]    -2.3310      0.046    -50.951      0.000        -2.421    -2.241\n",
      "C(season)[T.1]      0.1394      0.033      4.209      0.000         0.074     0.204\n",
      "C(season)[T.2]      0.0947      0.035      2.708      0.007         0.026     0.163\n",
      "C(season)[T.3]      0.1140      0.033      3.483      0.000         0.050     0.178\n",
      "TS_mean             9.1307      1.553      5.880      0.000         6.087    12.175\n",
      "BusyHour            0.1270      0.024      5.291      0.000         0.080     0.174\n",
      "==============================================================================\n",
      "Omnibus:                     7167.334   Durbin-Watson:                   1.617\n",
      "Prob(Omnibus):                  0.000   Jarque-Bera (JB):           161857.861\n",
      "Skew:                           2.917   Prob(JB):                         0.00\n",
      "Kurtosis:                      21.198   Cond. No.                         189.\n",
      "==============================================================================\n",
      "\n",
      "Warnings:\n",
      "[1] Standard Errors assume that the covariance matrix of the errors is correctly specified.\n"
     ]
    }
   ],
   "source": [
    "fo1 = 'Efficiency ~ TS_mean + C(ClustID) + C(season) + BusyHour'\n",
    "mod5 = JFK_LAX.fitModel(fo1)\n",
    "print mod5.summary()"
   ]
  },
  {
   "cell_type": "code",
   "execution_count": 25,
   "metadata": {
    "collapsed": false
   },
   "outputs": [],
   "source": [
    "LAX_JFK = OLS_Model('LAX','JFK',2013)"
   ]
  },
  {
   "cell_type": "code",
   "execution_count": 31,
   "metadata": {
    "collapsed": false
   },
   "outputs": [
    {
     "name": "stdout",
     "output_type": "stream",
     "text": [
      "                            OLS Regression Results                            \n",
      "==============================================================================\n",
      "Dep. Variable:             Efficiency   R-squared:                       0.278\n",
      "Model:                            OLS   Adj. R-squared:                  0.277\n",
      "Method:                 Least Squares   F-statistic:                     398.7\n",
      "Date:                Fri, 10 Feb 2017   Prob (F-statistic):               0.00\n",
      "Time:                        16:25:10   Log-Likelihood:                -19956.\n",
      "No. Observations:               10367   AIC:                         3.993e+04\n",
      "Df Residuals:                   10356   BIC:                         4.001e+04\n",
      "Df Model:                          10                                         \n",
      "Covariance Type:            nonrobust                                         \n",
      "===================================================================================\n",
      "                      coef    std err          t      P>|t|      [95.0% Conf. Int.]\n",
      "-----------------------------------------------------------------------------------\n",
      "Intercept           3.6900      0.049     75.746      0.000         3.594     3.785\n",
      "C(ClustID)[T.0]    -2.1213      0.060    -35.218      0.000        -2.239    -2.003\n",
      "C(ClustID)[T.1]    -2.6396      0.052    -50.770      0.000        -2.742    -2.538\n",
      "C(ClustID)[T.2]    -1.9184      0.091    -21.051      0.000        -2.097    -1.740\n",
      "C(ClustID)[T.3]    -2.5796      0.047    -54.977      0.000        -2.672    -2.488\n",
      "C(season)[T.1]      0.4820      0.048     10.095      0.000         0.388     0.576\n",
      "C(season)[T.2]      0.3216      0.051      6.355      0.000         0.222     0.421\n",
      "C(season)[T.3]      0.1894      0.047      4.046      0.000         0.098     0.281\n",
      "TS_mean             3.8851      2.606      1.491      0.136        -1.223     8.993\n",
      "BusyHour            0.6366      0.035     18.082      0.000         0.568     0.706\n",
      "MIT_Str             2.2256      0.307      7.258      0.000         1.624     2.827\n",
      "==============================================================================\n",
      "Omnibus:                    11248.747   Durbin-Watson:                   1.343\n",
      "Prob(Omnibus):                  0.000   Jarque-Bera (JB):          1161824.587\n",
      "Skew:                           5.446   Prob(JB):                         0.00\n",
      "Kurtosis:                      53.705   Cond. No.                         221.\n",
      "==============================================================================\n",
      "\n",
      "Warnings:\n",
      "[1] Standard Errors assume that the covariance matrix of the errors is correctly specified.\n"
     ]
    }
   ],
   "source": [
    "fo1 = 'Efficiency ~ TS_mean + C(ClustID) + C(season) + BusyHour + MIT_Str'\n",
    "mod6 = LAX_JFK.fitModel(fo1)\n",
    "print mod6.summary()"
   ]
  },
  {
   "cell_type": "code",
   "execution_count": 51,
   "metadata": {
    "collapsed": false
   },
   "outputs": [
    {
     "name": "stdout",
     "output_type": "stream",
     "text": [
      "                            OLS Regression Results                            \n",
      "==============================================================================\n",
      "Dep. Variable:             Efficiency   R-squared:                       0.325\n",
      "Model:                            OLS   Adj. R-squared:                  0.324\n",
      "Method:                 Least Squares   F-statistic:                     453.5\n",
      "Date:                Tue, 07 Feb 2017   Prob (F-statistic):               0.00\n",
      "Time:                        10:20:10   Log-Likelihood:                -19606.\n",
      "No. Observations:               10367   AIC:                         3.924e+04\n",
      "Df Residuals:                   10355   BIC:                         3.932e+04\n",
      "Df Model:                          11                                         \n",
      "Covariance Type:            nonrobust                                         \n",
      "===================================================================================\n",
      "                      coef    std err          t      P>|t|      [95.0% Conf. Int.]\n",
      "-----------------------------------------------------------------------------------\n",
      "Intercept           3.3948      0.049     69.524      0.000         3.299     3.491\n",
      "C(ClustID)[T.0]    -1.8480      0.057    -32.159      0.000        -1.961    -1.735\n",
      "C(ClustID)[T.1]    -2.3070      0.050    -45.812      0.000        -2.406    -2.208\n",
      "C(ClustID)[T.2]    -1.6404      0.087    -18.762      0.000        -1.812    -1.469\n",
      "C(ClustID)[T.3]    -2.3108      0.044    -52.289      0.000        -2.397    -2.224\n",
      "C(season)[T.1]      0.2427      0.047      5.168      0.000         0.151     0.335\n",
      "C(season)[T.2]     -0.1977      0.051     -3.850      0.000        -0.298    -0.097\n",
      "C(season)[T.3]      0.0088      0.046      0.192      0.848        -0.081     0.098\n",
      "TS_mean            41.3505      2.236     18.492      0.000        36.967    45.734\n",
      "Rain_mean           3.7048      0.518      7.152      0.000         2.689     4.720\n",
      "BusyHour            0.5369      0.034     15.680      0.000         0.470     0.604\n",
      "MIT_Str             4.1042      0.304     13.501      0.000         3.508     4.700\n",
      "==============================================================================\n",
      "Omnibus:                    10871.517   Durbin-Watson:                   1.379\n",
      "Prob(Omnibus):                  0.000   Jarque-Bera (JB):          1027786.477\n",
      "Skew:                           5.158   Prob(JB):                         0.00\n",
      "Kurtosis:                      50.676   Cond. No.                         196.\n",
      "==============================================================================\n",
      "\n",
      "Warnings:\n",
      "[1] Standard Errors assume that the covariance matrix of the errors is correctly specified.\n"
     ]
    }
   ],
   "source": [
    "fo1 = 'Efficiency ~ TS_mean + Rain_mean + C(ClustID) + C(season) + BusyHour + MIT_Str'\n",
    "mod6 = LAX_JFK.fitModel(fo1)\n",
    "print mod6.summary()"
   ]
  },
  {
   "cell_type": "code",
   "execution_count": 52,
   "metadata": {
    "collapsed": false
   },
   "outputs": [
    {
     "name": "stderr",
     "output_type": "stream",
     "text": [
      "E:\\Anaconda\\Anaconda\\lib\\site-packages\\statsmodels\\iolib\\summary2.py:372: SettingWithCopyWarning: \n",
      "A value is trying to be set on a copy of a slice from a DataFrame\n",
      "\n",
      "See the caveats in the documentation: http://pandas.pydata.org/pandas-docs/stable/indexing.html#indexing-view-versus-copy\n",
      "  res.ix[:, 0][idx] = res.ix[:, 0][idx] + '*'\n",
      "E:\\Anaconda\\Anaconda\\lib\\site-packages\\statsmodels\\iolib\\summary2.py:374: SettingWithCopyWarning: \n",
      "A value is trying to be set on a copy of a slice from a DataFrame\n",
      "\n",
      "See the caveats in the documentation: http://pandas.pydata.org/pandas-docs/stable/indexing.html#indexing-view-versus-copy\n",
      "  res.ix[:, 0][idx] = res.ix[:, 0][idx] + '*'\n",
      "E:\\Anaconda\\Anaconda\\lib\\site-packages\\statsmodels\\iolib\\summary2.py:376: SettingWithCopyWarning: \n",
      "A value is trying to be set on a copy of a slice from a DataFrame\n",
      "\n",
      "See the caveats in the documentation: http://pandas.pydata.org/pandas-docs/stable/indexing.html#indexing-view-versus-copy\n",
      "  res.ix[:, 0][idx] = res.ix[:, 0][idx] + '*'\n"
     ]
    }
   ],
   "source": [
    "Combined_Results = summary_col([mod1,mod2,mod3,mod4,mod5,mod6],stars=True,float_format='%0.2f',\n",
    "                  model_names=['IAH BOS','BOS IAH','FLL JFK', 'JFK FLL','JFK LAX', 'LAX FLL'],\n",
    "                  info_dict={'N':lambda x: \"{0:d}\".format(int(x.nobs)),\n",
    "                             'R2':lambda x: \"{:.2f}\".format(x.rsquared)})\n",
    "# .as_latex()"
   ]
  },
  {
   "cell_type": "code",
   "execution_count": 53,
   "metadata": {
    "collapsed": false
   },
   "outputs": [
    {
     "data": {
      "text/plain": [
       "<bound method Summary.as_html of <class 'statsmodels.iolib.summary2.Summary'>\n",
       "\"\"\"\n",
       "\n",
       "=======================================================================\n",
       "                IAH BOS  BOS IAH   FLL JFK  JFK FLL   JFK LAX  LAX FLL \n",
       "-----------------------------------------------------------------------\n",
       "BusyHour                 0.15**   1.05***   0.13**   0.04*     0.54*** \n",
       "                         (0.06)   (0.10)    (0.05)   (0.02)    (0.03)  \n",
       "C(ClustID)[T.0] -4.56*** -4.14*** -18.04*** -8.03*** -2.69***  -1.85***\n",
       "                (0.15)   (0.10)   (0.35)    (0.17)   (0.03)    (0.06)  \n",
       "C(ClustID)[T.1] -2.22*** 0.58***  -12.14*** 1.42***  1.13***   -2.31***\n",
       "                (0.15)   (0.16)   (0.37)    (0.30)   (0.07)    (0.05)  \n",
       "C(ClustID)[T.2] -5.42*** -3.49*** -12.82*** -1.92*** -1.15***  -1.64***\n",
       "                (0.16)   (0.11)   (0.59)    (0.19)   (0.04)    (0.09)  \n",
       "C(ClustID)[T.3] -7.03*** -4.18***           2.21***  -1.08***  -2.31***\n",
       "                (0.36)   (0.16)             (0.25)   (0.05)    (0.04)  \n",
       "C(ClustID)[T.4] -5.14*** -0.40              5.11***  -2.23***          \n",
       "                (0.35)   (0.25)             (0.36)   (0.04)            \n",
       "C(season)[T.1]  -0.04    0.09     0.26**    0.14**   -0.03     0.24*** \n",
       "                (0.10)   (0.09)   (0.13)    (0.07)   (0.03)    (0.05)  \n",
       "C(season)[T.2]  0.19*    -0.04    0.21      -0.08    -0.21***  -0.20***\n",
       "                (0.10)   (0.09)   (0.15)    (0.09)   (0.04)    (0.05)  \n",
       "C(season)[T.3]  0.05     0.08     -0.04     -0.03    0.01      0.01    \n",
       "                (0.10)   (0.09)   (0.14)    (0.08)   (0.03)    (0.05)  \n",
       "Intercept       8.00***  5.56***  19.74***  9.65***  3.48***   3.39*** \n",
       "                (0.17)   (0.12)   (0.37)    (0.18)   (0.04)    (0.05)  \n",
       "MIT_Str                  1.06***  0.86**    1.29***            4.10*** \n",
       "                         (0.32)   (0.36)    (0.25)             (0.30)  \n",
       "Rain_mean       1.35*                                1.55***   3.70*** \n",
       "                (0.81)                               (0.45)    (0.52)  \n",
       "Squall_mean                                          226.72***         \n",
       "                                                     (65.32)           \n",
       "TS_mean         25.76*** 11.61*** 5.49**    7.27***  30.72***  41.35***\n",
       "                (2.87)   (2.68)   (2.30)    (1.27)   (1.66)    (2.24)  \n",
       "R2              0.63     0.65     0.54      0.76     0.53      0.33    \n",
       "N               1664     1732     3988      4021     10637     10367   \n",
       "=======================================================================\n",
       "Standard errors in parentheses.\n",
       "* p<.1, ** p<.05, ***p<.01\n",
       "\"\"\">"
      ]
     },
     "execution_count": 53,
     "metadata": {},
     "output_type": "execute_result"
    }
   ],
   "source": [
    "Combined_Results.as_html"
   ]
  },
  {
   "cell_type": "code",
   "execution_count": 54,
   "metadata": {
    "collapsed": false
   },
   "outputs": [],
   "source": [
    "(Combined_Results.tables[0]).to_csv(os.getcwd() + '/MNL/Estimation/All_OLS.csv')"
   ]
  },
  {
   "cell_type": "code",
   "execution_count": 294,
   "metadata": {
    "collapsed": false
   },
   "outputs": [],
   "source": [
    "for Ori in ['IAH','BOS','FLL','JFK','LAX']:\n",
    "    for Des in ['IAH','BOS','FLL','JFK','LAX']:\n",
    "        try:\n",
    "            exec \"\"\"pickle.dump(%s_%s, open(os.getcwd() + '/MNL/Estimation/OLS_' + '%s' + '_' + '%s', 'w'))\"\"\"%(Ori, Des, Ori, Des)\n",
    "        except:\n",
    "            pass"
   ]
  },
  {
   "cell_type": "markdown",
   "metadata": {},
   "source": [
    "## Prediction Based on MNL and OLS"
   ]
  },
  {
   "cell_type": "code",
   "execution_count": 7,
   "metadata": {
    "collapsed": true
   },
   "outputs": [],
   "source": [
    "for Ori in ['IAH','BOS','FLL','JFK','LAX']:\n",
    "    for Des in ['IAH','BOS','FLL','JFK','LAX']:\n",
    "        try:\n",
    "            exec \"\"\"%s_%s = pickle.load(open(os.getcwd() + '/MNL/Estimation/OLS_' + '%s' + '_' + '%s.p', 'r'))\"\"\"%(Ori, Des, Ori, Des)\n",
    "        except:\n",
    "            pass"
   ]
  },
  {
   "cell_type": "code",
   "execution_count": 65,
   "metadata": {
    "collapsed": true
   },
   "outputs": [],
   "source": [
    "def Factor_Contribution_Predictor(Ori, Des, Factor):\n",
    "    exec \"\"\"MNL_DATA = %s_%s.MNL_Data\"\"\"%(Ori, Des)\n",
    "    \n",
    "    Fname_p = 'MNL_' + Ori + '_' + Des + '.p'\n",
    "    MNL_Model = pickle.load(open(os.getcwd() + '/MNL/Estimation/' + Fname_p))\n",
    "    \n",
    "    # Construct a counter factual on MNL data\n",
    "    MNL_DATA_No_Wx = MNL_DATA.copy()\n",
    "    if Factor == 'convection':\n",
    "        MNL_DATA_No_Wx.ix[:,2:18] = 0\n",
    "    elif Factor == 'wind':\n",
    "        MNL_DATA_No_Wx['Std_Wind_Dist'] = MNL_DATA_No_Wx['GC_Dist'] / 1000\n",
    "        # 0\n",
    "    elif Factor == 'MIT':\n",
    "        MNL_DATA_No_Wx['MIT_Str'] = 0\n",
    "#     elif Factor == 'all':\n",
    "#         MNL_DATA_No_Wx.ix[:,2:18] = 0\n",
    "#         MNL_DATA_No_Wx['MIT_Str'] = 0\n",
    "#         MNL_DATA_No_Wx.ix[:,'Std_Wind_Dist'] = MNL_DATA_No_Wx.ix[:,'GC_Dist'] / 1000\n",
    "        \n",
    "    else:\n",
    "        raise ValueError('Factor can only be convection, wind, MIT')\n",
    "    \n",
    "    # Prediction using MNL logit model\n",
    "    MNL_DATA['Prob_With_Factor'] = MNL_Model.predict(MNL_DATA)\n",
    "    MNL_DATA['Prob_No_Factor'] = MNL_Model.predict(MNL_DATA_No_Wx)\n",
    "    \n",
    "    MNL_Pred = MNL_DATA.groupby(['FID_x','Alt_id'])[['Prob_With_Factor','Prob_No_Factor']].mean().reset_index()\n",
    "    MNL_Pred.ix[MNL_Pred.FID_x == 99999999,'Alt_id'] = -1\n",
    "    MNL_Pred['OD_ClustID'] = Ori + '_' + Des + '_' + MNL_Pred.Alt_id.map(str)\n",
    "\n",
    "    # Prediction using OLS\n",
    "    exec \"\"\"Mod2rslt = %s_%s.LR_Data1.ix[:,['FID_Member','Efficiency','OD_Clust','ClustID']]\"\"\"%(Ori, Des)\n",
    "    exec \"\"\"LR_No_Factor = %s_%s.LR_Data1.copy()\"\"\"%(Ori, Des)\n",
    "    if Factor == 'convection':\n",
    "        LR_No_Factor.ix[:,5:21] = 0\n",
    "    elif Factor == 'MIT':\n",
    "        LR_No_Factor['MIT_Str'] = 0\n",
    "    else:\n",
    "        pass\n",
    "    exec \"\"\"Mod2rslt['Pred_With_Factor'] = %s_%s.mod.predict(exog=%s_%s.LR_Data1)\"\"\"%(Ori, Des, Ori, Des)\n",
    "    exec \"\"\"Mod2rslt['Pred_No_Factor'] = %s_%s.mod.predict(exog=LR_No_Factor)\"\"\"%(Ori, Des)\n",
    "    \n",
    "    Mod2rslt = Mod2rslt.merge(MNL_Pred, left_on='OD_Clust', right_on='OD_ClustID', how='left')\n",
    "    Mod2rslt['Pred_Factor_weight'] = Mod2rslt.Pred_With_Factor * Mod2rslt.Prob_With_Factor\n",
    "    Mod2rslt['Pred_No_Factor_weight'] = Mod2rslt.Pred_No_Factor * Mod2rslt.Prob_No_Factor\n",
    "\n",
    "    FactorContribution = Mod2rslt.groupby(['OD_Clust'])[['Pred_Factor_weight','Pred_No_Factor_weight']].mean().reset_index()\n",
    "    Avg_Ineff = np.array(FactorContribution[['Pred_Factor_weight','Pred_No_Factor_weight']].sum())\n",
    "#     Avg_Ineff = {}\n",
    "#     Avg_Ineff[Ori + '_' + Des] = np.array(FactorContribution[['Pred_Factor_weight','Pred_No_Factor_weight']].sum().reset_index())\n",
    "    \n",
    "    return MNL_Pred[['OD_ClustID','Prob_With_Factor','Prob_No_Factor']], Mod2rslt, FactorContribution, Avg_Ineff"
   ]
  },
  {
   "cell_type": "code",
   "execution_count": 66,
   "metadata": {
    "collapsed": false
   },
   "outputs": [],
   "source": [
    "b = {}\n",
    "bb = {}\n",
    "bbb = {}\n",
    "for Ori in ['IAH','BOS','FLL','JFK','LAX']:\n",
    "    for Des in ['IAH','BOS','FLL','JFK','LAX']:\n",
    "        try:\n",
    "            _,_,_,a = Factor_Contribution_Predictor(Ori,Des, 'convection')\n",
    "            _,_,_,aa = Factor_Contribution_Predictor(Ori,Des, 'wind')\n",
    "            _,_,_,aaa = Factor_Contribution_Predictor(Ori,Des, 'MIT')\n",
    "            b[Ori + '_' + Des] = a\n",
    "            bb[Ori + '_' + Des] = aa\n",
    "            bbb[Ori + '_' + Des] = aaa\n",
    "        except:\n",
    "            pass\n",
    "Convection_Mat = pd.DataFrame(b).T\n",
    "Convection_Mat.columns = ['With_Wx','No_Wx']\n",
    "\n",
    "Wind_Mat = pd.DataFrame(bb).T\n",
    "Wind_Mat.columns = ['With_Wind','No_Wind']\n",
    "\n",
    "MIT_Mat = pd.DataFrame(bbb).T\n",
    "MIT_Mat.columns = ['With_MIT','No_MIT']"
   ]
  },
  {
   "cell_type": "code",
   "execution_count": 67,
   "metadata": {
    "collapsed": true
   },
   "outputs": [],
   "source": [
    "Convection_Mat['Percentage_Change'] = (Convection_Mat.With_Wx - Convection_Mat.No_Wx)/Convection_Mat.With_Wx\n",
    "Wind_Mat['Percentage_Change'] = (Wind_Mat.With_Wind - Wind_Mat.No_Wind)/Wind_Mat.With_Wind\n",
    "MIT_Mat['Percentage_Change'] = (MIT_Mat.With_MIT - MIT_Mat.No_MIT)/MIT_Mat.With_MIT"
   ]
  },
  {
   "cell_type": "code",
   "execution_count": 72,
   "metadata": {
    "collapsed": false
   },
   "outputs": [],
   "source": [
    "Convection_Mat.to_csv(os.getcwd() + '/MNL/Estimation/Wx_Contributions.csv', index = True)\n",
    "Wind_Mat.to_csv(os.getcwd() + '/MNL/Estimation/Wind_Contributions.csv', index = True)\n",
    "MIT_Mat.to_csv(os.getcwd() + '/MNL/Estimation/MIT_Contributions.csv', index = True)"
   ]
  },
  {
   "cell_type": "code",
   "execution_count": null,
   "metadata": {
    "collapsed": true
   },
   "outputs": [],
   "source": []
  },
  {
   "cell_type": "code",
   "execution_count": null,
   "metadata": {
    "collapsed": true
   },
   "outputs": [],
   "source": []
  },
  {
   "cell_type": "code",
   "execution_count": null,
   "metadata": {
    "collapsed": true
   },
   "outputs": [],
   "source": []
  },
  {
   "cell_type": "code",
   "execution_count": null,
   "metadata": {
    "collapsed": true
   },
   "outputs": [],
   "source": []
  },
  {
   "cell_type": "code",
   "execution_count": null,
   "metadata": {
    "collapsed": true
   },
   "outputs": [],
   "source": []
  },
  {
   "cell_type": "code",
   "execution_count": null,
   "metadata": {
    "collapsed": true
   },
   "outputs": [],
   "source": []
  },
  {
   "cell_type": "code",
   "execution_count": null,
   "metadata": {
    "collapsed": true
   },
   "outputs": [],
   "source": []
  },
  {
   "cell_type": "code",
   "execution_count": null,
   "metadata": {
    "collapsed": true
   },
   "outputs": [],
   "source": []
  },
  {
   "cell_type": "code",
   "execution_count": null,
   "metadata": {
    "collapsed": true
   },
   "outputs": [],
   "source": []
  },
  {
   "cell_type": "markdown",
   "metadata": {},
   "source": [
    "# Debug"
   ]
  },
  {
   "cell_type": "code",
   "execution_count": 101,
   "metadata": {
    "collapsed": false
   },
   "outputs": [
    {
     "name": "stdout",
     "output_type": "stream",
     "text": [
      "8\n"
     ]
    },
    {
     "name": "stderr",
     "output_type": "stream",
     "text": [
      "E:\\Anaconda\\Anaconda\\lib\\site-packages\\IPython\\kernel\\__main__.py:28: SettingWithCopyWarning: \n",
      "A value is trying to be set on a copy of a slice from a DataFrame.\n",
      "Try using .loc[row_indexer,col_indexer] = value instead\n",
      "\n",
      "See the caveats in the documentation: http://pandas.pydata.org/pandas-docs/stable/indexing.html#indexing-view-versus-copy\n"
     ]
    }
   ],
   "source": [
    "i = 0\n",
    "Airport = [['JFK','FLL'],['JFK','LAX'],['ORD','DCA'],['IAH','BOS'],\n",
    "           ['FLL','JFK'],['LAX','JFK'],['DCA','ORD'],['BOS','IAH']]\n",
    "for pair in Airport:\n",
    "    i += 1\n",
    "    if i == 1:\n",
    "        PostMNL = PreProcessMNL(pair[0], pair[1], 2013)\n",
    "        LR_Data = PostMNL.GetLR_Data()\n",
    "    else:\n",
    "        PostMNL = PreProcessMNL(pair[0], pair[1], 2013)\n",
    "        LR_Data = LR_Data.append(PostMNL.GetLR_Data())\n",
    "print(i)"
   ]
  },
  {
   "cell_type": "code",
   "execution_count": 102,
   "metadata": {
    "collapsed": false
   },
   "outputs": [],
   "source": [
    "LR_Data.to_csv('LR_EightPairs_New.csv',index = False)"
   ]
  },
  {
   "cell_type": "markdown",
   "metadata": {
    "collapsed": true
   },
   "source": [
    "### Regression Model I -- OD Fixed Effects"
   ]
  },
  {
   "cell_type": "code",
   "execution_count": 103,
   "metadata": {
    "collapsed": false
   },
   "outputs": [],
   "source": [
    "LR_Data = pd.read_csv(os.getcwd() + '/LR/LR_EightPairs_New.csv')\n",
    "def GetSeason(x):\n",
    "    if x >=12 or x<= 2:\n",
    "        return 0 # Winter\n",
    "    elif x <= 5:\n",
    "        return 1 # Spring\n",
    "    elif x <= 8:\n",
    "        return 2 # Summer\n",
    "    else:\n",
    "        return 3 # Fall\n",
    "LR_Data['season'] = LR_Data.LocalMonth.apply(lambda x: GetSeason(x))\n",
    "LR_Data['BusyHour'] = LR_Data.LocalHour.apply(lambda x: (x>=8) & (x<=20)).astype(int)\n",
    "LR_Data.Efficiency = LR_Data.Efficiency * 100"
   ]
  },
  {
   "cell_type": "code",
   "execution_count": 118,
   "metadata": {
    "collapsed": false
   },
   "outputs": [
    {
     "name": "stdout",
     "output_type": "stream",
     "text": [
      "                            OLS Regression Results                            \n",
      "==============================================================================\n",
      "Dep. Variable:             Efficiency   R-squared:                       0.628\n",
      "Model:                            OLS   Adj. R-squared:                  0.625\n",
      "Method:                 Least Squares   F-statistic:                     214.5\n",
      "Date:                Fri, 13 Jan 2017   Prob (F-statistic):               0.00\n",
      "Time:                        16:44:31   Log-Likelihood:                -2841.5\n",
      "No. Observations:                1664   AIC:                             5711.\n",
      "Df Residuals:                    1650   BIC:                             5787.\n",
      "Df Model:                          13                                         \n",
      "Covariance Type:            nonrobust                                         \n",
      "=========================================================================================\n",
      "                            coef    std err          t      P>|t|      [95.0% Conf. Int.]\n",
      "-----------------------------------------------------------------------------------------\n",
      "Intercept                 7.9672      0.200     39.828      0.000         7.575     8.360\n",
      "OD_Clust[T.IAH_BOS_0]    -4.5717      0.151    -30.355      0.000        -4.867    -4.276\n",
      "OD_Clust[T.IAH_BOS_1]    -2.2118      0.156    -14.173      0.000        -2.518    -1.906\n",
      "OD_Clust[T.IAH_BOS_2]    -5.4250      0.156    -34.756      0.000        -5.731    -5.119\n",
      "OD_Clust[T.IAH_BOS_3]    -7.0379      0.362    -19.424      0.000        -7.749    -6.327\n",
      "OD_Clust[T.IAH_BOS_4]    -5.1262      0.347    -14.756      0.000        -5.808    -4.445\n",
      "C(season)[T.1]           -0.0356      0.100     -0.355      0.722        -0.232     0.161\n",
      "C(season)[T.2]            0.1789      0.105      1.707      0.088        -0.027     0.384\n",
      "C(season)[T.3]            0.0378      0.098      0.387      0.699        -0.154     0.230\n",
      "TS_mean                  25.4884      3.062      8.325      0.000        19.483    31.494\n",
      "Rain_mean                 1.2583      0.816      1.543      0.123        -0.341     2.858\n",
      "Squall_mean              26.0622    194.280      0.134      0.893      -355.000   407.124\n",
      "BusyHour                 -0.0364      0.092     -0.395      0.693        -0.217     0.144\n",
      "Std_Wind_Dist             0.1158      0.120      0.966      0.334        -0.119     0.351\n",
      "==============================================================================\n",
      "Omnibus:                     1262.853   Durbin-Watson:                   1.639\n",
      "Prob(Omnibus):                  0.000   Jarque-Bera (JB):            91358.488\n",
      "Skew:                           2.922   Prob(JB):                         0.00\n",
      "Kurtosis:                      38.826   Cond. No.                     9.83e+03\n",
      "==============================================================================\n",
      "\n",
      "Warnings:\n",
      "[1] Standard Errors assume that the covariance matrix of the errors is correctly specified.\n",
      "[2] The condition number is large, 9.83e+03. This might indicate that there are\n",
      "strong multicollinearity or other numerical problems.\n"
     ]
    }
   ],
   "source": [
    "mod = sm.OLS.from_formula('Efficiency ~ TS_mean + Rain_mean + Squall_mean + OD_Clust + C(season) + BusyHour + Std_Wind_Dist', \n",
    "                          data=LR_Data[LR_Data.OD == 'IAH_BOS']).fit()\n",
    "print mod.summary()"
   ]
  },
  {
   "cell_type": "code",
   "execution_count": 269,
   "metadata": {
    "collapsed": true
   },
   "outputs": [],
   "source": [
    "Mod1rslt = LR_Data.ix[:,['OD','OD_Clust','ClustID','Efficiency']]\n",
    "Pred_No_Wx = LR_Data.copy()\n",
    "Pred_No_Wx.ix[:,4:20] = 0\n",
    "Mod1rslt['Pred_Wx'] = mod.predict(exog=LR_Data)\n",
    "Mod1rslt['Pred_No_Wx'] = mod.predict(exog=Pred_No_Wx)"
   ]
  },
  {
   "cell_type": "code",
   "execution_count": 212,
   "metadata": {
    "collapsed": false
   },
   "outputs": [
    {
     "data": {
      "text/html": [
       "<div>\n",
       "<table border=\"1\" class=\"dataframe\">\n",
       "  <thead>\n",
       "    <tr style=\"text-align: right;\">\n",
       "      <th></th>\n",
       "      <th>Pred_Wx</th>\n",
       "      <th>Pred_No_Wx</th>\n",
       "    </tr>\n",
       "    <tr>\n",
       "      <th>OD</th>\n",
       "      <th></th>\n",
       "      <th></th>\n",
       "    </tr>\n",
       "  </thead>\n",
       "  <tbody>\n",
       "    <tr>\n",
       "      <th>BOS_IAH</th>\n",
       "      <td>2.580272</td>\n",
       "      <td>2.032670</td>\n",
       "    </tr>\n",
       "    <tr>\n",
       "      <th>DCA_ORD</th>\n",
       "      <td>4.195134</td>\n",
       "      <td>3.663963</td>\n",
       "    </tr>\n",
       "    <tr>\n",
       "      <th>FLL_JFK</th>\n",
       "      <td>3.585357</td>\n",
       "      <td>2.706356</td>\n",
       "    </tr>\n",
       "    <tr>\n",
       "      <th>IAH_BOS</th>\n",
       "      <td>4.365819</td>\n",
       "      <td>3.752653</td>\n",
       "    </tr>\n",
       "    <tr>\n",
       "      <th>JFK_FLL</th>\n",
       "      <td>3.051842</td>\n",
       "      <td>2.153418</td>\n",
       "    </tr>\n",
       "    <tr>\n",
       "      <th>JFK_LAX</th>\n",
       "      <td>2.046591</td>\n",
       "      <td>1.702839</td>\n",
       "    </tr>\n",
       "    <tr>\n",
       "      <th>LAX_JFK</th>\n",
       "      <td>2.425427</td>\n",
       "      <td>2.067796</td>\n",
       "    </tr>\n",
       "    <tr>\n",
       "      <th>ORD_DCA</th>\n",
       "      <td>4.105880</td>\n",
       "      <td>3.567358</td>\n",
       "    </tr>\n",
       "  </tbody>\n",
       "</table>\n",
       "</div>"
      ],
      "text/plain": [
       "          Pred_Wx  Pred_No_Wx\n",
       "OD                           \n",
       "BOS_IAH  2.580272    2.032670\n",
       "DCA_ORD  4.195134    3.663963\n",
       "FLL_JFK  3.585357    2.706356\n",
       "IAH_BOS  4.365819    3.752653\n",
       "JFK_FLL  3.051842    2.153418\n",
       "JFK_LAX  2.046591    1.702839\n",
       "LAX_JFK  2.425427    2.067796\n",
       "ORD_DCA  4.105880    3.567358"
      ]
     },
     "execution_count": 212,
     "metadata": {},
     "output_type": "execute_result"
    }
   ],
   "source": [
    "Mod1rslt.groupby('OD')[['Pred_Wx','Pred_No_Wx']].mean()"
   ]
  },
  {
   "cell_type": "code",
   "execution_count": 253,
   "metadata": {
    "collapsed": false
   },
   "outputs": [
    {
     "data": {
      "text/plain": [
       "ClustID       0.211723\n",
       "Efficiency    3.102596\n",
       "Pred_Wx       3.102596\n",
       "Pred_No_Wx    2.586609\n",
       "dtype: float64"
      ]
     },
     "execution_count": 253,
     "metadata": {},
     "output_type": "execute_result"
    }
   ],
   "source": [
    "Mod1rslt.mean()"
   ]
  },
  {
   "cell_type": "markdown",
   "metadata": {},
   "source": [
    "### Regression Model II -- OD Cluster Fixed Effects"
   ]
  },
  {
   "cell_type": "code",
   "execution_count": 254,
   "metadata": {
    "collapsed": false
   },
   "outputs": [
    {
     "name": "stdout",
     "output_type": "stream",
     "text": [
      "                            OLS Regression Results                            \n",
      "==============================================================================\n",
      "Dep. Variable:             Efficiency   R-squared:                       0.589\n",
      "Model:                            OLS   Adj. R-squared:                  0.588\n",
      "Method:                 Least Squares   F-statistic:                     1328.\n",
      "Date:                Thu, 22 Sep 2016   Prob (F-statistic):               0.00\n",
      "Time:                        22:47:23   Log-Likelihood:            -1.0600e+05\n",
      "No. Observations:               47359   AIC:                         2.121e+05\n",
      "Df Residuals:                   47307   BIC:                         2.126e+05\n",
      "Df Model:                          51                                         \n",
      "Covariance Type:            nonrobust                                         \n",
      "==========================================================================================\n",
      "                             coef    std err          t      P>|t|      [95.0% Conf. Int.]\n",
      "------------------------------------------------------------------------------------------\n",
      "Intercept                  5.3946      0.167     32.216      0.000         5.066     5.723\n",
      "OD_Clust[T.BOS_IAH_0]     -4.1242      0.182    -22.708      0.000        -4.480    -3.768\n",
      "OD_Clust[T.BOS_IAH_1]      0.5378      0.300      1.793      0.073        -0.050     1.126\n",
      "OD_Clust[T.BOS_IAH_2]     -3.4791      0.196    -17.739      0.000        -3.863    -3.095\n",
      "OD_Clust[T.BOS_IAH_3]     -4.1505      0.295    -14.054      0.000        -4.729    -3.572\n",
      "OD_Clust[T.BOS_IAH_4]     -0.3806      0.467     -0.815      0.415        -1.296     0.535\n",
      "OD_Clust[T.DCA_ORD_-1]    19.4020      0.237     81.695      0.000        18.936    19.867\n",
      "OD_Clust[T.DCA_ORD_0]     -2.2727      0.167    -13.593      0.000        -2.600    -1.945\n",
      "OD_Clust[T.DCA_ORD_1]     -2.3778      0.265     -8.982      0.000        -2.897    -1.859\n",
      "OD_Clust[T.DCA_ORD_2]      7.9139      0.522     15.155      0.000         6.890     8.937\n",
      "OD_Clust[T.DCA_ORD_3]      6.0509      0.522     11.587      0.000         5.027     7.074\n",
      "OD_Clust[T.DCA_ORD_4]     45.7364      0.819     55.811      0.000        44.130    47.343\n",
      "OD_Clust[T.FLL_JFK_-1]    14.7342      0.310     47.504      0.000        14.126    15.342\n",
      "OD_Clust[T.FLL_JFK_0]     -3.3016      0.169    -19.506      0.000        -3.633    -2.970\n",
      "OD_Clust[T.FLL_JFK_1]      2.5844      0.198     13.062      0.000         2.197     2.972\n",
      "OD_Clust[T.FLL_JFK_2]      1.8978      0.408      4.650      0.000         1.098     2.698\n",
      "OD_Clust[T.IAH_BOS_-1]     2.6457      0.281      9.401      0.000         2.094     3.197\n",
      "OD_Clust[T.IAH_BOS_0]     -2.1042      0.189    -11.142      0.000        -2.474    -1.734\n",
      "OD_Clust[T.IAH_BOS_1]      0.2607      0.198      1.315      0.189        -0.128     0.649\n",
      "OD_Clust[T.IAH_BOS_2]     -3.0135      0.193    -15.601      0.000        -3.392    -2.635\n",
      "OD_Clust[T.IAH_BOS_3]     -4.3161      0.591     -7.303      0.000        -5.475    -3.158\n",
      "OD_Clust[T.IAH_BOS_4]     -2.6109      0.546     -4.779      0.000        -3.682    -1.540\n",
      "OD_Clust[T.JFK_FLL_-1]     3.8656      0.281     13.764      0.000         3.315     4.416\n",
      "OD_Clust[T.JFK_FLL_0]     -3.9963      0.169    -23.598      0.000        -4.328    -3.664\n",
      "OD_Clust[T.JFK_FLL_1]      5.3677      0.377     14.254      0.000         4.630     6.106\n",
      "OD_Clust[T.JFK_FLL_2]      2.0907      0.201     10.390      0.000         1.696     2.485\n",
      "OD_Clust[T.JFK_FLL_3]      6.0493      0.299     20.239      0.000         5.463     6.635\n",
      "OD_Clust[T.JFK_FLL_4]      9.0701      0.475     19.105      0.000         8.140    10.001\n",
      "OD_Clust[T.JFK_LAX_-1]    -1.8368      0.174    -10.529      0.000        -2.179    -1.495\n",
      "OD_Clust[T.JFK_LAX_0]     -4.5674      0.168    -27.184      0.000        -4.897    -4.238\n",
      "OD_Clust[T.JFK_LAX_1]     -1.0045      0.207     -4.846      0.000        -1.411    -0.598\n",
      "OD_Clust[T.JFK_LAX_2]     -3.6697      0.170    -21.562      0.000        -4.003    -3.336\n",
      "OD_Clust[T.JFK_LAX_3]     -3.6706      0.235    -15.652      0.000        -4.130    -3.211\n",
      "OD_Clust[T.LAX_JFK_-1]     2.2793      0.209     10.915      0.000         1.870     2.689\n",
      "OD_Clust[T.LAX_JFK_0]     -3.6790      0.167    -22.066      0.000        -4.006    -3.352\n",
      "OD_Clust[T.LAX_JFK_1]     -1.1898      0.292     -4.077      0.000        -1.762    -0.618\n",
      "OD_Clust[T.LAX_JFK_2]     -3.4944      0.460     -7.595      0.000        -4.396    -2.593\n",
      "OD_Clust[T.LAX_JFK_3]      6.9460      0.418     16.629      0.000         6.127     7.765\n",
      "OD_Clust[T.LAX_JFK_4]     17.3201      0.592     29.278      0.000        16.161    18.480\n",
      "OD_Clust[T.LAX_JFK_5]      0.6329      0.373      1.696      0.090        -0.099     1.364\n",
      "OD_Clust[T.ORD_DCA_-1]    21.8124      0.301     72.460      0.000        21.222    22.402\n",
      "OD_Clust[T.ORD_DCA_0]     -2.3414      0.167    -14.005      0.000        -2.669    -2.014\n",
      "OD_Clust[T.ORD_DCA_1]     14.3804      0.281     51.150      0.000        13.829    14.931\n",
      "OD_Clust[T.ORD_DCA_2]      6.5708      0.318     20.688      0.000         5.948     7.193\n",
      "OD_Clust[T.ORD_DCA_3]      1.9352      0.737      2.626      0.009         0.491     3.380\n",
      "C(season)[T.1]             0.0490      0.030      1.627      0.104        -0.010     0.108\n",
      "C(season)[T.2]             0.1077      0.032      3.326      0.001         0.044     0.171\n",
      "C(season)[T.3]            -0.0695      0.030     -2.316      0.021        -0.128    -0.011\n",
      "TS_mean                   10.5601      0.898     11.759      0.000         8.800    12.320\n",
      "Rain_mean                  0.4943      0.228      2.165      0.030         0.047     0.942\n",
      "Squall_mean              241.4072     39.769      6.070      0.000       163.460   319.354\n",
      "BusyHour                   0.4187      0.025     16.910      0.000         0.370     0.467\n",
      "==============================================================================\n",
      "Omnibus:                    66715.628   Durbin-Watson:                   1.808\n",
      "Prob(Omnibus):                  0.000   Jarque-Bera (JB):         97576387.818\n",
      "Skew:                           7.704   Prob(JB):                         0.00\n",
      "Kurtosis:                     224.836   Cond. No.                     5.32e+03\n",
      "==============================================================================\n",
      "\n",
      "Warnings:\n",
      "[1] Standard Errors assume that the covariance matrix of the errors is correctly specified.\n",
      "[2] The condition number is large, 5.32e+03. This might indicate that there are\n",
      "strong multicollinearity or other numerical problems.\n"
     ]
    }
   ],
   "source": [
    "mod2 = sm.OLS.from_formula('Efficiency ~ TS_mean + Rain_mean + Squall_mean + OD_Clust + C(season) + BusyHour', data=LR_Data).fit()\n",
    "print mod2.summary()"
   ]
  },
  {
   "cell_type": "code",
   "execution_count": 175,
   "metadata": {
    "collapsed": false
   },
   "outputs": [],
   "source": [
    "i = 0\n",
    "N_clust = {}\n",
    "temp = LR_Data.copy()\n",
    "for gpidx, gp in temp.groupby('OD'):\n",
    "    N_clust[gpidx] = gp.ClustID.max() + 2\n",
    "    for clust in range(-1, N_clust[gpidx] - 1):\n",
    "        i += 1\n",
    "        gp.ix[:,'OD_Clust'] = gpidx + '_' + str(clust) \n",
    "        if i == 1:\n",
    "            NewSet = gp.copy()\n",
    "        else:\n",
    "            NewSet = NewSet.append(gp)\n",
    "NewSet = NewSet.reset_index(drop = 0)\n",
    "\n",
    "Mod2rslt = NewSet.ix[:,['index','OD','OD_Clust','ClustID','Efficiency']]\n",
    "Pred_No_Wx = NewSet.copy()\n",
    "Pred_No_Wx.ix[:,5:21] = 0\n",
    "Mod2rslt['Pred_Wx'] = mod2.predict(exog=NewSet)\n",
    "Mod2rslt['Pred_No_Wx'] = mod2.predict(exog=Pred_No_Wx)"
   ]
  },
  {
   "cell_type": "code",
   "execution_count": 63,
   "metadata": {
    "collapsed": false
   },
   "outputs": [],
   "source": [
    "def PredictMNL(Ori, Des):\n",
    "    Fname = 'MNL_' + Ori + '_' + Des + '_2013_Mean.csv'\n",
    "    Fname_p = Ori + '_' + Des + '.p'\n",
    "    MNL_DATA = pd.read_csv(os.getcwd() + '/MNL/' + Fname, header = 0)\n",
    "    MNL_Model = pickle.load(open(os.getcwd() + '/MNL/' + Fname_p))\n",
    "    \n",
    "    MNL_DATA_No_Wx = MNL_DATA.copy()\n",
    "    MNL_DATA_No_Wx.ix[:,2:18] = 0\n",
    "    MNL_DATA['Prob_Wx'] = MNL_Model.predict(MNL_DATA)\n",
    "    MNL_DATA['Prob_No_Wx'] = MNL_Model.predict(MNL_DATA_No_Wx)\n",
    "    MNL_Pred = MNL_DATA.groupby(['FID_x','Alt_id'])[['Prob_Wx','Prob_No_Wx']].mean().reset_index()\n",
    "    \n",
    "    MNL_Pred.ix[MNL_Pred.FID_x == 99999999,'Alt_id'] = -1\n",
    "    MNL_Pred['OD_ClustID'] = Ori + '_' + Des + '_' + MNL_Pred.Alt_id.map(str)\n",
    "    return MNL_Pred[['OD_ClustID','Prob_Wx','Prob_No_Wx']]"
   ]
  },
  {
   "cell_type": "code",
   "execution_count": 74,
   "metadata": {
    "collapsed": false
   },
   "outputs": [],
   "source": [
    "i = 0\n",
    "for pair in Mod2rslt.OD.unique():\n",
    "    i += 1\n",
    "    if i == 1:\n",
    "        MNL_Pred = PredictMNL(pair[:3],pair[4:7])\n",
    "    else:\n",
    "        MNL_Pred = MNL_Pred.append(PredictMNL(pair[:3],pair[4:7]))\n",
    "MNL_Pred = MNL_Pred.reset_index(drop = True)"
   ]
  },
  {
   "cell_type": "code",
   "execution_count": 262,
   "metadata": {
    "collapsed": false
   },
   "outputs": [
    {
     "data": {
      "text/html": [
       "<div>\n",
       "<table border=\"1\" class=\"dataframe\">\n",
       "  <thead>\n",
       "    <tr style=\"text-align: right;\">\n",
       "      <th></th>\n",
       "      <th>Pred_Wx_weight</th>\n",
       "      <th>Pred_No_Wx_weight</th>\n",
       "    </tr>\n",
       "    <tr>\n",
       "      <th>OD</th>\n",
       "      <th></th>\n",
       "      <th></th>\n",
       "    </tr>\n",
       "  </thead>\n",
       "  <tbody>\n",
       "    <tr>\n",
       "      <th>BOS_IAH</th>\n",
       "      <td>2.580272</td>\n",
       "      <td>2.218133</td>\n",
       "    </tr>\n",
       "    <tr>\n",
       "      <th>DCA_ORD</th>\n",
       "      <td>4.195134</td>\n",
       "      <td>3.812454</td>\n",
       "    </tr>\n",
       "    <tr>\n",
       "      <th>FLL_JFK</th>\n",
       "      <td>3.585357</td>\n",
       "      <td>3.195368</td>\n",
       "    </tr>\n",
       "    <tr>\n",
       "      <th>IAH_BOS</th>\n",
       "      <td>4.365819</td>\n",
       "      <td>4.124445</td>\n",
       "    </tr>\n",
       "    <tr>\n",
       "      <th>JFK_FLL</th>\n",
       "      <td>3.051842</td>\n",
       "      <td>2.742559</td>\n",
       "    </tr>\n",
       "    <tr>\n",
       "      <th>JFK_LAX</th>\n",
       "      <td>2.046591</td>\n",
       "      <td>1.899419</td>\n",
       "    </tr>\n",
       "    <tr>\n",
       "      <th>LAX_JFK</th>\n",
       "      <td>2.425427</td>\n",
       "      <td>2.260838</td>\n",
       "    </tr>\n",
       "    <tr>\n",
       "      <th>ORD_DCA</th>\n",
       "      <td>4.105880</td>\n",
       "      <td>3.725363</td>\n",
       "    </tr>\n",
       "  </tbody>\n",
       "</table>\n",
       "</div>"
      ],
      "text/plain": [
       "         Pred_Wx_weight  Pred_No_Wx_weight\n",
       "OD                                        \n",
       "BOS_IAH        2.580272           2.218133\n",
       "DCA_ORD        4.195134           3.812454\n",
       "FLL_JFK        3.585357           3.195368\n",
       "IAH_BOS        4.365819           4.124445\n",
       "JFK_FLL        3.051842           2.742559\n",
       "JFK_LAX        2.046591           1.899419\n",
       "LAX_JFK        2.425427           2.260838\n",
       "ORD_DCA        4.105880           3.725363"
      ]
     },
     "execution_count": 262,
     "metadata": {},
     "output_type": "execute_result"
    }
   ],
   "source": [
    "Mod2rslt = Mod2rslt.merge(MNL_Pred, left_on='OD_Clust', right_on='OD_ClustID', how='left')\n",
    "Mod2rslt['Pred_Wx_weight'] = Mod2rslt.Pred_Wx * Mod2rslt.Prob_Wx\n",
    "Mod2rslt['Pred_No_Wx_weight'] = Mod2rslt.Pred_No_Wx * Mod2rslt.Prob_No_Wx\n",
    "\n",
    "aa = Mod2rslt.groupby(['OD','index'])[['Pred_Wx_weight','Pred_No_Wx_weight']].sum().reset_index()\n",
    "aa.groupby('OD')[['Pred_Wx_weight','Pred_No_Wx_weight']].mean()"
   ]
  },
  {
   "cell_type": "code",
   "execution_count": 263,
   "metadata": {
    "collapsed": false
   },
   "outputs": [
    {
     "data": {
      "text/plain": [
       "Pred_Wx_weight       3.102596\n",
       "Pred_No_Wx_weight    2.833009\n",
       "dtype: float64"
      ]
     },
     "execution_count": 263,
     "metadata": {},
     "output_type": "execute_result"
    }
   ],
   "source": [
    "aa[['Pred_Wx_weight','Pred_No_Wx_weight']].mean()"
   ]
  },
  {
   "cell_type": "code",
   "execution_count": 270,
   "metadata": {
    "collapsed": false
   },
   "outputs": [],
   "source": [
    "aa['Wx_Compare'] = mod2.predict(exog = LR_Data)\n",
    "aa['No_Wx_Compare'] = mod2.predict(exog = Pred_No_Wx)\n",
    "# Pred_No_Wx"
   ]
  },
  {
   "cell_type": "code",
   "execution_count": 272,
   "metadata": {
    "collapsed": false
   },
   "outputs": [
    {
     "data": {
      "text/plain": [
       "2.995568076241766"
      ]
     },
     "execution_count": 272,
     "metadata": {},
     "output_type": "execute_result"
    }
   ],
   "source": [
    "aa.No_Wx_Compare.mean()"
   ]
  },
  {
   "cell_type": "markdown",
   "metadata": {},
   "source": [
    "## Another approach: Drop all outlier groups"
   ]
  },
  {
   "cell_type": "code",
   "execution_count": null,
   "metadata": {
    "collapsed": true
   },
   "outputs": [],
   "source": [
    "modelset = MNL_DATA[~((MNL_DATA.FID_x == 99999999)&(MNL_DATA.CHOICE == 1))]\n",
    "modelset = modelset.dropna(subset=['MeanWindSpeed', 'Wind_Dist'], how='all').reset_index(drop = 1)\n",
    "print(modelset.FID_Member.unique().shape[0])\n",
    "modelset['Wind_Dist'] = modelset['Wind_Dist'] / 1000\n",
    "\n",
    "BaseSpec = collections.OrderedDict()\n",
    "BaseName = collections.OrderedDict()\n",
    "\n",
    "BaseSpec['intercept'] = [0,1,2,3]\n",
    "BaseName['intercept'] = ['ASC_R0','ASC_R1','ASC_R2','ASC_R3']\n",
    "\n",
    "BaseSpec['Morning'] = [0,1,2,3]\n",
    "BaseName['Morning'] = ['MorningFlight_R0','MorningFlight_R1','MorningFlight_R2','MorningFlight_R3']\n",
    "\n",
    "BaseSpec['Spring'] = [0,1,2,3]\n",
    "BaseName['Spring'] = ['Spring_R0','Spring_R1','Spring_R2','Spring_R3']\n",
    "\n",
    "BaseSpec['Summer'] = [0,1,2,3]\n",
    "BaseName['Summer'] = ['Summer_R0','Summer_R1','Summer_R2','Summer_R3']\n",
    "\n",
    "BaseSpec['Fall'] = [0,1,2]\n",
    "BaseName['Fall'] = ['Fall_R0','Fall_R1','Fall_R2']\n",
    "    \n",
    "BaseSpec['TS_mean'] = [[0,1,2,3]]\n",
    "BaseName['TS_mean'] = ['Thunderstorm']\n",
    "\n",
    "BaseSpec['Rain_mean'] = [[0,1,2,3]]\n",
    "BaseName['Rain_mean'] = ['Rain']\n",
    "\n",
    "# BaseSpec['MeanWindSpeed'] = [[0,1,2,3]]\n",
    "# BaseName['MeanWindSpeed'] = ['MeanWindSpeed']\n",
    "\n",
    "BaseSpec['Wind_Dist'] = [[0,1,2,3]]\n",
    "BaseName['Wind_Dist'] = ['Wind_Dist']\n",
    "\n",
    "N_var = 0\n",
    "for key in BaseSpec.keys():\n",
    "    N_var += len(BaseSpec[key])\n",
    "    \n",
    "MNL_Model = pylogit.create_choice_model(data = modelset, alt_id_col = 'Alt_id',obs_id_col = 'FID_Member',\n",
    "                                        choice_col = 'CHOICE',specification = BaseSpec, model_type = 'MNL', names = BaseName)\n",
    "MNL_Model.fit_mle(np.zeros(N_var))\n",
    "Result1 = MNL_Model.get_statsmodels_summary()\n",
    "Result1.as_csv"
   ]
  }
 ],
 "metadata": {
  "anaconda-cloud": {},
  "kernelspec": {
   "display_name": "Python 2",
   "language": "python",
   "name": "python2"
  },
  "language_info": {
   "codemirror_mode": {
    "name": "ipython",
    "version": 2
   },
   "file_extension": ".py",
   "mimetype": "text/x-python",
   "name": "python",
   "nbconvert_exporter": "python",
   "pygments_lexer": "ipython2",
   "version": "2.7.11"
  }
 },
 "nbformat": 4,
 "nbformat_minor": 0
}
